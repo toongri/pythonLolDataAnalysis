{
 "cells": [
  {
   "cell_type": "code",
   "execution_count": 1,
   "metadata": {},
   "outputs": [],
   "source": [
    "import numpy as np\n",
    "import pandas as pd\n",
    "import matplotlib.pyplot as plt\n",
    "import cx_Oracle\n",
    "import my_utils as mu\n",
    "import requests"
   ]
  },
  {
   "cell_type": "code",
   "execution_count": 2,
   "metadata": {},
   "outputs": [
    {
     "name": "stdout",
     "output_type": "stream",
     "text": [
      "open!\n",
      "close!\n"
     ]
    }
   ],
   "source": [
    "mu.createTable()"
   ]
  },
  {
   "cell_type": "code",
   "execution_count": 7,
   "metadata": {
    "scrolled": true
   },
   "outputs": [
    {
     "name": "stderr",
     "output_type": "stream",
     "text": [
      "100%|████████████████████████████████████████████████████████████████████████████████████| 4/4 [00:01<00:00,  2.72it/s]\n",
      "  0%|                                                                                           | 0/20 [00:00<?, ?it/s]"
     ]
    },
    {
     "name": "stdout",
     "output_type": "stream",
     "text": [
      "get summonerName...\n",
      "get puuid...\n"
     ]
    },
    {
     "name": "stderr",
     "output_type": "stream",
     "text": [
      "100%|██████████████████████████████████████████████████████████████████████████████████| 20/20 [00:05<00:00,  3.75it/s]\n",
      "  0%|                                                                                           | 0/18 [00:00<?, ?it/s]"
     ]
    },
    {
     "name": "stdout",
     "output_type": "stream",
     "text": [
      "get matchId...\n"
     ]
    },
    {
     "name": "stderr",
     "output_type": "stream",
     "text": [
      "100%|██████████████████████████████████████████████████████████████████████████████████| 18/18 [00:04<00:00,  3.75it/s]\n",
      "  0%|                                                                                           | 0/34 [00:00<?, ?it/s]"
     ]
    },
    {
     "name": "stdout",
     "output_type": "stream",
     "text": [
      "get match & timeline...\n"
     ]
    },
    {
     "name": "stderr",
     "output_type": "stream",
     "text": [
      "100%|██████████████████████████████████████████████████████████████████████████████████| 34/34 [00:29<00:00,  1.13it/s]\n",
      "  3%|██▍                                                                                | 1/34 [00:00<00:04,  6.83it/s]"
     ]
    },
    {
     "name": "stdout",
     "output_type": "stream",
     "text": [
      "complete!\n",
      "get matches & timelines...\n"
     ]
    },
    {
     "name": "stderr",
     "output_type": "stream",
     "text": [
      "100%|██████████████████████████████████████████████████████████████████████████████████| 34/34 [00:03<00:00,  9.02it/s]\n",
      "  0%|                                                                                          | 0/250 [00:00<?, ?it/s]"
     ]
    },
    {
     "name": "stdout",
     "output_type": "stream",
     "text": [
      "match_df length:  340\n",
      "timeline_df length:  4912\n",
      "complete!\n",
      "open!\n"
     ]
    },
    {
     "name": "stderr",
     "output_type": "stream",
     "text": [
      "100%|███████████████████████████████████████████████████████████████████████████████| 250/250 [00:00<00:00, 555.64it/s]"
     ]
    },
    {
     "name": "stdout",
     "output_type": "stream",
     "text": [
      "close!\n",
      "complete!\n"
     ]
    },
    {
     "name": "stderr",
     "output_type": "stream",
     "text": [
      "\n"
     ]
    }
   ],
   "source": [
    "mu.data_insert('GOLD')"
   ]
  },
  {
   "cell_type": "code",
   "execution_count": 2,
   "metadata": {},
   "outputs": [
    {
     "name": "stdout",
     "output_type": "stream",
     "text": [
      "open!\n",
      "close!\n"
     ]
    }
   ],
   "source": [
    "x,y = mu.xyreturn()"
   ]
  },
  {
   "cell_type": "code",
   "execution_count": 3,
   "metadata": {},
   "outputs": [],
   "source": [
    "x = [47.76902887139108, 46.79802955665024, 49.82332155477032, 46.21212121212121, 45.839416058394164, 51.01744186046512, 51.19236883942766, 50.0, 48.41628959276018, 55.02793296089386, 53.39506172839506, 47.5609756097561, 52.071005917159766, 56.666666666666664, 54.054054054054056, 47.89915966386555, 51.06382978723404, 55.172413793103445, 51.07913669064749, 49.21875, 53.17460317460318, 50.467289719626166, 48.95833333333333, 44.84848484848485, 49.21875, 63.358778625954194, 51.886792452830186, 59.06040268456376]\n"
   ]
  },
  {
   "cell_type": "code",
   "execution_count": 7,
   "metadata": {
    "scrolled": true
   },
   "outputs": [
    {
     "data": {
      "text/plain": [
       "[47.76902887139108,\n",
       " 46.79802955665024,\n",
       " 49.82332155477032,\n",
       " 46.21212121212121,\n",
       " 45.839416058394164,\n",
       " 51.01744186046512,\n",
       " 51.19236883942766,\n",
       " 50.0,\n",
       " 48.41628959276018,\n",
       " 55.02793296089386,\n",
       " 53.39506172839506,\n",
       " 47.5609756097561,\n",
       " 52.071005917159766,\n",
       " 56.666666666666664,\n",
       " 54.054054054054056,\n",
       " 47.89915966386555,\n",
       " 51.06382978723404,\n",
       " 55.172413793103445,\n",
       " 51.07913669064749,\n",
       " 49.21875,\n",
       " 53.17460317460318,\n",
       " 50.467289719626166,\n",
       " 48.95833333333333,\n",
       " 44.84848484848485,\n",
       " 49.21875,\n",
       " 63.358778625954194,\n",
       " 51.886792452830186,\n",
       " 59.06040268456376]"
      ]
     },
     "execution_count": 7,
     "metadata": {},
     "output_type": "execute_result"
    }
   ],
   "source": [
    "x"
   ]
  },
  {
   "cell_type": "code",
   "execution_count": 12,
   "metadata": {
    "scrolled": true
   },
   "outputs": [
    {
     "data": {
      "text/plain": [
       "[2,\n",
       " 3,\n",
       " 4,\n",
       " 5,\n",
       " 6,\n",
       " 7,\n",
       " 8,\n",
       " 9,\n",
       " 10,\n",
       " 11,\n",
       " 12,\n",
       " 13,\n",
       " 14,\n",
       " 15,\n",
       " 16,\n",
       " 17,\n",
       " 18,\n",
       " 20,\n",
       " 22,\n",
       " 24,\n",
       " 26,\n",
       " 28,\n",
       " 32,\n",
       " 36,\n",
       " 42,\n",
       " 50,\n",
       " 61,\n",
       " 81]"
      ]
     },
     "execution_count": 12,
     "metadata": {},
     "output_type": "execute_result"
    }
   ],
   "source": [
    "y"
   ]
  },
  {
   "cell_type": "code",
   "execution_count": 6,
   "metadata": {},
   "outputs": [],
   "source": [
    "mu.set_format()"
   ]
  },
  {
   "cell_type": "code",
   "execution_count": 13,
   "metadata": {},
   "outputs": [
    {
     "data": {
      "text/plain": [
       "<matplotlib.legend.Legend at 0x230f321b0a0>"
      ]
     },
     "execution_count": 13,
     "metadata": {},
     "output_type": "execute_result"
    },
    {
     "data": {
      "image/png": "[encoded data removed]",
      "text/plain": [
       "<Figure size 432x288 with 1 Axes>"
      ]
     },
     "metadata": {
      "needs_background": "light"
     },
     "output_type": "display_data"
    }
   ],
   "source": [
    "plt.plot(y, x, '.', label='승률(%)')\n",
    "\n",
    "plt.xlabel('와드 개수 (개)')\n",
    "plt.title('와드 개수에 따른 승률', pad=20)\n",
    "plt.legend()"
   ]
  }
 ],
 "metadata": {
  "kernelspec": {
   "display_name": "Python 3",
   "language": "python",
   "name": "python3"
  },
  "language_info": {
   "codemirror_mode": {
    "name": "ipython",
    "version": 3
   },
   "file_extension": ".py",
   "mimetype": "text/x-python",
   "name": "python",
   "nbconvert_exporter": "python",
   "pygments_lexer": "ipython3",
   "version": "3.7.6"
  }
 },
 "nbformat": 4,
 "nbformat_minor": 5
}
