{
 "cells": [
  {
   "cell_type": "code",
   "execution_count": 1,
   "metadata": {},
   "outputs": [],
   "source": [
    "import numpy as np\n",
    "import pandas as pd\n",
    "import matplotlib.pyplot as plt\n",
    "import cx_Oracle\n",
    "import my_utils as mu\n",
    "import requests"
   ]
  },
  {
   "cell_type": "markdown",
   "metadata": {},
   "source": [
    "## seaborn\n",
    "- anaconda prompt\n",
    "- conda install seaborn"
   ]
  },
  {
   "cell_type": "code",
   "execution_count": 2,
   "metadata": {},
   "outputs": [],
   "source": [
    "import seaborn as sns"
   ]
  },
  {
   "cell_type": "code",
   "execution_count": 3,
   "metadata": {},
   "outputs": [],
   "source": [
    "url = 'http://openapi.seoul.go.kr:8088/(인증키)/xml/GetParkInfo/1/1000/'\n",
    "df = mu.get_df(url)"
   ]
  },
  {
   "cell_type": "code",
   "execution_count": 4,
   "metadata": {
    "scrolled": true
   },
   "outputs": [
    {
     "data": {
      "text/html": [
       "<div>\n",
       "<style scoped>\n",
       "    .dataframe tbody tr th:only-of-type {\n",
       "        vertical-align: middle;\n",
       "    }\n",
       "\n",
       "    .dataframe tbody tr th {\n",
       "        vertical-align: top;\n",
       "    }\n",
       "\n",
       "    .dataframe thead th {\n",
       "        text-align: right;\n",
       "    }\n",
       "</style>\n",
       "<table border=\"1\" class=\"dataframe\">\n",
       "  <thead>\n",
       "    <tr style=\"text-align: right;\">\n",
       "      <th></th>\n",
       "      <th>PARKING_NAME</th>\n",
       "      <th>ADDR</th>\n",
       "      <th>PARKING_CODE</th>\n",
       "      <th>PARKING_TYPE</th>\n",
       "      <th>PARKING_TYPE_NM</th>\n",
       "      <th>OPERATION_RULE</th>\n",
       "      <th>OPERATION_RULE_NM</th>\n",
       "      <th>TEL</th>\n",
       "      <th>CAPACITY</th>\n",
       "      <th>PAY_YN</th>\n",
       "      <th>...</th>\n",
       "      <th>TIME_RATE</th>\n",
       "      <th>ADD_RATES</th>\n",
       "      <th>ADD_TIME_RATE</th>\n",
       "      <th>BUS_RATES</th>\n",
       "      <th>BUS_TIME_RATE</th>\n",
       "      <th>BUS_ADD_TIME_RATE</th>\n",
       "      <th>BUS_ADD_RATES</th>\n",
       "      <th>DAY_MAXIMUM</th>\n",
       "      <th>LAT</th>\n",
       "      <th>LNG</th>\n",
       "    </tr>\n",
       "  </thead>\n",
       "  <tbody>\n",
       "    <tr>\n",
       "      <th>0</th>\n",
       "      <td>초안산근린공원주차장(구)</td>\n",
       "      <td>도봉구 창동 24-0</td>\n",
       "      <td>1010089</td>\n",
       "      <td>NW</td>\n",
       "      <td>노외 주차장</td>\n",
       "      <td>1</td>\n",
       "      <td>시간제 주차장</td>\n",
       "      <td></td>\n",
       "      <td>68.0</td>\n",
       "      <td>Y</td>\n",
       "      <td>...</td>\n",
       "      <td>0.0</td>\n",
       "      <td>300.0</td>\n",
       "      <td>10.0</td>\n",
       "      <td>0.0</td>\n",
       "      <td>0.0</td>\n",
       "      <td>0.0</td>\n",
       "      <td>0.0</td>\n",
       "      <td>0.0</td>\n",
       "      <td>37.649279</td>\n",
       "      <td>127.040474</td>\n",
       "    </tr>\n",
       "    <tr>\n",
       "      <th>1</th>\n",
       "      <td>마들스타디움(근린공원)(구)</td>\n",
       "      <td>노원구 상계동 770-2</td>\n",
       "      <td>1012254</td>\n",
       "      <td>NW</td>\n",
       "      <td>노외 주차장</td>\n",
       "      <td>1</td>\n",
       "      <td>시간제 주차장</td>\n",
       "      <td>02-2289-6735</td>\n",
       "      <td>177.0</td>\n",
       "      <td>Y</td>\n",
       "      <td>...</td>\n",
       "      <td>5.0</td>\n",
       "      <td>150.0</td>\n",
       "      <td>5.0</td>\n",
       "      <td>0.0</td>\n",
       "      <td>0.0</td>\n",
       "      <td>0.0</td>\n",
       "      <td>0.0</td>\n",
       "      <td>11000.0</td>\n",
       "      <td>37.643917</td>\n",
       "      <td>127.058567</td>\n",
       "    </tr>\n",
       "    <tr>\n",
       "      <th>2</th>\n",
       "      <td>마장동공영주차장(구)</td>\n",
       "      <td>성동구 마장동 463-2</td>\n",
       "      <td>1013181</td>\n",
       "      <td>NW</td>\n",
       "      <td>노외 주차장</td>\n",
       "      <td>1</td>\n",
       "      <td>시간제 주차장</td>\n",
       "      <td></td>\n",
       "      <td>53.0</td>\n",
       "      <td>N</td>\n",
       "      <td>...</td>\n",
       "      <td>0.0</td>\n",
       "      <td>0.0</td>\n",
       "      <td>0.0</td>\n",
       "      <td>0.0</td>\n",
       "      <td>0.0</td>\n",
       "      <td>0.0</td>\n",
       "      <td>0.0</td>\n",
       "      <td>0.0</td>\n",
       "      <td>37.569939</td>\n",
       "      <td>127.035145</td>\n",
       "    </tr>\n",
       "    <tr>\n",
       "      <th>3</th>\n",
       "      <td>영등포여고 공영(구)</td>\n",
       "      <td>영등포구 신길동 184-3</td>\n",
       "      <td>1025695</td>\n",
       "      <td>NW</td>\n",
       "      <td>노외 주차장</td>\n",
       "      <td>1</td>\n",
       "      <td>시간제 주차장</td>\n",
       "      <td>02-2677-1401</td>\n",
       "      <td>98.0</td>\n",
       "      <td>Y</td>\n",
       "      <td>...</td>\n",
       "      <td>5.0</td>\n",
       "      <td>50.0</td>\n",
       "      <td>5.0</td>\n",
       "      <td>0.0</td>\n",
       "      <td>0.0</td>\n",
       "      <td>0.0</td>\n",
       "      <td>0.0</td>\n",
       "      <td>0.0</td>\n",
       "      <td>37.515205</td>\n",
       "      <td>126.915116</td>\n",
       "    </tr>\n",
       "    <tr>\n",
       "      <th>4</th>\n",
       "      <td>당산근린공원 공영(구)</td>\n",
       "      <td>영등포구 당산동3가 385-0</td>\n",
       "      <td>1025696</td>\n",
       "      <td>NW</td>\n",
       "      <td>노외 주차장</td>\n",
       "      <td>1</td>\n",
       "      <td>시간제 주차장</td>\n",
       "      <td>02-2677-1401</td>\n",
       "      <td>190.0</td>\n",
       "      <td>Y</td>\n",
       "      <td>...</td>\n",
       "      <td>5.0</td>\n",
       "      <td>150.0</td>\n",
       "      <td>5.0</td>\n",
       "      <td>0.0</td>\n",
       "      <td>0.0</td>\n",
       "      <td>0.0</td>\n",
       "      <td>0.0</td>\n",
       "      <td>0.0</td>\n",
       "      <td>37.525526</td>\n",
       "      <td>126.895794</td>\n",
       "    </tr>\n",
       "    <tr>\n",
       "      <th>...</th>\n",
       "      <td>...</td>\n",
       "      <td>...</td>\n",
       "      <td>...</td>\n",
       "      <td>...</td>\n",
       "      <td>...</td>\n",
       "      <td>...</td>\n",
       "      <td>...</td>\n",
       "      <td>...</td>\n",
       "      <td>...</td>\n",
       "      <td>...</td>\n",
       "      <td>...</td>\n",
       "      <td>...</td>\n",
       "      <td>...</td>\n",
       "      <td>...</td>\n",
       "      <td>...</td>\n",
       "      <td>...</td>\n",
       "      <td>...</td>\n",
       "      <td>...</td>\n",
       "      <td>...</td>\n",
       "      <td>...</td>\n",
       "      <td>...</td>\n",
       "    </tr>\n",
       "    <tr>\n",
       "      <th>995</th>\n",
       "      <td>신한증권옆(구)</td>\n",
       "      <td>노원구 중계동 366-12</td>\n",
       "      <td>1453902</td>\n",
       "      <td>NS</td>\n",
       "      <td>노상 주차장</td>\n",
       "      <td>1</td>\n",
       "      <td>시간제 주차장</td>\n",
       "      <td></td>\n",
       "      <td>1.0</td>\n",
       "      <td>Y</td>\n",
       "      <td>...</td>\n",
       "      <td>5.0</td>\n",
       "      <td>0.0</td>\n",
       "      <td>0.0</td>\n",
       "      <td>0.0</td>\n",
       "      <td>0.0</td>\n",
       "      <td>0.0</td>\n",
       "      <td>0.0</td>\n",
       "      <td>33000.0</td>\n",
       "      <td>37.651186</td>\n",
       "      <td>127.077445</td>\n",
       "    </tr>\n",
       "    <tr>\n",
       "      <th>996</th>\n",
       "      <td>신한증권옆(구)</td>\n",
       "      <td>노원구 중계동 366-12</td>\n",
       "      <td>1453902</td>\n",
       "      <td>NS</td>\n",
       "      <td>노상 주차장</td>\n",
       "      <td>1</td>\n",
       "      <td>시간제 주차장</td>\n",
       "      <td></td>\n",
       "      <td>1.0</td>\n",
       "      <td>Y</td>\n",
       "      <td>...</td>\n",
       "      <td>5.0</td>\n",
       "      <td>0.0</td>\n",
       "      <td>0.0</td>\n",
       "      <td>0.0</td>\n",
       "      <td>0.0</td>\n",
       "      <td>0.0</td>\n",
       "      <td>0.0</td>\n",
       "      <td>33000.0</td>\n",
       "      <td>37.651167</td>\n",
       "      <td>127.077607</td>\n",
       "    </tr>\n",
       "    <tr>\n",
       "      <th>997</th>\n",
       "      <td>신한증권옆(구)</td>\n",
       "      <td>노원구 중계동 366-12</td>\n",
       "      <td>1453902</td>\n",
       "      <td>NS</td>\n",
       "      <td>노상 주차장</td>\n",
       "      <td>1</td>\n",
       "      <td>시간제 주차장</td>\n",
       "      <td></td>\n",
       "      <td>1.0</td>\n",
       "      <td>Y</td>\n",
       "      <td>...</td>\n",
       "      <td>5.0</td>\n",
       "      <td>0.0</td>\n",
       "      <td>0.0</td>\n",
       "      <td>0.0</td>\n",
       "      <td>0.0</td>\n",
       "      <td>0.0</td>\n",
       "      <td>0.0</td>\n",
       "      <td>33000.0</td>\n",
       "      <td>37.651389</td>\n",
       "      <td>127.077688</td>\n",
       "    </tr>\n",
       "    <tr>\n",
       "      <th>998</th>\n",
       "      <td>신한증권옆(구)</td>\n",
       "      <td>노원구 중계동 366-12</td>\n",
       "      <td>1453902</td>\n",
       "      <td>NS</td>\n",
       "      <td>노상 주차장</td>\n",
       "      <td>1</td>\n",
       "      <td>시간제 주차장</td>\n",
       "      <td></td>\n",
       "      <td>1.0</td>\n",
       "      <td>Y</td>\n",
       "      <td>...</td>\n",
       "      <td>5.0</td>\n",
       "      <td>0.0</td>\n",
       "      <td>0.0</td>\n",
       "      <td>0.0</td>\n",
       "      <td>0.0</td>\n",
       "      <td>0.0</td>\n",
       "      <td>0.0</td>\n",
       "      <td>33000.0</td>\n",
       "      <td>37.651370</td>\n",
       "      <td>127.077679</td>\n",
       "    </tr>\n",
       "    <tr>\n",
       "      <th>999</th>\n",
       "      <td>신한증권옆(구)</td>\n",
       "      <td>노원구 중계동 366-12</td>\n",
       "      <td>1453902</td>\n",
       "      <td>NS</td>\n",
       "      <td>노상 주차장</td>\n",
       "      <td>1</td>\n",
       "      <td>시간제 주차장</td>\n",
       "      <td></td>\n",
       "      <td>1.0</td>\n",
       "      <td>Y</td>\n",
       "      <td>...</td>\n",
       "      <td>5.0</td>\n",
       "      <td>0.0</td>\n",
       "      <td>0.0</td>\n",
       "      <td>0.0</td>\n",
       "      <td>0.0</td>\n",
       "      <td>0.0</td>\n",
       "      <td>0.0</td>\n",
       "      <td>33000.0</td>\n",
       "      <td>37.651258</td>\n",
       "      <td>127.077463</td>\n",
       "    </tr>\n",
       "  </tbody>\n",
       "</table>\n",
       "<p>1000 rows × 37 columns</p>\n",
       "</div>"
      ],
      "text/plain": [
       "        PARKING_NAME              ADDR PARKING_CODE PARKING_TYPE  \\\n",
       "0      초안산근린공원주차장(구)       도봉구 창동 24-0      1010089           NW   \n",
       "1    마들스타디움(근린공원)(구)     노원구 상계동 770-2      1012254           NW   \n",
       "2        마장동공영주차장(구)     성동구 마장동 463-2      1013181           NW   \n",
       "3        영등포여고 공영(구)    영등포구 신길동 184-3      1025695           NW   \n",
       "4       당산근린공원 공영(구)  영등포구 당산동3가 385-0      1025696           NW   \n",
       "..               ...               ...          ...          ...   \n",
       "995         신한증권옆(구)    노원구 중계동 366-12      1453902           NS   \n",
       "996         신한증권옆(구)    노원구 중계동 366-12      1453902           NS   \n",
       "997         신한증권옆(구)    노원구 중계동 366-12      1453902           NS   \n",
       "998         신한증권옆(구)    노원구 중계동 366-12      1453902           NS   \n",
       "999         신한증권옆(구)    노원구 중계동 366-12      1453902           NS   \n",
       "\n",
       "    PARKING_TYPE_NM OPERATION_RULE OPERATION_RULE_NM           TEL  CAPACITY  \\\n",
       "0            노외 주차장              1           시간제 주차장                    68.0   \n",
       "1            노외 주차장              1           시간제 주차장  02-2289-6735     177.0   \n",
       "2            노외 주차장              1           시간제 주차장                    53.0   \n",
       "3            노외 주차장              1           시간제 주차장  02-2677-1401      98.0   \n",
       "4            노외 주차장              1           시간제 주차장  02-2677-1401     190.0   \n",
       "..              ...            ...               ...           ...       ...   \n",
       "995          노상 주차장              1           시간제 주차장                     1.0   \n",
       "996          노상 주차장              1           시간제 주차장                     1.0   \n",
       "997          노상 주차장              1           시간제 주차장                     1.0   \n",
       "998          노상 주차장              1           시간제 주차장                     1.0   \n",
       "999          노상 주차장              1           시간제 주차장                     1.0   \n",
       "\n",
       "    PAY_YN  ... TIME_RATE ADD_RATES ADD_TIME_RATE BUS_RATES BUS_TIME_RATE  \\\n",
       "0        Y  ...       0.0     300.0          10.0       0.0           0.0   \n",
       "1        Y  ...       5.0     150.0           5.0       0.0           0.0   \n",
       "2        N  ...       0.0       0.0           0.0       0.0           0.0   \n",
       "3        Y  ...       5.0      50.0           5.0       0.0           0.0   \n",
       "4        Y  ...       5.0     150.0           5.0       0.0           0.0   \n",
       "..     ...  ...       ...       ...           ...       ...           ...   \n",
       "995      Y  ...       5.0       0.0           0.0       0.0           0.0   \n",
       "996      Y  ...       5.0       0.0           0.0       0.0           0.0   \n",
       "997      Y  ...       5.0       0.0           0.0       0.0           0.0   \n",
       "998      Y  ...       5.0       0.0           0.0       0.0           0.0   \n",
       "999      Y  ...       5.0       0.0           0.0       0.0           0.0   \n",
       "\n",
       "    BUS_ADD_TIME_RATE BUS_ADD_RATES DAY_MAXIMUM        LAT         LNG  \n",
       "0                 0.0           0.0         0.0  37.649279  127.040474  \n",
       "1                 0.0           0.0     11000.0  37.643917  127.058567  \n",
       "2                 0.0           0.0         0.0  37.569939  127.035145  \n",
       "3                 0.0           0.0         0.0  37.515205  126.915116  \n",
       "4                 0.0           0.0         0.0  37.525526  126.895794  \n",
       "..                ...           ...         ...        ...         ...  \n",
       "995               0.0           0.0     33000.0  37.651186  127.077445  \n",
       "996               0.0           0.0     33000.0  37.651167  127.077607  \n",
       "997               0.0           0.0     33000.0  37.651389  127.077688  \n",
       "998               0.0           0.0     33000.0  37.651370  127.077679  \n",
       "999               0.0           0.0     33000.0  37.651258  127.077463  \n",
       "\n",
       "[1000 rows x 37 columns]"
      ]
     },
     "execution_count": 4,
     "metadata": {},
     "output_type": "execute_result"
    }
   ],
   "source": [
    "df"
   ]
  },
  {
   "cell_type": "code",
   "execution_count": 5,
   "metadata": {},
   "outputs": [
    {
     "data": {
      "text/html": [
       "<div>\n",
       "<style scoped>\n",
       "    .dataframe tbody tr th:only-of-type {\n",
       "        vertical-align: middle;\n",
       "    }\n",
       "\n",
       "    .dataframe tbody tr th {\n",
       "        vertical-align: top;\n",
       "    }\n",
       "\n",
       "    .dataframe thead th {\n",
       "        text-align: right;\n",
       "    }\n",
       "</style>\n",
       "<table border=\"1\" class=\"dataframe\">\n",
       "  <thead>\n",
       "    <tr style=\"text-align: right;\">\n",
       "      <th></th>\n",
       "      <th>주차장명</th>\n",
       "      <th>주차수</th>\n",
       "      <th>유무료</th>\n",
       "      <th>주말유무료</th>\n",
       "      <th>공휴일유무료</th>\n",
       "      <th>월정기권금액</th>\n",
       "      <th>기본요금</th>\n",
       "      <th>추가요금</th>\n",
       "    </tr>\n",
       "  </thead>\n",
       "  <tbody>\n",
       "    <tr>\n",
       "      <th>0</th>\n",
       "      <td>초안산근린공원주차장(구)</td>\n",
       "      <td>68.0</td>\n",
       "      <td>유료</td>\n",
       "      <td>무료</td>\n",
       "      <td>무료</td>\n",
       "      <td>0</td>\n",
       "      <td>0.0</td>\n",
       "      <td>300.0</td>\n",
       "    </tr>\n",
       "    <tr>\n",
       "      <th>1</th>\n",
       "      <td>마들스타디움(근린공원)(구)</td>\n",
       "      <td>177.0</td>\n",
       "      <td>유료</td>\n",
       "      <td>무료</td>\n",
       "      <td>무료</td>\n",
       "      <td>100000</td>\n",
       "      <td>150.0</td>\n",
       "      <td>150.0</td>\n",
       "    </tr>\n",
       "    <tr>\n",
       "      <th>2</th>\n",
       "      <td>마장동공영주차장(구)</td>\n",
       "      <td>53.0</td>\n",
       "      <td>무료</td>\n",
       "      <td>유료</td>\n",
       "      <td>유료</td>\n",
       "      <td></td>\n",
       "      <td>0.0</td>\n",
       "      <td>0.0</td>\n",
       "    </tr>\n",
       "    <tr>\n",
       "      <th>3</th>\n",
       "      <td>영등포여고 공영(구)</td>\n",
       "      <td>98.0</td>\n",
       "      <td>유료</td>\n",
       "      <td>무료</td>\n",
       "      <td>무료</td>\n",
       "      <td>65000</td>\n",
       "      <td>50.0</td>\n",
       "      <td>50.0</td>\n",
       "    </tr>\n",
       "    <tr>\n",
       "      <th>4</th>\n",
       "      <td>당산근린공원 공영(구)</td>\n",
       "      <td>190.0</td>\n",
       "      <td>유료</td>\n",
       "      <td>무료</td>\n",
       "      <td>무료</td>\n",
       "      <td>100000</td>\n",
       "      <td>150.0</td>\n",
       "      <td>150.0</td>\n",
       "    </tr>\n",
       "    <tr>\n",
       "      <th>...</th>\n",
       "      <td>...</td>\n",
       "      <td>...</td>\n",
       "      <td>...</td>\n",
       "      <td>...</td>\n",
       "      <td>...</td>\n",
       "      <td>...</td>\n",
       "      <td>...</td>\n",
       "      <td>...</td>\n",
       "    </tr>\n",
       "    <tr>\n",
       "      <th>900</th>\n",
       "      <td>청계2(돈화문로) 공영주차장(시)</td>\n",
       "      <td>1.0</td>\n",
       "      <td>유료</td>\n",
       "      <td>무료</td>\n",
       "      <td>유료</td>\n",
       "      <td>0</td>\n",
       "      <td>750.0</td>\n",
       "      <td>750.0</td>\n",
       "    </tr>\n",
       "    <tr>\n",
       "      <th>912</th>\n",
       "      <td>청계 화물(시)</td>\n",
       "      <td>1.0</td>\n",
       "      <td>유료</td>\n",
       "      <td>무료</td>\n",
       "      <td>유료</td>\n",
       "      <td>0</td>\n",
       "      <td>500.0</td>\n",
       "      <td>650.0</td>\n",
       "    </tr>\n",
       "    <tr>\n",
       "      <th>913</th>\n",
       "      <td>청계2(북1) 공영주차장(시)</td>\n",
       "      <td>1.0</td>\n",
       "      <td>유료</td>\n",
       "      <td>무료</td>\n",
       "      <td>유료</td>\n",
       "      <td>0</td>\n",
       "      <td>750.0</td>\n",
       "      <td>750.0</td>\n",
       "    </tr>\n",
       "    <tr>\n",
       "      <th>926</th>\n",
       "      <td>주공3단지상가주변(구)</td>\n",
       "      <td>1.0</td>\n",
       "      <td>유료</td>\n",
       "      <td>무료</td>\n",
       "      <td>무료</td>\n",
       "      <td>150000</td>\n",
       "      <td>250.0</td>\n",
       "      <td>0.0</td>\n",
       "    </tr>\n",
       "    <tr>\n",
       "      <th>970</th>\n",
       "      <td>신한증권옆(구)</td>\n",
       "      <td>1.0</td>\n",
       "      <td>유료</td>\n",
       "      <td>무료</td>\n",
       "      <td>무료</td>\n",
       "      <td>150000</td>\n",
       "      <td>250.0</td>\n",
       "      <td>0.0</td>\n",
       "    </tr>\n",
       "  </tbody>\n",
       "</table>\n",
       "<p>208 rows × 8 columns</p>\n",
       "</div>"
      ],
      "text/plain": [
       "                   주차장명    주차수 유무료 주말유무료 공휴일유무료  월정기권금액   기본요금   추가요금\n",
       "0         초안산근린공원주차장(구)   68.0  유료    무료     무료       0    0.0  300.0\n",
       "1       마들스타디움(근린공원)(구)  177.0  유료    무료     무료  100000  150.0  150.0\n",
       "2           마장동공영주차장(구)   53.0  무료    유료     유료            0.0    0.0\n",
       "3           영등포여고 공영(구)   98.0  유료    무료     무료   65000   50.0   50.0\n",
       "4          당산근린공원 공영(구)  190.0  유료    무료     무료  100000  150.0  150.0\n",
       "..                  ...    ...  ..   ...    ...     ...    ...    ...\n",
       "900  청계2(돈화문로) 공영주차장(시)    1.0  유료    무료     유료       0  750.0  750.0\n",
       "912            청계 화물(시)    1.0  유료    무료     유료       0  500.0  650.0\n",
       "913    청계2(북1) 공영주차장(시)    1.0  유료    무료     유료       0  750.0  750.0\n",
       "926        주공3단지상가주변(구)    1.0  유료    무료     무료  150000  250.0    0.0\n",
       "970            신한증권옆(구)    1.0  유료    무료     무료  150000  250.0    0.0\n",
       "\n",
       "[208 rows x 8 columns]"
      ]
     },
     "execution_count": 5,
     "metadata": {},
     "output_type": "execute_result"
    }
   ],
   "source": [
    "my_df = df[['PARKING_NAME', 'CAPACITY','PAY_NM','SATURDAY_PAY_NM','HOLIDAY_PAY_NM','FULLTIME_MONTHLY','RATES','ADD_RATES']].drop_duplicates().copy()\n",
    "my_df.columns = ['주차장명','주차수','유무료','주말유무료','공휴일유무료','월정기권금액','기본요금','추가요금']\n",
    "my_df"
   ]
  },
  {
   "cell_type": "code",
   "execution_count": 6,
   "metadata": {},
   "outputs": [],
   "source": [
    "mu.set_format()"
   ]
  },
  {
   "cell_type": "code",
   "execution_count": 7,
   "metadata": {},
   "outputs": [
    {
     "data": {
      "text/plain": [
       "<AxesSubplot:title={'center':'주차장 유무료'}, xlabel='유무료', ylabel='count'>"
      ]
     },
     "execution_count": 7,
     "metadata": {},
     "output_type": "execute_result"
    },
    {
     "data": {
      "image/png": "[encoded data removed]",
      "text/plain": [
       "<Figure size 432x288 with 1 Axes>"
      ]
     },
     "metadata": {
      "needs_background": "light"
     },
     "output_type": "display_data"
    }
   ],
   "source": [
    "plt.figure()\n",
    "plt.title('주차장 유무료')\n",
    "sns.countplot(x='유무료', data=my_df, order=['유료','무료'])"
   ]
  },
  {
   "cell_type": "code",
   "execution_count": 9,
   "metadata": {},
   "outputs": [
    {
     "data": {
      "text/plain": [
       "<AxesSubplot:title={'center':'기본요금 히스토그램'}, xlabel='기본요금', ylabel='Count'>"
      ]
     },
     "execution_count": 9,
     "metadata": {},
     "output_type": "execute_result"
    },
    {
     "data": {
      "image/png": "[encoded data removed]",
      "text/plain": [
       "<Figure size 432x288 with 1 Axes>"
      ]
     },
     "metadata": {
      "needs_background": "light"
     },
     "output_type": "display_data"
    }
   ],
   "source": [
    "plt.figure()\n",
    "plt.title('기본요금 히스토그램')\n",
    "sns.histplot(x=my_df['기본요금'])"
   ]
  },
  {
   "cell_type": "code",
   "execution_count": 10,
   "metadata": {},
   "outputs": [
    {
     "data": {
      "text/plain": [
       "<AxesSubplot:xlabel='기본요금', ylabel='추가요금'>"
      ]
     },
     "execution_count": 10,
     "metadata": {},
     "output_type": "execute_result"
    },
    {
     "data": {
      "image/png": "[encoded data removed]",
      "text/plain": [
       "<Figure size 432x288 with 1 Axes>"
      ]
     },
     "metadata": {
      "needs_background": "light"
     },
     "output_type": "display_data"
    }
   ],
   "source": [
    "sns.histplot(x=my_df['기본요금'], y=my_df['추가요금'])"
   ]
  },
  {
   "cell_type": "markdown",
   "metadata": {},
   "source": [
    "### KDE Plot"
   ]
  },
  {
   "cell_type": "code",
   "execution_count": 11,
   "metadata": {},
   "outputs": [
    {
     "data": {
      "text/plain": [
       "<Figure size 432x288 with 0 Axes>"
      ]
     },
     "execution_count": 11,
     "metadata": {},
     "output_type": "execute_result"
    },
    {
     "data": {
      "text/plain": [
       "<Figure size 432x288 with 0 Axes>"
      ]
     },
     "metadata": {},
     "output_type": "display_data"
    }
   ],
   "source": [
    "plt.figure()"
   ]
  },
  {
   "cell_type": "code",
   "execution_count": 12,
   "metadata": {},
   "outputs": [
    {
     "data": {
      "text/plain": [
       "<AxesSubplot:xlabel='기본요금', ylabel='Density'>"
      ]
     },
     "execution_count": 12,
     "metadata": {},
     "output_type": "execute_result"
    },
    {
     "data": {
      "image/png": "[encoded data removed]",
      "text/plain": [
       "<Figure size 432x288 with 1 Axes>"
      ]
     },
     "metadata": {
      "needs_background": "light"
     },
     "output_type": "display_data"
    }
   ],
   "source": [
    "sns.kdeplot(x=my_df['기본요금'])"
   ]
  },
  {
   "cell_type": "code",
   "execution_count": 13,
   "metadata": {},
   "outputs": [
    {
     "data": {
      "text/plain": [
       "0        0.0\n",
       "1      150.0\n",
       "2        0.0\n",
       "3       50.0\n",
       "4      150.0\n",
       "       ...  \n",
       "900    750.0\n",
       "912    500.0\n",
       "913    750.0\n",
       "926    250.0\n",
       "970    250.0\n",
       "Name: 기본요금, Length: 208, dtype: float64"
      ]
     },
     "execution_count": 13,
     "metadata": {},
     "output_type": "execute_result"
    }
   ],
   "source": [
    "my_df['기본요금']"
   ]
  },
  {
   "cell_type": "markdown",
   "metadata": {},
   "source": [
    "- 롤 데이터\n",
    "- 전체 라이너에서 20분 골드"
   ]
  },
  {
   "cell_type": "code",
   "execution_count": 14,
   "metadata": {},
   "outputs": [
    {
     "name": "stdout",
     "output_type": "stream",
     "text": [
      "open!\n",
      "close!\n"
     ]
    }
   ],
   "source": [
    "mu.db_open()\n",
    "match_df = mu.sql_excute('select * from match_data')\n",
    "timeline_df = mu.sql_excute('select * from timeline_data')\n",
    "mu.db_close()"
   ]
  },
  {
   "cell_type": "code",
   "execution_count": 17,
   "metadata": {},
   "outputs": [
    {
     "data": {
      "text/html": [
       "<div>\n",
       "<style scoped>\n",
       "    .dataframe tbody tr th:only-of-type {\n",
       "        vertical-align: middle;\n",
       "    }\n",
       "\n",
       "    .dataframe tbody tr th {\n",
       "        vertical-align: top;\n",
       "    }\n",
       "\n",
       "    .dataframe thead th {\n",
       "        text-align: right;\n",
       "    }\n",
       "</style>\n",
       "<table border=\"1\" class=\"dataframe\">\n",
       "  <thead>\n",
       "    <tr style=\"text-align: right;\">\n",
       "      <th></th>\n",
       "      <th>TEAMPOSITION</th>\n",
       "      <th>G_20</th>\n",
       "    </tr>\n",
       "  </thead>\n",
       "  <tbody>\n",
       "    <tr>\n",
       "      <th>0</th>\n",
       "      <td>MIDDLE</td>\n",
       "      <td>8836</td>\n",
       "    </tr>\n",
       "    <tr>\n",
       "      <th>1</th>\n",
       "      <td>BOTTOM</td>\n",
       "      <td>7218</td>\n",
       "    </tr>\n",
       "    <tr>\n",
       "      <th>2</th>\n",
       "      <td>UTILITY</td>\n",
       "      <td>5462</td>\n",
       "    </tr>\n",
       "    <tr>\n",
       "      <th>3</th>\n",
       "      <td>TOP</td>\n",
       "      <td>8553</td>\n",
       "    </tr>\n",
       "    <tr>\n",
       "      <th>4</th>\n",
       "      <td>JUNGLE</td>\n",
       "      <td>5960</td>\n",
       "    </tr>\n",
       "    <tr>\n",
       "      <th>...</th>\n",
       "      <td>...</td>\n",
       "      <td>...</td>\n",
       "    </tr>\n",
       "    <tr>\n",
       "      <th>30475</th>\n",
       "      <td>TOP</td>\n",
       "      <td>7460</td>\n",
       "    </tr>\n",
       "    <tr>\n",
       "      <th>30476</th>\n",
       "      <td>JUNGLE</td>\n",
       "      <td>8483</td>\n",
       "    </tr>\n",
       "    <tr>\n",
       "      <th>30477</th>\n",
       "      <td>MIDDLE</td>\n",
       "      <td>4744</td>\n",
       "    </tr>\n",
       "    <tr>\n",
       "      <th>30478</th>\n",
       "      <td>BOTTOM</td>\n",
       "      <td>6706</td>\n",
       "    </tr>\n",
       "    <tr>\n",
       "      <th>30479</th>\n",
       "      <td>UTILITY</td>\n",
       "      <td>7200</td>\n",
       "    </tr>\n",
       "  </tbody>\n",
       "</table>\n",
       "<p>23983 rows × 2 columns</p>\n",
       "</div>"
      ],
      "text/plain": [
       "      TEAMPOSITION  G_20\n",
       "0           MIDDLE  8836\n",
       "1           BOTTOM  7218\n",
       "2          UTILITY  5462\n",
       "3              TOP  8553\n",
       "4           JUNGLE  5960\n",
       "...            ...   ...\n",
       "30475          TOP  7460\n",
       "30476       JUNGLE  8483\n",
       "30477       MIDDLE  4744\n",
       "30478       BOTTOM  6706\n",
       "30479      UTILITY  7200\n",
       "\n",
       "[23983 rows x 2 columns]"
      ]
     },
     "execution_count": 17,
     "metadata": {},
     "output_type": "execute_result"
    }
   ],
   "source": [
    "tmp_df = pd.merge(match_df, timeline_df, on=['GAMEID','PARTICIPANTID'])\\\n",
    "            [['TEAMPOSITION','G_20']]\n",
    "\n",
    "tmp_df = tmp_df[~tmp_df.TEAMPOSITION.isna()]\n",
    "tmp_df"
   ]
  },
  {
   "cell_type": "code",
   "execution_count": 18,
   "metadata": {},
   "outputs": [
    {
     "data": {
      "text/plain": [
       "<AxesSubplot:xlabel='G_20', ylabel='Density'>"
      ]
     },
     "execution_count": 18,
     "metadata": {},
     "output_type": "execute_result"
    },
    {
     "data": {
      "image/png": "[encoded data removed]",
      "text/plain": [
       "<Figure size 432x288 with 1 Axes>"
      ]
     },
     "metadata": {
      "needs_background": "light"
     },
     "output_type": "display_data"
    }
   ],
   "source": [
    "sns.kdeplot(x=tmp_df[tmp_df.G_20!=0]['G_20'])"
   ]
  },
  {
   "cell_type": "code",
   "execution_count": 19,
   "metadata": {},
   "outputs": [
    {
     "data": {
      "text/html": [
       "<div>\n",
       "<style scoped>\n",
       "    .dataframe tbody tr th:only-of-type {\n",
       "        vertical-align: middle;\n",
       "    }\n",
       "\n",
       "    .dataframe tbody tr th {\n",
       "        vertical-align: top;\n",
       "    }\n",
       "\n",
       "    .dataframe thead th {\n",
       "        text-align: right;\n",
       "    }\n",
       "</style>\n",
       "<table border=\"1\" class=\"dataframe\">\n",
       "  <thead>\n",
       "    <tr style=\"text-align: right;\">\n",
       "      <th></th>\n",
       "      <th>주차장명</th>\n",
       "      <th>주차수</th>\n",
       "      <th>유무료</th>\n",
       "      <th>주말유무료</th>\n",
       "      <th>공휴일유무료</th>\n",
       "      <th>월정기권금액</th>\n",
       "      <th>기본요금</th>\n",
       "      <th>추가요금</th>\n",
       "    </tr>\n",
       "  </thead>\n",
       "  <tbody>\n",
       "    <tr>\n",
       "      <th>0</th>\n",
       "      <td>초안산근린공원주차장(구)</td>\n",
       "      <td>68.0</td>\n",
       "      <td>유료</td>\n",
       "      <td>무료</td>\n",
       "      <td>무료</td>\n",
       "      <td>0</td>\n",
       "      <td>0.0</td>\n",
       "      <td>300.0</td>\n",
       "    </tr>\n",
       "    <tr>\n",
       "      <th>1</th>\n",
       "      <td>마들스타디움(근린공원)(구)</td>\n",
       "      <td>177.0</td>\n",
       "      <td>유료</td>\n",
       "      <td>무료</td>\n",
       "      <td>무료</td>\n",
       "      <td>100000</td>\n",
       "      <td>150.0</td>\n",
       "      <td>150.0</td>\n",
       "    </tr>\n",
       "    <tr>\n",
       "      <th>2</th>\n",
       "      <td>마장동공영주차장(구)</td>\n",
       "      <td>53.0</td>\n",
       "      <td>무료</td>\n",
       "      <td>유료</td>\n",
       "      <td>유료</td>\n",
       "      <td></td>\n",
       "      <td>0.0</td>\n",
       "      <td>0.0</td>\n",
       "    </tr>\n",
       "    <tr>\n",
       "      <th>3</th>\n",
       "      <td>영등포여고 공영(구)</td>\n",
       "      <td>98.0</td>\n",
       "      <td>유료</td>\n",
       "      <td>무료</td>\n",
       "      <td>무료</td>\n",
       "      <td>65000</td>\n",
       "      <td>50.0</td>\n",
       "      <td>50.0</td>\n",
       "    </tr>\n",
       "    <tr>\n",
       "      <th>4</th>\n",
       "      <td>당산근린공원 공영(구)</td>\n",
       "      <td>190.0</td>\n",
       "      <td>유료</td>\n",
       "      <td>무료</td>\n",
       "      <td>무료</td>\n",
       "      <td>100000</td>\n",
       "      <td>150.0</td>\n",
       "      <td>150.0</td>\n",
       "    </tr>\n",
       "    <tr>\n",
       "      <th>...</th>\n",
       "      <td>...</td>\n",
       "      <td>...</td>\n",
       "      <td>...</td>\n",
       "      <td>...</td>\n",
       "      <td>...</td>\n",
       "      <td>...</td>\n",
       "      <td>...</td>\n",
       "      <td>...</td>\n",
       "    </tr>\n",
       "    <tr>\n",
       "      <th>900</th>\n",
       "      <td>청계2(돈화문로) 공영주차장(시)</td>\n",
       "      <td>1.0</td>\n",
       "      <td>유료</td>\n",
       "      <td>무료</td>\n",
       "      <td>유료</td>\n",
       "      <td>0</td>\n",
       "      <td>750.0</td>\n",
       "      <td>750.0</td>\n",
       "    </tr>\n",
       "    <tr>\n",
       "      <th>912</th>\n",
       "      <td>청계 화물(시)</td>\n",
       "      <td>1.0</td>\n",
       "      <td>유료</td>\n",
       "      <td>무료</td>\n",
       "      <td>유료</td>\n",
       "      <td>0</td>\n",
       "      <td>500.0</td>\n",
       "      <td>650.0</td>\n",
       "    </tr>\n",
       "    <tr>\n",
       "      <th>913</th>\n",
       "      <td>청계2(북1) 공영주차장(시)</td>\n",
       "      <td>1.0</td>\n",
       "      <td>유료</td>\n",
       "      <td>무료</td>\n",
       "      <td>유료</td>\n",
       "      <td>0</td>\n",
       "      <td>750.0</td>\n",
       "      <td>750.0</td>\n",
       "    </tr>\n",
       "    <tr>\n",
       "      <th>926</th>\n",
       "      <td>주공3단지상가주변(구)</td>\n",
       "      <td>1.0</td>\n",
       "      <td>유료</td>\n",
       "      <td>무료</td>\n",
       "      <td>무료</td>\n",
       "      <td>150000</td>\n",
       "      <td>250.0</td>\n",
       "      <td>0.0</td>\n",
       "    </tr>\n",
       "    <tr>\n",
       "      <th>970</th>\n",
       "      <td>신한증권옆(구)</td>\n",
       "      <td>1.0</td>\n",
       "      <td>유료</td>\n",
       "      <td>무료</td>\n",
       "      <td>무료</td>\n",
       "      <td>150000</td>\n",
       "      <td>250.0</td>\n",
       "      <td>0.0</td>\n",
       "    </tr>\n",
       "  </tbody>\n",
       "</table>\n",
       "<p>208 rows × 8 columns</p>\n",
       "</div>"
      ],
      "text/plain": [
       "                   주차장명    주차수 유무료 주말유무료 공휴일유무료  월정기권금액   기본요금   추가요금\n",
       "0         초안산근린공원주차장(구)   68.0  유료    무료     무료       0    0.0  300.0\n",
       "1       마들스타디움(근린공원)(구)  177.0  유료    무료     무료  100000  150.0  150.0\n",
       "2           마장동공영주차장(구)   53.0  무료    유료     유료            0.0    0.0\n",
       "3           영등포여고 공영(구)   98.0  유료    무료     무료   65000   50.0   50.0\n",
       "4          당산근린공원 공영(구)  190.0  유료    무료     무료  100000  150.0  150.0\n",
       "..                  ...    ...  ..   ...    ...     ...    ...    ...\n",
       "900  청계2(돈화문로) 공영주차장(시)    1.0  유료    무료     유료       0  750.0  750.0\n",
       "912            청계 화물(시)    1.0  유료    무료     유료       0  500.0  650.0\n",
       "913    청계2(북1) 공영주차장(시)    1.0  유료    무료     유료       0  750.0  750.0\n",
       "926        주공3단지상가주변(구)    1.0  유료    무료     무료  150000  250.0    0.0\n",
       "970            신한증권옆(구)    1.0  유료    무료     무료  150000  250.0    0.0\n",
       "\n",
       "[208 rows x 8 columns]"
      ]
     },
     "execution_count": 19,
     "metadata": {},
     "output_type": "execute_result"
    }
   ],
   "source": [
    "my_df"
   ]
  },
  {
   "cell_type": "code",
   "execution_count": 20,
   "metadata": {},
   "outputs": [
    {
     "data": {
      "text/plain": [
       "<AxesSubplot:xlabel='기본요금', ylabel='추가요금'>"
      ]
     },
     "execution_count": 20,
     "metadata": {},
     "output_type": "execute_result"
    },
    {
     "data": {
      "image/png": "[encoded data removed]",
      "text/plain": [
       "<Figure size 432x288 with 1 Axes>"
      ]
     },
     "metadata": {
      "needs_background": "light"
     },
     "output_type": "display_data"
    }
   ],
   "source": [
    "sns.kdeplot(x=my_df['기본요금'], y=my_df['추가요금'])"
   ]
  },
  {
   "cell_type": "markdown",
   "metadata": {},
   "source": [
    "### ECDF Plot\n",
    "- 누적 분포를 시각화"
   ]
  },
  {
   "cell_type": "code",
   "execution_count": 22,
   "metadata": {},
   "outputs": [
    {
     "data": {
      "text/plain": [
       "<seaborn.axisgrid.FacetGrid at 0x1f869000438>"
      ]
     },
     "execution_count": 22,
     "metadata": {},
     "output_type": "execute_result"
    },
    {
     "data": {
      "image/png": "[encoded data removed]",
      "text/plain": [
       "<Figure size 360x360 with 1 Axes>"
      ]
     },
     "metadata": {
      "needs_background": "light"
     },
     "output_type": "display_data"
    }
   ],
   "source": [
    "sns.displot(x=my_df['추가요금'], kind='ecdf')"
   ]
  },
  {
   "cell_type": "markdown",
   "metadata": {},
   "source": [
    "## Rug Plot"
   ]
  },
  {
   "cell_type": "code",
   "execution_count": 25,
   "metadata": {},
   "outputs": [
    {
     "data": {
      "text/plain": [
       "<AxesSubplot:xlabel='기본요금', ylabel='Density'>"
      ]
     },
     "execution_count": 25,
     "metadata": {},
     "output_type": "execute_result"
    },
    {
     "data": {
      "image/png": "[encoded data removed]",
      "text/plain": [
       "<Figure size 432x288 with 1 Axes>"
      ]
     },
     "metadata": {
      "needs_background": "light"
     },
     "output_type": "display_data"
    }
   ],
   "source": [
    "sns.kdeplot(x=my_df['기본요금'])\n",
    "sns.rugplot(x=my_df['기본요금'])"
   ]
  },
  {
   "cell_type": "markdown",
   "metadata": {},
   "source": [
    "## Bar Plot"
   ]
  },
  {
   "cell_type": "code",
   "execution_count": 27,
   "metadata": {},
   "outputs": [
    {
     "data": {
      "text/html": [
       "<div>\n",
       "<style scoped>\n",
       "    .dataframe tbody tr th:only-of-type {\n",
       "        vertical-align: middle;\n",
       "    }\n",
       "\n",
       "    .dataframe tbody tr th {\n",
       "        vertical-align: top;\n",
       "    }\n",
       "\n",
       "    .dataframe thead th {\n",
       "        text-align: right;\n",
       "    }\n",
       "</style>\n",
       "<table border=\"1\" class=\"dataframe\">\n",
       "  <thead>\n",
       "    <tr style=\"text-align: right;\">\n",
       "      <th></th>\n",
       "      <th>주차장명</th>\n",
       "      <th>주차수</th>\n",
       "      <th>유무료</th>\n",
       "      <th>주말유무료</th>\n",
       "      <th>공휴일유무료</th>\n",
       "      <th>월정기권금액</th>\n",
       "      <th>기본요금</th>\n",
       "      <th>추가요금</th>\n",
       "    </tr>\n",
       "  </thead>\n",
       "  <tbody>\n",
       "    <tr>\n",
       "      <th>0</th>\n",
       "      <td>초안산근린공원주차장(구)</td>\n",
       "      <td>68.0</td>\n",
       "      <td>유료</td>\n",
       "      <td>무료</td>\n",
       "      <td>무료</td>\n",
       "      <td>0</td>\n",
       "      <td>0.0</td>\n",
       "      <td>300.0</td>\n",
       "    </tr>\n",
       "    <tr>\n",
       "      <th>1</th>\n",
       "      <td>마들스타디움(근린공원)(구)</td>\n",
       "      <td>177.0</td>\n",
       "      <td>유료</td>\n",
       "      <td>무료</td>\n",
       "      <td>무료</td>\n",
       "      <td>100000</td>\n",
       "      <td>150.0</td>\n",
       "      <td>150.0</td>\n",
       "    </tr>\n",
       "    <tr>\n",
       "      <th>2</th>\n",
       "      <td>마장동공영주차장(구)</td>\n",
       "      <td>53.0</td>\n",
       "      <td>무료</td>\n",
       "      <td>유료</td>\n",
       "      <td>유료</td>\n",
       "      <td></td>\n",
       "      <td>0.0</td>\n",
       "      <td>0.0</td>\n",
       "    </tr>\n",
       "    <tr>\n",
       "      <th>3</th>\n",
       "      <td>영등포여고 공영(구)</td>\n",
       "      <td>98.0</td>\n",
       "      <td>유료</td>\n",
       "      <td>무료</td>\n",
       "      <td>무료</td>\n",
       "      <td>65000</td>\n",
       "      <td>50.0</td>\n",
       "      <td>50.0</td>\n",
       "    </tr>\n",
       "    <tr>\n",
       "      <th>4</th>\n",
       "      <td>당산근린공원 공영(구)</td>\n",
       "      <td>190.0</td>\n",
       "      <td>유료</td>\n",
       "      <td>무료</td>\n",
       "      <td>무료</td>\n",
       "      <td>100000</td>\n",
       "      <td>150.0</td>\n",
       "      <td>150.0</td>\n",
       "    </tr>\n",
       "    <tr>\n",
       "      <th>...</th>\n",
       "      <td>...</td>\n",
       "      <td>...</td>\n",
       "      <td>...</td>\n",
       "      <td>...</td>\n",
       "      <td>...</td>\n",
       "      <td>...</td>\n",
       "      <td>...</td>\n",
       "      <td>...</td>\n",
       "    </tr>\n",
       "    <tr>\n",
       "      <th>900</th>\n",
       "      <td>청계2(돈화문로) 공영주차장(시)</td>\n",
       "      <td>1.0</td>\n",
       "      <td>유료</td>\n",
       "      <td>무료</td>\n",
       "      <td>유료</td>\n",
       "      <td>0</td>\n",
       "      <td>750.0</td>\n",
       "      <td>750.0</td>\n",
       "    </tr>\n",
       "    <tr>\n",
       "      <th>912</th>\n",
       "      <td>청계 화물(시)</td>\n",
       "      <td>1.0</td>\n",
       "      <td>유료</td>\n",
       "      <td>무료</td>\n",
       "      <td>유료</td>\n",
       "      <td>0</td>\n",
       "      <td>500.0</td>\n",
       "      <td>650.0</td>\n",
       "    </tr>\n",
       "    <tr>\n",
       "      <th>913</th>\n",
       "      <td>청계2(북1) 공영주차장(시)</td>\n",
       "      <td>1.0</td>\n",
       "      <td>유료</td>\n",
       "      <td>무료</td>\n",
       "      <td>유료</td>\n",
       "      <td>0</td>\n",
       "      <td>750.0</td>\n",
       "      <td>750.0</td>\n",
       "    </tr>\n",
       "    <tr>\n",
       "      <th>926</th>\n",
       "      <td>주공3단지상가주변(구)</td>\n",
       "      <td>1.0</td>\n",
       "      <td>유료</td>\n",
       "      <td>무료</td>\n",
       "      <td>무료</td>\n",
       "      <td>150000</td>\n",
       "      <td>250.0</td>\n",
       "      <td>0.0</td>\n",
       "    </tr>\n",
       "    <tr>\n",
       "      <th>970</th>\n",
       "      <td>신한증권옆(구)</td>\n",
       "      <td>1.0</td>\n",
       "      <td>유료</td>\n",
       "      <td>무료</td>\n",
       "      <td>무료</td>\n",
       "      <td>150000</td>\n",
       "      <td>250.0</td>\n",
       "      <td>0.0</td>\n",
       "    </tr>\n",
       "  </tbody>\n",
       "</table>\n",
       "<p>208 rows × 8 columns</p>\n",
       "</div>"
      ],
      "text/plain": [
       "                   주차장명    주차수 유무료 주말유무료 공휴일유무료  월정기권금액   기본요금   추가요금\n",
       "0         초안산근린공원주차장(구)   68.0  유료    무료     무료       0    0.0  300.0\n",
       "1       마들스타디움(근린공원)(구)  177.0  유료    무료     무료  100000  150.0  150.0\n",
       "2           마장동공영주차장(구)   53.0  무료    유료     유료            0.0    0.0\n",
       "3           영등포여고 공영(구)   98.0  유료    무료     무료   65000   50.0   50.0\n",
       "4          당산근린공원 공영(구)  190.0  유료    무료     무료  100000  150.0  150.0\n",
       "..                  ...    ...  ..   ...    ...     ...    ...    ...\n",
       "900  청계2(돈화문로) 공영주차장(시)    1.0  유료    무료     유료       0  750.0  750.0\n",
       "912            청계 화물(시)    1.0  유료    무료     유료       0  500.0  650.0\n",
       "913    청계2(북1) 공영주차장(시)    1.0  유료    무료     유료       0  750.0  750.0\n",
       "926        주공3단지상가주변(구)    1.0  유료    무료     무료  150000  250.0    0.0\n",
       "970            신한증권옆(구)    1.0  유료    무료     무료  150000  250.0    0.0\n",
       "\n",
       "[208 rows x 8 columns]"
      ]
     },
     "execution_count": 27,
     "metadata": {},
     "output_type": "execute_result"
    }
   ],
   "source": [
    "my_df"
   ]
  },
  {
   "cell_type": "code",
   "execution_count": 28,
   "metadata": {},
   "outputs": [
    {
     "data": {
      "text/plain": [
       "<AxesSubplot:xlabel='주말유무료', ylabel='기본요금'>"
      ]
     },
     "execution_count": 28,
     "metadata": {},
     "output_type": "execute_result"
    },
    {
     "data": {
      "image/png": "[encoded data removed]",
      "text/plain": [
       "<Figure size 432x288 with 1 Axes>"
      ]
     },
     "metadata": {
      "needs_background": "light"
     },
     "output_type": "display_data"
    }
   ],
   "source": [
    "sns.barplot(x = my_df['주말유무료'], y=my_df['기본요금'])"
   ]
  },
  {
   "cell_type": "markdown",
   "metadata": {},
   "source": [
    "## Count Plot"
   ]
  },
  {
   "cell_type": "code",
   "execution_count": 29,
   "metadata": {},
   "outputs": [
    {
     "data": {
      "text/plain": [
       "<AxesSubplot:xlabel='주말유무료', ylabel='count'>"
      ]
     },
     "execution_count": 29,
     "metadata": {},
     "output_type": "execute_result"
    },
    {
     "data": {
      "image/png": "[encoded data removed]",
      "text/plain": [
       "<Figure size 432x288 with 1 Axes>"
      ]
     },
     "metadata": {
      "needs_background": "light"
     },
     "output_type": "display_data"
    }
   ],
   "source": [
    "sns.countplot(x = my_df['주말유무료'])"
   ]
  },
  {
   "cell_type": "markdown",
   "metadata": {},
   "source": [
    "## Viloin Plot"
   ]
  },
  {
   "cell_type": "code",
   "execution_count": 31,
   "metadata": {},
   "outputs": [
    {
     "data": {
      "text/plain": [
       "<AxesSubplot:xlabel='주말유무료', ylabel='추가요금'>"
      ]
     },
     "execution_count": 31,
     "metadata": {},
     "output_type": "execute_result"
    },
    {
     "data": {
      "image/png": "[encoded data removed]",
      "text/plain": [
       "<Figure size 432x288 with 1 Axes>"
      ]
     },
     "metadata": {
      "needs_background": "light"
     },
     "output_type": "display_data"
    }
   ],
   "source": [
    "sns.violinplot(x= my_df['주말유무료'], y=my_df['추가요금'])"
   ]
  },
  {
   "cell_type": "markdown",
   "metadata": {},
   "source": [
    "## Strip Plot"
   ]
  },
  {
   "cell_type": "code",
   "execution_count": 32,
   "metadata": {},
   "outputs": [
    {
     "data": {
      "text/plain": [
       "<AxesSubplot:xlabel='주말유무료', ylabel='추가요금'>"
      ]
     },
     "execution_count": 32,
     "metadata": {},
     "output_type": "execute_result"
    },
    {
     "data": {
      "image/png": "[encoded data removed]",
      "text/plain": [
       "<Figure size 432x288 with 1 Axes>"
      ]
     },
     "metadata": {
      "needs_background": "light"
     },
     "output_type": "display_data"
    }
   ],
   "source": [
    "sns.stripplot(x = my_df['주말유무료'], y=my_df['추가요금'])"
   ]
  },
  {
   "cell_type": "markdown",
   "metadata": {},
   "source": [
    "## Swarm Plot"
   ]
  },
  {
   "cell_type": "code",
   "execution_count": 33,
   "metadata": {},
   "outputs": [
    {
     "name": "stderr",
     "output_type": "stream",
     "text": [
      "C:\\ProgramData\\Anaconda3\\envs\\py36\\lib\\site-packages\\seaborn\\categorical.py:1296: UserWarning: 6.6% of the points cannot be placed; you may want to decrease the size of the markers or use stripplot.\n",
      "  warnings.warn(msg, UserWarning)\n",
      "C:\\ProgramData\\Anaconda3\\envs\\py36\\lib\\site-packages\\seaborn\\categorical.py:1296: UserWarning: 12.2% of the points cannot be placed; you may want to decrease the size of the markers or use stripplot.\n",
      "  warnings.warn(msg, UserWarning)\n"
     ]
    },
    {
     "data": {
      "text/plain": [
       "<AxesSubplot:xlabel='주말유무료', ylabel='추가요금'>"
      ]
     },
     "execution_count": 33,
     "metadata": {},
     "output_type": "execute_result"
    },
    {
     "data": {
      "image/png": "[encoded data removed]",
      "text/plain": [
       "<Figure size 432x288 with 1 Axes>"
      ]
     },
     "metadata": {
      "needs_background": "light"
     },
     "output_type": "display_data"
    }
   ],
   "source": [
    "sns.swarmplot(x=my_df['주말유무료'], y=my_df['추가요금'])"
   ]
  },
  {
   "cell_type": "markdown",
   "metadata": {},
   "source": [
    "## Heat Map"
   ]
  },
  {
   "cell_type": "code",
   "execution_count": 37,
   "metadata": {},
   "outputs": [
    {
     "data": {
      "text/plain": [
       "str"
      ]
     },
     "execution_count": 37,
     "metadata": {},
     "output_type": "execute_result"
    }
   ],
   "source": [
    "type(my_df.iloc[0]['월정기권금액'])"
   ]
  },
  {
   "cell_type": "code",
   "execution_count": 34,
   "metadata": {},
   "outputs": [
    {
     "data": {
      "text/html": [
       "<div>\n",
       "<style scoped>\n",
       "    .dataframe tbody tr th:only-of-type {\n",
       "        vertical-align: middle;\n",
       "    }\n",
       "\n",
       "    .dataframe tbody tr th {\n",
       "        vertical-align: top;\n",
       "    }\n",
       "\n",
       "    .dataframe thead th {\n",
       "        text-align: right;\n",
       "    }\n",
       "</style>\n",
       "<table border=\"1\" class=\"dataframe\">\n",
       "  <thead>\n",
       "    <tr style=\"text-align: right;\">\n",
       "      <th></th>\n",
       "      <th>주차장명</th>\n",
       "      <th>주차수</th>\n",
       "      <th>유무료</th>\n",
       "      <th>주말유무료</th>\n",
       "      <th>공휴일유무료</th>\n",
       "      <th>월정기권금액</th>\n",
       "      <th>기본요금</th>\n",
       "      <th>추가요금</th>\n",
       "    </tr>\n",
       "  </thead>\n",
       "  <tbody>\n",
       "    <tr>\n",
       "      <th>0</th>\n",
       "      <td>초안산근린공원주차장(구)</td>\n",
       "      <td>68.0</td>\n",
       "      <td>유료</td>\n",
       "      <td>무료</td>\n",
       "      <td>무료</td>\n",
       "      <td>0</td>\n",
       "      <td>0.0</td>\n",
       "      <td>300.0</td>\n",
       "    </tr>\n",
       "    <tr>\n",
       "      <th>1</th>\n",
       "      <td>마들스타디움(근린공원)(구)</td>\n",
       "      <td>177.0</td>\n",
       "      <td>유료</td>\n",
       "      <td>무료</td>\n",
       "      <td>무료</td>\n",
       "      <td>100000</td>\n",
       "      <td>150.0</td>\n",
       "      <td>150.0</td>\n",
       "    </tr>\n",
       "    <tr>\n",
       "      <th>2</th>\n",
       "      <td>마장동공영주차장(구)</td>\n",
       "      <td>53.0</td>\n",
       "      <td>무료</td>\n",
       "      <td>유료</td>\n",
       "      <td>유료</td>\n",
       "      <td></td>\n",
       "      <td>0.0</td>\n",
       "      <td>0.0</td>\n",
       "    </tr>\n",
       "    <tr>\n",
       "      <th>3</th>\n",
       "      <td>영등포여고 공영(구)</td>\n",
       "      <td>98.0</td>\n",
       "      <td>유료</td>\n",
       "      <td>무료</td>\n",
       "      <td>무료</td>\n",
       "      <td>65000</td>\n",
       "      <td>50.0</td>\n",
       "      <td>50.0</td>\n",
       "    </tr>\n",
       "    <tr>\n",
       "      <th>4</th>\n",
       "      <td>당산근린공원 공영(구)</td>\n",
       "      <td>190.0</td>\n",
       "      <td>유료</td>\n",
       "      <td>무료</td>\n",
       "      <td>무료</td>\n",
       "      <td>100000</td>\n",
       "      <td>150.0</td>\n",
       "      <td>150.0</td>\n",
       "    </tr>\n",
       "    <tr>\n",
       "      <th>...</th>\n",
       "      <td>...</td>\n",
       "      <td>...</td>\n",
       "      <td>...</td>\n",
       "      <td>...</td>\n",
       "      <td>...</td>\n",
       "      <td>...</td>\n",
       "      <td>...</td>\n",
       "      <td>...</td>\n",
       "    </tr>\n",
       "    <tr>\n",
       "      <th>900</th>\n",
       "      <td>청계2(돈화문로) 공영주차장(시)</td>\n",
       "      <td>1.0</td>\n",
       "      <td>유료</td>\n",
       "      <td>무료</td>\n",
       "      <td>유료</td>\n",
       "      <td>0</td>\n",
       "      <td>750.0</td>\n",
       "      <td>750.0</td>\n",
       "    </tr>\n",
       "    <tr>\n",
       "      <th>912</th>\n",
       "      <td>청계 화물(시)</td>\n",
       "      <td>1.0</td>\n",
       "      <td>유료</td>\n",
       "      <td>무료</td>\n",
       "      <td>유료</td>\n",
       "      <td>0</td>\n",
       "      <td>500.0</td>\n",
       "      <td>650.0</td>\n",
       "    </tr>\n",
       "    <tr>\n",
       "      <th>913</th>\n",
       "      <td>청계2(북1) 공영주차장(시)</td>\n",
       "      <td>1.0</td>\n",
       "      <td>유료</td>\n",
       "      <td>무료</td>\n",
       "      <td>유료</td>\n",
       "      <td>0</td>\n",
       "      <td>750.0</td>\n",
       "      <td>750.0</td>\n",
       "    </tr>\n",
       "    <tr>\n",
       "      <th>926</th>\n",
       "      <td>주공3단지상가주변(구)</td>\n",
       "      <td>1.0</td>\n",
       "      <td>유료</td>\n",
       "      <td>무료</td>\n",
       "      <td>무료</td>\n",
       "      <td>150000</td>\n",
       "      <td>250.0</td>\n",
       "      <td>0.0</td>\n",
       "    </tr>\n",
       "    <tr>\n",
       "      <th>970</th>\n",
       "      <td>신한증권옆(구)</td>\n",
       "      <td>1.0</td>\n",
       "      <td>유료</td>\n",
       "      <td>무료</td>\n",
       "      <td>무료</td>\n",
       "      <td>150000</td>\n",
       "      <td>250.0</td>\n",
       "      <td>0.0</td>\n",
       "    </tr>\n",
       "  </tbody>\n",
       "</table>\n",
       "<p>208 rows × 8 columns</p>\n",
       "</div>"
      ],
      "text/plain": [
       "                   주차장명    주차수 유무료 주말유무료 공휴일유무료  월정기권금액   기본요금   추가요금\n",
       "0         초안산근린공원주차장(구)   68.0  유료    무료     무료       0    0.0  300.0\n",
       "1       마들스타디움(근린공원)(구)  177.0  유료    무료     무료  100000  150.0  150.0\n",
       "2           마장동공영주차장(구)   53.0  무료    유료     유료            0.0    0.0\n",
       "3           영등포여고 공영(구)   98.0  유료    무료     무료   65000   50.0   50.0\n",
       "4          당산근린공원 공영(구)  190.0  유료    무료     무료  100000  150.0  150.0\n",
       "..                  ...    ...  ..   ...    ...     ...    ...    ...\n",
       "900  청계2(돈화문로) 공영주차장(시)    1.0  유료    무료     유료       0  750.0  750.0\n",
       "912            청계 화물(시)    1.0  유료    무료     유료       0  500.0  650.0\n",
       "913    청계2(북1) 공영주차장(시)    1.0  유료    무료     유료       0  750.0  750.0\n",
       "926        주공3단지상가주변(구)    1.0  유료    무료     무료  150000  250.0    0.0\n",
       "970            신한증권옆(구)    1.0  유료    무료     무료  150000  250.0    0.0\n",
       "\n",
       "[208 rows x 8 columns]"
      ]
     },
     "execution_count": 34,
     "metadata": {},
     "output_type": "execute_result"
    }
   ],
   "source": [
    "my_df"
   ]
  },
  {
   "cell_type": "code",
   "execution_count": 35,
   "metadata": {},
   "outputs": [
    {
     "data": {
      "text/html": [
       "<div>\n",
       "<style scoped>\n",
       "    .dataframe tbody tr th:only-of-type {\n",
       "        vertical-align: middle;\n",
       "    }\n",
       "\n",
       "    .dataframe tbody tr th {\n",
       "        vertical-align: top;\n",
       "    }\n",
       "\n",
       "    .dataframe thead th {\n",
       "        text-align: right;\n",
       "    }\n",
       "</style>\n",
       "<table border=\"1\" class=\"dataframe\">\n",
       "  <thead>\n",
       "    <tr style=\"text-align: right;\">\n",
       "      <th></th>\n",
       "      <th>주차수</th>\n",
       "      <th>기본요금</th>\n",
       "      <th>추가요금</th>\n",
       "    </tr>\n",
       "  </thead>\n",
       "  <tbody>\n",
       "    <tr>\n",
       "      <th>주차수</th>\n",
       "      <td>1.000000</td>\n",
       "      <td>0.192221</td>\n",
       "      <td>-0.115777</td>\n",
       "    </tr>\n",
       "    <tr>\n",
       "      <th>기본요금</th>\n",
       "      <td>0.192221</td>\n",
       "      <td>1.000000</td>\n",
       "      <td>0.465080</td>\n",
       "    </tr>\n",
       "    <tr>\n",
       "      <th>추가요금</th>\n",
       "      <td>-0.115777</td>\n",
       "      <td>0.465080</td>\n",
       "      <td>1.000000</td>\n",
       "    </tr>\n",
       "  </tbody>\n",
       "</table>\n",
       "</div>"
      ],
      "text/plain": [
       "           주차수      기본요금      추가요금\n",
       "주차수   1.000000  0.192221 -0.115777\n",
       "기본요금  0.192221  1.000000  0.465080\n",
       "추가요금 -0.115777  0.465080  1.000000"
      ]
     },
     "execution_count": 35,
     "metadata": {},
     "output_type": "execute_result"
    }
   ],
   "source": [
    "my_df.corr()"
   ]
  },
  {
   "cell_type": "code",
   "execution_count": 38,
   "metadata": {},
   "outputs": [
    {
     "data": {
      "text/plain": [
       "<AxesSubplot:>"
      ]
     },
     "execution_count": 38,
     "metadata": {},
     "output_type": "execute_result"
    },
    {
     "data": {
      "image/png": "[encoded data removed]",
      "text/plain": [
       "<Figure size 432x288 with 2 Axes>"
      ]
     },
     "metadata": {
      "needs_background": "light"
     },
     "output_type": "display_data"
    }
   ],
   "source": [
    "sns.heatmap(my_df.corr(), annot=True, cmap = 'viridis')"
   ]
  },
  {
   "cell_type": "markdown",
   "metadata": {},
   "source": [
    "## Cluster Map"
   ]
  },
  {
   "cell_type": "code",
   "execution_count": 39,
   "metadata": {},
   "outputs": [
    {
     "data": {
      "text/plain": [
       "<seaborn.matrix.ClusterGrid at 0x1f8694c02e8>"
      ]
     },
     "execution_count": 39,
     "metadata": {},
     "output_type": "execute_result"
    },
    {
     "data": {
      "image/png": "[encoded data removed]",
      "text/plain": [
       "<Figure size 720x720 with 4 Axes>"
      ]
     },
     "metadata": {
      "needs_background": "light"
     },
     "output_type": "display_data"
    }
   ],
   "source": [
    "sns.clustermap(my_df.corr(), annot=True, cmap='viridis')"
   ]
  },
  {
   "cell_type": "markdown",
   "metadata": {},
   "source": [
    "## Facet Grid"
   ]
  },
  {
   "cell_type": "code",
   "execution_count": 40,
   "metadata": {},
   "outputs": [
    {
     "name": "stderr",
     "output_type": "stream",
     "text": [
      "C:\\ProgramData\\Anaconda3\\envs\\py36\\lib\\site-packages\\seaborn\\distributions.py:2619: FutureWarning: `distplot` is a deprecated function and will be removed in a future version. Please adapt your code to use either `displot` (a figure-level function with similar flexibility) or `histplot` (an axes-level function for histograms).\n",
      "  warnings.warn(msg, FutureWarning)\n",
      "C:\\ProgramData\\Anaconda3\\envs\\py36\\lib\\site-packages\\seaborn\\distributions.py:2619: FutureWarning: `distplot` is a deprecated function and will be removed in a future version. Please adapt your code to use either `displot` (a figure-level function with similar flexibility) or `histplot` (an axes-level function for histograms).\n",
      "  warnings.warn(msg, FutureWarning)\n",
      "C:\\ProgramData\\Anaconda3\\envs\\py36\\lib\\site-packages\\seaborn\\distributions.py:2619: FutureWarning: `distplot` is a deprecated function and will be removed in a future version. Please adapt your code to use either `displot` (a figure-level function with similar flexibility) or `histplot` (an axes-level function for histograms).\n",
      "  warnings.warn(msg, FutureWarning)\n"
     ]
    },
    {
     "data": {
      "text/plain": [
       "<seaborn.axisgrid.FacetGrid at 0x1f868a10f60>"
      ]
     },
     "execution_count": 40,
     "metadata": {},
     "output_type": "execute_result"
    },
    {
     "data": {
      "image/png": "[encoded data removed]",
      "text/plain": [
       "<Figure size 432x432 with 4 Axes>"
      ]
     },
     "metadata": {
      "needs_background": "light"
     },
     "output_type": "display_data"
    }
   ],
   "source": [
    "sns.FacetGrid(my_df, col='주말유무료', row='공휴일유무료').map(sns.distplot,'기본요금')"
   ]
  },
  {
   "cell_type": "markdown",
   "metadata": {},
   "source": [
    "## Joinplot"
   ]
  },
  {
   "cell_type": "code",
   "execution_count": 41,
   "metadata": {},
   "outputs": [
    {
     "data": {
      "text/plain": [
       "<seaborn.axisgrid.JointGrid at 0x1f868b1bbe0>"
      ]
     },
     "execution_count": 41,
     "metadata": {},
     "output_type": "execute_result"
    },
    {
     "data": {
      "image/png": "[encoded data removed]",
      "text/plain": [
       "<Figure size 432x432 with 3 Axes>"
      ]
     },
     "metadata": {
      "needs_background": "light"
     },
     "output_type": "display_data"
    }
   ],
   "source": [
    "sns.jointplot(x=my_df['기본요금'], y=my_df['추가요금'], kind='scatter')"
   ]
  },
  {
   "cell_type": "code",
   "execution_count": 42,
   "metadata": {},
   "outputs": [
    {
     "data": {
      "text/plain": [
       "<seaborn.axisgrid.JointGrid at 0x1f86a175b70>"
      ]
     },
     "execution_count": 42,
     "metadata": {},
     "output_type": "execute_result"
    },
    {
     "data": {
      "image/png": "[encoded data removed]",
      "text/plain": [
       "<Figure size 432x432 with 3 Axes>"
      ]
     },
     "metadata": {
      "needs_background": "light"
     },
     "output_type": "display_data"
    }
   ],
   "source": [
    "sns.jointplot(x=my_df['기본요금'], y=my_df['추가요금'], kind='hex')"
   ]
  },
  {
   "cell_type": "code",
   "execution_count": 43,
   "metadata": {},
   "outputs": [
    {
     "data": {
      "text/plain": [
       "<seaborn.axisgrid.PairGrid at 0x1f86a1d3390>"
      ]
     },
     "execution_count": 43,
     "metadata": {},
     "output_type": "execute_result"
    },
    {
     "data": {
      "image/png": "[encoded data removed]",
      "text/plain": [
       "<Figure size 540x540 with 12 Axes>"
      ]
     },
     "metadata": {
      "needs_background": "light"
     },
     "output_type": "display_data"
    }
   ],
   "source": [
    "sns.pairplot(my_df)"
   ]
  },
  {
   "cell_type": "markdown",
   "metadata": {},
   "source": [
    "## Reg Plot"
   ]
  },
  {
   "cell_type": "code",
   "execution_count": 44,
   "metadata": {},
   "outputs": [
    {
     "data": {
      "text/plain": [
       "<AxesSubplot:xlabel='기본요금', ylabel='추가요금'>"
      ]
     },
     "execution_count": 44,
     "metadata": {},
     "output_type": "execute_result"
    },
    {
     "data": {
      "image/png": "[encoded data removed]",
      "text/plain": [
       "<Figure size 432x288 with 1 Axes>"
      ]
     },
     "metadata": {
      "needs_background": "light"
     },
     "output_type": "display_data"
    }
   ],
   "source": [
    "sns.regplot(x='기본요금', y='추가요금', data=my_df)"
   ]
  },
  {
   "cell_type": "markdown",
   "metadata": {},
   "source": [
    "## LM Plot"
   ]
  },
  {
   "cell_type": "code",
   "execution_count": 46,
   "metadata": {},
   "outputs": [
    {
     "data": {
      "text/plain": [
       "<seaborn.axisgrid.FacetGrid at 0x1f86991a400>"
      ]
     },
     "execution_count": 46,
     "metadata": {},
     "output_type": "execute_result"
    },
    {
     "data": {
      "image/png": "[encoded data removed]",
      "text/plain": [
       "<Figure size 418x360 with 1 Axes>"
      ]
     },
     "metadata": {
      "needs_background": "light"
     },
     "output_type": "display_data"
    }
   ],
   "source": [
    "sns.lmplot(x = '기본요금', y='추가요금', data = my_df, hue='주말유무료')"
   ]
  },
  {
   "cell_type": "code",
   "execution_count": 47,
   "metadata": {},
   "outputs": [
    {
     "data": {
      "text/plain": [
       "<seaborn.axisgrid.FacetGrid at 0x1f869b1dba8>"
      ]
     },
     "execution_count": 47,
     "metadata": {},
     "output_type": "execute_result"
    },
    {
     "data": {
      "image/png": "[encoded data removed]",
      "text/plain": [
       "<Figure size 779x720 with 4 Axes>"
      ]
     },
     "metadata": {
      "needs_background": "light"
     },
     "output_type": "display_data"
    }
   ],
   "source": [
    "sns.relplot(x = '주차수' , y = '추가요금' , hue = '기본요금' , row= '주말유무료', col = '공휴일유무료',data=my_df)"
   ]
  },
  {
   "cell_type": "code",
   "execution_count": 48,
   "metadata": {},
   "outputs": [],
   "source": [
    "import requests\n",
    "import pandas as pd"
   ]
  },
  {
   "cell_type": "code",
   "execution_count": 49,
   "metadata": {},
   "outputs": [],
   "source": [
    "url = \"https://api.upbit.com/v1/candles/days\"\n",
    "coin_lst = ['KRW-BTC','KRW-ETH','KRW-XRP']\n",
    "headers = {\"Accept\": \"application/json\"}\n",
    "df = pd.DataFrame()\n",
    "for c in coin_lst:\n",
    "    querystring = {\"market\":c, \"count\":\"200\"}\n",
    "    response = requests.request(\"GET\", url, headers=headers, params=querystring)\n",
    "    df = df.append(pd.DataFrame(response.json()))"
   ]
  },
  {
   "cell_type": "code",
   "execution_count": 50,
   "metadata": {},
   "outputs": [
    {
     "data": {
      "text/html": [
       "<div>\n",
       "<style scoped>\n",
       "    .dataframe tbody tr th:only-of-type {\n",
       "        vertical-align: middle;\n",
       "    }\n",
       "\n",
       "    .dataframe tbody tr th {\n",
       "        vertical-align: top;\n",
       "    }\n",
       "\n",
       "    .dataframe thead th {\n",
       "        text-align: right;\n",
       "    }\n",
       "</style>\n",
       "<table border=\"1\" class=\"dataframe\">\n",
       "  <thead>\n",
       "    <tr style=\"text-align: right;\">\n",
       "      <th></th>\n",
       "      <th>market</th>\n",
       "      <th>candle_date_time_utc</th>\n",
       "      <th>candle_date_time_kst</th>\n",
       "      <th>opening_price</th>\n",
       "      <th>high_price</th>\n",
       "      <th>low_price</th>\n",
       "      <th>trade_price</th>\n",
       "      <th>timestamp</th>\n",
       "      <th>candle_acc_trade_price</th>\n",
       "      <th>candle_acc_trade_volume</th>\n",
       "      <th>prev_closing_price</th>\n",
       "      <th>change_price</th>\n",
       "      <th>change_rate</th>\n",
       "    </tr>\n",
       "  </thead>\n",
       "  <tbody>\n",
       "    <tr>\n",
       "      <th>0</th>\n",
       "      <td>KRW-BTC</td>\n",
       "      <td>2021-11-15T00:00:00</td>\n",
       "      <td>2021-11-15T09:00:00</td>\n",
       "      <td>79323000.0</td>\n",
       "      <td>80250000.0</td>\n",
       "      <td>79201000.0</td>\n",
       "      <td>79571000.0</td>\n",
       "      <td>1636952880995</td>\n",
       "      <td>1.592200e+11</td>\n",
       "      <td>1.998792e+03</td>\n",
       "      <td>79310000.0</td>\n",
       "      <td>261000.0</td>\n",
       "      <td>0.003291</td>\n",
       "    </tr>\n",
       "    <tr>\n",
       "      <th>1</th>\n",
       "      <td>KRW-BTC</td>\n",
       "      <td>2021-11-14T00:00:00</td>\n",
       "      <td>2021-11-14T09:00:00</td>\n",
       "      <td>77867000.0</td>\n",
       "      <td>79350000.0</td>\n",
       "      <td>77579000.0</td>\n",
       "      <td>79310000.0</td>\n",
       "      <td>1636934400063</td>\n",
       "      <td>3.001073e+11</td>\n",
       "      <td>3.826417e+03</td>\n",
       "      <td>77867000.0</td>\n",
       "      <td>1443000.0</td>\n",
       "      <td>0.018532</td>\n",
       "    </tr>\n",
       "    <tr>\n",
       "      <th>2</th>\n",
       "      <td>KRW-BTC</td>\n",
       "      <td>2021-11-13T00:00:00</td>\n",
       "      <td>2021-11-13T09:00:00</td>\n",
       "      <td>78165000.0</td>\n",
       "      <td>78770000.0</td>\n",
       "      <td>77120000.0</td>\n",
       "      <td>77867000.0</td>\n",
       "      <td>1636847999899</td>\n",
       "      <td>3.385629e+11</td>\n",
       "      <td>4.350105e+03</td>\n",
       "      <td>78165000.0</td>\n",
       "      <td>-298000.0</td>\n",
       "      <td>-0.003812</td>\n",
       "    </tr>\n",
       "    <tr>\n",
       "      <th>3</th>\n",
       "      <td>KRW-BTC</td>\n",
       "      <td>2021-11-12T00:00:00</td>\n",
       "      <td>2021-11-12T09:00:00</td>\n",
       "      <td>78938000.0</td>\n",
       "      <td>79100000.0</td>\n",
       "      <td>76712000.0</td>\n",
       "      <td>78165000.0</td>\n",
       "      <td>1636761599780</td>\n",
       "      <td>5.555562e+11</td>\n",
       "      <td>7.117165e+03</td>\n",
       "      <td>78927000.0</td>\n",
       "      <td>-762000.0</td>\n",
       "      <td>-0.009654</td>\n",
       "    </tr>\n",
       "    <tr>\n",
       "      <th>4</th>\n",
       "      <td>KRW-BTC</td>\n",
       "      <td>2021-11-11T00:00:00</td>\n",
       "      <td>2021-11-11T09:00:00</td>\n",
       "      <td>79663000.0</td>\n",
       "      <td>79732000.0</td>\n",
       "      <td>78543000.0</td>\n",
       "      <td>78917000.0</td>\n",
       "      <td>1636675200983</td>\n",
       "      <td>5.667869e+11</td>\n",
       "      <td>7.167447e+03</td>\n",
       "      <td>79660000.0</td>\n",
       "      <td>-743000.0</td>\n",
       "      <td>-0.009327</td>\n",
       "    </tr>\n",
       "    <tr>\n",
       "      <th>...</th>\n",
       "      <td>...</td>\n",
       "      <td>...</td>\n",
       "      <td>...</td>\n",
       "      <td>...</td>\n",
       "      <td>...</td>\n",
       "      <td>...</td>\n",
       "      <td>...</td>\n",
       "      <td>...</td>\n",
       "      <td>...</td>\n",
       "      <td>...</td>\n",
       "      <td>...</td>\n",
       "      <td>...</td>\n",
       "      <td>...</td>\n",
       "    </tr>\n",
       "    <tr>\n",
       "      <th>195</th>\n",
       "      <td>KRW-XRP</td>\n",
       "      <td>2021-05-04T00:00:00</td>\n",
       "      <td>2021-05-04T09:00:00</td>\n",
       "      <td>1905.0</td>\n",
       "      <td>1910.0</td>\n",
       "      <td>1675.0</td>\n",
       "      <td>1745.0</td>\n",
       "      <td>1620172800409</td>\n",
       "      <td>2.168980e+12</td>\n",
       "      <td>1.209373e+09</td>\n",
       "      <td>1905.0</td>\n",
       "      <td>-160.0</td>\n",
       "      <td>-0.083990</td>\n",
       "    </tr>\n",
       "    <tr>\n",
       "      <th>196</th>\n",
       "      <td>KRW-XRP</td>\n",
       "      <td>2021-05-03T00:00:00</td>\n",
       "      <td>2021-05-03T09:00:00</td>\n",
       "      <td>1885.0</td>\n",
       "      <td>1955.0</td>\n",
       "      <td>1865.0</td>\n",
       "      <td>1905.0</td>\n",
       "      <td>1620086400628</td>\n",
       "      <td>1.084450e+12</td>\n",
       "      <td>5.689309e+08</td>\n",
       "      <td>1890.0</td>\n",
       "      <td>15.0</td>\n",
       "      <td>0.007937</td>\n",
       "    </tr>\n",
       "    <tr>\n",
       "      <th>197</th>\n",
       "      <td>KRW-XRP</td>\n",
       "      <td>2021-05-02T00:00:00</td>\n",
       "      <td>2021-05-02T09:00:00</td>\n",
       "      <td>1970.0</td>\n",
       "      <td>1980.0</td>\n",
       "      <td>1820.0</td>\n",
       "      <td>1890.0</td>\n",
       "      <td>1620000000772</td>\n",
       "      <td>1.043192e+12</td>\n",
       "      <td>5.502377e+08</td>\n",
       "      <td>1965.0</td>\n",
       "      <td>-75.0</td>\n",
       "      <td>-0.038168</td>\n",
       "    </tr>\n",
       "    <tr>\n",
       "      <th>198</th>\n",
       "      <td>KRW-XRP</td>\n",
       "      <td>2021-05-01T00:00:00</td>\n",
       "      <td>2021-05-01T09:00:00</td>\n",
       "      <td>1885.0</td>\n",
       "      <td>1995.0</td>\n",
       "      <td>1830.0</td>\n",
       "      <td>1965.0</td>\n",
       "      <td>1619913600148</td>\n",
       "      <td>1.212213e+12</td>\n",
       "      <td>6.393191e+08</td>\n",
       "      <td>1885.0</td>\n",
       "      <td>80.0</td>\n",
       "      <td>0.042440</td>\n",
       "    </tr>\n",
       "    <tr>\n",
       "      <th>199</th>\n",
       "      <td>KRW-XRP</td>\n",
       "      <td>2021-04-30T00:00:00</td>\n",
       "      <td>2021-04-30T09:00:00</td>\n",
       "      <td>1660.0</td>\n",
       "      <td>1940.0</td>\n",
       "      <td>1640.0</td>\n",
       "      <td>1885.0</td>\n",
       "      <td>1619827200281</td>\n",
       "      <td>2.803543e+12</td>\n",
       "      <td>1.533607e+09</td>\n",
       "      <td>1660.0</td>\n",
       "      <td>225.0</td>\n",
       "      <td>0.135542</td>\n",
       "    </tr>\n",
       "  </tbody>\n",
       "</table>\n",
       "<p>600 rows × 13 columns</p>\n",
       "</div>"
      ],
      "text/plain": [
       "      market candle_date_time_utc candle_date_time_kst  opening_price  \\\n",
       "0    KRW-BTC  2021-11-15T00:00:00  2021-11-15T09:00:00     79323000.0   \n",
       "1    KRW-BTC  2021-11-14T00:00:00  2021-11-14T09:00:00     77867000.0   \n",
       "2    KRW-BTC  2021-11-13T00:00:00  2021-11-13T09:00:00     78165000.0   \n",
       "3    KRW-BTC  2021-11-12T00:00:00  2021-11-12T09:00:00     78938000.0   \n",
       "4    KRW-BTC  2021-11-11T00:00:00  2021-11-11T09:00:00     79663000.0   \n",
       "..       ...                  ...                  ...            ...   \n",
       "195  KRW-XRP  2021-05-04T00:00:00  2021-05-04T09:00:00         1905.0   \n",
       "196  KRW-XRP  2021-05-03T00:00:00  2021-05-03T09:00:00         1885.0   \n",
       "197  KRW-XRP  2021-05-02T00:00:00  2021-05-02T09:00:00         1970.0   \n",
       "198  KRW-XRP  2021-05-01T00:00:00  2021-05-01T09:00:00         1885.0   \n",
       "199  KRW-XRP  2021-04-30T00:00:00  2021-04-30T09:00:00         1660.0   \n",
       "\n",
       "     high_price   low_price  trade_price      timestamp  \\\n",
       "0    80250000.0  79201000.0   79571000.0  1636952880995   \n",
       "1    79350000.0  77579000.0   79310000.0  1636934400063   \n",
       "2    78770000.0  77120000.0   77867000.0  1636847999899   \n",
       "3    79100000.0  76712000.0   78165000.0  1636761599780   \n",
       "4    79732000.0  78543000.0   78917000.0  1636675200983   \n",
       "..          ...         ...          ...            ...   \n",
       "195      1910.0      1675.0       1745.0  1620172800409   \n",
       "196      1955.0      1865.0       1905.0  1620086400628   \n",
       "197      1980.0      1820.0       1890.0  1620000000772   \n",
       "198      1995.0      1830.0       1965.0  1619913600148   \n",
       "199      1940.0      1640.0       1885.0  1619827200281   \n",
       "\n",
       "     candle_acc_trade_price  candle_acc_trade_volume  prev_closing_price  \\\n",
       "0              1.592200e+11             1.998792e+03          79310000.0   \n",
       "1              3.001073e+11             3.826417e+03          77867000.0   \n",
       "2              3.385629e+11             4.350105e+03          78165000.0   \n",
       "3              5.555562e+11             7.117165e+03          78927000.0   \n",
       "4              5.667869e+11             7.167447e+03          79660000.0   \n",
       "..                      ...                      ...                 ...   \n",
       "195            2.168980e+12             1.209373e+09              1905.0   \n",
       "196            1.084450e+12             5.689309e+08              1890.0   \n",
       "197            1.043192e+12             5.502377e+08              1965.0   \n",
       "198            1.212213e+12             6.393191e+08              1885.0   \n",
       "199            2.803543e+12             1.533607e+09              1660.0   \n",
       "\n",
       "     change_price  change_rate  \n",
       "0        261000.0     0.003291  \n",
       "1       1443000.0     0.018532  \n",
       "2       -298000.0    -0.003812  \n",
       "3       -762000.0    -0.009654  \n",
       "4       -743000.0    -0.009327  \n",
       "..            ...          ...  \n",
       "195        -160.0    -0.083990  \n",
       "196          15.0     0.007937  \n",
       "197         -75.0    -0.038168  \n",
       "198          80.0     0.042440  \n",
       "199         225.0     0.135542  \n",
       "\n",
       "[600 rows x 13 columns]"
      ]
     },
     "execution_count": 50,
     "metadata": {},
     "output_type": "execute_result"
    }
   ],
   "source": [
    "df"
   ]
  },
  {
   "cell_type": "code",
   "execution_count": 51,
   "metadata": {},
   "outputs": [
    {
     "data": {
      "text/html": [
       "<div>\n",
       "<style scoped>\n",
       "    .dataframe tbody tr th:only-of-type {\n",
       "        vertical-align: middle;\n",
       "    }\n",
       "\n",
       "    .dataframe tbody tr th {\n",
       "        vertical-align: top;\n",
       "    }\n",
       "\n",
       "    .dataframe thead th {\n",
       "        text-align: right;\n",
       "    }\n",
       "</style>\n",
       "<table border=\"1\" class=\"dataframe\">\n",
       "  <thead>\n",
       "    <tr style=\"text-align: right;\">\n",
       "      <th></th>\n",
       "      <th>market</th>\n",
       "      <th>candle_date_time_kst</th>\n",
       "      <th>opening_price</th>\n",
       "      <th>high_price</th>\n",
       "      <th>low_price</th>\n",
       "      <th>trade_price</th>\n",
       "      <th>candle_acc_trade_price</th>\n",
       "      <th>candle_acc_trade_volume</th>\n",
       "    </tr>\n",
       "  </thead>\n",
       "  <tbody>\n",
       "    <tr>\n",
       "      <th>0</th>\n",
       "      <td>KRW-BTC</td>\n",
       "      <td>2021-11-15T09:00:00</td>\n",
       "      <td>79323000.0</td>\n",
       "      <td>80250000.0</td>\n",
       "      <td>79201000.0</td>\n",
       "      <td>79571000.0</td>\n",
       "      <td>1.592200e+11</td>\n",
       "      <td>1.998792e+03</td>\n",
       "    </tr>\n",
       "    <tr>\n",
       "      <th>1</th>\n",
       "      <td>KRW-BTC</td>\n",
       "      <td>2021-11-14T09:00:00</td>\n",
       "      <td>77867000.0</td>\n",
       "      <td>79350000.0</td>\n",
       "      <td>77579000.0</td>\n",
       "      <td>79310000.0</td>\n",
       "      <td>3.001073e+11</td>\n",
       "      <td>3.826417e+03</td>\n",
       "    </tr>\n",
       "    <tr>\n",
       "      <th>2</th>\n",
       "      <td>KRW-BTC</td>\n",
       "      <td>2021-11-13T09:00:00</td>\n",
       "      <td>78165000.0</td>\n",
       "      <td>78770000.0</td>\n",
       "      <td>77120000.0</td>\n",
       "      <td>77867000.0</td>\n",
       "      <td>3.385629e+11</td>\n",
       "      <td>4.350105e+03</td>\n",
       "    </tr>\n",
       "    <tr>\n",
       "      <th>3</th>\n",
       "      <td>KRW-BTC</td>\n",
       "      <td>2021-11-12T09:00:00</td>\n",
       "      <td>78938000.0</td>\n",
       "      <td>79100000.0</td>\n",
       "      <td>76712000.0</td>\n",
       "      <td>78165000.0</td>\n",
       "      <td>5.555562e+11</td>\n",
       "      <td>7.117165e+03</td>\n",
       "    </tr>\n",
       "    <tr>\n",
       "      <th>4</th>\n",
       "      <td>KRW-BTC</td>\n",
       "      <td>2021-11-11T09:00:00</td>\n",
       "      <td>79663000.0</td>\n",
       "      <td>79732000.0</td>\n",
       "      <td>78543000.0</td>\n",
       "      <td>78917000.0</td>\n",
       "      <td>5.667869e+11</td>\n",
       "      <td>7.167447e+03</td>\n",
       "    </tr>\n",
       "    <tr>\n",
       "      <th>...</th>\n",
       "      <td>...</td>\n",
       "      <td>...</td>\n",
       "      <td>...</td>\n",
       "      <td>...</td>\n",
       "      <td>...</td>\n",
       "      <td>...</td>\n",
       "      <td>...</td>\n",
       "      <td>...</td>\n",
       "    </tr>\n",
       "    <tr>\n",
       "      <th>195</th>\n",
       "      <td>KRW-XRP</td>\n",
       "      <td>2021-05-04T09:00:00</td>\n",
       "      <td>1905.0</td>\n",
       "      <td>1910.0</td>\n",
       "      <td>1675.0</td>\n",
       "      <td>1745.0</td>\n",
       "      <td>2.168980e+12</td>\n",
       "      <td>1.209373e+09</td>\n",
       "    </tr>\n",
       "    <tr>\n",
       "      <th>196</th>\n",
       "      <td>KRW-XRP</td>\n",
       "      <td>2021-05-03T09:00:00</td>\n",
       "      <td>1885.0</td>\n",
       "      <td>1955.0</td>\n",
       "      <td>1865.0</td>\n",
       "      <td>1905.0</td>\n",
       "      <td>1.084450e+12</td>\n",
       "      <td>5.689309e+08</td>\n",
       "    </tr>\n",
       "    <tr>\n",
       "      <th>197</th>\n",
       "      <td>KRW-XRP</td>\n",
       "      <td>2021-05-02T09:00:00</td>\n",
       "      <td>1970.0</td>\n",
       "      <td>1980.0</td>\n",
       "      <td>1820.0</td>\n",
       "      <td>1890.0</td>\n",
       "      <td>1.043192e+12</td>\n",
       "      <td>5.502377e+08</td>\n",
       "    </tr>\n",
       "    <tr>\n",
       "      <th>198</th>\n",
       "      <td>KRW-XRP</td>\n",
       "      <td>2021-05-01T09:00:00</td>\n",
       "      <td>1885.0</td>\n",
       "      <td>1995.0</td>\n",
       "      <td>1830.0</td>\n",
       "      <td>1965.0</td>\n",
       "      <td>1.212213e+12</td>\n",
       "      <td>6.393191e+08</td>\n",
       "    </tr>\n",
       "    <tr>\n",
       "      <th>199</th>\n",
       "      <td>KRW-XRP</td>\n",
       "      <td>2021-04-30T09:00:00</td>\n",
       "      <td>1660.0</td>\n",
       "      <td>1940.0</td>\n",
       "      <td>1640.0</td>\n",
       "      <td>1885.0</td>\n",
       "      <td>2.803543e+12</td>\n",
       "      <td>1.533607e+09</td>\n",
       "    </tr>\n",
       "  </tbody>\n",
       "</table>\n",
       "<p>600 rows × 8 columns</p>\n",
       "</div>"
      ],
      "text/plain": [
       "      market candle_date_time_kst  opening_price  high_price   low_price  \\\n",
       "0    KRW-BTC  2021-11-15T09:00:00     79323000.0  80250000.0  79201000.0   \n",
       "1    KRW-BTC  2021-11-14T09:00:00     77867000.0  79350000.0  77579000.0   \n",
       "2    KRW-BTC  2021-11-13T09:00:00     78165000.0  78770000.0  77120000.0   \n",
       "3    KRW-BTC  2021-11-12T09:00:00     78938000.0  79100000.0  76712000.0   \n",
       "4    KRW-BTC  2021-11-11T09:00:00     79663000.0  79732000.0  78543000.0   \n",
       "..       ...                  ...            ...         ...         ...   \n",
       "195  KRW-XRP  2021-05-04T09:00:00         1905.0      1910.0      1675.0   \n",
       "196  KRW-XRP  2021-05-03T09:00:00         1885.0      1955.0      1865.0   \n",
       "197  KRW-XRP  2021-05-02T09:00:00         1970.0      1980.0      1820.0   \n",
       "198  KRW-XRP  2021-05-01T09:00:00         1885.0      1995.0      1830.0   \n",
       "199  KRW-XRP  2021-04-30T09:00:00         1660.0      1940.0      1640.0   \n",
       "\n",
       "     trade_price  candle_acc_trade_price  candle_acc_trade_volume  \n",
       "0     79571000.0            1.592200e+11             1.998792e+03  \n",
       "1     79310000.0            3.001073e+11             3.826417e+03  \n",
       "2     77867000.0            3.385629e+11             4.350105e+03  \n",
       "3     78165000.0            5.555562e+11             7.117165e+03  \n",
       "4     78917000.0            5.667869e+11             7.167447e+03  \n",
       "..           ...                     ...                      ...  \n",
       "195       1745.0            2.168980e+12             1.209373e+09  \n",
       "196       1905.0            1.084450e+12             5.689309e+08  \n",
       "197       1890.0            1.043192e+12             5.502377e+08  \n",
       "198       1965.0            1.212213e+12             6.393191e+08  \n",
       "199       1885.0            2.803543e+12             1.533607e+09  \n",
       "\n",
       "[600 rows x 8 columns]"
      ]
     },
     "execution_count": 51,
     "metadata": {},
     "output_type": "execute_result"
    }
   ],
   "source": [
    "my_df = df[['market','candle_date_time_kst','opening_price','high_price','low_price','trade_price','candle_acc_trade_price','candle_acc_trade_volume']].copy()\n",
    "my_df"
   ]
  },
  {
   "cell_type": "code",
   "execution_count": 53,
   "metadata": {},
   "outputs": [],
   "source": [
    "my_df['market'] = my_df.market.str.replace('KRW-','')\n",
    "my_df['candle_date_time_kst'] = my_df.candle_date_time_kst.str.replace('T09:00:00','')"
   ]
  },
  {
   "cell_type": "code",
   "execution_count": 54,
   "metadata": {},
   "outputs": [
    {
     "data": {
      "text/html": [
       "<div>\n",
       "<style scoped>\n",
       "    .dataframe tbody tr th:only-of-type {\n",
       "        vertical-align: middle;\n",
       "    }\n",
       "\n",
       "    .dataframe tbody tr th {\n",
       "        vertical-align: top;\n",
       "    }\n",
       "\n",
       "    .dataframe thead th {\n",
       "        text-align: right;\n",
       "    }\n",
       "</style>\n",
       "<table border=\"1\" class=\"dataframe\">\n",
       "  <thead>\n",
       "    <tr style=\"text-align: right;\">\n",
       "      <th></th>\n",
       "      <th>market</th>\n",
       "      <th>candle_date_time_kst</th>\n",
       "      <th>opening_price</th>\n",
       "      <th>high_price</th>\n",
       "      <th>low_price</th>\n",
       "      <th>trade_price</th>\n",
       "      <th>candle_acc_trade_price</th>\n",
       "      <th>candle_acc_trade_volume</th>\n",
       "    </tr>\n",
       "  </thead>\n",
       "  <tbody>\n",
       "    <tr>\n",
       "      <th>0</th>\n",
       "      <td>BTC</td>\n",
       "      <td>2021-11-15</td>\n",
       "      <td>79323000.0</td>\n",
       "      <td>80250000.0</td>\n",
       "      <td>79201000.0</td>\n",
       "      <td>79571000.0</td>\n",
       "      <td>1.592200e+11</td>\n",
       "      <td>1.998792e+03</td>\n",
       "    </tr>\n",
       "    <tr>\n",
       "      <th>1</th>\n",
       "      <td>BTC</td>\n",
       "      <td>2021-11-14</td>\n",
       "      <td>77867000.0</td>\n",
       "      <td>79350000.0</td>\n",
       "      <td>77579000.0</td>\n",
       "      <td>79310000.0</td>\n",
       "      <td>3.001073e+11</td>\n",
       "      <td>3.826417e+03</td>\n",
       "    </tr>\n",
       "    <tr>\n",
       "      <th>2</th>\n",
       "      <td>BTC</td>\n",
       "      <td>2021-11-13</td>\n",
       "      <td>78165000.0</td>\n",
       "      <td>78770000.0</td>\n",
       "      <td>77120000.0</td>\n",
       "      <td>77867000.0</td>\n",
       "      <td>3.385629e+11</td>\n",
       "      <td>4.350105e+03</td>\n",
       "    </tr>\n",
       "    <tr>\n",
       "      <th>3</th>\n",
       "      <td>BTC</td>\n",
       "      <td>2021-11-12</td>\n",
       "      <td>78938000.0</td>\n",
       "      <td>79100000.0</td>\n",
       "      <td>76712000.0</td>\n",
       "      <td>78165000.0</td>\n",
       "      <td>5.555562e+11</td>\n",
       "      <td>7.117165e+03</td>\n",
       "    </tr>\n",
       "    <tr>\n",
       "      <th>4</th>\n",
       "      <td>BTC</td>\n",
       "      <td>2021-11-11</td>\n",
       "      <td>79663000.0</td>\n",
       "      <td>79732000.0</td>\n",
       "      <td>78543000.0</td>\n",
       "      <td>78917000.0</td>\n",
       "      <td>5.667869e+11</td>\n",
       "      <td>7.167447e+03</td>\n",
       "    </tr>\n",
       "    <tr>\n",
       "      <th>...</th>\n",
       "      <td>...</td>\n",
       "      <td>...</td>\n",
       "      <td>...</td>\n",
       "      <td>...</td>\n",
       "      <td>...</td>\n",
       "      <td>...</td>\n",
       "      <td>...</td>\n",
       "      <td>...</td>\n",
       "    </tr>\n",
       "    <tr>\n",
       "      <th>195</th>\n",
       "      <td>XRP</td>\n",
       "      <td>2021-05-04</td>\n",
       "      <td>1905.0</td>\n",
       "      <td>1910.0</td>\n",
       "      <td>1675.0</td>\n",
       "      <td>1745.0</td>\n",
       "      <td>2.168980e+12</td>\n",
       "      <td>1.209373e+09</td>\n",
       "    </tr>\n",
       "    <tr>\n",
       "      <th>196</th>\n",
       "      <td>XRP</td>\n",
       "      <td>2021-05-03</td>\n",
       "      <td>1885.0</td>\n",
       "      <td>1955.0</td>\n",
       "      <td>1865.0</td>\n",
       "      <td>1905.0</td>\n",
       "      <td>1.084450e+12</td>\n",
       "      <td>5.689309e+08</td>\n",
       "    </tr>\n",
       "    <tr>\n",
       "      <th>197</th>\n",
       "      <td>XRP</td>\n",
       "      <td>2021-05-02</td>\n",
       "      <td>1970.0</td>\n",
       "      <td>1980.0</td>\n",
       "      <td>1820.0</td>\n",
       "      <td>1890.0</td>\n",
       "      <td>1.043192e+12</td>\n",
       "      <td>5.502377e+08</td>\n",
       "    </tr>\n",
       "    <tr>\n",
       "      <th>198</th>\n",
       "      <td>XRP</td>\n",
       "      <td>2021-05-01</td>\n",
       "      <td>1885.0</td>\n",
       "      <td>1995.0</td>\n",
       "      <td>1830.0</td>\n",
       "      <td>1965.0</td>\n",
       "      <td>1.212213e+12</td>\n",
       "      <td>6.393191e+08</td>\n",
       "    </tr>\n",
       "    <tr>\n",
       "      <th>199</th>\n",
       "      <td>XRP</td>\n",
       "      <td>2021-04-30</td>\n",
       "      <td>1660.0</td>\n",
       "      <td>1940.0</td>\n",
       "      <td>1640.0</td>\n",
       "      <td>1885.0</td>\n",
       "      <td>2.803543e+12</td>\n",
       "      <td>1.533607e+09</td>\n",
       "    </tr>\n",
       "  </tbody>\n",
       "</table>\n",
       "<p>600 rows × 8 columns</p>\n",
       "</div>"
      ],
      "text/plain": [
       "    market candle_date_time_kst  opening_price  high_price   low_price  \\\n",
       "0      BTC           2021-11-15     79323000.0  80250000.0  79201000.0   \n",
       "1      BTC           2021-11-14     77867000.0  79350000.0  77579000.0   \n",
       "2      BTC           2021-11-13     78165000.0  78770000.0  77120000.0   \n",
       "3      BTC           2021-11-12     78938000.0  79100000.0  76712000.0   \n",
       "4      BTC           2021-11-11     79663000.0  79732000.0  78543000.0   \n",
       "..     ...                  ...            ...         ...         ...   \n",
       "195    XRP           2021-05-04         1905.0      1910.0      1675.0   \n",
       "196    XRP           2021-05-03         1885.0      1955.0      1865.0   \n",
       "197    XRP           2021-05-02         1970.0      1980.0      1820.0   \n",
       "198    XRP           2021-05-01         1885.0      1995.0      1830.0   \n",
       "199    XRP           2021-04-30         1660.0      1940.0      1640.0   \n",
       "\n",
       "     trade_price  candle_acc_trade_price  candle_acc_trade_volume  \n",
       "0     79571000.0            1.592200e+11             1.998792e+03  \n",
       "1     79310000.0            3.001073e+11             3.826417e+03  \n",
       "2     77867000.0            3.385629e+11             4.350105e+03  \n",
       "3     78165000.0            5.555562e+11             7.117165e+03  \n",
       "4     78917000.0            5.667869e+11             7.167447e+03  \n",
       "..           ...                     ...                      ...  \n",
       "195       1745.0            2.168980e+12             1.209373e+09  \n",
       "196       1905.0            1.084450e+12             5.689309e+08  \n",
       "197       1890.0            1.043192e+12             5.502377e+08  \n",
       "198       1965.0            1.212213e+12             6.393191e+08  \n",
       "199       1885.0            2.803543e+12             1.533607e+09  \n",
       "\n",
       "[600 rows x 8 columns]"
      ]
     },
     "execution_count": 54,
     "metadata": {},
     "output_type": "execute_result"
    }
   ],
   "source": [
    "my_df"
   ]
  },
  {
   "cell_type": "markdown",
   "metadata": {},
   "source": [
    "## Plotly\n",
    "- conda install plotly"
   ]
  },
  {
   "cell_type": "code",
   "execution_count": 55,
   "metadata": {},
   "outputs": [],
   "source": [
    "import plotly\n",
    "import plotly.graph_objs as go"
   ]
  },
  {
   "cell_type": "code",
   "execution_count": 57,
   "metadata": {},
   "outputs": [
    {
     "data": {
      "text/html": [
       "        <script type=\"text/javascript\">\n",
       "        window.PlotlyConfig = {MathJaxConfig: 'local'};\n",
       "        if (window.MathJax) {MathJax.Hub.Config({SVG: {font: \"STIX-Web\"}});}\n",
       "        if (typeof require !== 'undefined') {\n",
       "        require.undef(\"plotly\");\n",
       "        requirejs.config({\n",
       "            paths: {\n",
       "                'plotly': ['https://cdn.plot.ly/plotly-2.4.2.min']\n",
       "            }\n",
       "        });\n",
       "        require(['plotly'], function(Plotly) {\n",
       "            window._Plotly = Plotly;\n",
       "        });\n",
       "        }\n",
       "        </script>\n",
       "        "
      ]
     },
     "metadata": {},
     "output_type": "display_data"
    }
   ],
   "source": [
    "plotly.offline.init_notebook_mode(connected=True)"
   ]
  },
  {
   "cell_type": "code",
   "execution_count": 58,
   "metadata": {
    "scrolled": true
   },
   "outputs": [
    {
     "name": "stdout",
     "output_type": "stream",
     "text": [
      "Help on function iplot in module plotly.offline.offline:\n",
      "\n",
      "iplot(figure_or_data, show_link=False, link_text='Export to plot.ly', validate=True, image=None, filename='plot_image', image_width=800, image_height=600, config=None, auto_play=True, animation_opts=None)\n",
      "    Draw plotly graphs inside an IPython or Jupyter notebook\n",
      "    \n",
      "    figure_or_data -- a plotly.graph_objs.Figure or plotly.graph_objs.Data or\n",
      "                      dict or list that describes a Plotly graph.\n",
      "                      See https://plot.ly/python/ for examples of\n",
      "                      graph descriptions.\n",
      "    \n",
      "    Keyword arguments:\n",
      "    show_link (default=False) -- display a link in the bottom-right corner of\n",
      "                                of the chart that will export the chart to\n",
      "                                Plotly Cloud or Plotly Enterprise\n",
      "    link_text (default='Export to plot.ly') -- the text of export link\n",
      "    validate (default=True) -- validate that all of the keys in the figure\n",
      "                               are valid? omit if your version of plotly.js\n",
      "                               has become outdated with your version of\n",
      "                               graph_reference.json or if you need to include\n",
      "                               extra, unnecessary keys in your figure.\n",
      "    image (default=None |'png' |'jpeg' |'svg' |'webp') -- This parameter sets\n",
      "        the format of the image to be downloaded, if we choose to download an\n",
      "        image. This parameter has a default value of None indicating that no\n",
      "        image should be downloaded. Please note: for higher resolution images\n",
      "        and more export options, consider using plotly.io.write_image. See\n",
      "        https://plot.ly/python/static-image-export/ for more details.\n",
      "    filename (default='plot') -- Sets the name of the file your image\n",
      "        will be saved to. The extension should not be included.\n",
      "    image_height (default=600) -- Specifies the height of the image in `px`.\n",
      "    image_width (default=800) -- Specifies the width of the image in `px`.\n",
      "    config (default=None) -- Plot view options dictionary. Keyword arguments\n",
      "        `show_link` and `link_text` set the associated options in this\n",
      "        dictionary if it doesn't contain them already.\n",
      "    auto_play (default=True) -- Whether to automatically start the animation\n",
      "        sequence on page load, if the figure contains frames. Has no effect if\n",
      "        the figure does not contain frames.\n",
      "    animation_opts (default=None) -- Dict of custom animation parameters that\n",
      "        are used for the automatically started animation on page load. This\n",
      "        dict is passed to the function Plotly.animate in Plotly.js. See\n",
      "        https://github.com/plotly/plotly.js/blob/master/src/plots/animation_attributes.js\n",
      "        for available options. Has no effect if the figure\n",
      "        does not contain frames, or auto_play is False.\n",
      "    \n",
      "    Example:\n",
      "    ```\n",
      "    from plotly.offline import init_notebook_mode, iplot\n",
      "    init_notebook_mode()\n",
      "    iplot([{'x': [1, 2, 3], 'y': [5, 2, 7]}])\n",
      "    # We can also download an image of the plot by setting the image to the\n",
      "    format you want. e.g. `image='png'`\n",
      "    iplot([{'x': [1, 2, 3], 'y': [5, 2, 7]}], image='png')\n",
      "    ```\n",
      "    \n",
      "    animation_opts Example:\n",
      "    ```\n",
      "    from plotly.offline import iplot\n",
      "    figure = {'data': [{'x': [0, 1], 'y': [0, 1]}],\n",
      "              'layout': {'xaxis': {'range': [0, 5], 'autorange': False},\n",
      "                         'yaxis': {'range': [0, 5], 'autorange': False},\n",
      "                         'title': 'Start Title'},\n",
      "              'frames': [{'data': [{'x': [1, 2], 'y': [1, 2]}]},\n",
      "                         {'data': [{'x': [1, 4], 'y': [1, 4]}]},\n",
      "                         {'data': [{'x': [3, 4], 'y': [3, 4]}],\n",
      "                          'layout': {'title': 'End Title'}}]}\n",
      "    iplot(figure, animation_opts={'frame': {'duration': 1}})\n",
      "    ```\n",
      "\n"
     ]
    }
   ],
   "source": [
    "help(plotly.offline.iplot)"
   ]
  },
  {
   "cell_type": "code",
   "execution_count": 61,
   "metadata": {},
   "outputs": [
    {
     "data": {
      "application/vnd.plotly.v1+json": {
       "config": {
        "linkText": "Export to plot.ly",
        "plotlyServerURL": "https://plot.ly",
        "showLink": false
       },
       "data": [
        {
         "type": "scatter",
         "x": [
          1,
          2,
          3,
          4
         ],
         "y": [
          4,
          3,
          2,
          1
         ]
        }
       ],
       "layout": {
        "template": {
         "data": {
          "bar": [
           {
            "error_x": {
             "color": "#2a3f5f"
            },
            "error_y": {
             "color": "#2a3f5f"
            },
            "marker": {
             "line": {
              "color": "#E5ECF6",
              "width": 0.5
             },
             "pattern": {
              "fillmode": "overlay",
              "size": 10,
              "solidity": 0.2
             }
            },
            "type": "bar"
           }
          ],
          "barpolar": [
           {
            "marker": {
             "line": {
              "color": "#E5ECF6",
              "width": 0.5
             },
             "pattern": {
              "fillmode": "overlay",
              "size": 10,
              "solidity": 0.2
             }
            },
            "type": "barpolar"
           }
          ],
          "carpet": [
           {
            "aaxis": {
             "endlinecolor": "#2a3f5f",
             "gridcolor": "white",
             "linecolor": "white",
             "minorgridcolor": "white",
             "startlinecolor": "#2a3f5f"
            },
            "baxis": {
             "endlinecolor": "#2a3f5f",
             "gridcolor": "white",
             "linecolor": "white",
             "minorgridcolor": "white",
             "startlinecolor": "#2a3f5f"
            },
            "type": "carpet"
           }
          ],
          "choropleth": [
           {
            "colorbar": {
             "outlinewidth": 0,
             "ticks": ""
            },
            "type": "choropleth"
           }
          ],
          "contour": [
           {
            "colorbar": {
             "outlinewidth": 0,
             "ticks": ""
            },
            "colorscale": [
             [
              0,
              "#0d0887"
             ],
             [
              0.1111111111111111,
              "#46039f"
             ],
             [
              0.2222222222222222,
              "#7201a8"
             ],
             [
              0.3333333333333333,
              "#9c179e"
             ],
             [
              0.4444444444444444,
              "#bd3786"
             ],
             [
              0.5555555555555556,
              "#d8576b"
             ],
             [
              0.6666666666666666,
              "#ed7953"
             ],
             [
              0.7777777777777778,
              "#fb9f3a"
             ],
             [
              0.8888888888888888,
              "#fdca26"
             ],
             [
              1,
              "#f0f921"
             ]
            ],
            "type": "contour"
           }
          ],
          "contourcarpet": [
           {
            "colorbar": {
             "outlinewidth": 0,
             "ticks": ""
            },
            "type": "contourcarpet"
           }
          ],
          "heatmap": [
           {
            "colorbar": {
             "outlinewidth": 0,
             "ticks": ""
            },
            "colorscale": [
             [
              0,
              "#0d0887"
             ],
             [
              0.1111111111111111,
              "#46039f"
             ],
             [
              0.2222222222222222,
              "#7201a8"
             ],
             [
              0.3333333333333333,
              "#9c179e"
             ],
             [
              0.4444444444444444,
              "#bd3786"
             ],
             [
              0.5555555555555556,
              "#d8576b"
             ],
             [
              0.6666666666666666,
              "#ed7953"
             ],
             [
              0.7777777777777778,
              "#fb9f3a"
             ],
             [
              0.8888888888888888,
              "#fdca26"
             ],
             [
              1,
              "#f0f921"
             ]
            ],
            "type": "heatmap"
           }
          ],
          "heatmapgl": [
           {
            "colorbar": {
             "outlinewidth": 0,
             "ticks": ""
            },
            "colorscale": [
             [
              0,
              "#0d0887"
             ],
             [
              0.1111111111111111,
              "#46039f"
             ],
             [
              0.2222222222222222,
              "#7201a8"
             ],
             [
              0.3333333333333333,
              "#9c179e"
             ],
             [
              0.4444444444444444,
              "#bd3786"
             ],
             [
              0.5555555555555556,
              "#d8576b"
             ],
             [
              0.6666666666666666,
              "#ed7953"
             ],
             [
              0.7777777777777778,
              "#fb9f3a"
             ],
             [
              0.8888888888888888,
              "#fdca26"
             ],
             [
              1,
              "#f0f921"
             ]
            ],
            "type": "heatmapgl"
           }
          ],
          "histogram": [
           {
            "marker": {
             "pattern": {
              "fillmode": "overlay",
              "size": 10,
              "solidity": 0.2
             }
            },
            "type": "histogram"
           }
          ],
          "histogram2d": [
           {
            "colorbar": {
             "outlinewidth": 0,
             "ticks": ""
            },
            "colorscale": [
             [
              0,
              "#0d0887"
             ],
             [
              0.1111111111111111,
              "#46039f"
             ],
             [
              0.2222222222222222,
              "#7201a8"
             ],
             [
              0.3333333333333333,
              "#9c179e"
             ],
             [
              0.4444444444444444,
              "#bd3786"
             ],
             [
              0.5555555555555556,
              "#d8576b"
             ],
             [
              0.6666666666666666,
              "#ed7953"
             ],
             [
              0.7777777777777778,
              "#fb9f3a"
             ],
             [
              0.8888888888888888,
              "#fdca26"
             ],
             [
              1,
              "#f0f921"
             ]
            ],
            "type": "histogram2d"
           }
          ],
          "histogram2dcontour": [
           {
            "colorbar": {
             "outlinewidth": 0,
             "ticks": ""
            },
            "colorscale": [
             [
              0,
              "#0d0887"
             ],
             [
              0.1111111111111111,
              "#46039f"
             ],
             [
              0.2222222222222222,
              "#7201a8"
             ],
             [
              0.3333333333333333,
              "#9c179e"
             ],
             [
              0.4444444444444444,
              "#bd3786"
             ],
             [
              0.5555555555555556,
              "#d8576b"
             ],
             [
              0.6666666666666666,
              "#ed7953"
             ],
             [
              0.7777777777777778,
              "#fb9f3a"
             ],
             [
              0.8888888888888888,
              "#fdca26"
             ],
             [
              1,
              "#f0f921"
             ]
            ],
            "type": "histogram2dcontour"
           }
          ],
          "mesh3d": [
           {
            "colorbar": {
             "outlinewidth": 0,
             "ticks": ""
            },
            "type": "mesh3d"
           }
          ],
          "parcoords": [
           {
            "line": {
             "colorbar": {
              "outlinewidth": 0,
              "ticks": ""
             }
            },
            "type": "parcoords"
           }
          ],
          "pie": [
           {
            "automargin": true,
            "type": "pie"
           }
          ],
          "scatter": [
           {
            "marker": {
             "colorbar": {
              "outlinewidth": 0,
              "ticks": ""
             }
            },
            "type": "scatter"
           }
          ],
          "scatter3d": [
           {
            "line": {
             "colorbar": {
              "outlinewidth": 0,
              "ticks": ""
             }
            },
            "marker": {
             "colorbar": {
              "outlinewidth": 0,
              "ticks": ""
             }
            },
            "type": "scatter3d"
           }
          ],
          "scattercarpet": [
           {
            "marker": {
             "colorbar": {
              "outlinewidth": 0,
              "ticks": ""
             }
            },
            "type": "scattercarpet"
           }
          ],
          "scattergeo": [
           {
            "marker": {
             "colorbar": {
              "outlinewidth": 0,
              "ticks": ""
             }
            },
            "type": "scattergeo"
           }
          ],
          "scattergl": [
           {
            "marker": {
             "colorbar": {
              "outlinewidth": 0,
              "ticks": ""
             }
            },
            "type": "scattergl"
           }
          ],
          "scattermapbox": [
           {
            "marker": {
             "colorbar": {
              "outlinewidth": 0,
              "ticks": ""
             }
            },
            "type": "scattermapbox"
           }
          ],
          "scatterpolar": [
           {
            "marker": {
             "colorbar": {
              "outlinewidth": 0,
              "ticks": ""
             }
            },
            "type": "scatterpolar"
           }
          ],
          "scatterpolargl": [
           {
            "marker": {
             "colorbar": {
              "outlinewidth": 0,
              "ticks": ""
             }
            },
            "type": "scatterpolargl"
           }
          ],
          "scatterternary": [
           {
            "marker": {
             "colorbar": {
              "outlinewidth": 0,
              "ticks": ""
             }
            },
            "type": "scatterternary"
           }
          ],
          "surface": [
           {
            "colorbar": {
             "outlinewidth": 0,
             "ticks": ""
            },
            "colorscale": [
             [
              0,
              "#0d0887"
             ],
             [
              0.1111111111111111,
              "#46039f"
             ],
             [
              0.2222222222222222,
              "#7201a8"
             ],
             [
              0.3333333333333333,
              "#9c179e"
             ],
             [
              0.4444444444444444,
              "#bd3786"
             ],
             [
              0.5555555555555556,
              "#d8576b"
             ],
             [
              0.6666666666666666,
              "#ed7953"
             ],
             [
              0.7777777777777778,
              "#fb9f3a"
             ],
             [
              0.8888888888888888,
              "#fdca26"
             ],
             [
              1,
              "#f0f921"
             ]
            ],
            "type": "surface"
           }
          ],
          "table": [
           {
            "cells": {
             "fill": {
              "color": "#EBF0F8"
             },
             "line": {
              "color": "white"
             }
            },
            "header": {
             "fill": {
              "color": "#C8D4E3"
             },
             "line": {
              "color": "white"
             }
            },
            "type": "table"
           }
          ]
         },
         "layout": {
          "annotationdefaults": {
           "arrowcolor": "#2a3f5f",
           "arrowhead": 0,
           "arrowwidth": 1
          },
          "autotypenumbers": "strict",
          "coloraxis": {
           "colorbar": {
            "outlinewidth": 0,
            "ticks": ""
           }
          },
          "colorscale": {
           "diverging": [
            [
             0,
             "#8e0152"
            ],
            [
             0.1,
             "#c51b7d"
            ],
            [
             0.2,
             "#de77ae"
            ],
            [
             0.3,
             "#f1b6da"
            ],
            [
             0.4,
             "#fde0ef"
            ],
            [
             0.5,
             "#f7f7f7"
            ],
            [
             0.6,
             "#e6f5d0"
            ],
            [
             0.7,
             "#b8e186"
            ],
            [
             0.8,
             "#7fbc41"
            ],
            [
             0.9,
             "#4d9221"
            ],
            [
             1,
             "#276419"
            ]
           ],
           "sequential": [
            [
             0,
             "#0d0887"
            ],
            [
             0.1111111111111111,
             "#46039f"
            ],
            [
             0.2222222222222222,
             "#7201a8"
            ],
            [
             0.3333333333333333,
             "#9c179e"
            ],
            [
             0.4444444444444444,
             "#bd3786"
            ],
            [
             0.5555555555555556,
             "#d8576b"
            ],
            [
             0.6666666666666666,
             "#ed7953"
            ],
            [
             0.7777777777777778,
             "#fb9f3a"
            ],
            [
             0.8888888888888888,
             "#fdca26"
            ],
            [
             1,
             "#f0f921"
            ]
           ],
           "sequentialminus": [
            [
             0,
             "#0d0887"
            ],
            [
             0.1111111111111111,
             "#46039f"
            ],
            [
             0.2222222222222222,
             "#7201a8"
            ],
            [
             0.3333333333333333,
             "#9c179e"
            ],
            [
             0.4444444444444444,
             "#bd3786"
            ],
            [
             0.5555555555555556,
             "#d8576b"
            ],
            [
             0.6666666666666666,
             "#ed7953"
            ],
            [
             0.7777777777777778,
             "#fb9f3a"
            ],
            [
             0.8888888888888888,
             "#fdca26"
            ],
            [
             1,
             "#f0f921"
            ]
           ]
          },
          "colorway": [
           "#636efa",
           "#EF553B",
           "#00cc96",
           "#ab63fa",
           "#FFA15A",
           "#19d3f3",
           "#FF6692",
           "#B6E880",
           "#FF97FF",
           "#FECB52"
          ],
          "font": {
           "color": "#2a3f5f"
          },
          "geo": {
           "bgcolor": "white",
           "lakecolor": "white",
           "landcolor": "#E5ECF6",
           "showlakes": true,
           "showland": true,
           "subunitcolor": "white"
          },
          "hoverlabel": {
           "align": "left"
          },
          "hovermode": "closest",
          "mapbox": {
           "style": "light"
          },
          "paper_bgcolor": "white",
          "plot_bgcolor": "#E5ECF6",
          "polar": {
           "angularaxis": {
            "gridcolor": "white",
            "linecolor": "white",
            "ticks": ""
           },
           "bgcolor": "#E5ECF6",
           "radialaxis": {
            "gridcolor": "white",
            "linecolor": "white",
            "ticks": ""
           }
          },
          "scene": {
           "xaxis": {
            "backgroundcolor": "#E5ECF6",
            "gridcolor": "white",
            "gridwidth": 2,
            "linecolor": "white",
            "showbackground": true,
            "ticks": "",
            "zerolinecolor": "white"
           },
           "yaxis": {
            "backgroundcolor": "#E5ECF6",
            "gridcolor": "white",
            "gridwidth": 2,
            "linecolor": "white",
            "showbackground": true,
            "ticks": "",
            "zerolinecolor": "white"
           },
           "zaxis": {
            "backgroundcolor": "#E5ECF6",
            "gridcolor": "white",
            "gridwidth": 2,
            "linecolor": "white",
            "showbackground": true,
            "ticks": "",
            "zerolinecolor": "white"
           }
          },
          "shapedefaults": {
           "line": {
            "color": "#2a3f5f"
           }
          },
          "ternary": {
           "aaxis": {
            "gridcolor": "white",
            "linecolor": "white",
            "ticks": ""
           },
           "baxis": {
            "gridcolor": "white",
            "linecolor": "white",
            "ticks": ""
           },
           "bgcolor": "#E5ECF6",
           "caxis": {
            "gridcolor": "white",
            "linecolor": "white",
            "ticks": ""
           }
          },
          "title": {
           "x": 0.05
          },
          "xaxis": {
           "automargin": true,
           "gridcolor": "white",
           "linecolor": "white",
           "ticks": "",
           "title": {
            "standoff": 15
           },
           "zerolinecolor": "white",
           "zerolinewidth": 2
          },
          "yaxis": {
           "automargin": true,
           "gridcolor": "white",
           "linecolor": "white",
           "ticks": "",
           "title": {
            "standoff": 15
           },
           "zerolinecolor": "white",
           "zerolinewidth": 2
          }
         }
        },
        "title": {
         "text": "hello world"
        }
       }
      },
      "text/html": [
       "<div>                            <div id=\"7aa6bbdb-00fd-44f4-8092-18876db4052e\" class=\"plotly-graph-div\" style=\"height:525px; width:100%;\"></div>            <script type=\"text/javascript\">                require([\"plotly\"], function(Plotly) {                    window.PLOTLYENV=window.PLOTLYENV || {};                                    if (document.getElementById(\"7aa6bbdb-00fd-44f4-8092-18876db4052e\")) {                    Plotly.newPlot(                        \"7aa6bbdb-00fd-44f4-8092-18876db4052e\",                        [{\"type\":\"scatter\",\"x\":[1,2,3,4],\"y\":[4,3,2,1]}],                        {\"template\":{\"data\":{\"bar\":[{\"error_x\":{\"color\":\"#2a3f5f\"},\"error_y\":{\"color\":\"#2a3f5f\"},\"marker\":{\"line\":{\"color\":\"#E5ECF6\",\"width\":0.5},\"pattern\":{\"fillmode\":\"overlay\",\"size\":10,\"solidity\":0.2}},\"type\":\"bar\"}],\"barpolar\":[{\"marker\":{\"line\":{\"color\":\"#E5ECF6\",\"width\":0.5},\"pattern\":{\"fillmode\":\"overlay\",\"size\":10,\"solidity\":0.2}},\"type\":\"barpolar\"}],\"carpet\":[{\"aaxis\":{\"endlinecolor\":\"#2a3f5f\",\"gridcolor\":\"white\",\"linecolor\":\"white\",\"minorgridcolor\":\"white\",\"startlinecolor\":\"#2a3f5f\"},\"baxis\":{\"endlinecolor\":\"#2a3f5f\",\"gridcolor\":\"white\",\"linecolor\":\"white\",\"minorgridcolor\":\"white\",\"startlinecolor\":\"#2a3f5f\"},\"type\":\"carpet\"}],\"choropleth\":[{\"colorbar\":{\"outlinewidth\":0,\"ticks\":\"\"},\"type\":\"choropleth\"}],\"contour\":[{\"colorbar\":{\"outlinewidth\":0,\"ticks\":\"\"},\"colorscale\":[[0.0,\"#0d0887\"],[0.1111111111111111,\"#46039f\"],[0.2222222222222222,\"#7201a8\"],[0.3333333333333333,\"#9c179e\"],[0.4444444444444444,\"#bd3786\"],[0.5555555555555556,\"#d8576b\"],[0.6666666666666666,\"#ed7953\"],[0.7777777777777778,\"#fb9f3a\"],[0.8888888888888888,\"#fdca26\"],[1.0,\"#f0f921\"]],\"type\":\"contour\"}],\"contourcarpet\":[{\"colorbar\":{\"outlinewidth\":0,\"ticks\":\"\"},\"type\":\"contourcarpet\"}],\"heatmap\":[{\"colorbar\":{\"outlinewidth\":0,\"ticks\":\"\"},\"colorscale\":[[0.0,\"#0d0887\"],[0.1111111111111111,\"#46039f\"],[0.2222222222222222,\"#7201a8\"],[0.3333333333333333,\"#9c179e\"],[0.4444444444444444,\"#bd3786\"],[0.5555555555555556,\"#d8576b\"],[0.6666666666666666,\"#ed7953\"],[0.7777777777777778,\"#fb9f3a\"],[0.8888888888888888,\"#fdca26\"],[1.0,\"#f0f921\"]],\"type\":\"heatmap\"}],\"heatmapgl\":[{\"colorbar\":{\"outlinewidth\":0,\"ticks\":\"\"},\"colorscale\":[[0.0,\"#0d0887\"],[0.1111111111111111,\"#46039f\"],[0.2222222222222222,\"#7201a8\"],[0.3333333333333333,\"#9c179e\"],[0.4444444444444444,\"#bd3786\"],[0.5555555555555556,\"#d8576b\"],[0.6666666666666666,\"#ed7953\"],[0.7777777777777778,\"#fb9f3a\"],[0.8888888888888888,\"#fdca26\"],[1.0,\"#f0f921\"]],\"type\":\"heatmapgl\"}],\"histogram\":[{\"marker\":{\"pattern\":{\"fillmode\":\"overlay\",\"size\":10,\"solidity\":0.2}},\"type\":\"histogram\"}],\"histogram2d\":[{\"colorbar\":{\"outlinewidth\":0,\"ticks\":\"\"},\"colorscale\":[[0.0,\"#0d0887\"],[0.1111111111111111,\"#46039f\"],[0.2222222222222222,\"#7201a8\"],[0.3333333333333333,\"#9c179e\"],[0.4444444444444444,\"#bd3786\"],[0.5555555555555556,\"#d8576b\"],[0.6666666666666666,\"#ed7953\"],[0.7777777777777778,\"#fb9f3a\"],[0.8888888888888888,\"#fdca26\"],[1.0,\"#f0f921\"]],\"type\":\"histogram2d\"}],\"histogram2dcontour\":[{\"colorbar\":{\"outlinewidth\":0,\"ticks\":\"\"},\"colorscale\":[[0.0,\"#0d0887\"],[0.1111111111111111,\"#46039f\"],[0.2222222222222222,\"#7201a8\"],[0.3333333333333333,\"#9c179e\"],[0.4444444444444444,\"#bd3786\"],[0.5555555555555556,\"#d8576b\"],[0.6666666666666666,\"#ed7953\"],[0.7777777777777778,\"#fb9f3a\"],[0.8888888888888888,\"#fdca26\"],[1.0,\"#f0f921\"]],\"type\":\"histogram2dcontour\"}],\"mesh3d\":[{\"colorbar\":{\"outlinewidth\":0,\"ticks\":\"\"},\"type\":\"mesh3d\"}],\"parcoords\":[{\"line\":{\"colorbar\":{\"outlinewidth\":0,\"ticks\":\"\"}},\"type\":\"parcoords\"}],\"pie\":[{\"automargin\":true,\"type\":\"pie\"}],\"scatter\":[{\"marker\":{\"colorbar\":{\"outlinewidth\":0,\"ticks\":\"\"}},\"type\":\"scatter\"}],\"scatter3d\":[{\"line\":{\"colorbar\":{\"outlinewidth\":0,\"ticks\":\"\"}},\"marker\":{\"colorbar\":{\"outlinewidth\":0,\"ticks\":\"\"}},\"type\":\"scatter3d\"}],\"scattercarpet\":[{\"marker\":{\"colorbar\":{\"outlinewidth\":0,\"ticks\":\"\"}},\"type\":\"scattercarpet\"}],\"scattergeo\":[{\"marker\":{\"colorbar\":{\"outlinewidth\":0,\"ticks\":\"\"}},\"type\":\"scattergeo\"}],\"scattergl\":[{\"marker\":{\"colorbar\":{\"outlinewidth\":0,\"ticks\":\"\"}},\"type\":\"scattergl\"}],\"scattermapbox\":[{\"marker\":{\"colorbar\":{\"outlinewidth\":0,\"ticks\":\"\"}},\"type\":\"scattermapbox\"}],\"scatterpolar\":[{\"marker\":{\"colorbar\":{\"outlinewidth\":0,\"ticks\":\"\"}},\"type\":\"scatterpolar\"}],\"scatterpolargl\":[{\"marker\":{\"colorbar\":{\"outlinewidth\":0,\"ticks\":\"\"}},\"type\":\"scatterpolargl\"}],\"scatterternary\":[{\"marker\":{\"colorbar\":{\"outlinewidth\":0,\"ticks\":\"\"}},\"type\":\"scatterternary\"}],\"surface\":[{\"colorbar\":{\"outlinewidth\":0,\"ticks\":\"\"},\"colorscale\":[[0.0,\"#0d0887\"],[0.1111111111111111,\"#46039f\"],[0.2222222222222222,\"#7201a8\"],[0.3333333333333333,\"#9c179e\"],[0.4444444444444444,\"#bd3786\"],[0.5555555555555556,\"#d8576b\"],[0.6666666666666666,\"#ed7953\"],[0.7777777777777778,\"#fb9f3a\"],[0.8888888888888888,\"#fdca26\"],[1.0,\"#f0f921\"]],\"type\":\"surface\"}],\"table\":[{\"cells\":{\"fill\":{\"color\":\"#EBF0F8\"},\"line\":{\"color\":\"white\"}},\"header\":{\"fill\":{\"color\":\"#C8D4E3\"},\"line\":{\"color\":\"white\"}},\"type\":\"table\"}]},\"layout\":{\"annotationdefaults\":{\"arrowcolor\":\"#2a3f5f\",\"arrowhead\":0,\"arrowwidth\":1},\"autotypenumbers\":\"strict\",\"coloraxis\":{\"colorbar\":{\"outlinewidth\":0,\"ticks\":\"\"}},\"colorscale\":{\"diverging\":[[0,\"#8e0152\"],[0.1,\"#c51b7d\"],[0.2,\"#de77ae\"],[0.3,\"#f1b6da\"],[0.4,\"#fde0ef\"],[0.5,\"#f7f7f7\"],[0.6,\"#e6f5d0\"],[0.7,\"#b8e186\"],[0.8,\"#7fbc41\"],[0.9,\"#4d9221\"],[1,\"#276419\"]],\"sequential\":[[0.0,\"#0d0887\"],[0.1111111111111111,\"#46039f\"],[0.2222222222222222,\"#7201a8\"],[0.3333333333333333,\"#9c179e\"],[0.4444444444444444,\"#bd3786\"],[0.5555555555555556,\"#d8576b\"],[0.6666666666666666,\"#ed7953\"],[0.7777777777777778,\"#fb9f3a\"],[0.8888888888888888,\"#fdca26\"],[1.0,\"#f0f921\"]],\"sequentialminus\":[[0.0,\"#0d0887\"],[0.1111111111111111,\"#46039f\"],[0.2222222222222222,\"#7201a8\"],[0.3333333333333333,\"#9c179e\"],[0.4444444444444444,\"#bd3786\"],[0.5555555555555556,\"#d8576b\"],[0.6666666666666666,\"#ed7953\"],[0.7777777777777778,\"#fb9f3a\"],[0.8888888888888888,\"#fdca26\"],[1.0,\"#f0f921\"]]},\"colorway\":[\"#636efa\",\"#EF553B\",\"#00cc96\",\"#ab63fa\",\"#FFA15A\",\"#19d3f3\",\"#FF6692\",\"#B6E880\",\"#FF97FF\",\"#FECB52\"],\"font\":{\"color\":\"#2a3f5f\"},\"geo\":{\"bgcolor\":\"white\",\"lakecolor\":\"white\",\"landcolor\":\"#E5ECF6\",\"showlakes\":true,\"showland\":true,\"subunitcolor\":\"white\"},\"hoverlabel\":{\"align\":\"left\"},\"hovermode\":\"closest\",\"mapbox\":{\"style\":\"light\"},\"paper_bgcolor\":\"white\",\"plot_bgcolor\":\"#E5ECF6\",\"polar\":{\"angularaxis\":{\"gridcolor\":\"white\",\"linecolor\":\"white\",\"ticks\":\"\"},\"bgcolor\":\"#E5ECF6\",\"radialaxis\":{\"gridcolor\":\"white\",\"linecolor\":\"white\",\"ticks\":\"\"}},\"scene\":{\"xaxis\":{\"backgroundcolor\":\"#E5ECF6\",\"gridcolor\":\"white\",\"gridwidth\":2,\"linecolor\":\"white\",\"showbackground\":true,\"ticks\":\"\",\"zerolinecolor\":\"white\"},\"yaxis\":{\"backgroundcolor\":\"#E5ECF6\",\"gridcolor\":\"white\",\"gridwidth\":2,\"linecolor\":\"white\",\"showbackground\":true,\"ticks\":\"\",\"zerolinecolor\":\"white\"},\"zaxis\":{\"backgroundcolor\":\"#E5ECF6\",\"gridcolor\":\"white\",\"gridwidth\":2,\"linecolor\":\"white\",\"showbackground\":true,\"ticks\":\"\",\"zerolinecolor\":\"white\"}},\"shapedefaults\":{\"line\":{\"color\":\"#2a3f5f\"}},\"ternary\":{\"aaxis\":{\"gridcolor\":\"white\",\"linecolor\":\"white\",\"ticks\":\"\"},\"baxis\":{\"gridcolor\":\"white\",\"linecolor\":\"white\",\"ticks\":\"\"},\"bgcolor\":\"#E5ECF6\",\"caxis\":{\"gridcolor\":\"white\",\"linecolor\":\"white\",\"ticks\":\"\"}},\"title\":{\"x\":0.05},\"xaxis\":{\"automargin\":true,\"gridcolor\":\"white\",\"linecolor\":\"white\",\"ticks\":\"\",\"title\":{\"standoff\":15},\"zerolinecolor\":\"white\",\"zerolinewidth\":2},\"yaxis\":{\"automargin\":true,\"gridcolor\":\"white\",\"linecolor\":\"white\",\"ticks\":\"\",\"title\":{\"standoff\":15},\"zerolinecolor\":\"white\",\"zerolinewidth\":2}}},\"title\":{\"text\":\"hello world\"}},                        {\"responsive\": true}                    ).then(function(){\n",
       "                            \n",
       "var gd = document.getElementById('7aa6bbdb-00fd-44f4-8092-18876db4052e');\n",
       "var x = new MutationObserver(function (mutations, observer) {{\n",
       "        var display = window.getComputedStyle(gd).display;\n",
       "        if (!display || display === 'none') {{\n",
       "            console.log([gd, 'removed!']);\n",
       "            Plotly.purge(gd);\n",
       "            observer.disconnect();\n",
       "        }}\n",
       "}});\n",
       "\n",
       "// Listen for the removal of the full notebook cells\n",
       "var notebookContainer = gd.closest('#notebook-container');\n",
       "if (notebookContainer) {{\n",
       "    x.observe(notebookContainer, {childList: true});\n",
       "}}\n",
       "\n",
       "// Listen for the clearing of the current output cell\n",
       "var outputEl = gd.closest('.output');\n",
       "if (outputEl) {{\n",
       "    x.observe(outputEl, {childList: true});\n",
       "}}\n",
       "\n",
       "                        })                };                });            </script>        </div>"
      ]
     },
     "metadata": {},
     "output_type": "display_data"
    }
   ],
   "source": [
    "plotly.offline.iplot({\n",
    "    \"data\": [go.Scatter(x=[1, 2, 3, 4], y=[4, 3, 2, 1])],\n",
    "    \"layout\": go.Layout(title=\"hello world\")\n",
    "})"
   ]
  },
  {
   "cell_type": "code",
   "execution_count": 62,
   "metadata": {},
   "outputs": [
    {
     "data": {
      "text/html": [
       "<div>\n",
       "<style scoped>\n",
       "    .dataframe tbody tr th:only-of-type {\n",
       "        vertical-align: middle;\n",
       "    }\n",
       "\n",
       "    .dataframe tbody tr th {\n",
       "        vertical-align: top;\n",
       "    }\n",
       "\n",
       "    .dataframe thead th {\n",
       "        text-align: right;\n",
       "    }\n",
       "</style>\n",
       "<table border=\"1\" class=\"dataframe\">\n",
       "  <thead>\n",
       "    <tr style=\"text-align: right;\">\n",
       "      <th></th>\n",
       "      <th>market</th>\n",
       "      <th>candle_date_time_kst</th>\n",
       "      <th>opening_price</th>\n",
       "      <th>high_price</th>\n",
       "      <th>low_price</th>\n",
       "      <th>trade_price</th>\n",
       "      <th>candle_acc_trade_price</th>\n",
       "      <th>candle_acc_trade_volume</th>\n",
       "    </tr>\n",
       "  </thead>\n",
       "  <tbody>\n",
       "    <tr>\n",
       "      <th>0</th>\n",
       "      <td>BTC</td>\n",
       "      <td>2021-11-15</td>\n",
       "      <td>79323000.0</td>\n",
       "      <td>80250000.0</td>\n",
       "      <td>79201000.0</td>\n",
       "      <td>79571000.0</td>\n",
       "      <td>1.592200e+11</td>\n",
       "      <td>1998.792378</td>\n",
       "    </tr>\n",
       "    <tr>\n",
       "      <th>1</th>\n",
       "      <td>BTC</td>\n",
       "      <td>2021-11-14</td>\n",
       "      <td>77867000.0</td>\n",
       "      <td>79350000.0</td>\n",
       "      <td>77579000.0</td>\n",
       "      <td>79310000.0</td>\n",
       "      <td>3.001073e+11</td>\n",
       "      <td>3826.416588</td>\n",
       "    </tr>\n",
       "    <tr>\n",
       "      <th>2</th>\n",
       "      <td>BTC</td>\n",
       "      <td>2021-11-13</td>\n",
       "      <td>78165000.0</td>\n",
       "      <td>78770000.0</td>\n",
       "      <td>77120000.0</td>\n",
       "      <td>77867000.0</td>\n",
       "      <td>3.385629e+11</td>\n",
       "      <td>4350.104533</td>\n",
       "    </tr>\n",
       "    <tr>\n",
       "      <th>3</th>\n",
       "      <td>BTC</td>\n",
       "      <td>2021-11-12</td>\n",
       "      <td>78938000.0</td>\n",
       "      <td>79100000.0</td>\n",
       "      <td>76712000.0</td>\n",
       "      <td>78165000.0</td>\n",
       "      <td>5.555562e+11</td>\n",
       "      <td>7117.165348</td>\n",
       "    </tr>\n",
       "    <tr>\n",
       "      <th>4</th>\n",
       "      <td>BTC</td>\n",
       "      <td>2021-11-11</td>\n",
       "      <td>79663000.0</td>\n",
       "      <td>79732000.0</td>\n",
       "      <td>78543000.0</td>\n",
       "      <td>78917000.0</td>\n",
       "      <td>5.667869e+11</td>\n",
       "      <td>7167.446830</td>\n",
       "    </tr>\n",
       "  </tbody>\n",
       "</table>\n",
       "</div>"
      ],
      "text/plain": [
       "  market candle_date_time_kst  opening_price  high_price   low_price  \\\n",
       "0    BTC           2021-11-15     79323000.0  80250000.0  79201000.0   \n",
       "1    BTC           2021-11-14     77867000.0  79350000.0  77579000.0   \n",
       "2    BTC           2021-11-13     78165000.0  78770000.0  77120000.0   \n",
       "3    BTC           2021-11-12     78938000.0  79100000.0  76712000.0   \n",
       "4    BTC           2021-11-11     79663000.0  79732000.0  78543000.0   \n",
       "\n",
       "   trade_price  candle_acc_trade_price  candle_acc_trade_volume  \n",
       "0   79571000.0            1.592200e+11              1998.792378  \n",
       "1   79310000.0            3.001073e+11              3826.416588  \n",
       "2   77867000.0            3.385629e+11              4350.104533  \n",
       "3   78165000.0            5.555562e+11              7117.165348  \n",
       "4   78917000.0            5.667869e+11              7167.446830  "
      ]
     },
     "execution_count": 62,
     "metadata": {},
     "output_type": "execute_result"
    }
   ],
   "source": [
    "my_df.head()"
   ]
  },
  {
   "cell_type": "code",
   "execution_count": 63,
   "metadata": {},
   "outputs": [],
   "source": [
    "import plotly.express as px"
   ]
  },
  {
   "cell_type": "code",
   "execution_count": 64,
   "metadata": {},
   "outputs": [
    {
     "data": {
      "application/vnd.plotly.v1+json": {
       "config": {
        "linkText": "Export to plot.ly",
        "plotlyServerURL": "https://plot.ly",
        "showLink": false
       },
       "data": [
        {
         "hovertemplate": "candle_date_time_kst=%{x}<br>trade_price=%{y}<extra></extra>",
         "legendgroup": "",
         "marker": {
          "color": "#636efa",
          "symbol": "circle"
         },
         "mode": "markers",
         "name": "",
         "orientation": "v",
         "showlegend": false,
         "type": "scatter",
         "x": [
          "2021-11-15",
          "2021-11-14",
          "2021-11-13",
          "2021-11-12",
          "2021-11-11",
          "2021-11-10",
          "2021-11-09",
          "2021-11-08",
          "2021-11-07",
          "2021-11-06",
          "2021-11-05",
          "2021-11-04",
          "2021-11-03",
          "2021-11-02",
          "2021-11-01",
          "2021-10-31",
          "2021-10-30",
          "2021-10-29",
          "2021-10-28",
          "2021-10-27",
          "2021-10-26",
          "2021-10-25",
          "2021-10-24",
          "2021-10-23",
          "2021-10-22",
          "2021-10-21",
          "2021-10-20",
          "2021-10-19",
          "2021-10-18",
          "2021-10-17",
          "2021-10-16",
          "2021-10-15",
          "2021-10-14",
          "2021-10-13",
          "2021-10-12",
          "2021-10-11",
          "2021-10-10",
          "2021-10-09",
          "2021-10-08",
          "2021-10-07",
          "2021-10-06",
          "2021-10-05",
          "2021-10-04",
          "2021-10-03",
          "2021-10-02",
          "2021-10-01",
          "2021-09-30",
          "2021-09-29",
          "2021-09-28",
          "2021-09-27",
          "2021-09-26",
          "2021-09-25",
          "2021-09-24",
          "2021-09-23",
          "2021-09-22",
          "2021-09-21",
          "2021-09-20",
          "2021-09-19",
          "2021-09-18",
          "2021-09-17",
          "2021-09-16",
          "2021-09-15",
          "2021-09-14",
          "2021-09-13",
          "2021-09-12",
          "2021-09-11",
          "2021-09-10",
          "2021-09-09",
          "2021-09-08",
          "2021-09-07",
          "2021-09-06",
          "2021-09-05",
          "2021-09-04",
          "2021-09-03",
          "2021-09-02",
          "2021-09-01",
          "2021-08-31",
          "2021-08-30",
          "2021-08-29",
          "2021-08-28",
          "2021-08-27",
          "2021-08-26",
          "2021-08-25",
          "2021-08-24",
          "2021-08-23",
          "2021-08-22",
          "2021-08-21",
          "2021-08-20",
          "2021-08-19",
          "2021-08-18",
          "2021-08-17",
          "2021-08-16",
          "2021-08-15",
          "2021-08-14",
          "2021-08-13",
          "2021-08-12",
          "2021-08-11",
          "2021-08-10",
          "2021-08-09",
          "2021-08-08",
          "2021-08-07",
          "2021-08-06",
          "2021-08-05",
          "2021-08-04",
          "2021-08-03",
          "2021-08-02",
          "2021-08-01",
          "2021-07-31",
          "2021-07-30",
          "2021-07-29",
          "2021-07-28",
          "2021-07-27",
          "2021-07-26",
          "2021-07-25",
          "2021-07-24",
          "2021-07-23",
          "2021-07-22",
          "2021-07-21",
          "2021-07-20",
          "2021-07-19",
          "2021-07-18",
          "2021-07-17",
          "2021-07-16",
          "2021-07-15",
          "2021-07-14",
          "2021-07-13",
          "2021-07-12",
          "2021-07-11",
          "2021-07-10",
          "2021-07-09",
          "2021-07-08",
          "2021-07-07",
          "2021-07-06",
          "2021-07-05",
          "2021-07-04",
          "2021-07-03",
          "2021-07-02",
          "2021-07-01",
          "2021-06-30",
          "2021-06-29",
          "2021-06-28",
          "2021-06-27",
          "2021-06-26",
          "2021-06-25",
          "2021-06-24",
          "2021-06-23",
          "2021-06-22",
          "2021-06-21",
          "2021-06-20",
          "2021-06-19",
          "2021-06-18",
          "2021-06-17",
          "2021-06-16",
          "2021-06-15",
          "2021-06-14",
          "2021-06-13",
          "2021-06-12",
          "2021-06-11",
          "2021-06-10",
          "2021-06-09",
          "2021-06-08",
          "2021-06-07",
          "2021-06-06",
          "2021-06-05",
          "2021-06-04",
          "2021-06-03",
          "2021-06-02",
          "2021-06-01",
          "2021-05-31",
          "2021-05-30",
          "2021-05-29",
          "2021-05-28",
          "2021-05-27",
          "2021-05-26",
          "2021-05-25",
          "2021-05-24",
          "2021-05-23",
          "2021-05-22",
          "2021-05-21",
          "2021-05-20",
          "2021-05-19",
          "2021-05-18",
          "2021-05-17",
          "2021-05-16",
          "2021-05-15",
          "2021-05-14",
          "2021-05-13",
          "2021-05-12",
          "2021-05-11",
          "2021-05-10",
          "2021-05-09",
          "2021-05-08",
          "2021-05-07",
          "2021-05-06",
          "2021-05-05",
          "2021-05-04",
          "2021-05-03",
          "2021-05-02",
          "2021-05-01",
          "2021-04-30"
         ],
         "xaxis": "x",
         "y": [
          1470,
          1440,
          1440,
          1450,
          1480,
          1460,
          1515,
          1545,
          1480,
          1395,
          1405,
          1445,
          1430,
          1330,
          1295,
          1315,
          1285,
          1300,
          1275,
          1225,
          1340,
          1325,
          1325,
          1335,
          1330,
          1335,
          1385,
          1335,
          1340,
          1350,
          1395,
          1405,
          1375,
          1375,
          1355,
          1405,
          1405,
          1415,
          1295,
          1300,
          1310,
          1300,
          1270,
          1280,
          1265,
          1265,
          1160,
          1135,
          1095,
          1130,
          1155,
          1150,
          1150,
          1215,
          1240,
          1090,
          1155,
          1290,
          1305,
          1300,
          1310,
          1330,
          1315,
          1285,
          1340,
          1310,
          1295,
          1315,
          1330,
          1360,
          1600,
          1495,
          1455,
          1485,
          1460,
          1435,
          1385,
          1305,
          1335,
          1345,
          1395,
          1270,
          1370,
          1335,
          1450,
          1435,
          1430,
          1475,
          1455,
          1345,
          1300,
          1395,
          1490,
          1495,
          1255,
          1135,
          1165,
          977,
          935,
          904,
          938,
          861,
          845,
          842,
          838,
          856,
          841,
          863,
          866,
          860,
          851,
          744,
          721,
          704,
          714,
          708,
          694,
          676,
          627,
          665,
          695,
          689,
          698,
          706,
          730,
          733,
          742,
          746,
          738,
          749,
          740,
          765,
          775,
          766,
          807,
          783,
          764,
          775,
          819,
          816,
          747,
          747,
          718,
          719,
          780,
          740,
          639,
          718,
          910,
          901,
          945,
          990,
          984,
          1005,
          1025,
          1010,
          967,
          990,
          1015,
          1070,
          1005,
          1005,
          1105,
          1095,
          1125,
          1215,
          1195,
          1190,
          1215,
          1095,
          1025,
          1095,
          1180,
          1240,
          1195,
          1200,
          972,
          1145,
          1325,
          1490,
          1485,
          1980,
          1860,
          1800,
          1865,
          1725,
          1725,
          1585,
          1820,
          1775,
          1885,
          1905,
          1900,
          1955,
          1925,
          1745,
          1905,
          1890,
          1965,
          1885
         ],
         "yaxis": "y"
        }
       ],
       "layout": {
        "legend": {
         "tracegroupgap": 0
        },
        "margin": {
         "t": 60
        },
        "template": {
         "data": {
          "bar": [
           {
            "error_x": {
             "color": "#2a3f5f"
            },
            "error_y": {
             "color": "#2a3f5f"
            },
            "marker": {
             "line": {
              "color": "#E5ECF6",
              "width": 0.5
             },
             "pattern": {
              "fillmode": "overlay",
              "size": 10,
              "solidity": 0.2
             }
            },
            "type": "bar"
           }
          ],
          "barpolar": [
           {
            "marker": {
             "line": {
              "color": "#E5ECF6",
              "width": 0.5
             },
             "pattern": {
              "fillmode": "overlay",
              "size": 10,
              "solidity": 0.2
             }
            },
            "type": "barpolar"
           }
          ],
          "carpet": [
           {
            "aaxis": {
             "endlinecolor": "#2a3f5f",
             "gridcolor": "white",
             "linecolor": "white",
             "minorgridcolor": "white",
             "startlinecolor": "#2a3f5f"
            },
            "baxis": {
             "endlinecolor": "#2a3f5f",
             "gridcolor": "white",
             "linecolor": "white",
             "minorgridcolor": "white",
             "startlinecolor": "#2a3f5f"
            },
            "type": "carpet"
           }
          ],
          "choropleth": [
           {
            "colorbar": {
             "outlinewidth": 0,
             "ticks": ""
            },
            "type": "choropleth"
           }
          ],
          "contour": [
           {
            "colorbar": {
             "outlinewidth": 0,
             "ticks": ""
            },
            "colorscale": [
             [
              0,
              "#0d0887"
             ],
             [
              0.1111111111111111,
              "#46039f"
             ],
             [
              0.2222222222222222,
              "#7201a8"
             ],
             [
              0.3333333333333333,
              "#9c179e"
             ],
             [
              0.4444444444444444,
              "#bd3786"
             ],
             [
              0.5555555555555556,
              "#d8576b"
             ],
             [
              0.6666666666666666,
              "#ed7953"
             ],
             [
              0.7777777777777778,
              "#fb9f3a"
             ],
             [
              0.8888888888888888,
              "#fdca26"
             ],
             [
              1,
              "#f0f921"
             ]
            ],
            "type": "contour"
           }
          ],
          "contourcarpet": [
           {
            "colorbar": {
             "outlinewidth": 0,
             "ticks": ""
            },
            "type": "contourcarpet"
           }
          ],
          "heatmap": [
           {
            "colorbar": {
             "outlinewidth": 0,
             "ticks": ""
            },
            "colorscale": [
             [
              0,
              "#0d0887"
             ],
             [
              0.1111111111111111,
              "#46039f"
             ],
             [
              0.2222222222222222,
              "#7201a8"
             ],
             [
              0.3333333333333333,
              "#9c179e"
             ],
             [
              0.4444444444444444,
              "#bd3786"
             ],
             [
              0.5555555555555556,
              "#d8576b"
             ],
             [
              0.6666666666666666,
              "#ed7953"
             ],
             [
              0.7777777777777778,
              "#fb9f3a"
             ],
             [
              0.8888888888888888,
              "#fdca26"
             ],
             [
              1,
              "#f0f921"
             ]
            ],
            "type": "heatmap"
           }
          ],
          "heatmapgl": [
           {
            "colorbar": {
             "outlinewidth": 0,
             "ticks": ""
            },
            "colorscale": [
             [
              0,
              "#0d0887"
             ],
             [
              0.1111111111111111,
              "#46039f"
             ],
             [
              0.2222222222222222,
              "#7201a8"
             ],
             [
              0.3333333333333333,
              "#9c179e"
             ],
             [
              0.4444444444444444,
              "#bd3786"
             ],
             [
              0.5555555555555556,
              "#d8576b"
             ],
             [
              0.6666666666666666,
              "#ed7953"
             ],
             [
              0.7777777777777778,
              "#fb9f3a"
             ],
             [
              0.8888888888888888,
              "#fdca26"
             ],
             [
              1,
              "#f0f921"
             ]
            ],
            "type": "heatmapgl"
           }
          ],
          "histogram": [
           {
            "marker": {
             "pattern": {
              "fillmode": "overlay",
              "size": 10,
              "solidity": 0.2
             }
            },
            "type": "histogram"
           }
          ],
          "histogram2d": [
           {
            "colorbar": {
             "outlinewidth": 0,
             "ticks": ""
            },
            "colorscale": [
             [
              0,
              "#0d0887"
             ],
             [
              0.1111111111111111,
              "#46039f"
             ],
             [
              0.2222222222222222,
              "#7201a8"
             ],
             [
              0.3333333333333333,
              "#9c179e"
             ],
             [
              0.4444444444444444,
              "#bd3786"
             ],
             [
              0.5555555555555556,
              "#d8576b"
             ],
             [
              0.6666666666666666,
              "#ed7953"
             ],
             [
              0.7777777777777778,
              "#fb9f3a"
             ],
             [
              0.8888888888888888,
              "#fdca26"
             ],
             [
              1,
              "#f0f921"
             ]
            ],
            "type": "histogram2d"
           }
          ],
          "histogram2dcontour": [
           {
            "colorbar": {
             "outlinewidth": 0,
             "ticks": ""
            },
            "colorscale": [
             [
              0,
              "#0d0887"
             ],
             [
              0.1111111111111111,
              "#46039f"
             ],
             [
              0.2222222222222222,
              "#7201a8"
             ],
             [
              0.3333333333333333,
              "#9c179e"
             ],
             [
              0.4444444444444444,
              "#bd3786"
             ],
             [
              0.5555555555555556,
              "#d8576b"
             ],
             [
              0.6666666666666666,
              "#ed7953"
             ],
             [
              0.7777777777777778,
              "#fb9f3a"
             ],
             [
              0.8888888888888888,
              "#fdca26"
             ],
             [
              1,
              "#f0f921"
             ]
            ],
            "type": "histogram2dcontour"
           }
          ],
          "mesh3d": [
           {
            "colorbar": {
             "outlinewidth": 0,
             "ticks": ""
            },
            "type": "mesh3d"
           }
          ],
          "parcoords": [
           {
            "line": {
             "colorbar": {
              "outlinewidth": 0,
              "ticks": ""
             }
            },
            "type": "parcoords"
           }
          ],
          "pie": [
           {
            "automargin": true,
            "type": "pie"
           }
          ],
          "scatter": [
           {
            "marker": {
             "colorbar": {
              "outlinewidth": 0,
              "ticks": ""
             }
            },
            "type": "scatter"
           }
          ],
          "scatter3d": [
           {
            "line": {
             "colorbar": {
              "outlinewidth": 0,
              "ticks": ""
             }
            },
            "marker": {
             "colorbar": {
              "outlinewidth": 0,
              "ticks": ""
             }
            },
            "type": "scatter3d"
           }
          ],
          "scattercarpet": [
           {
            "marker": {
             "colorbar": {
              "outlinewidth": 0,
              "ticks": ""
             }
            },
            "type": "scattercarpet"
           }
          ],
          "scattergeo": [
           {
            "marker": {
             "colorbar": {
              "outlinewidth": 0,
              "ticks": ""
             }
            },
            "type": "scattergeo"
           }
          ],
          "scattergl": [
           {
            "marker": {
             "colorbar": {
              "outlinewidth": 0,
              "ticks": ""
             }
            },
            "type": "scattergl"
           }
          ],
          "scattermapbox": [
           {
            "marker": {
             "colorbar": {
              "outlinewidth": 0,
              "ticks": ""
             }
            },
            "type": "scattermapbox"
           }
          ],
          "scatterpolar": [
           {
            "marker": {
             "colorbar": {
              "outlinewidth": 0,
              "ticks": ""
             }
            },
            "type": "scatterpolar"
           }
          ],
          "scatterpolargl": [
           {
            "marker": {
             "colorbar": {
              "outlinewidth": 0,
              "ticks": ""
             }
            },
            "type": "scatterpolargl"
           }
          ],
          "scatterternary": [
           {
            "marker": {
             "colorbar": {
              "outlinewidth": 0,
              "ticks": ""
             }
            },
            "type": "scatterternary"
           }
          ],
          "surface": [
           {
            "colorbar": {
             "outlinewidth": 0,
             "ticks": ""
            },
            "colorscale": [
             [
              0,
              "#0d0887"
             ],
             [
              0.1111111111111111,
              "#46039f"
             ],
             [
              0.2222222222222222,
              "#7201a8"
             ],
             [
              0.3333333333333333,
              "#9c179e"
             ],
             [
              0.4444444444444444,
              "#bd3786"
             ],
             [
              0.5555555555555556,
              "#d8576b"
             ],
             [
              0.6666666666666666,
              "#ed7953"
             ],
             [
              0.7777777777777778,
              "#fb9f3a"
             ],
             [
              0.8888888888888888,
              "#fdca26"
             ],
             [
              1,
              "#f0f921"
             ]
            ],
            "type": "surface"
           }
          ],
          "table": [
           {
            "cells": {
             "fill": {
              "color": "#EBF0F8"
             },
             "line": {
              "color": "white"
             }
            },
            "header": {
             "fill": {
              "color": "#C8D4E3"
             },
             "line": {
              "color": "white"
             }
            },
            "type": "table"
           }
          ]
         },
         "layout": {
          "annotationdefaults": {
           "arrowcolor": "#2a3f5f",
           "arrowhead": 0,
           "arrowwidth": 1
          },
          "autotypenumbers": "strict",
          "coloraxis": {
           "colorbar": {
            "outlinewidth": 0,
            "ticks": ""
           }
          },
          "colorscale": {
           "diverging": [
            [
             0,
             "#8e0152"
            ],
            [
             0.1,
             "#c51b7d"
            ],
            [
             0.2,
             "#de77ae"
            ],
            [
             0.3,
             "#f1b6da"
            ],
            [
             0.4,
             "#fde0ef"
            ],
            [
             0.5,
             "#f7f7f7"
            ],
            [
             0.6,
             "#e6f5d0"
            ],
            [
             0.7,
             "#b8e186"
            ],
            [
             0.8,
             "#7fbc41"
            ],
            [
             0.9,
             "#4d9221"
            ],
            [
             1,
             "#276419"
            ]
           ],
           "sequential": [
            [
             0,
             "#0d0887"
            ],
            [
             0.1111111111111111,
             "#46039f"
            ],
            [
             0.2222222222222222,
             "#7201a8"
            ],
            [
             0.3333333333333333,
             "#9c179e"
            ],
            [
             0.4444444444444444,
             "#bd3786"
            ],
            [
             0.5555555555555556,
             "#d8576b"
            ],
            [
             0.6666666666666666,
             "#ed7953"
            ],
            [
             0.7777777777777778,
             "#fb9f3a"
            ],
            [
             0.8888888888888888,
             "#fdca26"
            ],
            [
             1,
             "#f0f921"
            ]
           ],
           "sequentialminus": [
            [
             0,
             "#0d0887"
            ],
            [
             0.1111111111111111,
             "#46039f"
            ],
            [
             0.2222222222222222,
             "#7201a8"
            ],
            [
             0.3333333333333333,
             "#9c179e"
            ],
            [
             0.4444444444444444,
             "#bd3786"
            ],
            [
             0.5555555555555556,
             "#d8576b"
            ],
            [
             0.6666666666666666,
             "#ed7953"
            ],
            [
             0.7777777777777778,
             "#fb9f3a"
            ],
            [
             0.8888888888888888,
             "#fdca26"
            ],
            [
             1,
             "#f0f921"
            ]
           ]
          },
          "colorway": [
           "#636efa",
           "#EF553B",
           "#00cc96",
           "#ab63fa",
           "#FFA15A",
           "#19d3f3",
           "#FF6692",
           "#B6E880",
           "#FF97FF",
           "#FECB52"
          ],
          "font": {
           "color": "#2a3f5f"
          },
          "geo": {
           "bgcolor": "white",
           "lakecolor": "white",
           "landcolor": "#E5ECF6",
           "showlakes": true,
           "showland": true,
           "subunitcolor": "white"
          },
          "hoverlabel": {
           "align": "left"
          },
          "hovermode": "closest",
          "mapbox": {
           "style": "light"
          },
          "paper_bgcolor": "white",
          "plot_bgcolor": "#E5ECF6",
          "polar": {
           "angularaxis": {
            "gridcolor": "white",
            "linecolor": "white",
            "ticks": ""
           },
           "bgcolor": "#E5ECF6",
           "radialaxis": {
            "gridcolor": "white",
            "linecolor": "white",
            "ticks": ""
           }
          },
          "scene": {
           "xaxis": {
            "backgroundcolor": "#E5ECF6",
            "gridcolor": "white",
            "gridwidth": 2,
            "linecolor": "white",
            "showbackground": true,
            "ticks": "",
            "zerolinecolor": "white"
           },
           "yaxis": {
            "backgroundcolor": "#E5ECF6",
            "gridcolor": "white",
            "gridwidth": 2,
            "linecolor": "white",
            "showbackground": true,
            "ticks": "",
            "zerolinecolor": "white"
           },
           "zaxis": {
            "backgroundcolor": "#E5ECF6",
            "gridcolor": "white",
            "gridwidth": 2,
            "linecolor": "white",
            "showbackground": true,
            "ticks": "",
            "zerolinecolor": "white"
           }
          },
          "shapedefaults": {
           "line": {
            "color": "#2a3f5f"
           }
          },
          "ternary": {
           "aaxis": {
            "gridcolor": "white",
            "linecolor": "white",
            "ticks": ""
           },
           "baxis": {
            "gridcolor": "white",
            "linecolor": "white",
            "ticks": ""
           },
           "bgcolor": "#E5ECF6",
           "caxis": {
            "gridcolor": "white",
            "linecolor": "white",
            "ticks": ""
           }
          },
          "title": {
           "x": 0.05
          },
          "xaxis": {
           "automargin": true,
           "gridcolor": "white",
           "linecolor": "white",
           "ticks": "",
           "title": {
            "standoff": 15
           },
           "zerolinecolor": "white",
           "zerolinewidth": 2
          },
          "yaxis": {
           "automargin": true,
           "gridcolor": "white",
           "linecolor": "white",
           "ticks": "",
           "title": {
            "standoff": 15
           },
           "zerolinecolor": "white",
           "zerolinewidth": 2
          }
         }
        },
        "xaxis": {
         "anchor": "y",
         "domain": [
          0,
          1
         ],
         "title": {
          "text": "candle_date_time_kst"
         }
        },
        "yaxis": {
         "anchor": "x",
         "domain": [
          0,
          1
         ],
         "title": {
          "text": "trade_price"
         }
        }
       }
      },
      "text/html": [
       "<div>                            <div id=\"df95167a-683c-46d7-ac9b-bd18475e24a6\" class=\"plotly-graph-div\" style=\"height:525px; width:100%;\"></div>            <script type=\"text/javascript\">                require([\"plotly\"], function(Plotly) {                    window.PLOTLYENV=window.PLOTLYENV || {};                                    if (document.getElementById(\"df95167a-683c-46d7-ac9b-bd18475e24a6\")) {                    Plotly.newPlot(                        \"df95167a-683c-46d7-ac9b-bd18475e24a6\",                        [{\"hovertemplate\":\"candle_date_time_kst=%{x}<br>trade_price=%{y}<extra></extra>\",\"legendgroup\":\"\",\"marker\":{\"color\":\"#636efa\",\"symbol\":\"circle\"},\"mode\":\"markers\",\"name\":\"\",\"orientation\":\"v\",\"showlegend\":false,\"type\":\"scatter\",\"x\":[\"2021-11-15\",\"2021-11-14\",\"2021-11-13\",\"2021-11-12\",\"2021-11-11\",\"2021-11-10\",\"2021-11-09\",\"2021-11-08\",\"2021-11-07\",\"2021-11-06\",\"2021-11-05\",\"2021-11-04\",\"2021-11-03\",\"2021-11-02\",\"2021-11-01\",\"2021-10-31\",\"2021-10-30\",\"2021-10-29\",\"2021-10-28\",\"2021-10-27\",\"2021-10-26\",\"2021-10-25\",\"2021-10-24\",\"2021-10-23\",\"2021-10-22\",\"2021-10-21\",\"2021-10-20\",\"2021-10-19\",\"2021-10-18\",\"2021-10-17\",\"2021-10-16\",\"2021-10-15\",\"2021-10-14\",\"2021-10-13\",\"2021-10-12\",\"2021-10-11\",\"2021-10-10\",\"2021-10-09\",\"2021-10-08\",\"2021-10-07\",\"2021-10-06\",\"2021-10-05\",\"2021-10-04\",\"2021-10-03\",\"2021-10-02\",\"2021-10-01\",\"2021-09-30\",\"2021-09-29\",\"2021-09-28\",\"2021-09-27\",\"2021-09-26\",\"2021-09-25\",\"2021-09-24\",\"2021-09-23\",\"2021-09-22\",\"2021-09-21\",\"2021-09-20\",\"2021-09-19\",\"2021-09-18\",\"2021-09-17\",\"2021-09-16\",\"2021-09-15\",\"2021-09-14\",\"2021-09-13\",\"2021-09-12\",\"2021-09-11\",\"2021-09-10\",\"2021-09-09\",\"2021-09-08\",\"2021-09-07\",\"2021-09-06\",\"2021-09-05\",\"2021-09-04\",\"2021-09-03\",\"2021-09-02\",\"2021-09-01\",\"2021-08-31\",\"2021-08-30\",\"2021-08-29\",\"2021-08-28\",\"2021-08-27\",\"2021-08-26\",\"2021-08-25\",\"2021-08-24\",\"2021-08-23\",\"2021-08-22\",\"2021-08-21\",\"2021-08-20\",\"2021-08-19\",\"2021-08-18\",\"2021-08-17\",\"2021-08-16\",\"2021-08-15\",\"2021-08-14\",\"2021-08-13\",\"2021-08-12\",\"2021-08-11\",\"2021-08-10\",\"2021-08-09\",\"2021-08-08\",\"2021-08-07\",\"2021-08-06\",\"2021-08-05\",\"2021-08-04\",\"2021-08-03\",\"2021-08-02\",\"2021-08-01\",\"2021-07-31\",\"2021-07-30\",\"2021-07-29\",\"2021-07-28\",\"2021-07-27\",\"2021-07-26\",\"2021-07-25\",\"2021-07-24\",\"2021-07-23\",\"2021-07-22\",\"2021-07-21\",\"2021-07-20\",\"2021-07-19\",\"2021-07-18\",\"2021-07-17\",\"2021-07-16\",\"2021-07-15\",\"2021-07-14\",\"2021-07-13\",\"2021-07-12\",\"2021-07-11\",\"2021-07-10\",\"2021-07-09\",\"2021-07-08\",\"2021-07-07\",\"2021-07-06\",\"2021-07-05\",\"2021-07-04\",\"2021-07-03\",\"2021-07-02\",\"2021-07-01\",\"2021-06-30\",\"2021-06-29\",\"2021-06-28\",\"2021-06-27\",\"2021-06-26\",\"2021-06-25\",\"2021-06-24\",\"2021-06-23\",\"2021-06-22\",\"2021-06-21\",\"2021-06-20\",\"2021-06-19\",\"2021-06-18\",\"2021-06-17\",\"2021-06-16\",\"2021-06-15\",\"2021-06-14\",\"2021-06-13\",\"2021-06-12\",\"2021-06-11\",\"2021-06-10\",\"2021-06-09\",\"2021-06-08\",\"2021-06-07\",\"2021-06-06\",\"2021-06-05\",\"2021-06-04\",\"2021-06-03\",\"2021-06-02\",\"2021-06-01\",\"2021-05-31\",\"2021-05-30\",\"2021-05-29\",\"2021-05-28\",\"2021-05-27\",\"2021-05-26\",\"2021-05-25\",\"2021-05-24\",\"2021-05-23\",\"2021-05-22\",\"2021-05-21\",\"2021-05-20\",\"2021-05-19\",\"2021-05-18\",\"2021-05-17\",\"2021-05-16\",\"2021-05-15\",\"2021-05-14\",\"2021-05-13\",\"2021-05-12\",\"2021-05-11\",\"2021-05-10\",\"2021-05-09\",\"2021-05-08\",\"2021-05-07\",\"2021-05-06\",\"2021-05-05\",\"2021-05-04\",\"2021-05-03\",\"2021-05-02\",\"2021-05-01\",\"2021-04-30\"],\"xaxis\":\"x\",\"y\":[1470.0,1440.0,1440.0,1450.0,1480.0,1460.0,1515.0,1545.0,1480.0,1395.0,1405.0,1445.0,1430.0,1330.0,1295.0,1315.0,1285.0,1300.0,1275.0,1225.0,1340.0,1325.0,1325.0,1335.0,1330.0,1335.0,1385.0,1335.0,1340.0,1350.0,1395.0,1405.0,1375.0,1375.0,1355.0,1405.0,1405.0,1415.0,1295.0,1300.0,1310.0,1300.0,1270.0,1280.0,1265.0,1265.0,1160.0,1135.0,1095.0,1130.0,1155.0,1150.0,1150.0,1215.0,1240.0,1090.0,1155.0,1290.0,1305.0,1300.0,1310.0,1330.0,1315.0,1285.0,1340.0,1310.0,1295.0,1315.0,1330.0,1360.0,1600.0,1495.0,1455.0,1485.0,1460.0,1435.0,1385.0,1305.0,1335.0,1345.0,1395.0,1270.0,1370.0,1335.0,1450.0,1435.0,1430.0,1475.0,1455.0,1345.0,1300.0,1395.0,1490.0,1495.0,1255.0,1135.0,1165.0,977.0,935.0,904.0,938.0,861.0,845.0,842.0,838.0,856.0,841.0,863.0,866.0,860.0,851.0,744.0,721.0,704.0,714.0,708.0,694.0,676.0,627.0,665.0,695.0,689.0,698.0,706.0,730.0,733.0,742.0,746.0,738.0,749.0,740.0,765.0,775.0,766.0,807.0,783.0,764.0,775.0,819.0,816.0,747.0,747.0,718.0,719.0,780.0,740.0,639.0,718.0,910.0,901.0,945.0,990.0,984.0,1005.0,1025.0,1010.0,967.0,990.0,1015.0,1070.0,1005.0,1005.0,1105.0,1095.0,1125.0,1215.0,1195.0,1190.0,1215.0,1095.0,1025.0,1095.0,1180.0,1240.0,1195.0,1200.0,972.0,1145.0,1325.0,1490.0,1485.0,1980.0,1860.0,1800.0,1865.0,1725.0,1725.0,1585.0,1820.0,1775.0,1885.0,1905.0,1900.0,1955.0,1925.0,1745.0,1905.0,1890.0,1965.0,1885.0],\"yaxis\":\"y\"}],                        {\"legend\":{\"tracegroupgap\":0},\"margin\":{\"t\":60},\"template\":{\"data\":{\"bar\":[{\"error_x\":{\"color\":\"#2a3f5f\"},\"error_y\":{\"color\":\"#2a3f5f\"},\"marker\":{\"line\":{\"color\":\"#E5ECF6\",\"width\":0.5},\"pattern\":{\"fillmode\":\"overlay\",\"size\":10,\"solidity\":0.2}},\"type\":\"bar\"}],\"barpolar\":[{\"marker\":{\"line\":{\"color\":\"#E5ECF6\",\"width\":0.5},\"pattern\":{\"fillmode\":\"overlay\",\"size\":10,\"solidity\":0.2}},\"type\":\"barpolar\"}],\"carpet\":[{\"aaxis\":{\"endlinecolor\":\"#2a3f5f\",\"gridcolor\":\"white\",\"linecolor\":\"white\",\"minorgridcolor\":\"white\",\"startlinecolor\":\"#2a3f5f\"},\"baxis\":{\"endlinecolor\":\"#2a3f5f\",\"gridcolor\":\"white\",\"linecolor\":\"white\",\"minorgridcolor\":\"white\",\"startlinecolor\":\"#2a3f5f\"},\"type\":\"carpet\"}],\"choropleth\":[{\"colorbar\":{\"outlinewidth\":0,\"ticks\":\"\"},\"type\":\"choropleth\"}],\"contour\":[{\"colorbar\":{\"outlinewidth\":0,\"ticks\":\"\"},\"colorscale\":[[0.0,\"#0d0887\"],[0.1111111111111111,\"#46039f\"],[0.2222222222222222,\"#7201a8\"],[0.3333333333333333,\"#9c179e\"],[0.4444444444444444,\"#bd3786\"],[0.5555555555555556,\"#d8576b\"],[0.6666666666666666,\"#ed7953\"],[0.7777777777777778,\"#fb9f3a\"],[0.8888888888888888,\"#fdca26\"],[1.0,\"#f0f921\"]],\"type\":\"contour\"}],\"contourcarpet\":[{\"colorbar\":{\"outlinewidth\":0,\"ticks\":\"\"},\"type\":\"contourcarpet\"}],\"heatmap\":[{\"colorbar\":{\"outlinewidth\":0,\"ticks\":\"\"},\"colorscale\":[[0.0,\"#0d0887\"],[0.1111111111111111,\"#46039f\"],[0.2222222222222222,\"#7201a8\"],[0.3333333333333333,\"#9c179e\"],[0.4444444444444444,\"#bd3786\"],[0.5555555555555556,\"#d8576b\"],[0.6666666666666666,\"#ed7953\"],[0.7777777777777778,\"#fb9f3a\"],[0.8888888888888888,\"#fdca26\"],[1.0,\"#f0f921\"]],\"type\":\"heatmap\"}],\"heatmapgl\":[{\"colorbar\":{\"outlinewidth\":0,\"ticks\":\"\"},\"colorscale\":[[0.0,\"#0d0887\"],[0.1111111111111111,\"#46039f\"],[0.2222222222222222,\"#7201a8\"],[0.3333333333333333,\"#9c179e\"],[0.4444444444444444,\"#bd3786\"],[0.5555555555555556,\"#d8576b\"],[0.6666666666666666,\"#ed7953\"],[0.7777777777777778,\"#fb9f3a\"],[0.8888888888888888,\"#fdca26\"],[1.0,\"#f0f921\"]],\"type\":\"heatmapgl\"}],\"histogram\":[{\"marker\":{\"pattern\":{\"fillmode\":\"overlay\",\"size\":10,\"solidity\":0.2}},\"type\":\"histogram\"}],\"histogram2d\":[{\"colorbar\":{\"outlinewidth\":0,\"ticks\":\"\"},\"colorscale\":[[0.0,\"#0d0887\"],[0.1111111111111111,\"#46039f\"],[0.2222222222222222,\"#7201a8\"],[0.3333333333333333,\"#9c179e\"],[0.4444444444444444,\"#bd3786\"],[0.5555555555555556,\"#d8576b\"],[0.6666666666666666,\"#ed7953\"],[0.7777777777777778,\"#fb9f3a\"],[0.8888888888888888,\"#fdca26\"],[1.0,\"#f0f921\"]],\"type\":\"histogram2d\"}],\"histogram2dcontour\":[{\"colorbar\":{\"outlinewidth\":0,\"ticks\":\"\"},\"colorscale\":[[0.0,\"#0d0887\"],[0.1111111111111111,\"#46039f\"],[0.2222222222222222,\"#7201a8\"],[0.3333333333333333,\"#9c179e\"],[0.4444444444444444,\"#bd3786\"],[0.5555555555555556,\"#d8576b\"],[0.6666666666666666,\"#ed7953\"],[0.7777777777777778,\"#fb9f3a\"],[0.8888888888888888,\"#fdca26\"],[1.0,\"#f0f921\"]],\"type\":\"histogram2dcontour\"}],\"mesh3d\":[{\"colorbar\":{\"outlinewidth\":0,\"ticks\":\"\"},\"type\":\"mesh3d\"}],\"parcoords\":[{\"line\":{\"colorbar\":{\"outlinewidth\":0,\"ticks\":\"\"}},\"type\":\"parcoords\"}],\"pie\":[{\"automargin\":true,\"type\":\"pie\"}],\"scatter\":[{\"marker\":{\"colorbar\":{\"outlinewidth\":0,\"ticks\":\"\"}},\"type\":\"scatter\"}],\"scatter3d\":[{\"line\":{\"colorbar\":{\"outlinewidth\":0,\"ticks\":\"\"}},\"marker\":{\"colorbar\":{\"outlinewidth\":0,\"ticks\":\"\"}},\"type\":\"scatter3d\"}],\"scattercarpet\":[{\"marker\":{\"colorbar\":{\"outlinewidth\":0,\"ticks\":\"\"}},\"type\":\"scattercarpet\"}],\"scattergeo\":[{\"marker\":{\"colorbar\":{\"outlinewidth\":0,\"ticks\":\"\"}},\"type\":\"scattergeo\"}],\"scattergl\":[{\"marker\":{\"colorbar\":{\"outlinewidth\":0,\"ticks\":\"\"}},\"type\":\"scattergl\"}],\"scattermapbox\":[{\"marker\":{\"colorbar\":{\"outlinewidth\":0,\"ticks\":\"\"}},\"type\":\"scattermapbox\"}],\"scatterpolar\":[{\"marker\":{\"colorbar\":{\"outlinewidth\":0,\"ticks\":\"\"}},\"type\":\"scatterpolar\"}],\"scatterpolargl\":[{\"marker\":{\"colorbar\":{\"outlinewidth\":0,\"ticks\":\"\"}},\"type\":\"scatterpolargl\"}],\"scatterternary\":[{\"marker\":{\"colorbar\":{\"outlinewidth\":0,\"ticks\":\"\"}},\"type\":\"scatterternary\"}],\"surface\":[{\"colorbar\":{\"outlinewidth\":0,\"ticks\":\"\"},\"colorscale\":[[0.0,\"#0d0887\"],[0.1111111111111111,\"#46039f\"],[0.2222222222222222,\"#7201a8\"],[0.3333333333333333,\"#9c179e\"],[0.4444444444444444,\"#bd3786\"],[0.5555555555555556,\"#d8576b\"],[0.6666666666666666,\"#ed7953\"],[0.7777777777777778,\"#fb9f3a\"],[0.8888888888888888,\"#fdca26\"],[1.0,\"#f0f921\"]],\"type\":\"surface\"}],\"table\":[{\"cells\":{\"fill\":{\"color\":\"#EBF0F8\"},\"line\":{\"color\":\"white\"}},\"header\":{\"fill\":{\"color\":\"#C8D4E3\"},\"line\":{\"color\":\"white\"}},\"type\":\"table\"}]},\"layout\":{\"annotationdefaults\":{\"arrowcolor\":\"#2a3f5f\",\"arrowhead\":0,\"arrowwidth\":1},\"autotypenumbers\":\"strict\",\"coloraxis\":{\"colorbar\":{\"outlinewidth\":0,\"ticks\":\"\"}},\"colorscale\":{\"diverging\":[[0,\"#8e0152\"],[0.1,\"#c51b7d\"],[0.2,\"#de77ae\"],[0.3,\"#f1b6da\"],[0.4,\"#fde0ef\"],[0.5,\"#f7f7f7\"],[0.6,\"#e6f5d0\"],[0.7,\"#b8e186\"],[0.8,\"#7fbc41\"],[0.9,\"#4d9221\"],[1,\"#276419\"]],\"sequential\":[[0.0,\"#0d0887\"],[0.1111111111111111,\"#46039f\"],[0.2222222222222222,\"#7201a8\"],[0.3333333333333333,\"#9c179e\"],[0.4444444444444444,\"#bd3786\"],[0.5555555555555556,\"#d8576b\"],[0.6666666666666666,\"#ed7953\"],[0.7777777777777778,\"#fb9f3a\"],[0.8888888888888888,\"#fdca26\"],[1.0,\"#f0f921\"]],\"sequentialminus\":[[0.0,\"#0d0887\"],[0.1111111111111111,\"#46039f\"],[0.2222222222222222,\"#7201a8\"],[0.3333333333333333,\"#9c179e\"],[0.4444444444444444,\"#bd3786\"],[0.5555555555555556,\"#d8576b\"],[0.6666666666666666,\"#ed7953\"],[0.7777777777777778,\"#fb9f3a\"],[0.8888888888888888,\"#fdca26\"],[1.0,\"#f0f921\"]]},\"colorway\":[\"#636efa\",\"#EF553B\",\"#00cc96\",\"#ab63fa\",\"#FFA15A\",\"#19d3f3\",\"#FF6692\",\"#B6E880\",\"#FF97FF\",\"#FECB52\"],\"font\":{\"color\":\"#2a3f5f\"},\"geo\":{\"bgcolor\":\"white\",\"lakecolor\":\"white\",\"landcolor\":\"#E5ECF6\",\"showlakes\":true,\"showland\":true,\"subunitcolor\":\"white\"},\"hoverlabel\":{\"align\":\"left\"},\"hovermode\":\"closest\",\"mapbox\":{\"style\":\"light\"},\"paper_bgcolor\":\"white\",\"plot_bgcolor\":\"#E5ECF6\",\"polar\":{\"angularaxis\":{\"gridcolor\":\"white\",\"linecolor\":\"white\",\"ticks\":\"\"},\"bgcolor\":\"#E5ECF6\",\"radialaxis\":{\"gridcolor\":\"white\",\"linecolor\":\"white\",\"ticks\":\"\"}},\"scene\":{\"xaxis\":{\"backgroundcolor\":\"#E5ECF6\",\"gridcolor\":\"white\",\"gridwidth\":2,\"linecolor\":\"white\",\"showbackground\":true,\"ticks\":\"\",\"zerolinecolor\":\"white\"},\"yaxis\":{\"backgroundcolor\":\"#E5ECF6\",\"gridcolor\":\"white\",\"gridwidth\":2,\"linecolor\":\"white\",\"showbackground\":true,\"ticks\":\"\",\"zerolinecolor\":\"white\"},\"zaxis\":{\"backgroundcolor\":\"#E5ECF6\",\"gridcolor\":\"white\",\"gridwidth\":2,\"linecolor\":\"white\",\"showbackground\":true,\"ticks\":\"\",\"zerolinecolor\":\"white\"}},\"shapedefaults\":{\"line\":{\"color\":\"#2a3f5f\"}},\"ternary\":{\"aaxis\":{\"gridcolor\":\"white\",\"linecolor\":\"white\",\"ticks\":\"\"},\"baxis\":{\"gridcolor\":\"white\",\"linecolor\":\"white\",\"ticks\":\"\"},\"bgcolor\":\"#E5ECF6\",\"caxis\":{\"gridcolor\":\"white\",\"linecolor\":\"white\",\"ticks\":\"\"}},\"title\":{\"x\":0.05},\"xaxis\":{\"automargin\":true,\"gridcolor\":\"white\",\"linecolor\":\"white\",\"ticks\":\"\",\"title\":{\"standoff\":15},\"zerolinecolor\":\"white\",\"zerolinewidth\":2},\"yaxis\":{\"automargin\":true,\"gridcolor\":\"white\",\"linecolor\":\"white\",\"ticks\":\"\",\"title\":{\"standoff\":15},\"zerolinecolor\":\"white\",\"zerolinewidth\":2}}},\"xaxis\":{\"anchor\":\"y\",\"domain\":[0.0,1.0],\"title\":{\"text\":\"candle_date_time_kst\"}},\"yaxis\":{\"anchor\":\"x\",\"domain\":[0.0,1.0],\"title\":{\"text\":\"trade_price\"}}},                        {\"responsive\": true}                    ).then(function(){\n",
       "                            \n",
       "var gd = document.getElementById('df95167a-683c-46d7-ac9b-bd18475e24a6');\n",
       "var x = new MutationObserver(function (mutations, observer) {{\n",
       "        var display = window.getComputedStyle(gd).display;\n",
       "        if (!display || display === 'none') {{\n",
       "            console.log([gd, 'removed!']);\n",
       "            Plotly.purge(gd);\n",
       "            observer.disconnect();\n",
       "        }}\n",
       "}});\n",
       "\n",
       "// Listen for the removal of the full notebook cells\n",
       "var notebookContainer = gd.closest('#notebook-container');\n",
       "if (notebookContainer) {{\n",
       "    x.observe(notebookContainer, {childList: true});\n",
       "}}\n",
       "\n",
       "// Listen for the clearing of the current output cell\n",
       "var outputEl = gd.closest('.output');\n",
       "if (outputEl) {{\n",
       "    x.observe(outputEl, {childList: true});\n",
       "}}\n",
       "\n",
       "                        })                };                });            </script>        </div>"
      ]
     },
     "metadata": {},
     "output_type": "display_data"
    }
   ],
   "source": [
    "fig = px.scatter(my_df[my_df.market=='XRP'],\n",
    "                x = 'candle_date_time_kst',\n",
    "                 y = 'trade_price'\n",
    "                )\n",
    "plotly.offline.iplot(fig)"
   ]
  },
  {
   "cell_type": "code",
   "execution_count": 65,
   "metadata": {},
   "outputs": [
    {
     "data": {
      "application/vnd.plotly.v1+json": {
       "config": {
        "linkText": "Export to plot.ly",
        "plotlyServerURL": "https://plot.ly",
        "showLink": false
       },
       "data": [
        {
         "hovertemplate": "market=BTC<br>candle_date_time_kst=%{x}<br>candle_acc_trade_price=%{y}<extra></extra>",
         "legendgroup": "BTC",
         "marker": {
          "color": "#636efa",
          "symbol": "circle"
         },
         "mode": "markers",
         "name": "BTC",
         "orientation": "v",
         "showlegend": true,
         "type": "scatter",
         "x": [
          "2021-11-15",
          "2021-11-14",
          "2021-11-13",
          "2021-11-12",
          "2021-11-11",
          "2021-11-10",
          "2021-11-09",
          "2021-11-08",
          "2021-11-07",
          "2021-11-06",
          "2021-11-05",
          "2021-11-04",
          "2021-11-03",
          "2021-11-02",
          "2021-11-01",
          "2021-10-31",
          "2021-10-30",
          "2021-10-29",
          "2021-10-28",
          "2021-10-27",
          "2021-10-26",
          "2021-10-25",
          "2021-10-24",
          "2021-10-23",
          "2021-10-22",
          "2021-10-21",
          "2021-10-20",
          "2021-10-19",
          "2021-10-18",
          "2021-10-17",
          "2021-10-16",
          "2021-10-15",
          "2021-10-14",
          "2021-10-13",
          "2021-10-12",
          "2021-10-11",
          "2021-10-10",
          "2021-10-09",
          "2021-10-08",
          "2021-10-07",
          "2021-10-06",
          "2021-10-05",
          "2021-10-04",
          "2021-10-03",
          "2021-10-02",
          "2021-10-01",
          "2021-09-30",
          "2021-09-29",
          "2021-09-28",
          "2021-09-27",
          "2021-09-26",
          "2021-09-25",
          "2021-09-24",
          "2021-09-23",
          "2021-09-22",
          "2021-09-21",
          "2021-09-20",
          "2021-09-19",
          "2021-09-18",
          "2021-09-17",
          "2021-09-16",
          "2021-09-15",
          "2021-09-14",
          "2021-09-13",
          "2021-09-12",
          "2021-09-11",
          "2021-09-10",
          "2021-09-09",
          "2021-09-08",
          "2021-09-07",
          "2021-09-06",
          "2021-09-05",
          "2021-09-04",
          "2021-09-03",
          "2021-09-02",
          "2021-09-01",
          "2021-08-31",
          "2021-08-30",
          "2021-08-29",
          "2021-08-28",
          "2021-08-27",
          "2021-08-26",
          "2021-08-25",
          "2021-08-24",
          "2021-08-23",
          "2021-08-22",
          "2021-08-21",
          "2021-08-20",
          "2021-08-19",
          "2021-08-18",
          "2021-08-17",
          "2021-08-16",
          "2021-08-15",
          "2021-08-14",
          "2021-08-13",
          "2021-08-12",
          "2021-08-11",
          "2021-08-10",
          "2021-08-09",
          "2021-08-08",
          "2021-08-07",
          "2021-08-06",
          "2021-08-05",
          "2021-08-04",
          "2021-08-03",
          "2021-08-02",
          "2021-08-01",
          "2021-07-31",
          "2021-07-30",
          "2021-07-29",
          "2021-07-28",
          "2021-07-27",
          "2021-07-26",
          "2021-07-25",
          "2021-07-24",
          "2021-07-23",
          "2021-07-22",
          "2021-07-21",
          "2021-07-20",
          "2021-07-19",
          "2021-07-18",
          "2021-07-17",
          "2021-07-16",
          "2021-07-15",
          "2021-07-14",
          "2021-07-13",
          "2021-07-12",
          "2021-07-11",
          "2021-07-10",
          "2021-07-09",
          "2021-07-08",
          "2021-07-07",
          "2021-07-06",
          "2021-07-05",
          "2021-07-04",
          "2021-07-03",
          "2021-07-02",
          "2021-07-01",
          "2021-06-30",
          "2021-06-29",
          "2021-06-28",
          "2021-06-27",
          "2021-06-26",
          "2021-06-25",
          "2021-06-24",
          "2021-06-23",
          "2021-06-22",
          "2021-06-21",
          "2021-06-20",
          "2021-06-19",
          "2021-06-18",
          "2021-06-17",
          "2021-06-16",
          "2021-06-15",
          "2021-06-14",
          "2021-06-13",
          "2021-06-12",
          "2021-06-11",
          "2021-06-10",
          "2021-06-09",
          "2021-06-08",
          "2021-06-07",
          "2021-06-06",
          "2021-06-05",
          "2021-06-04",
          "2021-06-03",
          "2021-06-02",
          "2021-06-01",
          "2021-05-31",
          "2021-05-30",
          "2021-05-29",
          "2021-05-28",
          "2021-05-27",
          "2021-05-26",
          "2021-05-25",
          "2021-05-24",
          "2021-05-23",
          "2021-05-22",
          "2021-05-21",
          "2021-05-20",
          "2021-05-19",
          "2021-05-18",
          "2021-05-17",
          "2021-05-16",
          "2021-05-15",
          "2021-05-14",
          "2021-05-13",
          "2021-05-12",
          "2021-05-11",
          "2021-05-10",
          "2021-05-09",
          "2021-05-08",
          "2021-05-07",
          "2021-05-06",
          "2021-05-05",
          "2021-05-04",
          "2021-05-03",
          "2021-05-02",
          "2021-05-01",
          "2021-04-30"
         ],
         "xaxis": "x",
         "y": [
          159220034467.2528,
          300107299012.1013,
          338562919987.8282,
          555556239586.2133,
          566786888469.356,
          1059561087264.0406,
          749642408219.2787,
          726433660922.1797,
          335634172962.1655,
          277629666879.828,
          410709736765.99615,
          426469535512.6226,
          586147364013.1627,
          567138389401.7821,
          459799779805.7788,
          547624687479.1433,
          443974248919.1151,
          529148496573.07806,
          630325919861.4268,
          1053620820854.7567,
          619824450361.118,
          521225048265.0583,
          454814496440.7718,
          529341477417.07855,
          903371302135.1926,
          1225371802278.793,
          1152411111515.1873,
          696401614018.545,
          632688540533.9479,
          404990697637.63635,
          589288907263.0604,
          1145452749698.3083,
          447309084626.59393,
          587847809013.9847,
          628672206653.5323,
          657471668000.4491,
          375920524221.4952,
          337726926141.7395,
          559268632990.6614,
          584191782622.2512,
          864584706843.0698,
          596248479174.788,
          392304690362.0932,
          262002063227.56482,
          283012282143.45593,
          526629015325.6079,
          353760846438.2255,
          265067157875.95703,
          318673200792.9927,
          262697515793.77594,
          310948126899.37146,
          226758630503.67758,
          602952735214.0181,
          415384854012.3932,
          467187185035.5327,
          602640099332.8099,
          608008065738.9528,
          279811883170.7576,
          288291394889.2499,
          397042475608.0333,
          305839184427.866,
          295924748212.92676,
          333704711921.34143,
          419768907821.3112,
          244803798485.11185,
          233572715191.50043,
          587118672586.7328,
          418872318710.8933,
          701590969807.58,
          1160638810012.4539,
          426546418425.84424,
          439317277734.582,
          419279027038.78033,
          667571204414.9666,
          515970812918.00903,
          505247782246.04785,
          616516258003.1985,
          827526275068.3098,
          664765748254.3783,
          318695080890.53296,
          466075659839.3081,
          527838423776.14746,
          628614221129.9324,
          960959159079.5452,
          637195815103.7274,
          420622994566.5057,
          526538062801.1975,
          702429945452.2936,
          744124182994.7227,
          757953791475.3573,
          505480406480.1733,
          470451841173.91284,
          470845007276.4989,
          570678967849.8423,
          619038294155.9808,
          691538686333.4755,
          579202786491.2515,
          520878470417.8687,
          545486912751.485,
          456213636723.8092,
          550505738787.5818,
          453840993289.6811,
          473390293840.28876,
          291363934837.11224,
          335516584182.57196,
          327175849671.0313,
          325989173859.44476,
          248552503038.62796,
          426284796838.65125,
          272164212254.33475,
          547717509631.0625,
          467385408621.45624,
          803409465489.3989,
          190643539619.3983,
          196353164978.12585,
          176644365075.1862,
          159613929614.47318,
          253633310553.2038,
          248406330735.08133,
          155861957828.68225,
          138465617249.63922,
          131612696296.66388,
          213113548297.35504,
          280398778393.4886,
          249612588010.58618,
          178535501090.68716,
          213052051083.5768,
          155055694807.25595,
          165740052954.24866,
          240777153564.4225,
          318404853880.8934,
          231746067905.13364,
          250893123484.22366,
          345601003050.7225,
          204137532775.4473,
          196728282036.98206,
          250379065205.81564,
          360194809356.23663,
          374038855427.6796,
          540488614539.7225,
          507423356322.17267,
          477496599478.453,
          487595538776.1035,
          565595835274.6146,
          460328834123.54083,
          690395108283.8069,
          1100785783862.6877,
          900832746987.2739,
          542727572730.78064,
          396532888799.2468,
          663473218674.1248,
          485762760742.5949,
          492179952272.6588,
          489978887151.35284,
          868311615872.6334,
          531122435073.5828,
          659035780813.1942,
          703961074389.3296,
          698112613625.4917,
          724591188555.2808,
          476604724981.6908,
          351349641054.2827,
          200516487181.42853,
          293546032639.7488,
          423885446287.57837,
          393358009291.04706,
          321717797672.648,
          394830519477.33984,
          433619356290.74396,
          390380846749.335,
          455335455609.8606,
          653789886693.8527,
          485327245758.55164,
          542898496923.52856,
          719724304376.1548,
          997947887508.5018,
          1183273079066.374,
          776466334420.9885,
          1096343126565.4725,
          1086531552690.5686,
          1999142167043.8147,
          824428496120.5553,
          1490995015415.6033,
          967020553997.1249,
          1059012110721.2826,
          821862466125.797,
          1422951884853.1233,
          1505870407356.399,
          827117926967.4032,
          937362461910.9203,
          843543861353.1299,
          881406410488.2178,
          819830312855.9326,
          904068945799.3906,
          804024775720.5424,
          868911421472.1168,
          658850341681.7671,
          543840573039.7181,
          678036571369.5531,
          1197640896050.342
         ],
         "yaxis": "y"
        },
        {
         "hovertemplate": "market=ETH<br>candle_date_time_kst=%{x}<br>candle_acc_trade_price=%{y}<extra></extra>",
         "legendgroup": "ETH",
         "marker": {
          "color": "#EF553B",
          "symbol": "circle"
         },
         "mode": "markers",
         "name": "ETH",
         "orientation": "v",
         "showlegend": true,
         "type": "scatter",
         "x": [
          "2021-11-15",
          "2021-11-14",
          "2021-11-13",
          "2021-11-12",
          "2021-11-11",
          "2021-11-10",
          "2021-11-09",
          "2021-11-08",
          "2021-11-07",
          "2021-11-06",
          "2021-11-05",
          "2021-11-04",
          "2021-11-03",
          "2021-11-02",
          "2021-11-01",
          "2021-10-31",
          "2021-10-30",
          "2021-10-29",
          "2021-10-28",
          "2021-10-27",
          "2021-10-26",
          "2021-10-25",
          "2021-10-24",
          "2021-10-23",
          "2021-10-22",
          "2021-10-21",
          "2021-10-20",
          "2021-10-19",
          "2021-10-18",
          "2021-10-17",
          "2021-10-16",
          "2021-10-15",
          "2021-10-14",
          "2021-10-13",
          "2021-10-12",
          "2021-10-11",
          "2021-10-10",
          "2021-10-09",
          "2021-10-08",
          "2021-10-07",
          "2021-10-06",
          "2021-10-05",
          "2021-10-04",
          "2021-10-03",
          "2021-10-02",
          "2021-10-01",
          "2021-09-30",
          "2021-09-29",
          "2021-09-28",
          "2021-09-27",
          "2021-09-26",
          "2021-09-25",
          "2021-09-24",
          "2021-09-23",
          "2021-09-22",
          "2021-09-21",
          "2021-09-20",
          "2021-09-19",
          "2021-09-18",
          "2021-09-17",
          "2021-09-16",
          "2021-09-15",
          "2021-09-14",
          "2021-09-13",
          "2021-09-12",
          "2021-09-11",
          "2021-09-10",
          "2021-09-09",
          "2021-09-08",
          "2021-09-07",
          "2021-09-06",
          "2021-09-05",
          "2021-09-04",
          "2021-09-03",
          "2021-09-02",
          "2021-09-01",
          "2021-08-31",
          "2021-08-30",
          "2021-08-29",
          "2021-08-28",
          "2021-08-27",
          "2021-08-26",
          "2021-08-25",
          "2021-08-24",
          "2021-08-23",
          "2021-08-22",
          "2021-08-21",
          "2021-08-20",
          "2021-08-19",
          "2021-08-18",
          "2021-08-17",
          "2021-08-16",
          "2021-08-15",
          "2021-08-14",
          "2021-08-13",
          "2021-08-12",
          "2021-08-11",
          "2021-08-10",
          "2021-08-09",
          "2021-08-08",
          "2021-08-07",
          "2021-08-06",
          "2021-08-05",
          "2021-08-04",
          "2021-08-03",
          "2021-08-02",
          "2021-08-01",
          "2021-07-31",
          "2021-07-30",
          "2021-07-29",
          "2021-07-28",
          "2021-07-27",
          "2021-07-26",
          "2021-07-25",
          "2021-07-24",
          "2021-07-23",
          "2021-07-22",
          "2021-07-21",
          "2021-07-20",
          "2021-07-19",
          "2021-07-18",
          "2021-07-17",
          "2021-07-16",
          "2021-07-15",
          "2021-07-14",
          "2021-07-13",
          "2021-07-12",
          "2021-07-11",
          "2021-07-10",
          "2021-07-09",
          "2021-07-08",
          "2021-07-07",
          "2021-07-06",
          "2021-07-05",
          "2021-07-04",
          "2021-07-03",
          "2021-07-02",
          "2021-07-01",
          "2021-06-30",
          "2021-06-29",
          "2021-06-28",
          "2021-06-27",
          "2021-06-26",
          "2021-06-25",
          "2021-06-24",
          "2021-06-23",
          "2021-06-22",
          "2021-06-21",
          "2021-06-20",
          "2021-06-19",
          "2021-06-18",
          "2021-06-17",
          "2021-06-16",
          "2021-06-15",
          "2021-06-14",
          "2021-06-13",
          "2021-06-12",
          "2021-06-11",
          "2021-06-10",
          "2021-06-09",
          "2021-06-08",
          "2021-06-07",
          "2021-06-06",
          "2021-06-05",
          "2021-06-04",
          "2021-06-03",
          "2021-06-02",
          "2021-06-01",
          "2021-05-31",
          "2021-05-30",
          "2021-05-29",
          "2021-05-28",
          "2021-05-27",
          "2021-05-26",
          "2021-05-25",
          "2021-05-24",
          "2021-05-23",
          "2021-05-22",
          "2021-05-21",
          "2021-05-20",
          "2021-05-19",
          "2021-05-18",
          "2021-05-17",
          "2021-05-16",
          "2021-05-15",
          "2021-05-14",
          "2021-05-13",
          "2021-05-12",
          "2021-05-11",
          "2021-05-10",
          "2021-05-09",
          "2021-05-08",
          "2021-05-07",
          "2021-05-06",
          "2021-05-05",
          "2021-05-04",
          "2021-05-03",
          "2021-05-02",
          "2021-05-01",
          "2021-04-30"
         ],
         "xaxis": "x",
         "y": [
          78221897305.65968,
          146072710246.8613,
          137596291422.06866,
          232474640330.14267,
          182119911755.13028,
          305465774047.56573,
          238691328217.70242,
          266979502141.64648,
          177319886283.71786,
          160319073043.9024,
          151629484550.508,
          205979407870.66748,
          347528201365.3987,
          280017813894.83636,
          233725968624.62253,
          281826473024.4842,
          273357091145.8974,
          386834324491.0435,
          389622856218.3352,
          631220160658.3412,
          238994829384.73407,
          219388214860.96375,
          234017892375.53418,
          238623560870.26364,
          359555603946.8616,
          676797579861.6123,
          438579355717.2174,
          207640659534.97238,
          291810115964.4838,
          208715975553.71063,
          308397464751.61365,
          539609933228.682,
          358067671907.0831,
          222157958940.40482,
          237046950424.48795,
          267656682959.52792,
          209124048893.8007,
          211692940860.13815,
          249703652413.8403,
          306157507218.3364,
          463530984640.3398,
          237037580196.11484,
          313965525768.4938,
          226284602771.63962,
          310046644076.15094,
          435815987441.9341,
          276395058728.96576,
          252226869935.40793,
          287466551336.2194,
          264914242972.37918,
          351354919812.99756,
          239843697370.0372,
          561468045194.0671,
          285954230654.7203,
          487707924730.9856,
          548292363214.72394,
          460106772106.924,
          159247478044.78348,
          186250974251.14975,
          206257974240.66153,
          255465585807.808,
          241255684343.3423,
          229250837844.29364,
          310559045860.00635,
          224199100100.73798,
          187373646957.0005,
          293061884865.1622,
          340627260973.9397,
          637112231361.736,
          725036994646.9696,
          224934930304.10318,
          264216739436.9795,
          245417783694.46344,
          506704052544.2546,
          381736367877.3315,
          469598353152.9055,
          462958009358.35486,
          242761250108.21536,
          153206252462.62448,
          126832493074.02942,
          240492097989.16327,
          211525916720.56586,
          216845533151.00006,
          253654285759.37134,
          266338101753.23233,
          164998005418.9627,
          207398941489.807,
          277612581119.2961,
          242122620914.19943,
          316960877161.5819,
          375349442268.6118,
          301894605393.39307,
          340990734861.0243,
          353021968945.9169,
          365696427229.6522,
          420468262838.4277,
          374760206631.721,
          407967932635.51624,
          578049761886.48,
          477474148386.25085,
          637889741542.0231,
          432774499595.59863,
          602537559242.0311,
          428410038024.2992,
          328622597233.4473,
          379839556675.71814,
          405572279152.66205,
          204802728755.01492,
          296073934526.9484,
          173108289409.06036,
          285401045880.2916,
          344621023245.539,
          591630022820.6019,
          190185947696.98102,
          241932601738.99347,
          230182268003.91473,
          257937374511.5761,
          297709321964.76416,
          235311660613.32364,
          164247894592.98883,
          183419661606.13712,
          130741613603.59885,
          199600338647.20944,
          226005120365.96622,
          288011496486.9021,
          232769853774.86353,
          219998321347.601,
          146589416465.74066,
          187596564607.91656,
          399734968934.0822,
          445708240269.03485,
          327425034153.91486,
          370673251054.51044,
          369393132595.3255,
          296505312170.9016,
          218733102356.8193,
          264316656387.39978,
          295589660060.8773,
          302316464042.252,
          421719882599.3853,
          422227790574.71796,
          229100026212.6931,
          242672127131.07568,
          376420393417.96606,
          298748436191.6847,
          412364221779.2897,
          797637607328.7639,
          834733781589.3977,
          430022088013.02045,
          270022343122.36798,
          377962727892.8167,
          282686132106.5892,
          362568900433.42755,
          362154960481.9362,
          385503772032.209,
          357991390092.19855,
          413889143562.0191,
          370266535008.4074,
          440866744902.1117,
          793764725336.5243,
          918699761367.9835,
          555043389052.2152,
          298427670383.13794,
          489870365625.5104,
          712440850969.137,
          704583243443.1882,
          553482944002.979,
          763185381229.2422,
          835448065527.1637,
          721868210867.2491,
          683249629398.7031,
          949024832176.3608,
          694566749537.4719,
          929090339914.8389,
          1260730917545.561,
          1492977593406.986,
          1348599674408.384,
          943220470512.9398,
          1169649775528.3198,
          1537925790162.1963,
          3227655887086.854,
          1057140201998.2845,
          2130601458162.87,
          1233375239427.204,
          1060321708835.3027,
          1108765327766.837,
          2344032546896.112,
          1872164987670.6833,
          1376765944226.234,
          1908566147572.5464,
          1461415281796.7534,
          1654977940066.3242,
          479487636139.0343,
          661148663931.7458,
          1094704602430.7098,
          2423051217156.3506,
          1336257332272.6602,
          419483944118.4409,
          455532327989.2353,
          384898322477.69244
         ],
         "yaxis": "y"
        },
        {
         "hovertemplate": "market=XRP<br>candle_date_time_kst=%{x}<br>candle_acc_trade_price=%{y}<extra></extra>",
         "legendgroup": "XRP",
         "marker": {
          "color": "#00cc96",
          "symbol": "circle"
         },
         "mode": "markers",
         "name": "XRP",
         "orientation": "v",
         "showlegend": true,
         "type": "scatter",
         "x": [
          "2021-11-15",
          "2021-11-14",
          "2021-11-13",
          "2021-11-12",
          "2021-11-11",
          "2021-11-10",
          "2021-11-09",
          "2021-11-08",
          "2021-11-07",
          "2021-11-06",
          "2021-11-05",
          "2021-11-04",
          "2021-11-03",
          "2021-11-02",
          "2021-11-01",
          "2021-10-31",
          "2021-10-30",
          "2021-10-29",
          "2021-10-28",
          "2021-10-27",
          "2021-10-26",
          "2021-10-25",
          "2021-10-24",
          "2021-10-23",
          "2021-10-22",
          "2021-10-21",
          "2021-10-20",
          "2021-10-19",
          "2021-10-18",
          "2021-10-17",
          "2021-10-16",
          "2021-10-15",
          "2021-10-14",
          "2021-10-13",
          "2021-10-12",
          "2021-10-11",
          "2021-10-10",
          "2021-10-09",
          "2021-10-08",
          "2021-10-07",
          "2021-10-06",
          "2021-10-05",
          "2021-10-04",
          "2021-10-03",
          "2021-10-02",
          "2021-10-01",
          "2021-09-30",
          "2021-09-29",
          "2021-09-28",
          "2021-09-27",
          "2021-09-26",
          "2021-09-25",
          "2021-09-24",
          "2021-09-23",
          "2021-09-22",
          "2021-09-21",
          "2021-09-20",
          "2021-09-19",
          "2021-09-18",
          "2021-09-17",
          "2021-09-16",
          "2021-09-15",
          "2021-09-14",
          "2021-09-13",
          "2021-09-12",
          "2021-09-11",
          "2021-09-10",
          "2021-09-09",
          "2021-09-08",
          "2021-09-07",
          "2021-09-06",
          "2021-09-05",
          "2021-09-04",
          "2021-09-03",
          "2021-09-02",
          "2021-09-01",
          "2021-08-31",
          "2021-08-30",
          "2021-08-29",
          "2021-08-28",
          "2021-08-27",
          "2021-08-26",
          "2021-08-25",
          "2021-08-24",
          "2021-08-23",
          "2021-08-22",
          "2021-08-21",
          "2021-08-20",
          "2021-08-19",
          "2021-08-18",
          "2021-08-17",
          "2021-08-16",
          "2021-08-15",
          "2021-08-14",
          "2021-08-13",
          "2021-08-12",
          "2021-08-11",
          "2021-08-10",
          "2021-08-09",
          "2021-08-08",
          "2021-08-07",
          "2021-08-06",
          "2021-08-05",
          "2021-08-04",
          "2021-08-03",
          "2021-08-02",
          "2021-08-01",
          "2021-07-31",
          "2021-07-30",
          "2021-07-29",
          "2021-07-28",
          "2021-07-27",
          "2021-07-26",
          "2021-07-25",
          "2021-07-24",
          "2021-07-23",
          "2021-07-22",
          "2021-07-21",
          "2021-07-20",
          "2021-07-19",
          "2021-07-18",
          "2021-07-17",
          "2021-07-16",
          "2021-07-15",
          "2021-07-14",
          "2021-07-13",
          "2021-07-12",
          "2021-07-11",
          "2021-07-10",
          "2021-07-09",
          "2021-07-08",
          "2021-07-07",
          "2021-07-06",
          "2021-07-05",
          "2021-07-04",
          "2021-07-03",
          "2021-07-02",
          "2021-07-01",
          "2021-06-30",
          "2021-06-29",
          "2021-06-28",
          "2021-06-27",
          "2021-06-26",
          "2021-06-25",
          "2021-06-24",
          "2021-06-23",
          "2021-06-22",
          "2021-06-21",
          "2021-06-20",
          "2021-06-19",
          "2021-06-18",
          "2021-06-17",
          "2021-06-16",
          "2021-06-15",
          "2021-06-14",
          "2021-06-13",
          "2021-06-12",
          "2021-06-11",
          "2021-06-10",
          "2021-06-09",
          "2021-06-08",
          "2021-06-07",
          "2021-06-06",
          "2021-06-05",
          "2021-06-04",
          "2021-06-03",
          "2021-06-02",
          "2021-06-01",
          "2021-05-31",
          "2021-05-30",
          "2021-05-29",
          "2021-05-28",
          "2021-05-27",
          "2021-05-26",
          "2021-05-25",
          "2021-05-24",
          "2021-05-23",
          "2021-05-22",
          "2021-05-21",
          "2021-05-20",
          "2021-05-19",
          "2021-05-18",
          "2021-05-17",
          "2021-05-16",
          "2021-05-15",
          "2021-05-14",
          "2021-05-13",
          "2021-05-12",
          "2021-05-11",
          "2021-05-10",
          "2021-05-09",
          "2021-05-08",
          "2021-05-07",
          "2021-05-06",
          "2021-05-05",
          "2021-05-04",
          "2021-05-03",
          "2021-05-02",
          "2021-05-01",
          "2021-04-30"
         ],
         "xaxis": "x",
         "y": [
          109654693300.85738,
          166591709869.85925,
          205862917269.03732,
          430648055210.34064,
          505516879616.9381,
          1078259809214.0088,
          541022160646.9659,
          738496660256.9849,
          357947117955.0322,
          217512910963.94482,
          299088019728.2816,
          528945290298.50183,
          911593029181.9917,
          357440279894.6139,
          294852903364.34515,
          521943785402.275,
          334417113285.4333,
          291862883568.0228,
          555927156869.9039,
          868181714416.3905,
          330752512289.286,
          181676199807.2572,
          189442343935.82767,
          152516768671.78656,
          377224464488.4804,
          488856291404.53143,
          399836221150.404,
          208714477829.40262,
          312103650753.0035,
          291580596283.2794,
          449030245742.1271,
          911586024421.1409,
          300170045341.7622,
          383755791405.6696,
          500178547095.75116,
          378894020795.0173,
          684651813249.314,
          712977004587.5927,
          320191402110.8445,
          372140197219.91095,
          594300201273.0192,
          471626660696.53,
          416063338310.17053,
          463128345408.2864,
          352817438142.4774,
          667987709714.2474,
          305215085044.6861,
          507322204021.62415,
          280421576078.9201,
          246897106965.27814,
          271968034741.79257,
          228724885237.19162,
          570718071175.5764,
          468895751795.81885,
          667600235476.4943,
          630798961391.194,
          834166052361.4424,
          156726792833.41296,
          163452442153.21597,
          285617114410.88306,
          256140668400.88748,
          244012897620.13223,
          278276489709.1692,
          521875695489.7954,
          352234314020.1229,
          380380238895.5591,
          1566603406717.365,
          643944795345.5967,
          1247023461428.9521,
          1895497971813.0005,
          1144708702490.6794,
          467132241587.60944,
          398793811958.01404,
          687285955759.5844,
          602538212927.4459,
          521083311646.47766,
          777635461912.6624,
          300590843084.7815,
          388473396680.1417,
          349183452575.48364,
          670534311273.0382,
          621426367671.155,
          553051453207.7014,
          648130565035.5757,
          781505703525.9249,
          426036719504.7894,
          589291589551.1038,
          791522020988.7227,
          713058171926.7667,
          944567579311.5413,
          985428878016.8679,
          922777535995.7373,
          1496412260780.7437,
          1677352389885.1113,
          603738865843.3368,
          774844880440.0726,
          770272375322.8385,
          489513291125.9911,
          340046294310.59766,
          390373562472.00104,
          492487339259.1751,
          165379188845.84985,
          168968579012.24387,
          186817539141.6745,
          202297247157.25107,
          258920866708.74268,
          265563488825.89594,
          171286815250.3964,
          375641673168.2566,
          439186809714.25775,
          1320443265498.8223,
          225866367330.38873,
          471238176424.5466,
          127736005923.37376,
          173375182440.7672,
          238237790767.2208,
          316322317613.2824,
          277516908360.75745,
          273740644296.5553,
          172327913300.125,
          139708818369.1236,
          176918694560.68314,
          220982639396.78314,
          182598268626.16693,
          260523838997.1651,
          172566708838.38943,
          216510949577.42697,
          106966037931.79066,
          132727706563.75569,
          290138252334.0264,
          245262260859.20932,
          168790445697.49316,
          202504671909.4188,
          324500387675.0221,
          234208936329.59122,
          217047350605.65448,
          222472415425.64835,
          337037224126.9119,
          396706344083.8116,
          658711352093.8029,
          340969144235.8475,
          290799626589.0431,
          361139109083.18677,
          676196748332.8708,
          648006292818.494,
          1074647466013.8358,
          1361201220783.2117,
          1122919819076.3127,
          591385095872.3951,
          252116734860.0916,
          298357721871.23224,
          214962666490.34344,
          326058348348.59045,
          240987794538.63916,
          332745313607.10126,
          226904985023.67505,
          305480693616.9914,
          297032585748.55316,
          380262075338.6675,
          721968527232.2059,
          806246163702.5626,
          461233125136.3786,
          227125917185.97394,
          333852112966.7179,
          659969782849.2678,
          469372247357.36646,
          529777825051.7379,
          1373616387331.7393,
          1496828196364.097,
          757600722708.3994,
          743563292043.637,
          1029541064112.3618,
          787247296698.7369,
          989407540079.0514,
          1795386773867.9888,
          1810313014667.0105,
          2785936034063.191,
          1634504356032.5002,
          2175169443260.919,
          2901469703876.045,
          5981106607603.888,
          3400999125982.7866,
          3601212794759.875,
          2283305737590.8037,
          2536314743284.297,
          1059115504286.4791,
          1724964328487.0679,
          1382669945029.2473,
          1257401216628.1526,
          1652225646733.298,
          921501340454.0702,
          822372704570.6873,
          1782108920068.953,
          2790895754616.4946,
          2464002060207.4062,
          2168979750864.3828,
          1084450253742.739,
          1043192491219.4214,
          1212213478344.1074,
          2803543373818.4077
         ],
         "yaxis": "y"
        }
       ],
       "layout": {
        "legend": {
         "title": {
          "text": "market"
         },
         "tracegroupgap": 0
        },
        "margin": {
         "t": 60
        },
        "template": {
         "data": {
          "bar": [
           {
            "error_x": {
             "color": "#2a3f5f"
            },
            "error_y": {
             "color": "#2a3f5f"
            },
            "marker": {
             "line": {
              "color": "#E5ECF6",
              "width": 0.5
             },
             "pattern": {
              "fillmode": "overlay",
              "size": 10,
              "solidity": 0.2
             }
            },
            "type": "bar"
           }
          ],
          "barpolar": [
           {
            "marker": {
             "line": {
              "color": "#E5ECF6",
              "width": 0.5
             },
             "pattern": {
              "fillmode": "overlay",
              "size": 10,
              "solidity": 0.2
             }
            },
            "type": "barpolar"
           }
          ],
          "carpet": [
           {
            "aaxis": {
             "endlinecolor": "#2a3f5f",
             "gridcolor": "white",
             "linecolor": "white",
             "minorgridcolor": "white",
             "startlinecolor": "#2a3f5f"
            },
            "baxis": {
             "endlinecolor": "#2a3f5f",
             "gridcolor": "white",
             "linecolor": "white",
             "minorgridcolor": "white",
             "startlinecolor": "#2a3f5f"
            },
            "type": "carpet"
           }
          ],
          "choropleth": [
           {
            "colorbar": {
             "outlinewidth": 0,
             "ticks": ""
            },
            "type": "choropleth"
           }
          ],
          "contour": [
           {
            "colorbar": {
             "outlinewidth": 0,
             "ticks": ""
            },
            "colorscale": [
             [
              0,
              "#0d0887"
             ],
             [
              0.1111111111111111,
              "#46039f"
             ],
             [
              0.2222222222222222,
              "#7201a8"
             ],
             [
              0.3333333333333333,
              "#9c179e"
             ],
             [
              0.4444444444444444,
              "#bd3786"
             ],
             [
              0.5555555555555556,
              "#d8576b"
             ],
             [
              0.6666666666666666,
              "#ed7953"
             ],
             [
              0.7777777777777778,
              "#fb9f3a"
             ],
             [
              0.8888888888888888,
              "#fdca26"
             ],
             [
              1,
              "#f0f921"
             ]
            ],
            "type": "contour"
           }
          ],
          "contourcarpet": [
           {
            "colorbar": {
             "outlinewidth": 0,
             "ticks": ""
            },
            "type": "contourcarpet"
           }
          ],
          "heatmap": [
           {
            "colorbar": {
             "outlinewidth": 0,
             "ticks": ""
            },
            "colorscale": [
             [
              0,
              "#0d0887"
             ],
             [
              0.1111111111111111,
              "#46039f"
             ],
             [
              0.2222222222222222,
              "#7201a8"
             ],
             [
              0.3333333333333333,
              "#9c179e"
             ],
             [
              0.4444444444444444,
              "#bd3786"
             ],
             [
              0.5555555555555556,
              "#d8576b"
             ],
             [
              0.6666666666666666,
              "#ed7953"
             ],
             [
              0.7777777777777778,
              "#fb9f3a"
             ],
             [
              0.8888888888888888,
              "#fdca26"
             ],
             [
              1,
              "#f0f921"
             ]
            ],
            "type": "heatmap"
           }
          ],
          "heatmapgl": [
           {
            "colorbar": {
             "outlinewidth": 0,
             "ticks": ""
            },
            "colorscale": [
             [
              0,
              "#0d0887"
             ],
             [
              0.1111111111111111,
              "#46039f"
             ],
             [
              0.2222222222222222,
              "#7201a8"
             ],
             [
              0.3333333333333333,
              "#9c179e"
             ],
             [
              0.4444444444444444,
              "#bd3786"
             ],
             [
              0.5555555555555556,
              "#d8576b"
             ],
             [
              0.6666666666666666,
              "#ed7953"
             ],
             [
              0.7777777777777778,
              "#fb9f3a"
             ],
             [
              0.8888888888888888,
              "#fdca26"
             ],
             [
              1,
              "#f0f921"
             ]
            ],
            "type": "heatmapgl"
           }
          ],
          "histogram": [
           {
            "marker": {
             "pattern": {
              "fillmode": "overlay",
              "size": 10,
              "solidity": 0.2
             }
            },
            "type": "histogram"
           }
          ],
          "histogram2d": [
           {
            "colorbar": {
             "outlinewidth": 0,
             "ticks": ""
            },
            "colorscale": [
             [
              0,
              "#0d0887"
             ],
             [
              0.1111111111111111,
              "#46039f"
             ],
             [
              0.2222222222222222,
              "#7201a8"
             ],
             [
              0.3333333333333333,
              "#9c179e"
             ],
             [
              0.4444444444444444,
              "#bd3786"
             ],
             [
              0.5555555555555556,
              "#d8576b"
             ],
             [
              0.6666666666666666,
              "#ed7953"
             ],
             [
              0.7777777777777778,
              "#fb9f3a"
             ],
             [
              0.8888888888888888,
              "#fdca26"
             ],
             [
              1,
              "#f0f921"
             ]
            ],
            "type": "histogram2d"
           }
          ],
          "histogram2dcontour": [
           {
            "colorbar": {
             "outlinewidth": 0,
             "ticks": ""
            },
            "colorscale": [
             [
              0,
              "#0d0887"
             ],
             [
              0.1111111111111111,
              "#46039f"
             ],
             [
              0.2222222222222222,
              "#7201a8"
             ],
             [
              0.3333333333333333,
              "#9c179e"
             ],
             [
              0.4444444444444444,
              "#bd3786"
             ],
             [
              0.5555555555555556,
              "#d8576b"
             ],
             [
              0.6666666666666666,
              "#ed7953"
             ],
             [
              0.7777777777777778,
              "#fb9f3a"
             ],
             [
              0.8888888888888888,
              "#fdca26"
             ],
             [
              1,
              "#f0f921"
             ]
            ],
            "type": "histogram2dcontour"
           }
          ],
          "mesh3d": [
           {
            "colorbar": {
             "outlinewidth": 0,
             "ticks": ""
            },
            "type": "mesh3d"
           }
          ],
          "parcoords": [
           {
            "line": {
             "colorbar": {
              "outlinewidth": 0,
              "ticks": ""
             }
            },
            "type": "parcoords"
           }
          ],
          "pie": [
           {
            "automargin": true,
            "type": "pie"
           }
          ],
          "scatter": [
           {
            "marker": {
             "colorbar": {
              "outlinewidth": 0,
              "ticks": ""
             }
            },
            "type": "scatter"
           }
          ],
          "scatter3d": [
           {
            "line": {
             "colorbar": {
              "outlinewidth": 0,
              "ticks": ""
             }
            },
            "marker": {
             "colorbar": {
              "outlinewidth": 0,
              "ticks": ""
             }
            },
            "type": "scatter3d"
           }
          ],
          "scattercarpet": [
           {
            "marker": {
             "colorbar": {
              "outlinewidth": 0,
              "ticks": ""
             }
            },
            "type": "scattercarpet"
           }
          ],
          "scattergeo": [
           {
            "marker": {
             "colorbar": {
              "outlinewidth": 0,
              "ticks": ""
             }
            },
            "type": "scattergeo"
           }
          ],
          "scattergl": [
           {
            "marker": {
             "colorbar": {
              "outlinewidth": 0,
              "ticks": ""
             }
            },
            "type": "scattergl"
           }
          ],
          "scattermapbox": [
           {
            "marker": {
             "colorbar": {
              "outlinewidth": 0,
              "ticks": ""
             }
            },
            "type": "scattermapbox"
           }
          ],
          "scatterpolar": [
           {
            "marker": {
             "colorbar": {
              "outlinewidth": 0,
              "ticks": ""
             }
            },
            "type": "scatterpolar"
           }
          ],
          "scatterpolargl": [
           {
            "marker": {
             "colorbar": {
              "outlinewidth": 0,
              "ticks": ""
             }
            },
            "type": "scatterpolargl"
           }
          ],
          "scatterternary": [
           {
            "marker": {
             "colorbar": {
              "outlinewidth": 0,
              "ticks": ""
             }
            },
            "type": "scatterternary"
           }
          ],
          "surface": [
           {
            "colorbar": {
             "outlinewidth": 0,
             "ticks": ""
            },
            "colorscale": [
             [
              0,
              "#0d0887"
             ],
             [
              0.1111111111111111,
              "#46039f"
             ],
             [
              0.2222222222222222,
              "#7201a8"
             ],
             [
              0.3333333333333333,
              "#9c179e"
             ],
             [
              0.4444444444444444,
              "#bd3786"
             ],
             [
              0.5555555555555556,
              "#d8576b"
             ],
             [
              0.6666666666666666,
              "#ed7953"
             ],
             [
              0.7777777777777778,
              "#fb9f3a"
             ],
             [
              0.8888888888888888,
              "#fdca26"
             ],
             [
              1,
              "#f0f921"
             ]
            ],
            "type": "surface"
           }
          ],
          "table": [
           {
            "cells": {
             "fill": {
              "color": "#EBF0F8"
             },
             "line": {
              "color": "white"
             }
            },
            "header": {
             "fill": {
              "color": "#C8D4E3"
             },
             "line": {
              "color": "white"
             }
            },
            "type": "table"
           }
          ]
         },
         "layout": {
          "annotationdefaults": {
           "arrowcolor": "#2a3f5f",
           "arrowhead": 0,
           "arrowwidth": 1
          },
          "autotypenumbers": "strict",
          "coloraxis": {
           "colorbar": {
            "outlinewidth": 0,
            "ticks": ""
           }
          },
          "colorscale": {
           "diverging": [
            [
             0,
             "#8e0152"
            ],
            [
             0.1,
             "#c51b7d"
            ],
            [
             0.2,
             "#de77ae"
            ],
            [
             0.3,
             "#f1b6da"
            ],
            [
             0.4,
             "#fde0ef"
            ],
            [
             0.5,
             "#f7f7f7"
            ],
            [
             0.6,
             "#e6f5d0"
            ],
            [
             0.7,
             "#b8e186"
            ],
            [
             0.8,
             "#7fbc41"
            ],
            [
             0.9,
             "#4d9221"
            ],
            [
             1,
             "#276419"
            ]
           ],
           "sequential": [
            [
             0,
             "#0d0887"
            ],
            [
             0.1111111111111111,
             "#46039f"
            ],
            [
             0.2222222222222222,
             "#7201a8"
            ],
            [
             0.3333333333333333,
             "#9c179e"
            ],
            [
             0.4444444444444444,
             "#bd3786"
            ],
            [
             0.5555555555555556,
             "#d8576b"
            ],
            [
             0.6666666666666666,
             "#ed7953"
            ],
            [
             0.7777777777777778,
             "#fb9f3a"
            ],
            [
             0.8888888888888888,
             "#fdca26"
            ],
            [
             1,
             "#f0f921"
            ]
           ],
           "sequentialminus": [
            [
             0,
             "#0d0887"
            ],
            [
             0.1111111111111111,
             "#46039f"
            ],
            [
             0.2222222222222222,
             "#7201a8"
            ],
            [
             0.3333333333333333,
             "#9c179e"
            ],
            [
             0.4444444444444444,
             "#bd3786"
            ],
            [
             0.5555555555555556,
             "#d8576b"
            ],
            [
             0.6666666666666666,
             "#ed7953"
            ],
            [
             0.7777777777777778,
             "#fb9f3a"
            ],
            [
             0.8888888888888888,
             "#fdca26"
            ],
            [
             1,
             "#f0f921"
            ]
           ]
          },
          "colorway": [
           "#636efa",
           "#EF553B",
           "#00cc96",
           "#ab63fa",
           "#FFA15A",
           "#19d3f3",
           "#FF6692",
           "#B6E880",
           "#FF97FF",
           "#FECB52"
          ],
          "font": {
           "color": "#2a3f5f"
          },
          "geo": {
           "bgcolor": "white",
           "lakecolor": "white",
           "landcolor": "#E5ECF6",
           "showlakes": true,
           "showland": true,
           "subunitcolor": "white"
          },
          "hoverlabel": {
           "align": "left"
          },
          "hovermode": "closest",
          "mapbox": {
           "style": "light"
          },
          "paper_bgcolor": "white",
          "plot_bgcolor": "#E5ECF6",
          "polar": {
           "angularaxis": {
            "gridcolor": "white",
            "linecolor": "white",
            "ticks": ""
           },
           "bgcolor": "#E5ECF6",
           "radialaxis": {
            "gridcolor": "white",
            "linecolor": "white",
            "ticks": ""
           }
          },
          "scene": {
           "xaxis": {
            "backgroundcolor": "#E5ECF6",
            "gridcolor": "white",
            "gridwidth": 2,
            "linecolor": "white",
            "showbackground": true,
            "ticks": "",
            "zerolinecolor": "white"
           },
           "yaxis": {
            "backgroundcolor": "#E5ECF6",
            "gridcolor": "white",
            "gridwidth": 2,
            "linecolor": "white",
            "showbackground": true,
            "ticks": "",
            "zerolinecolor": "white"
           },
           "zaxis": {
            "backgroundcolor": "#E5ECF6",
            "gridcolor": "white",
            "gridwidth": 2,
            "linecolor": "white",
            "showbackground": true,
            "ticks": "",
            "zerolinecolor": "white"
           }
          },
          "shapedefaults": {
           "line": {
            "color": "#2a3f5f"
           }
          },
          "ternary": {
           "aaxis": {
            "gridcolor": "white",
            "linecolor": "white",
            "ticks": ""
           },
           "baxis": {
            "gridcolor": "white",
            "linecolor": "white",
            "ticks": ""
           },
           "bgcolor": "#E5ECF6",
           "caxis": {
            "gridcolor": "white",
            "linecolor": "white",
            "ticks": ""
           }
          },
          "title": {
           "x": 0.05
          },
          "xaxis": {
           "automargin": true,
           "gridcolor": "white",
           "linecolor": "white",
           "ticks": "",
           "title": {
            "standoff": 15
           },
           "zerolinecolor": "white",
           "zerolinewidth": 2
          },
          "yaxis": {
           "automargin": true,
           "gridcolor": "white",
           "linecolor": "white",
           "ticks": "",
           "title": {
            "standoff": 15
           },
           "zerolinecolor": "white",
           "zerolinewidth": 2
          }
         }
        },
        "xaxis": {
         "anchor": "y",
         "domain": [
          0,
          1
         ],
         "title": {
          "text": "candle_date_time_kst"
         }
        },
        "yaxis": {
         "anchor": "x",
         "domain": [
          0,
          1
         ],
         "title": {
          "text": "candle_acc_trade_price"
         }
        }
       }
      },
      "text/html": [
       "<div>                            <div id=\"98363059-ae70-4334-a649-c12bbc4d1317\" class=\"plotly-graph-div\" style=\"height:525px; width:100%;\"></div>            <script type=\"text/javascript\">                require([\"plotly\"], function(Plotly) {                    window.PLOTLYENV=window.PLOTLYENV || {};                                    if (document.getElementById(\"98363059-ae70-4334-a649-c12bbc4d1317\")) {                    Plotly.newPlot(                        \"98363059-ae70-4334-a649-c12bbc4d1317\",                        [{\"hovertemplate\":\"market=BTC<br>candle_date_time_kst=%{x}<br>candle_acc_trade_price=%{y}<extra></extra>\",\"legendgroup\":\"BTC\",\"marker\":{\"color\":\"#636efa\",\"symbol\":\"circle\"},\"mode\":\"markers\",\"name\":\"BTC\",\"orientation\":\"v\",\"showlegend\":true,\"type\":\"scatter\",\"x\":[\"2021-11-15\",\"2021-11-14\",\"2021-11-13\",\"2021-11-12\",\"2021-11-11\",\"2021-11-10\",\"2021-11-09\",\"2021-11-08\",\"2021-11-07\",\"2021-11-06\",\"2021-11-05\",\"2021-11-04\",\"2021-11-03\",\"2021-11-02\",\"2021-11-01\",\"2021-10-31\",\"2021-10-30\",\"2021-10-29\",\"2021-10-28\",\"2021-10-27\",\"2021-10-26\",\"2021-10-25\",\"2021-10-24\",\"2021-10-23\",\"2021-10-22\",\"2021-10-21\",\"2021-10-20\",\"2021-10-19\",\"2021-10-18\",\"2021-10-17\",\"2021-10-16\",\"2021-10-15\",\"2021-10-14\",\"2021-10-13\",\"2021-10-12\",\"2021-10-11\",\"2021-10-10\",\"2021-10-09\",\"2021-10-08\",\"2021-10-07\",\"2021-10-06\",\"2021-10-05\",\"2021-10-04\",\"2021-10-03\",\"2021-10-02\",\"2021-10-01\",\"2021-09-30\",\"2021-09-29\",\"2021-09-28\",\"2021-09-27\",\"2021-09-26\",\"2021-09-25\",\"2021-09-24\",\"2021-09-23\",\"2021-09-22\",\"2021-09-21\",\"2021-09-20\",\"2021-09-19\",\"2021-09-18\",\"2021-09-17\",\"2021-09-16\",\"2021-09-15\",\"2021-09-14\",\"2021-09-13\",\"2021-09-12\",\"2021-09-11\",\"2021-09-10\",\"2021-09-09\",\"2021-09-08\",\"2021-09-07\",\"2021-09-06\",\"2021-09-05\",\"2021-09-04\",\"2021-09-03\",\"2021-09-02\",\"2021-09-01\",\"2021-08-31\",\"2021-08-30\",\"2021-08-29\",\"2021-08-28\",\"2021-08-27\",\"2021-08-26\",\"2021-08-25\",\"2021-08-24\",\"2021-08-23\",\"2021-08-22\",\"2021-08-21\",\"2021-08-20\",\"2021-08-19\",\"2021-08-18\",\"2021-08-17\",\"2021-08-16\",\"2021-08-15\",\"2021-08-14\",\"2021-08-13\",\"2021-08-12\",\"2021-08-11\",\"2021-08-10\",\"2021-08-09\",\"2021-08-08\",\"2021-08-07\",\"2021-08-06\",\"2021-08-05\",\"2021-08-04\",\"2021-08-03\",\"2021-08-02\",\"2021-08-01\",\"2021-07-31\",\"2021-07-30\",\"2021-07-29\",\"2021-07-28\",\"2021-07-27\",\"2021-07-26\",\"2021-07-25\",\"2021-07-24\",\"2021-07-23\",\"2021-07-22\",\"2021-07-21\",\"2021-07-20\",\"2021-07-19\",\"2021-07-18\",\"2021-07-17\",\"2021-07-16\",\"2021-07-15\",\"2021-07-14\",\"2021-07-13\",\"2021-07-12\",\"2021-07-11\",\"2021-07-10\",\"2021-07-09\",\"2021-07-08\",\"2021-07-07\",\"2021-07-06\",\"2021-07-05\",\"2021-07-04\",\"2021-07-03\",\"2021-07-02\",\"2021-07-01\",\"2021-06-30\",\"2021-06-29\",\"2021-06-28\",\"2021-06-27\",\"2021-06-26\",\"2021-06-25\",\"2021-06-24\",\"2021-06-23\",\"2021-06-22\",\"2021-06-21\",\"2021-06-20\",\"2021-06-19\",\"2021-06-18\",\"2021-06-17\",\"2021-06-16\",\"2021-06-15\",\"2021-06-14\",\"2021-06-13\",\"2021-06-12\",\"2021-06-11\",\"2021-06-10\",\"2021-06-09\",\"2021-06-08\",\"2021-06-07\",\"2021-06-06\",\"2021-06-05\",\"2021-06-04\",\"2021-06-03\",\"2021-06-02\",\"2021-06-01\",\"2021-05-31\",\"2021-05-30\",\"2021-05-29\",\"2021-05-28\",\"2021-05-27\",\"2021-05-26\",\"2021-05-25\",\"2021-05-24\",\"2021-05-23\",\"2021-05-22\",\"2021-05-21\",\"2021-05-20\",\"2021-05-19\",\"2021-05-18\",\"2021-05-17\",\"2021-05-16\",\"2021-05-15\",\"2021-05-14\",\"2021-05-13\",\"2021-05-12\",\"2021-05-11\",\"2021-05-10\",\"2021-05-09\",\"2021-05-08\",\"2021-05-07\",\"2021-05-06\",\"2021-05-05\",\"2021-05-04\",\"2021-05-03\",\"2021-05-02\",\"2021-05-01\",\"2021-04-30\"],\"xaxis\":\"x\",\"y\":[159220034467.2528,300107299012.1013,338562919987.8282,555556239586.2133,566786888469.356,1059561087264.0406,749642408219.2787,726433660922.1797,335634172962.1655,277629666879.828,410709736765.99615,426469535512.6226,586147364013.1627,567138389401.7821,459799779805.7788,547624687479.1433,443974248919.1151,529148496573.07806,630325919861.4268,1053620820854.7567,619824450361.118,521225048265.0583,454814496440.7718,529341477417.07855,903371302135.1926,1225371802278.793,1152411111515.1873,696401614018.545,632688540533.9479,404990697637.63635,589288907263.0604,1145452749698.3083,447309084626.59393,587847809013.9847,628672206653.5323,657471668000.4491,375920524221.4952,337726926141.7395,559268632990.6614,584191782622.2512,864584706843.0698,596248479174.788,392304690362.0932,262002063227.56482,283012282143.45593,526629015325.6079,353760846438.2255,265067157875.95703,318673200792.9927,262697515793.77594,310948126899.37146,226758630503.67758,602952735214.0181,415384854012.3932,467187185035.5327,602640099332.8099,608008065738.9528,279811883170.7576,288291394889.2499,397042475608.0333,305839184427.866,295924748212.92676,333704711921.34143,419768907821.3112,244803798485.11185,233572715191.50043,587118672586.7328,418872318710.8933,701590969807.58,1160638810012.4539,426546418425.84424,439317277734.582,419279027038.78033,667571204414.9666,515970812918.00903,505247782246.04785,616516258003.1985,827526275068.3098,664765748254.3783,318695080890.53296,466075659839.3081,527838423776.14746,628614221129.9324,960959159079.5452,637195815103.7274,420622994566.5057,526538062801.1975,702429945452.2936,744124182994.7227,757953791475.3573,505480406480.1733,470451841173.91284,470845007276.4989,570678967849.8423,619038294155.9808,691538686333.4755,579202786491.2515,520878470417.8687,545486912751.485,456213636723.8092,550505738787.5818,453840993289.6811,473390293840.28876,291363934837.11224,335516584182.57196,327175849671.0313,325989173859.44476,248552503038.62796,426284796838.65125,272164212254.33475,547717509631.0625,467385408621.45624,803409465489.3989,190643539619.3983,196353164978.12585,176644365075.1862,159613929614.47318,253633310553.2038,248406330735.08133,155861957828.68225,138465617249.63922,131612696296.66388,213113548297.35504,280398778393.4886,249612588010.58618,178535501090.68716,213052051083.5768,155055694807.25595,165740052954.24866,240777153564.4225,318404853880.8934,231746067905.13364,250893123484.22366,345601003050.7225,204137532775.4473,196728282036.98206,250379065205.81564,360194809356.23663,374038855427.6796,540488614539.7225,507423356322.17267,477496599478.453,487595538776.1035,565595835274.6146,460328834123.54083,690395108283.8069,1100785783862.6877,900832746987.2739,542727572730.78064,396532888799.2468,663473218674.1248,485762760742.5949,492179952272.6588,489978887151.35284,868311615872.6334,531122435073.5828,659035780813.1942,703961074389.3296,698112613625.4917,724591188555.2808,476604724981.6908,351349641054.2827,200516487181.42853,293546032639.7488,423885446287.57837,393358009291.04706,321717797672.648,394830519477.33984,433619356290.74396,390380846749.335,455335455609.8606,653789886693.8527,485327245758.55164,542898496923.52856,719724304376.1548,997947887508.5018,1183273079066.374,776466334420.9885,1096343126565.4725,1086531552690.5686,1999142167043.8147,824428496120.5553,1490995015415.6033,967020553997.1249,1059012110721.2826,821862466125.797,1422951884853.1233,1505870407356.399,827117926967.4032,937362461910.9203,843543861353.1299,881406410488.2178,819830312855.9326,904068945799.3906,804024775720.5424,868911421472.1168,658850341681.7671,543840573039.7181,678036571369.5531,1197640896050.342],\"yaxis\":\"y\"},{\"hovertemplate\":\"market=ETH<br>candle_date_time_kst=%{x}<br>candle_acc_trade_price=%{y}<extra></extra>\",\"legendgroup\":\"ETH\",\"marker\":{\"color\":\"#EF553B\",\"symbol\":\"circle\"},\"mode\":\"markers\",\"name\":\"ETH\",\"orientation\":\"v\",\"showlegend\":true,\"type\":\"scatter\",\"x\":[\"2021-11-15\",\"2021-11-14\",\"2021-11-13\",\"2021-11-12\",\"2021-11-11\",\"2021-11-10\",\"2021-11-09\",\"2021-11-08\",\"2021-11-07\",\"2021-11-06\",\"2021-11-05\",\"2021-11-04\",\"2021-11-03\",\"2021-11-02\",\"2021-11-01\",\"2021-10-31\",\"2021-10-30\",\"2021-10-29\",\"2021-10-28\",\"2021-10-27\",\"2021-10-26\",\"2021-10-25\",\"2021-10-24\",\"2021-10-23\",\"2021-10-22\",\"2021-10-21\",\"2021-10-20\",\"2021-10-19\",\"2021-10-18\",\"2021-10-17\",\"2021-10-16\",\"2021-10-15\",\"2021-10-14\",\"2021-10-13\",\"2021-10-12\",\"2021-10-11\",\"2021-10-10\",\"2021-10-09\",\"2021-10-08\",\"2021-10-07\",\"2021-10-06\",\"2021-10-05\",\"2021-10-04\",\"2021-10-03\",\"2021-10-02\",\"2021-10-01\",\"2021-09-30\",\"2021-09-29\",\"2021-09-28\",\"2021-09-27\",\"2021-09-26\",\"2021-09-25\",\"2021-09-24\",\"2021-09-23\",\"2021-09-22\",\"2021-09-21\",\"2021-09-20\",\"2021-09-19\",\"2021-09-18\",\"2021-09-17\",\"2021-09-16\",\"2021-09-15\",\"2021-09-14\",\"2021-09-13\",\"2021-09-12\",\"2021-09-11\",\"2021-09-10\",\"2021-09-09\",\"2021-09-08\",\"2021-09-07\",\"2021-09-06\",\"2021-09-05\",\"2021-09-04\",\"2021-09-03\",\"2021-09-02\",\"2021-09-01\",\"2021-08-31\",\"2021-08-30\",\"2021-08-29\",\"2021-08-28\",\"2021-08-27\",\"2021-08-26\",\"2021-08-25\",\"2021-08-24\",\"2021-08-23\",\"2021-08-22\",\"2021-08-21\",\"2021-08-20\",\"2021-08-19\",\"2021-08-18\",\"2021-08-17\",\"2021-08-16\",\"2021-08-15\",\"2021-08-14\",\"2021-08-13\",\"2021-08-12\",\"2021-08-11\",\"2021-08-10\",\"2021-08-09\",\"2021-08-08\",\"2021-08-07\",\"2021-08-06\",\"2021-08-05\",\"2021-08-04\",\"2021-08-03\",\"2021-08-02\",\"2021-08-01\",\"2021-07-31\",\"2021-07-30\",\"2021-07-29\",\"2021-07-28\",\"2021-07-27\",\"2021-07-26\",\"2021-07-25\",\"2021-07-24\",\"2021-07-23\",\"2021-07-22\",\"2021-07-21\",\"2021-07-20\",\"2021-07-19\",\"2021-07-18\",\"2021-07-17\",\"2021-07-16\",\"2021-07-15\",\"2021-07-14\",\"2021-07-13\",\"2021-07-12\",\"2021-07-11\",\"2021-07-10\",\"2021-07-09\",\"2021-07-08\",\"2021-07-07\",\"2021-07-06\",\"2021-07-05\",\"2021-07-04\",\"2021-07-03\",\"2021-07-02\",\"2021-07-01\",\"2021-06-30\",\"2021-06-29\",\"2021-06-28\",\"2021-06-27\",\"2021-06-26\",\"2021-06-25\",\"2021-06-24\",\"2021-06-23\",\"2021-06-22\",\"2021-06-21\",\"2021-06-20\",\"2021-06-19\",\"2021-06-18\",\"2021-06-17\",\"2021-06-16\",\"2021-06-15\",\"2021-06-14\",\"2021-06-13\",\"2021-06-12\",\"2021-06-11\",\"2021-06-10\",\"2021-06-09\",\"2021-06-08\",\"2021-06-07\",\"2021-06-06\",\"2021-06-05\",\"2021-06-04\",\"2021-06-03\",\"2021-06-02\",\"2021-06-01\",\"2021-05-31\",\"2021-05-30\",\"2021-05-29\",\"2021-05-28\",\"2021-05-27\",\"2021-05-26\",\"2021-05-25\",\"2021-05-24\",\"2021-05-23\",\"2021-05-22\",\"2021-05-21\",\"2021-05-20\",\"2021-05-19\",\"2021-05-18\",\"2021-05-17\",\"2021-05-16\",\"2021-05-15\",\"2021-05-14\",\"2021-05-13\",\"2021-05-12\",\"2021-05-11\",\"2021-05-10\",\"2021-05-09\",\"2021-05-08\",\"2021-05-07\",\"2021-05-06\",\"2021-05-05\",\"2021-05-04\",\"2021-05-03\",\"2021-05-02\",\"2021-05-01\",\"2021-04-30\"],\"xaxis\":\"x\",\"y\":[78221897305.65968,146072710246.8613,137596291422.06866,232474640330.14267,182119911755.13028,305465774047.56573,238691328217.70242,266979502141.64648,177319886283.71786,160319073043.9024,151629484550.508,205979407870.66748,347528201365.3987,280017813894.83636,233725968624.62253,281826473024.4842,273357091145.8974,386834324491.0435,389622856218.3352,631220160658.3412,238994829384.73407,219388214860.96375,234017892375.53418,238623560870.26364,359555603946.8616,676797579861.6123,438579355717.2174,207640659534.97238,291810115964.4838,208715975553.71063,308397464751.61365,539609933228.682,358067671907.0831,222157958940.40482,237046950424.48795,267656682959.52792,209124048893.8007,211692940860.13815,249703652413.8403,306157507218.3364,463530984640.3398,237037580196.11484,313965525768.4938,226284602771.63962,310046644076.15094,435815987441.9341,276395058728.96576,252226869935.40793,287466551336.2194,264914242972.37918,351354919812.99756,239843697370.0372,561468045194.0671,285954230654.7203,487707924730.9856,548292363214.72394,460106772106.924,159247478044.78348,186250974251.14975,206257974240.66153,255465585807.808,241255684343.3423,229250837844.29364,310559045860.00635,224199100100.73798,187373646957.0005,293061884865.1622,340627260973.9397,637112231361.736,725036994646.9696,224934930304.10318,264216739436.9795,245417783694.46344,506704052544.2546,381736367877.3315,469598353152.9055,462958009358.35486,242761250108.21536,153206252462.62448,126832493074.02942,240492097989.16327,211525916720.56586,216845533151.00006,253654285759.37134,266338101753.23233,164998005418.9627,207398941489.807,277612581119.2961,242122620914.19943,316960877161.5819,375349442268.6118,301894605393.39307,340990734861.0243,353021968945.9169,365696427229.6522,420468262838.4277,374760206631.721,407967932635.51624,578049761886.48,477474148386.25085,637889741542.0231,432774499595.59863,602537559242.0311,428410038024.2992,328622597233.4473,379839556675.71814,405572279152.66205,204802728755.01492,296073934526.9484,173108289409.06036,285401045880.2916,344621023245.539,591630022820.6019,190185947696.98102,241932601738.99347,230182268003.91473,257937374511.5761,297709321964.76416,235311660613.32364,164247894592.98883,183419661606.13712,130741613603.59885,199600338647.20944,226005120365.96622,288011496486.9021,232769853774.86353,219998321347.601,146589416465.74066,187596564607.91656,399734968934.0822,445708240269.03485,327425034153.91486,370673251054.51044,369393132595.3255,296505312170.9016,218733102356.8193,264316656387.39978,295589660060.8773,302316464042.252,421719882599.3853,422227790574.71796,229100026212.6931,242672127131.07568,376420393417.96606,298748436191.6847,412364221779.2897,797637607328.7639,834733781589.3977,430022088013.02045,270022343122.36798,377962727892.8167,282686132106.5892,362568900433.42755,362154960481.9362,385503772032.209,357991390092.19855,413889143562.0191,370266535008.4074,440866744902.1117,793764725336.5243,918699761367.9835,555043389052.2152,298427670383.13794,489870365625.5104,712440850969.137,704583243443.1882,553482944002.979,763185381229.2422,835448065527.1637,721868210867.2491,683249629398.7031,949024832176.3608,694566749537.4719,929090339914.8389,1260730917545.561,1492977593406.986,1348599674408.384,943220470512.9398,1169649775528.3198,1537925790162.1963,3227655887086.854,1057140201998.2845,2130601458162.87,1233375239427.204,1060321708835.3027,1108765327766.837,2344032546896.112,1872164987670.6833,1376765944226.234,1908566147572.5464,1461415281796.7534,1654977940066.3242,479487636139.0343,661148663931.7458,1094704602430.7098,2423051217156.3506,1336257332272.6602,419483944118.4409,455532327989.2353,384898322477.69244],\"yaxis\":\"y\"},{\"hovertemplate\":\"market=XRP<br>candle_date_time_kst=%{x}<br>candle_acc_trade_price=%{y}<extra></extra>\",\"legendgroup\":\"XRP\",\"marker\":{\"color\":\"#00cc96\",\"symbol\":\"circle\"},\"mode\":\"markers\",\"name\":\"XRP\",\"orientation\":\"v\",\"showlegend\":true,\"type\":\"scatter\",\"x\":[\"2021-11-15\",\"2021-11-14\",\"2021-11-13\",\"2021-11-12\",\"2021-11-11\",\"2021-11-10\",\"2021-11-09\",\"2021-11-08\",\"2021-11-07\",\"2021-11-06\",\"2021-11-05\",\"2021-11-04\",\"2021-11-03\",\"2021-11-02\",\"2021-11-01\",\"2021-10-31\",\"2021-10-30\",\"2021-10-29\",\"2021-10-28\",\"2021-10-27\",\"2021-10-26\",\"2021-10-25\",\"2021-10-24\",\"2021-10-23\",\"2021-10-22\",\"2021-10-21\",\"2021-10-20\",\"2021-10-19\",\"2021-10-18\",\"2021-10-17\",\"2021-10-16\",\"2021-10-15\",\"2021-10-14\",\"2021-10-13\",\"2021-10-12\",\"2021-10-11\",\"2021-10-10\",\"2021-10-09\",\"2021-10-08\",\"2021-10-07\",\"2021-10-06\",\"2021-10-05\",\"2021-10-04\",\"2021-10-03\",\"2021-10-02\",\"2021-10-01\",\"2021-09-30\",\"2021-09-29\",\"2021-09-28\",\"2021-09-27\",\"2021-09-26\",\"2021-09-25\",\"2021-09-24\",\"2021-09-23\",\"2021-09-22\",\"2021-09-21\",\"2021-09-20\",\"2021-09-19\",\"2021-09-18\",\"2021-09-17\",\"2021-09-16\",\"2021-09-15\",\"2021-09-14\",\"2021-09-13\",\"2021-09-12\",\"2021-09-11\",\"2021-09-10\",\"2021-09-09\",\"2021-09-08\",\"2021-09-07\",\"2021-09-06\",\"2021-09-05\",\"2021-09-04\",\"2021-09-03\",\"2021-09-02\",\"2021-09-01\",\"2021-08-31\",\"2021-08-30\",\"2021-08-29\",\"2021-08-28\",\"2021-08-27\",\"2021-08-26\",\"2021-08-25\",\"2021-08-24\",\"2021-08-23\",\"2021-08-22\",\"2021-08-21\",\"2021-08-20\",\"2021-08-19\",\"2021-08-18\",\"2021-08-17\",\"2021-08-16\",\"2021-08-15\",\"2021-08-14\",\"2021-08-13\",\"2021-08-12\",\"2021-08-11\",\"2021-08-10\",\"2021-08-09\",\"2021-08-08\",\"2021-08-07\",\"2021-08-06\",\"2021-08-05\",\"2021-08-04\",\"2021-08-03\",\"2021-08-02\",\"2021-08-01\",\"2021-07-31\",\"2021-07-30\",\"2021-07-29\",\"2021-07-28\",\"2021-07-27\",\"2021-07-26\",\"2021-07-25\",\"2021-07-24\",\"2021-07-23\",\"2021-07-22\",\"2021-07-21\",\"2021-07-20\",\"2021-07-19\",\"2021-07-18\",\"2021-07-17\",\"2021-07-16\",\"2021-07-15\",\"2021-07-14\",\"2021-07-13\",\"2021-07-12\",\"2021-07-11\",\"2021-07-10\",\"2021-07-09\",\"2021-07-08\",\"2021-07-07\",\"2021-07-06\",\"2021-07-05\",\"2021-07-04\",\"2021-07-03\",\"2021-07-02\",\"2021-07-01\",\"2021-06-30\",\"2021-06-29\",\"2021-06-28\",\"2021-06-27\",\"2021-06-26\",\"2021-06-25\",\"2021-06-24\",\"2021-06-23\",\"2021-06-22\",\"2021-06-21\",\"2021-06-20\",\"2021-06-19\",\"2021-06-18\",\"2021-06-17\",\"2021-06-16\",\"2021-06-15\",\"2021-06-14\",\"2021-06-13\",\"2021-06-12\",\"2021-06-11\",\"2021-06-10\",\"2021-06-09\",\"2021-06-08\",\"2021-06-07\",\"2021-06-06\",\"2021-06-05\",\"2021-06-04\",\"2021-06-03\",\"2021-06-02\",\"2021-06-01\",\"2021-05-31\",\"2021-05-30\",\"2021-05-29\",\"2021-05-28\",\"2021-05-27\",\"2021-05-26\",\"2021-05-25\",\"2021-05-24\",\"2021-05-23\",\"2021-05-22\",\"2021-05-21\",\"2021-05-20\",\"2021-05-19\",\"2021-05-18\",\"2021-05-17\",\"2021-05-16\",\"2021-05-15\",\"2021-05-14\",\"2021-05-13\",\"2021-05-12\",\"2021-05-11\",\"2021-05-10\",\"2021-05-09\",\"2021-05-08\",\"2021-05-07\",\"2021-05-06\",\"2021-05-05\",\"2021-05-04\",\"2021-05-03\",\"2021-05-02\",\"2021-05-01\",\"2021-04-30\"],\"xaxis\":\"x\",\"y\":[109654693300.85738,166591709869.85925,205862917269.03732,430648055210.34064,505516879616.9381,1078259809214.0088,541022160646.9659,738496660256.9849,357947117955.0322,217512910963.94482,299088019728.2816,528945290298.50183,911593029181.9917,357440279894.6139,294852903364.34515,521943785402.275,334417113285.4333,291862883568.0228,555927156869.9039,868181714416.3905,330752512289.286,181676199807.2572,189442343935.82767,152516768671.78656,377224464488.4804,488856291404.53143,399836221150.404,208714477829.40262,312103650753.0035,291580596283.2794,449030245742.1271,911586024421.1409,300170045341.7622,383755791405.6696,500178547095.75116,378894020795.0173,684651813249.314,712977004587.5927,320191402110.8445,372140197219.91095,594300201273.0192,471626660696.53,416063338310.17053,463128345408.2864,352817438142.4774,667987709714.2474,305215085044.6861,507322204021.62415,280421576078.9201,246897106965.27814,271968034741.79257,228724885237.19162,570718071175.5764,468895751795.81885,667600235476.4943,630798961391.194,834166052361.4424,156726792833.41296,163452442153.21597,285617114410.88306,256140668400.88748,244012897620.13223,278276489709.1692,521875695489.7954,352234314020.1229,380380238895.5591,1566603406717.365,643944795345.5967,1247023461428.9521,1895497971813.0005,1144708702490.6794,467132241587.60944,398793811958.01404,687285955759.5844,602538212927.4459,521083311646.47766,777635461912.6624,300590843084.7815,388473396680.1417,349183452575.48364,670534311273.0382,621426367671.155,553051453207.7014,648130565035.5757,781505703525.9249,426036719504.7894,589291589551.1038,791522020988.7227,713058171926.7667,944567579311.5413,985428878016.8679,922777535995.7373,1496412260780.7437,1677352389885.1113,603738865843.3368,774844880440.0726,770272375322.8385,489513291125.9911,340046294310.59766,390373562472.00104,492487339259.1751,165379188845.84985,168968579012.24387,186817539141.6745,202297247157.25107,258920866708.74268,265563488825.89594,171286815250.3964,375641673168.2566,439186809714.25775,1320443265498.8223,225866367330.38873,471238176424.5466,127736005923.37376,173375182440.7672,238237790767.2208,316322317613.2824,277516908360.75745,273740644296.5553,172327913300.125,139708818369.1236,176918694560.68314,220982639396.78314,182598268626.16693,260523838997.1651,172566708838.38943,216510949577.42697,106966037931.79066,132727706563.75569,290138252334.0264,245262260859.20932,168790445697.49316,202504671909.4188,324500387675.0221,234208936329.59122,217047350605.65448,222472415425.64835,337037224126.9119,396706344083.8116,658711352093.8029,340969144235.8475,290799626589.0431,361139109083.18677,676196748332.8708,648006292818.494,1074647466013.8358,1361201220783.2117,1122919819076.3127,591385095872.3951,252116734860.0916,298357721871.23224,214962666490.34344,326058348348.59045,240987794538.63916,332745313607.10126,226904985023.67505,305480693616.9914,297032585748.55316,380262075338.6675,721968527232.2059,806246163702.5626,461233125136.3786,227125917185.97394,333852112966.7179,659969782849.2678,469372247357.36646,529777825051.7379,1373616387331.7393,1496828196364.097,757600722708.3994,743563292043.637,1029541064112.3618,787247296698.7369,989407540079.0514,1795386773867.9888,1810313014667.0105,2785936034063.191,1634504356032.5002,2175169443260.919,2901469703876.045,5981106607603.888,3400999125982.7866,3601212794759.875,2283305737590.8037,2536314743284.297,1059115504286.4791,1724964328487.0679,1382669945029.2473,1257401216628.1526,1652225646733.298,921501340454.0702,822372704570.6873,1782108920068.953,2790895754616.4946,2464002060207.4062,2168979750864.3828,1084450253742.739,1043192491219.4214,1212213478344.1074,2803543373818.4077],\"yaxis\":\"y\"}],                        {\"legend\":{\"title\":{\"text\":\"market\"},\"tracegroupgap\":0},\"margin\":{\"t\":60},\"template\":{\"data\":{\"bar\":[{\"error_x\":{\"color\":\"#2a3f5f\"},\"error_y\":{\"color\":\"#2a3f5f\"},\"marker\":{\"line\":{\"color\":\"#E5ECF6\",\"width\":0.5},\"pattern\":{\"fillmode\":\"overlay\",\"size\":10,\"solidity\":0.2}},\"type\":\"bar\"}],\"barpolar\":[{\"marker\":{\"line\":{\"color\":\"#E5ECF6\",\"width\":0.5},\"pattern\":{\"fillmode\":\"overlay\",\"size\":10,\"solidity\":0.2}},\"type\":\"barpolar\"}],\"carpet\":[{\"aaxis\":{\"endlinecolor\":\"#2a3f5f\",\"gridcolor\":\"white\",\"linecolor\":\"white\",\"minorgridcolor\":\"white\",\"startlinecolor\":\"#2a3f5f\"},\"baxis\":{\"endlinecolor\":\"#2a3f5f\",\"gridcolor\":\"white\",\"linecolor\":\"white\",\"minorgridcolor\":\"white\",\"startlinecolor\":\"#2a3f5f\"},\"type\":\"carpet\"}],\"choropleth\":[{\"colorbar\":{\"outlinewidth\":0,\"ticks\":\"\"},\"type\":\"choropleth\"}],\"contour\":[{\"colorbar\":{\"outlinewidth\":0,\"ticks\":\"\"},\"colorscale\":[[0.0,\"#0d0887\"],[0.1111111111111111,\"#46039f\"],[0.2222222222222222,\"#7201a8\"],[0.3333333333333333,\"#9c179e\"],[0.4444444444444444,\"#bd3786\"],[0.5555555555555556,\"#d8576b\"],[0.6666666666666666,\"#ed7953\"],[0.7777777777777778,\"#fb9f3a\"],[0.8888888888888888,\"#fdca26\"],[1.0,\"#f0f921\"]],\"type\":\"contour\"}],\"contourcarpet\":[{\"colorbar\":{\"outlinewidth\":0,\"ticks\":\"\"},\"type\":\"contourcarpet\"}],\"heatmap\":[{\"colorbar\":{\"outlinewidth\":0,\"ticks\":\"\"},\"colorscale\":[[0.0,\"#0d0887\"],[0.1111111111111111,\"#46039f\"],[0.2222222222222222,\"#7201a8\"],[0.3333333333333333,\"#9c179e\"],[0.4444444444444444,\"#bd3786\"],[0.5555555555555556,\"#d8576b\"],[0.6666666666666666,\"#ed7953\"],[0.7777777777777778,\"#fb9f3a\"],[0.8888888888888888,\"#fdca26\"],[1.0,\"#f0f921\"]],\"type\":\"heatmap\"}],\"heatmapgl\":[{\"colorbar\":{\"outlinewidth\":0,\"ticks\":\"\"},\"colorscale\":[[0.0,\"#0d0887\"],[0.1111111111111111,\"#46039f\"],[0.2222222222222222,\"#7201a8\"],[0.3333333333333333,\"#9c179e\"],[0.4444444444444444,\"#bd3786\"],[0.5555555555555556,\"#d8576b\"],[0.6666666666666666,\"#ed7953\"],[0.7777777777777778,\"#fb9f3a\"],[0.8888888888888888,\"#fdca26\"],[1.0,\"#f0f921\"]],\"type\":\"heatmapgl\"}],\"histogram\":[{\"marker\":{\"pattern\":{\"fillmode\":\"overlay\",\"size\":10,\"solidity\":0.2}},\"type\":\"histogram\"}],\"histogram2d\":[{\"colorbar\":{\"outlinewidth\":0,\"ticks\":\"\"},\"colorscale\":[[0.0,\"#0d0887\"],[0.1111111111111111,\"#46039f\"],[0.2222222222222222,\"#7201a8\"],[0.3333333333333333,\"#9c179e\"],[0.4444444444444444,\"#bd3786\"],[0.5555555555555556,\"#d8576b\"],[0.6666666666666666,\"#ed7953\"],[0.7777777777777778,\"#fb9f3a\"],[0.8888888888888888,\"#fdca26\"],[1.0,\"#f0f921\"]],\"type\":\"histogram2d\"}],\"histogram2dcontour\":[{\"colorbar\":{\"outlinewidth\":0,\"ticks\":\"\"},\"colorscale\":[[0.0,\"#0d0887\"],[0.1111111111111111,\"#46039f\"],[0.2222222222222222,\"#7201a8\"],[0.3333333333333333,\"#9c179e\"],[0.4444444444444444,\"#bd3786\"],[0.5555555555555556,\"#d8576b\"],[0.6666666666666666,\"#ed7953\"],[0.7777777777777778,\"#fb9f3a\"],[0.8888888888888888,\"#fdca26\"],[1.0,\"#f0f921\"]],\"type\":\"histogram2dcontour\"}],\"mesh3d\":[{\"colorbar\":{\"outlinewidth\":0,\"ticks\":\"\"},\"type\":\"mesh3d\"}],\"parcoords\":[{\"line\":{\"colorbar\":{\"outlinewidth\":0,\"ticks\":\"\"}},\"type\":\"parcoords\"}],\"pie\":[{\"automargin\":true,\"type\":\"pie\"}],\"scatter\":[{\"marker\":{\"colorbar\":{\"outlinewidth\":0,\"ticks\":\"\"}},\"type\":\"scatter\"}],\"scatter3d\":[{\"line\":{\"colorbar\":{\"outlinewidth\":0,\"ticks\":\"\"}},\"marker\":{\"colorbar\":{\"outlinewidth\":0,\"ticks\":\"\"}},\"type\":\"scatter3d\"}],\"scattercarpet\":[{\"marker\":{\"colorbar\":{\"outlinewidth\":0,\"ticks\":\"\"}},\"type\":\"scattercarpet\"}],\"scattergeo\":[{\"marker\":{\"colorbar\":{\"outlinewidth\":0,\"ticks\":\"\"}},\"type\":\"scattergeo\"}],\"scattergl\":[{\"marker\":{\"colorbar\":{\"outlinewidth\":0,\"ticks\":\"\"}},\"type\":\"scattergl\"}],\"scattermapbox\":[{\"marker\":{\"colorbar\":{\"outlinewidth\":0,\"ticks\":\"\"}},\"type\":\"scattermapbox\"}],\"scatterpolar\":[{\"marker\":{\"colorbar\":{\"outlinewidth\":0,\"ticks\":\"\"}},\"type\":\"scatterpolar\"}],\"scatterpolargl\":[{\"marker\":{\"colorbar\":{\"outlinewidth\":0,\"ticks\":\"\"}},\"type\":\"scatterpolargl\"}],\"scatterternary\":[{\"marker\":{\"colorbar\":{\"outlinewidth\":0,\"ticks\":\"\"}},\"type\":\"scatterternary\"}],\"surface\":[{\"colorbar\":{\"outlinewidth\":0,\"ticks\":\"\"},\"colorscale\":[[0.0,\"#0d0887\"],[0.1111111111111111,\"#46039f\"],[0.2222222222222222,\"#7201a8\"],[0.3333333333333333,\"#9c179e\"],[0.4444444444444444,\"#bd3786\"],[0.5555555555555556,\"#d8576b\"],[0.6666666666666666,\"#ed7953\"],[0.7777777777777778,\"#fb9f3a\"],[0.8888888888888888,\"#fdca26\"],[1.0,\"#f0f921\"]],\"type\":\"surface\"}],\"table\":[{\"cells\":{\"fill\":{\"color\":\"#EBF0F8\"},\"line\":{\"color\":\"white\"}},\"header\":{\"fill\":{\"color\":\"#C8D4E3\"},\"line\":{\"color\":\"white\"}},\"type\":\"table\"}]},\"layout\":{\"annotationdefaults\":{\"arrowcolor\":\"#2a3f5f\",\"arrowhead\":0,\"arrowwidth\":1},\"autotypenumbers\":\"strict\",\"coloraxis\":{\"colorbar\":{\"outlinewidth\":0,\"ticks\":\"\"}},\"colorscale\":{\"diverging\":[[0,\"#8e0152\"],[0.1,\"#c51b7d\"],[0.2,\"#de77ae\"],[0.3,\"#f1b6da\"],[0.4,\"#fde0ef\"],[0.5,\"#f7f7f7\"],[0.6,\"#e6f5d0\"],[0.7,\"#b8e186\"],[0.8,\"#7fbc41\"],[0.9,\"#4d9221\"],[1,\"#276419\"]],\"sequential\":[[0.0,\"#0d0887\"],[0.1111111111111111,\"#46039f\"],[0.2222222222222222,\"#7201a8\"],[0.3333333333333333,\"#9c179e\"],[0.4444444444444444,\"#bd3786\"],[0.5555555555555556,\"#d8576b\"],[0.6666666666666666,\"#ed7953\"],[0.7777777777777778,\"#fb9f3a\"],[0.8888888888888888,\"#fdca26\"],[1.0,\"#f0f921\"]],\"sequentialminus\":[[0.0,\"#0d0887\"],[0.1111111111111111,\"#46039f\"],[0.2222222222222222,\"#7201a8\"],[0.3333333333333333,\"#9c179e\"],[0.4444444444444444,\"#bd3786\"],[0.5555555555555556,\"#d8576b\"],[0.6666666666666666,\"#ed7953\"],[0.7777777777777778,\"#fb9f3a\"],[0.8888888888888888,\"#fdca26\"],[1.0,\"#f0f921\"]]},\"colorway\":[\"#636efa\",\"#EF553B\",\"#00cc96\",\"#ab63fa\",\"#FFA15A\",\"#19d3f3\",\"#FF6692\",\"#B6E880\",\"#FF97FF\",\"#FECB52\"],\"font\":{\"color\":\"#2a3f5f\"},\"geo\":{\"bgcolor\":\"white\",\"lakecolor\":\"white\",\"landcolor\":\"#E5ECF6\",\"showlakes\":true,\"showland\":true,\"subunitcolor\":\"white\"},\"hoverlabel\":{\"align\":\"left\"},\"hovermode\":\"closest\",\"mapbox\":{\"style\":\"light\"},\"paper_bgcolor\":\"white\",\"plot_bgcolor\":\"#E5ECF6\",\"polar\":{\"angularaxis\":{\"gridcolor\":\"white\",\"linecolor\":\"white\",\"ticks\":\"\"},\"bgcolor\":\"#E5ECF6\",\"radialaxis\":{\"gridcolor\":\"white\",\"linecolor\":\"white\",\"ticks\":\"\"}},\"scene\":{\"xaxis\":{\"backgroundcolor\":\"#E5ECF6\",\"gridcolor\":\"white\",\"gridwidth\":2,\"linecolor\":\"white\",\"showbackground\":true,\"ticks\":\"\",\"zerolinecolor\":\"white\"},\"yaxis\":{\"backgroundcolor\":\"#E5ECF6\",\"gridcolor\":\"white\",\"gridwidth\":2,\"linecolor\":\"white\",\"showbackground\":true,\"ticks\":\"\",\"zerolinecolor\":\"white\"},\"zaxis\":{\"backgroundcolor\":\"#E5ECF6\",\"gridcolor\":\"white\",\"gridwidth\":2,\"linecolor\":\"white\",\"showbackground\":true,\"ticks\":\"\",\"zerolinecolor\":\"white\"}},\"shapedefaults\":{\"line\":{\"color\":\"#2a3f5f\"}},\"ternary\":{\"aaxis\":{\"gridcolor\":\"white\",\"linecolor\":\"white\",\"ticks\":\"\"},\"baxis\":{\"gridcolor\":\"white\",\"linecolor\":\"white\",\"ticks\":\"\"},\"bgcolor\":\"#E5ECF6\",\"caxis\":{\"gridcolor\":\"white\",\"linecolor\":\"white\",\"ticks\":\"\"}},\"title\":{\"x\":0.05},\"xaxis\":{\"automargin\":true,\"gridcolor\":\"white\",\"linecolor\":\"white\",\"ticks\":\"\",\"title\":{\"standoff\":15},\"zerolinecolor\":\"white\",\"zerolinewidth\":2},\"yaxis\":{\"automargin\":true,\"gridcolor\":\"white\",\"linecolor\":\"white\",\"ticks\":\"\",\"title\":{\"standoff\":15},\"zerolinecolor\":\"white\",\"zerolinewidth\":2}}},\"xaxis\":{\"anchor\":\"y\",\"domain\":[0.0,1.0],\"title\":{\"text\":\"candle_date_time_kst\"}},\"yaxis\":{\"anchor\":\"x\",\"domain\":[0.0,1.0],\"title\":{\"text\":\"candle_acc_trade_price\"}}},                        {\"responsive\": true}                    ).then(function(){\n",
       "                            \n",
       "var gd = document.getElementById('98363059-ae70-4334-a649-c12bbc4d1317');\n",
       "var x = new MutationObserver(function (mutations, observer) {{\n",
       "        var display = window.getComputedStyle(gd).display;\n",
       "        if (!display || display === 'none') {{\n",
       "            console.log([gd, 'removed!']);\n",
       "            Plotly.purge(gd);\n",
       "            observer.disconnect();\n",
       "        }}\n",
       "}});\n",
       "\n",
       "// Listen for the removal of the full notebook cells\n",
       "var notebookContainer = gd.closest('#notebook-container');\n",
       "if (notebookContainer) {{\n",
       "    x.observe(notebookContainer, {childList: true});\n",
       "}}\n",
       "\n",
       "// Listen for the clearing of the current output cell\n",
       "var outputEl = gd.closest('.output');\n",
       "if (outputEl) {{\n",
       "    x.observe(outputEl, {childList: true});\n",
       "}}\n",
       "\n",
       "                        })                };                });            </script>        </div>"
      ]
     },
     "metadata": {},
     "output_type": "display_data"
    }
   ],
   "source": [
    "fig = px.scatter(my_df,\n",
    "                x='candle_date_time_kst',\n",
    "                y='candle_acc_trade_price',\n",
    "                color='market')\n",
    "plotly.offline.iplot(fig)"
   ]
  },
  {
   "cell_type": "markdown",
   "metadata": {},
   "source": [
    "## 라이엇 데이터 실습\n",
    "- 데이터는 챔피언 기준 그룹바이 딜량, 받은피해량 평균\n",
    "- x: 딜량 y: 받은피해량\n",
    "- color = championName"
   ]
  },
  {
   "cell_type": "code",
   "execution_count": 68,
   "metadata": {
    "scrolled": true
   },
   "outputs": [
    {
     "data": {
      "text/html": [
       "<div>\n",
       "<style scoped>\n",
       "    .dataframe tbody tr th:only-of-type {\n",
       "        vertical-align: middle;\n",
       "    }\n",
       "\n",
       "    .dataframe tbody tr th {\n",
       "        vertical-align: top;\n",
       "    }\n",
       "\n",
       "    .dataframe thead th {\n",
       "        text-align: right;\n",
       "    }\n",
       "</style>\n",
       "<table border=\"1\" class=\"dataframe\">\n",
       "  <thead>\n",
       "    <tr style=\"text-align: right;\">\n",
       "      <th></th>\n",
       "      <th>TEAMPOSITION</th>\n",
       "      <th>CHAMPIONNAME</th>\n",
       "      <th>TOTALDAMAGEDEALTTOCHAMPIONS</th>\n",
       "      <th>TOTALDAMAGETAKEN</th>\n",
       "    </tr>\n",
       "  </thead>\n",
       "  <tbody>\n",
       "    <tr>\n",
       "      <th>0</th>\n",
       "      <td>MIDDLE</td>\n",
       "      <td>Vex</td>\n",
       "      <td>15259</td>\n",
       "      <td>14330</td>\n",
       "    </tr>\n",
       "    <tr>\n",
       "      <th>1</th>\n",
       "      <td>BOTTOM</td>\n",
       "      <td>Vayne</td>\n",
       "      <td>9519</td>\n",
       "      <td>17111</td>\n",
       "    </tr>\n",
       "    <tr>\n",
       "      <th>2</th>\n",
       "      <td>UTILITY</td>\n",
       "      <td>Yuumi</td>\n",
       "      <td>9288</td>\n",
       "      <td>10394</td>\n",
       "    </tr>\n",
       "    <tr>\n",
       "      <th>3</th>\n",
       "      <td>TOP</td>\n",
       "      <td>Irelia</td>\n",
       "      <td>32716</td>\n",
       "      <td>43435</td>\n",
       "    </tr>\n",
       "    <tr>\n",
       "      <th>4</th>\n",
       "      <td>JUNGLE</td>\n",
       "      <td>XinZhao</td>\n",
       "      <td>8093</td>\n",
       "      <td>32736</td>\n",
       "    </tr>\n",
       "    <tr>\n",
       "      <th>...</th>\n",
       "      <td>...</td>\n",
       "      <td>...</td>\n",
       "      <td>...</td>\n",
       "      <td>...</td>\n",
       "    </tr>\n",
       "    <tr>\n",
       "      <th>30475</th>\n",
       "      <td>TOP</td>\n",
       "      <td>Olaf</td>\n",
       "      <td>19832</td>\n",
       "      <td>23591</td>\n",
       "    </tr>\n",
       "    <tr>\n",
       "      <th>30476</th>\n",
       "      <td>JUNGLE</td>\n",
       "      <td>Nocturne</td>\n",
       "      <td>17172</td>\n",
       "      <td>28167</td>\n",
       "    </tr>\n",
       "    <tr>\n",
       "      <th>30477</th>\n",
       "      <td>MIDDLE</td>\n",
       "      <td>Yone</td>\n",
       "      <td>5491</td>\n",
       "      <td>24404</td>\n",
       "    </tr>\n",
       "    <tr>\n",
       "      <th>30478</th>\n",
       "      <td>BOTTOM</td>\n",
       "      <td>MissFortune</td>\n",
       "      <td>15477</td>\n",
       "      <td>23667</td>\n",
       "    </tr>\n",
       "    <tr>\n",
       "      <th>30479</th>\n",
       "      <td>UTILITY</td>\n",
       "      <td>Zilean</td>\n",
       "      <td>22978</td>\n",
       "      <td>32757</td>\n",
       "    </tr>\n",
       "  </tbody>\n",
       "</table>\n",
       "<p>23983 rows × 4 columns</p>\n",
       "</div>"
      ],
      "text/plain": [
       "      TEAMPOSITION CHAMPIONNAME  TOTALDAMAGEDEALTTOCHAMPIONS  TOTALDAMAGETAKEN\n",
       "0           MIDDLE          Vex                        15259             14330\n",
       "1           BOTTOM        Vayne                         9519             17111\n",
       "2          UTILITY        Yuumi                         9288             10394\n",
       "3              TOP       Irelia                        32716             43435\n",
       "4           JUNGLE      XinZhao                         8093             32736\n",
       "...            ...          ...                          ...               ...\n",
       "30475          TOP         Olaf                        19832             23591\n",
       "30476       JUNGLE     Nocturne                        17172             28167\n",
       "30477       MIDDLE         Yone                         5491             24404\n",
       "30478       BOTTOM  MissFortune                        15477             23667\n",
       "30479      UTILITY       Zilean                        22978             32757\n",
       "\n",
       "[23983 rows x 4 columns]"
      ]
     },
     "execution_count": 68,
     "metadata": {},
     "output_type": "execute_result"
    }
   ],
   "source": [
    "tmp_df = pd.merge(match_df, timeline_df, on=['GAMEID','PARTICIPANTID'])\\\n",
    "                [['TEAMPOSITION','CHAMPIONNAME','TOTALDAMAGEDEALTTOCHAMPIONS','TOTALDAMAGETAKEN']]\n",
    "tmp_df = tmp_df[~tmp_df.TEAMPOSITION.isna()]\n",
    "tmp_df"
   ]
  },
  {
   "cell_type": "code",
   "execution_count": 69,
   "metadata": {},
   "outputs": [
    {
     "data": {
      "text/html": [
       "<div>\n",
       "<style scoped>\n",
       "    .dataframe tbody tr th:only-of-type {\n",
       "        vertical-align: middle;\n",
       "    }\n",
       "\n",
       "    .dataframe tbody tr th {\n",
       "        vertical-align: top;\n",
       "    }\n",
       "\n",
       "    .dataframe thead th {\n",
       "        text-align: right;\n",
       "    }\n",
       "</style>\n",
       "<table border=\"1\" class=\"dataframe\">\n",
       "  <thead>\n",
       "    <tr style=\"text-align: right;\">\n",
       "      <th></th>\n",
       "      <th>CHAMPIONNAME</th>\n",
       "      <th>TOTALDAMAGEDEALTTOCHAMPIONS</th>\n",
       "      <th>TOTALDAMAGETAKEN</th>\n",
       "    </tr>\n",
       "  </thead>\n",
       "  <tbody>\n",
       "    <tr>\n",
       "      <th>0</th>\n",
       "      <td>Aatrox</td>\n",
       "      <td>17889.0</td>\n",
       "      <td>31844.0</td>\n",
       "    </tr>\n",
       "    <tr>\n",
       "      <th>1</th>\n",
       "      <td>Ahri</td>\n",
       "      <td>17087.0</td>\n",
       "      <td>16611.0</td>\n",
       "    </tr>\n",
       "    <tr>\n",
       "      <th>2</th>\n",
       "      <td>Akali</td>\n",
       "      <td>19609.0</td>\n",
       "      <td>24782.0</td>\n",
       "    </tr>\n",
       "    <tr>\n",
       "      <th>3</th>\n",
       "      <td>Akshan</td>\n",
       "      <td>21069.0</td>\n",
       "      <td>18944.0</td>\n",
       "    </tr>\n",
       "    <tr>\n",
       "      <th>4</th>\n",
       "      <td>Alistar</td>\n",
       "      <td>6836.0</td>\n",
       "      <td>21181.0</td>\n",
       "    </tr>\n",
       "    <tr>\n",
       "      <th>...</th>\n",
       "      <td>...</td>\n",
       "      <td>...</td>\n",
       "      <td>...</td>\n",
       "    </tr>\n",
       "    <tr>\n",
       "      <th>152</th>\n",
       "      <td>Zed</td>\n",
       "      <td>21409.0</td>\n",
       "      <td>20881.0</td>\n",
       "    </tr>\n",
       "    <tr>\n",
       "      <th>153</th>\n",
       "      <td>Ziggs</td>\n",
       "      <td>23121.0</td>\n",
       "      <td>15025.0</td>\n",
       "    </tr>\n",
       "    <tr>\n",
       "      <th>154</th>\n",
       "      <td>Zilean</td>\n",
       "      <td>8842.0</td>\n",
       "      <td>15039.0</td>\n",
       "    </tr>\n",
       "    <tr>\n",
       "      <th>155</th>\n",
       "      <td>Zoe</td>\n",
       "      <td>19456.0</td>\n",
       "      <td>17125.0</td>\n",
       "    </tr>\n",
       "    <tr>\n",
       "      <th>156</th>\n",
       "      <td>Zyra</td>\n",
       "      <td>18294.0</td>\n",
       "      <td>13603.0</td>\n",
       "    </tr>\n",
       "  </tbody>\n",
       "</table>\n",
       "<p>157 rows × 3 columns</p>\n",
       "</div>"
      ],
      "text/plain": [
       "    CHAMPIONNAME  TOTALDAMAGEDEALTTOCHAMPIONS  TOTALDAMAGETAKEN\n",
       "0         Aatrox                      17889.0           31844.0\n",
       "1           Ahri                      17087.0           16611.0\n",
       "2          Akali                      19609.0           24782.0\n",
       "3         Akshan                      21069.0           18944.0\n",
       "4        Alistar                       6836.0           21181.0\n",
       "..           ...                          ...               ...\n",
       "152          Zed                      21409.0           20881.0\n",
       "153        Ziggs                      23121.0           15025.0\n",
       "154       Zilean                       8842.0           15039.0\n",
       "155          Zoe                      19456.0           17125.0\n",
       "156         Zyra                      18294.0           13603.0\n",
       "\n",
       "[157 rows x 3 columns]"
      ]
     },
     "execution_count": 69,
     "metadata": {},
     "output_type": "execute_result"
    }
   ],
   "source": [
    "my_df = tmp_df.groupby('CHAMPIONNAME').mean().round().reset_index()\n",
    "my_df"
   ]
  },
  {
   "cell_type": "code",
   "execution_count": 70,
   "metadata": {},
   "outputs": [
    {
     "data": {
      "application/vnd.plotly.v1+json": {
       "config": {
        "linkText": "Export to plot.ly",
        "plotlyServerURL": "https://plot.ly",
        "showLink": false
       },
       "data": [
        {
         "hovertemplate": "CHAMPIONNAME=Aatrox<br>TOTALDAMAGEDEALTTOCHAMPIONS=%{x}<br>TOTALDAMAGETAKEN=%{y}<extra></extra>",
         "legendgroup": "Aatrox",
         "marker": {
          "color": "#636efa",
          "symbol": "circle"
         },
         "mode": "markers",
         "name": "Aatrox",
         "orientation": "v",
         "showlegend": true,
         "type": "scatter",
         "x": [
          17889
         ],
         "xaxis": "x",
         "y": [
          31844
         ],
         "yaxis": "y"
        },
        {
         "hovertemplate": "CHAMPIONNAME=Ahri<br>TOTALDAMAGEDEALTTOCHAMPIONS=%{x}<br>TOTALDAMAGETAKEN=%{y}<extra></extra>",
         "legendgroup": "Ahri",
         "marker": {
          "color": "#EF553B",
          "symbol": "circle"
         },
         "mode": "markers",
         "name": "Ahri",
         "orientation": "v",
         "showlegend": true,
         "type": "scatter",
         "x": [
          17087
         ],
         "xaxis": "x",
         "y": [
          16611
         ],
         "yaxis": "y"
        },
        {
         "hovertemplate": "CHAMPIONNAME=Akali<br>TOTALDAMAGEDEALTTOCHAMPIONS=%{x}<br>TOTALDAMAGETAKEN=%{y}<extra></extra>",
         "legendgroup": "Akali",
         "marker": {
          "color": "#00cc96",
          "symbol": "circle"
         },
         "mode": "markers",
         "name": "Akali",
         "orientation": "v",
         "showlegend": true,
         "type": "scatter",
         "x": [
          19609
         ],
         "xaxis": "x",
         "y": [
          24782
         ],
         "yaxis": "y"
        },
        {
         "hovertemplate": "CHAMPIONNAME=Akshan<br>TOTALDAMAGEDEALTTOCHAMPIONS=%{x}<br>TOTALDAMAGETAKEN=%{y}<extra></extra>",
         "legendgroup": "Akshan",
         "marker": {
          "color": "#ab63fa",
          "symbol": "circle"
         },
         "mode": "markers",
         "name": "Akshan",
         "orientation": "v",
         "showlegend": true,
         "type": "scatter",
         "x": [
          21069
         ],
         "xaxis": "x",
         "y": [
          18944
         ],
         "yaxis": "y"
        },
        {
         "hovertemplate": "CHAMPIONNAME=Alistar<br>TOTALDAMAGEDEALTTOCHAMPIONS=%{x}<br>TOTALDAMAGETAKEN=%{y}<extra></extra>",
         "legendgroup": "Alistar",
         "marker": {
          "color": "#FFA15A",
          "symbol": "circle"
         },
         "mode": "markers",
         "name": "Alistar",
         "orientation": "v",
         "showlegend": true,
         "type": "scatter",
         "x": [
          6836
         ],
         "xaxis": "x",
         "y": [
          21181
         ],
         "yaxis": "y"
        },
        {
         "hovertemplate": "CHAMPIONNAME=Amumu<br>TOTALDAMAGEDEALTTOCHAMPIONS=%{x}<br>TOTALDAMAGETAKEN=%{y}<extra></extra>",
         "legendgroup": "Amumu",
         "marker": {
          "color": "#19d3f3",
          "symbol": "circle"
         },
         "mode": "markers",
         "name": "Amumu",
         "orientation": "v",
         "showlegend": true,
         "type": "scatter",
         "x": [
          10463
         ],
         "xaxis": "x",
         "y": [
          19882
         ],
         "yaxis": "y"
        },
        {
         "hovertemplate": "CHAMPIONNAME=Anivia<br>TOTALDAMAGEDEALTTOCHAMPIONS=%{x}<br>TOTALDAMAGETAKEN=%{y}<extra></extra>",
         "legendgroup": "Anivia",
         "marker": {
          "color": "#FF6692",
          "symbol": "circle"
         },
         "mode": "markers",
         "name": "Anivia",
         "orientation": "v",
         "showlegend": true,
         "type": "scatter",
         "x": [
          18081
         ],
         "xaxis": "x",
         "y": [
          19486
         ],
         "yaxis": "y"
        },
        {
         "hovertemplate": "CHAMPIONNAME=Annie<br>TOTALDAMAGEDEALTTOCHAMPIONS=%{x}<br>TOTALDAMAGETAKEN=%{y}<extra></extra>",
         "legendgroup": "Annie",
         "marker": {
          "color": "#B6E880",
          "symbol": "circle"
         },
         "mode": "markers",
         "name": "Annie",
         "orientation": "v",
         "showlegend": true,
         "type": "scatter",
         "x": [
          15934
         ],
         "xaxis": "x",
         "y": [
          14338
         ],
         "yaxis": "y"
        },
        {
         "hovertemplate": "CHAMPIONNAME=Aphelios<br>TOTALDAMAGEDEALTTOCHAMPIONS=%{x}<br>TOTALDAMAGETAKEN=%{y}<extra></extra>",
         "legendgroup": "Aphelios",
         "marker": {
          "color": "#FF97FF",
          "symbol": "circle"
         },
         "mode": "markers",
         "name": "Aphelios",
         "orientation": "v",
         "showlegend": true,
         "type": "scatter",
         "x": [
          18832
         ],
         "xaxis": "x",
         "y": [
          18282
         ],
         "yaxis": "y"
        },
        {
         "hovertemplate": "CHAMPIONNAME=Ashe<br>TOTALDAMAGEDEALTTOCHAMPIONS=%{x}<br>TOTALDAMAGETAKEN=%{y}<extra></extra>",
         "legendgroup": "Ashe",
         "marker": {
          "color": "#FECB52",
          "symbol": "circle"
         },
         "mode": "markers",
         "name": "Ashe",
         "orientation": "v",
         "showlegend": true,
         "type": "scatter",
         "x": [
          16182
         ],
         "xaxis": "x",
         "y": [
          16134
         ],
         "yaxis": "y"
        },
        {
         "hovertemplate": "CHAMPIONNAME=AurelionSol<br>TOTALDAMAGEDEALTTOCHAMPIONS=%{x}<br>TOTALDAMAGETAKEN=%{y}<extra></extra>",
         "legendgroup": "AurelionSol",
         "marker": {
          "color": "#636efa",
          "symbol": "circle"
         },
         "mode": "markers",
         "name": "AurelionSol",
         "orientation": "v",
         "showlegend": true,
         "type": "scatter",
         "x": [
          18519
         ],
         "xaxis": "x",
         "y": [
          19994
         ],
         "yaxis": "y"
        },
        {
         "hovertemplate": "CHAMPIONNAME=Azir<br>TOTALDAMAGEDEALTTOCHAMPIONS=%{x}<br>TOTALDAMAGETAKEN=%{y}<extra></extra>",
         "legendgroup": "Azir",
         "marker": {
          "color": "#EF553B",
          "symbol": "circle"
         },
         "mode": "markers",
         "name": "Azir",
         "orientation": "v",
         "showlegend": true,
         "type": "scatter",
         "x": [
          17419
         ],
         "xaxis": "x",
         "y": [
          16553
         ],
         "yaxis": "y"
        },
        {
         "hovertemplate": "CHAMPIONNAME=Bard<br>TOTALDAMAGEDEALTTOCHAMPIONS=%{x}<br>TOTALDAMAGETAKEN=%{y}<extra></extra>",
         "legendgroup": "Bard",
         "marker": {
          "color": "#00cc96",
          "symbol": "circle"
         },
         "mode": "markers",
         "name": "Bard",
         "orientation": "v",
         "showlegend": true,
         "type": "scatter",
         "x": [
          10297
         ],
         "xaxis": "x",
         "y": [
          16582
         ],
         "yaxis": "y"
        },
        {
         "hovertemplate": "CHAMPIONNAME=Blitzcrank<br>TOTALDAMAGEDEALTTOCHAMPIONS=%{x}<br>TOTALDAMAGETAKEN=%{y}<extra></extra>",
         "legendgroup": "Blitzcrank",
         "marker": {
          "color": "#ab63fa",
          "symbol": "circle"
         },
         "mode": "markers",
         "name": "Blitzcrank",
         "orientation": "v",
         "showlegend": true,
         "type": "scatter",
         "x": [
          8054
         ],
         "xaxis": "x",
         "y": [
          18649
         ],
         "yaxis": "y"
        },
        {
         "hovertemplate": "CHAMPIONNAME=Brand<br>TOTALDAMAGEDEALTTOCHAMPIONS=%{x}<br>TOTALDAMAGETAKEN=%{y}<extra></extra>",
         "legendgroup": "Brand",
         "marker": {
          "color": "#FFA15A",
          "symbol": "circle"
         },
         "mode": "markers",
         "name": "Brand",
         "orientation": "v",
         "showlegend": true,
         "type": "scatter",
         "x": [
          19502
         ],
         "xaxis": "x",
         "y": [
          15869
         ],
         "yaxis": "y"
        },
        {
         "hovertemplate": "CHAMPIONNAME=Braum<br>TOTALDAMAGEDEALTTOCHAMPIONS=%{x}<br>TOTALDAMAGETAKEN=%{y}<extra></extra>",
         "legendgroup": "Braum",
         "marker": {
          "color": "#19d3f3",
          "symbol": "circle"
         },
         "mode": "markers",
         "name": "Braum",
         "orientation": "v",
         "showlegend": true,
         "type": "scatter",
         "x": [
          7171
         ],
         "xaxis": "x",
         "y": [
          18237
         ],
         "yaxis": "y"
        },
        {
         "hovertemplate": "CHAMPIONNAME=Caitlyn<br>TOTALDAMAGEDEALTTOCHAMPIONS=%{x}<br>TOTALDAMAGETAKEN=%{y}<extra></extra>",
         "legendgroup": "Caitlyn",
         "marker": {
          "color": "#FF6692",
          "symbol": "circle"
         },
         "mode": "markers",
         "name": "Caitlyn",
         "orientation": "v",
         "showlegend": true,
         "type": "scatter",
         "x": [
          18112
         ],
         "xaxis": "x",
         "y": [
          17098
         ],
         "yaxis": "y"
        },
        {
         "hovertemplate": "CHAMPIONNAME=Camille<br>TOTALDAMAGEDEALTTOCHAMPIONS=%{x}<br>TOTALDAMAGETAKEN=%{y}<extra></extra>",
         "legendgroup": "Camille",
         "marker": {
          "color": "#B6E880",
          "symbol": "circle"
         },
         "mode": "markers",
         "name": "Camille",
         "orientation": "v",
         "showlegend": true,
         "type": "scatter",
         "x": [
          17299
         ],
         "xaxis": "x",
         "y": [
          26459
         ],
         "yaxis": "y"
        },
        {
         "hovertemplate": "CHAMPIONNAME=Cassiopeia<br>TOTALDAMAGEDEALTTOCHAMPIONS=%{x}<br>TOTALDAMAGETAKEN=%{y}<extra></extra>",
         "legendgroup": "Cassiopeia",
         "marker": {
          "color": "#FF97FF",
          "symbol": "circle"
         },
         "mode": "markers",
         "name": "Cassiopeia",
         "orientation": "v",
         "showlegend": true,
         "type": "scatter",
         "x": [
          20052
         ],
         "xaxis": "x",
         "y": [
          19730
         ],
         "yaxis": "y"
        },
        {
         "hovertemplate": "CHAMPIONNAME=Chogath<br>TOTALDAMAGEDEALTTOCHAMPIONS=%{x}<br>TOTALDAMAGETAKEN=%{y}<extra></extra>",
         "legendgroup": "Chogath",
         "marker": {
          "color": "#FECB52",
          "symbol": "circle"
         },
         "mode": "markers",
         "name": "Chogath",
         "orientation": "v",
         "showlegend": true,
         "type": "scatter",
         "x": [
          13875
         ],
         "xaxis": "x",
         "y": [
          23458
         ],
         "yaxis": "y"
        },
        {
         "hovertemplate": "CHAMPIONNAME=Corki<br>TOTALDAMAGEDEALTTOCHAMPIONS=%{x}<br>TOTALDAMAGETAKEN=%{y}<extra></extra>",
         "legendgroup": "Corki",
         "marker": {
          "color": "#636efa",
          "symbol": "circle"
         },
         "mode": "markers",
         "name": "Corki",
         "orientation": "v",
         "showlegend": true,
         "type": "scatter",
         "x": [
          25127
         ],
         "xaxis": "x",
         "y": [
          17692
         ],
         "yaxis": "y"
        },
        {
         "hovertemplate": "CHAMPIONNAME=Darius<br>TOTALDAMAGEDEALTTOCHAMPIONS=%{x}<br>TOTALDAMAGETAKEN=%{y}<extra></extra>",
         "legendgroup": "Darius",
         "marker": {
          "color": "#EF553B",
          "symbol": "circle"
         },
         "mode": "markers",
         "name": "Darius",
         "orientation": "v",
         "showlegend": true,
         "type": "scatter",
         "x": [
          17560
         ],
         "xaxis": "x",
         "y": [
          26718
         ],
         "yaxis": "y"
        },
        {
         "hovertemplate": "CHAMPIONNAME=Diana<br>TOTALDAMAGEDEALTTOCHAMPIONS=%{x}<br>TOTALDAMAGETAKEN=%{y}<extra></extra>",
         "legendgroup": "Diana",
         "marker": {
          "color": "#00cc96",
          "symbol": "circle"
         },
         "mode": "markers",
         "name": "Diana",
         "orientation": "v",
         "showlegend": true,
         "type": "scatter",
         "x": [
          19236
         ],
         "xaxis": "x",
         "y": [
          23403
         ],
         "yaxis": "y"
        },
        {
         "hovertemplate": "CHAMPIONNAME=DrMundo<br>TOTALDAMAGEDEALTTOCHAMPIONS=%{x}<br>TOTALDAMAGETAKEN=%{y}<extra></extra>",
         "legendgroup": "DrMundo",
         "marker": {
          "color": "#ab63fa",
          "symbol": "circle"
         },
         "mode": "markers",
         "name": "DrMundo",
         "orientation": "v",
         "showlegend": true,
         "type": "scatter",
         "x": [
          18087
         ],
         "xaxis": "x",
         "y": [
          31625
         ],
         "yaxis": "y"
        },
        {
         "hovertemplate": "CHAMPIONNAME=Draven<br>TOTALDAMAGEDEALTTOCHAMPIONS=%{x}<br>TOTALDAMAGETAKEN=%{y}<extra></extra>",
         "legendgroup": "Draven",
         "marker": {
          "color": "#FFA15A",
          "symbol": "circle"
         },
         "mode": "markers",
         "name": "Draven",
         "orientation": "v",
         "showlegend": true,
         "type": "scatter",
         "x": [
          17710
         ],
         "xaxis": "x",
         "y": [
          18832
         ],
         "yaxis": "y"
        },
        {
         "hovertemplate": "CHAMPIONNAME=Ekko<br>TOTALDAMAGEDEALTTOCHAMPIONS=%{x}<br>TOTALDAMAGETAKEN=%{y}<extra></extra>",
         "legendgroup": "Ekko",
         "marker": {
          "color": "#19d3f3",
          "symbol": "circle"
         },
         "mode": "markers",
         "name": "Ekko",
         "orientation": "v",
         "showlegend": true,
         "type": "scatter",
         "x": [
          17894
         ],
         "xaxis": "x",
         "y": [
          27840
         ],
         "yaxis": "y"
        },
        {
         "hovertemplate": "CHAMPIONNAME=Elise<br>TOTALDAMAGEDEALTTOCHAMPIONS=%{x}<br>TOTALDAMAGETAKEN=%{y}<extra></extra>",
         "legendgroup": "Elise",
         "marker": {
          "color": "#FF6692",
          "symbol": "circle"
         },
         "mode": "markers",
         "name": "Elise",
         "orientation": "v",
         "showlegend": true,
         "type": "scatter",
         "x": [
          16211
         ],
         "xaxis": "x",
         "y": [
          21599
         ],
         "yaxis": "y"
        },
        {
         "hovertemplate": "CHAMPIONNAME=Evelynn<br>TOTALDAMAGEDEALTTOCHAMPIONS=%{x}<br>TOTALDAMAGETAKEN=%{y}<extra></extra>",
         "legendgroup": "Evelynn",
         "marker": {
          "color": "#B6E880",
          "symbol": "circle"
         },
         "mode": "markers",
         "name": "Evelynn",
         "orientation": "v",
         "showlegend": true,
         "type": "scatter",
         "x": [
          19671
         ],
         "xaxis": "x",
         "y": [
          23636
         ],
         "yaxis": "y"
        },
        {
         "hovertemplate": "CHAMPIONNAME=Ezreal<br>TOTALDAMAGEDEALTTOCHAMPIONS=%{x}<br>TOTALDAMAGETAKEN=%{y}<extra></extra>",
         "legendgroup": "Ezreal",
         "marker": {
          "color": "#FF97FF",
          "symbol": "circle"
         },
         "mode": "markers",
         "name": "Ezreal",
         "orientation": "v",
         "showlegend": true,
         "type": "scatter",
         "x": [
          21245
         ],
         "xaxis": "x",
         "y": [
          18431
         ],
         "yaxis": "y"
        },
        {
         "hovertemplate": "CHAMPIONNAME=FiddleSticks<br>TOTALDAMAGEDEALTTOCHAMPIONS=%{x}<br>TOTALDAMAGETAKEN=%{y}<extra></extra>",
         "legendgroup": "FiddleSticks",
         "marker": {
          "color": "#FECB52",
          "symbol": "circle"
         },
         "mode": "markers",
         "name": "FiddleSticks",
         "orientation": "v",
         "showlegend": true,
         "type": "scatter",
         "x": [
          16442
         ],
         "xaxis": "x",
         "y": [
          26044
         ],
         "yaxis": "y"
        },
        {
         "hovertemplate": "CHAMPIONNAME=Fiora<br>TOTALDAMAGEDEALTTOCHAMPIONS=%{x}<br>TOTALDAMAGETAKEN=%{y}<extra></extra>",
         "legendgroup": "Fiora",
         "marker": {
          "color": "#636efa",
          "symbol": "circle"
         },
         "mode": "markers",
         "name": "Fiora",
         "orientation": "v",
         "showlegend": true,
         "type": "scatter",
         "x": [
          17449
         ],
         "xaxis": "x",
         "y": [
          28158
         ],
         "yaxis": "y"
        },
        {
         "hovertemplate": "CHAMPIONNAME=Fizz<br>TOTALDAMAGEDEALTTOCHAMPIONS=%{x}<br>TOTALDAMAGETAKEN=%{y}<extra></extra>",
         "legendgroup": "Fizz",
         "marker": {
          "color": "#EF553B",
          "symbol": "circle"
         },
         "mode": "markers",
         "name": "Fizz",
         "orientation": "v",
         "showlegend": true,
         "type": "scatter",
         "x": [
          18895
         ],
         "xaxis": "x",
         "y": [
          19773
         ],
         "yaxis": "y"
        },
        {
         "hovertemplate": "CHAMPIONNAME=Galio<br>TOTALDAMAGEDEALTTOCHAMPIONS=%{x}<br>TOTALDAMAGETAKEN=%{y}<extra></extra>",
         "legendgroup": "Galio",
         "marker": {
          "color": "#00cc96",
          "symbol": "circle"
         },
         "mode": "markers",
         "name": "Galio",
         "orientation": "v",
         "showlegend": true,
         "type": "scatter",
         "x": [
          12280
         ],
         "xaxis": "x",
         "y": [
          18401
         ],
         "yaxis": "y"
        },
        {
         "hovertemplate": "CHAMPIONNAME=Gangplank<br>TOTALDAMAGEDEALTTOCHAMPIONS=%{x}<br>TOTALDAMAGETAKEN=%{y}<extra></extra>",
         "legendgroup": "Gangplank",
         "marker": {
          "color": "#ab63fa",
          "symbol": "circle"
         },
         "mode": "markers",
         "name": "Gangplank",
         "orientation": "v",
         "showlegend": true,
         "type": "scatter",
         "x": [
          18630
         ],
         "xaxis": "x",
         "y": [
          21911
         ],
         "yaxis": "y"
        },
        {
         "hovertemplate": "CHAMPIONNAME=Garen<br>TOTALDAMAGEDEALTTOCHAMPIONS=%{x}<br>TOTALDAMAGETAKEN=%{y}<extra></extra>",
         "legendgroup": "Garen",
         "marker": {
          "color": "#FFA15A",
          "symbol": "circle"
         },
         "mode": "markers",
         "name": "Garen",
         "orientation": "v",
         "showlegend": true,
         "type": "scatter",
         "x": [
          14807
         ],
         "xaxis": "x",
         "y": [
          22583
         ],
         "yaxis": "y"
        },
        {
         "hovertemplate": "CHAMPIONNAME=Gnar<br>TOTALDAMAGEDEALTTOCHAMPIONS=%{x}<br>TOTALDAMAGETAKEN=%{y}<extra></extra>",
         "legendgroup": "Gnar",
         "marker": {
          "color": "#19d3f3",
          "symbol": "circle"
         },
         "mode": "markers",
         "name": "Gnar",
         "orientation": "v",
         "showlegend": true,
         "type": "scatter",
         "x": [
          17923
         ],
         "xaxis": "x",
         "y": [
          25365
         ],
         "yaxis": "y"
        },
        {
         "hovertemplate": "CHAMPIONNAME=Gragas<br>TOTALDAMAGEDEALTTOCHAMPIONS=%{x}<br>TOTALDAMAGETAKEN=%{y}<extra></extra>",
         "legendgroup": "Gragas",
         "marker": {
          "color": "#FF6692",
          "symbol": "circle"
         },
         "mode": "markers",
         "name": "Gragas",
         "orientation": "v",
         "showlegend": true,
         "type": "scatter",
         "x": [
          15250
         ],
         "xaxis": "x",
         "y": [
          25431
         ],
         "yaxis": "y"
        },
        {
         "hovertemplate": "CHAMPIONNAME=Graves<br>TOTALDAMAGEDEALTTOCHAMPIONS=%{x}<br>TOTALDAMAGETAKEN=%{y}<extra></extra>",
         "legendgroup": "Graves",
         "marker": {
          "color": "#B6E880",
          "symbol": "circle"
         },
         "mode": "markers",
         "name": "Graves",
         "orientation": "v",
         "showlegend": true,
         "type": "scatter",
         "x": [
          19137
         ],
         "xaxis": "x",
         "y": [
          22668
         ],
         "yaxis": "y"
        },
        {
         "hovertemplate": "CHAMPIONNAME=Gwen<br>TOTALDAMAGEDEALTTOCHAMPIONS=%{x}<br>TOTALDAMAGETAKEN=%{y}<extra></extra>",
         "legendgroup": "Gwen",
         "marker": {
          "color": "#FF97FF",
          "symbol": "circle"
         },
         "mode": "markers",
         "name": "Gwen",
         "orientation": "v",
         "showlegend": true,
         "type": "scatter",
         "x": [
          17237
         ],
         "xaxis": "x",
         "y": [
          26571
         ],
         "yaxis": "y"
        },
        {
         "hovertemplate": "CHAMPIONNAME=Hecarim<br>TOTALDAMAGEDEALTTOCHAMPIONS=%{x}<br>TOTALDAMAGETAKEN=%{y}<extra></extra>",
         "legendgroup": "Hecarim",
         "marker": {
          "color": "#FECB52",
          "symbol": "circle"
         },
         "mode": "markers",
         "name": "Hecarim",
         "orientation": "v",
         "showlegend": true,
         "type": "scatter",
         "x": [
          13798
         ],
         "xaxis": "x",
         "y": [
          31141
         ],
         "yaxis": "y"
        },
        {
         "hovertemplate": "CHAMPIONNAME=Heimerdinger<br>TOTALDAMAGEDEALTTOCHAMPIONS=%{x}<br>TOTALDAMAGETAKEN=%{y}<extra></extra>",
         "legendgroup": "Heimerdinger",
         "marker": {
          "color": "#636efa",
          "symbol": "circle"
         },
         "mode": "markers",
         "name": "Heimerdinger",
         "orientation": "v",
         "showlegend": true,
         "type": "scatter",
         "x": [
          21491
         ],
         "xaxis": "x",
         "y": [
          15160
         ],
         "yaxis": "y"
        },
        {
         "hovertemplate": "CHAMPIONNAME=Illaoi<br>TOTALDAMAGEDEALTTOCHAMPIONS=%{x}<br>TOTALDAMAGETAKEN=%{y}<extra></extra>",
         "legendgroup": "Illaoi",
         "marker": {
          "color": "#EF553B",
          "symbol": "circle"
         },
         "mode": "markers",
         "name": "Illaoi",
         "orientation": "v",
         "showlegend": true,
         "type": "scatter",
         "x": [
          20176
         ],
         "xaxis": "x",
         "y": [
          27503
         ],
         "yaxis": "y"
        },
        {
         "hovertemplate": "CHAMPIONNAME=Irelia<br>TOTALDAMAGEDEALTTOCHAMPIONS=%{x}<br>TOTALDAMAGETAKEN=%{y}<extra></extra>",
         "legendgroup": "Irelia",
         "marker": {
          "color": "#00cc96",
          "symbol": "circle"
         },
         "mode": "markers",
         "name": "Irelia",
         "orientation": "v",
         "showlegend": true,
         "type": "scatter",
         "x": [
          18461
         ],
         "xaxis": "x",
         "y": [
          26839
         ],
         "yaxis": "y"
        },
        {
         "hovertemplate": "CHAMPIONNAME=Ivern<br>TOTALDAMAGEDEALTTOCHAMPIONS=%{x}<br>TOTALDAMAGETAKEN=%{y}<extra></extra>",
         "legendgroup": "Ivern",
         "marker": {
          "color": "#ab63fa",
          "symbol": "circle"
         },
         "mode": "markers",
         "name": "Ivern",
         "orientation": "v",
         "showlegend": true,
         "type": "scatter",
         "x": [
          8764
         ],
         "xaxis": "x",
         "y": [
          13153
         ],
         "yaxis": "y"
        },
        {
         "hovertemplate": "CHAMPIONNAME=Janna<br>TOTALDAMAGEDEALTTOCHAMPIONS=%{x}<br>TOTALDAMAGETAKEN=%{y}<extra></extra>",
         "legendgroup": "Janna",
         "marker": {
          "color": "#FFA15A",
          "symbol": "circle"
         },
         "mode": "markers",
         "name": "Janna",
         "orientation": "v",
         "showlegend": true,
         "type": "scatter",
         "x": [
          7580
         ],
         "xaxis": "x",
         "y": [
          13243
         ],
         "yaxis": "y"
        },
        {
         "hovertemplate": "CHAMPIONNAME=JarvanIV<br>TOTALDAMAGEDEALTTOCHAMPIONS=%{x}<br>TOTALDAMAGETAKEN=%{y}<extra></extra>",
         "legendgroup": "JarvanIV",
         "marker": {
          "color": "#19d3f3",
          "symbol": "circle"
         },
         "mode": "markers",
         "name": "JarvanIV",
         "orientation": "v",
         "showlegend": true,
         "type": "scatter",
         "x": [
          13293
         ],
         "xaxis": "x",
         "y": [
          27953
         ],
         "yaxis": "y"
        },
        {
         "hovertemplate": "CHAMPIONNAME=Jax<br>TOTALDAMAGEDEALTTOCHAMPIONS=%{x}<br>TOTALDAMAGETAKEN=%{y}<extra></extra>",
         "legendgroup": "Jax",
         "marker": {
          "color": "#FF6692",
          "symbol": "circle"
         },
         "mode": "markers",
         "name": "Jax",
         "orientation": "v",
         "showlegend": true,
         "type": "scatter",
         "x": [
          16899
         ],
         "xaxis": "x",
         "y": [
          25736
         ],
         "yaxis": "y"
        },
        {
         "hovertemplate": "CHAMPIONNAME=Jayce<br>TOTALDAMAGEDEALTTOCHAMPIONS=%{x}<br>TOTALDAMAGETAKEN=%{y}<extra></extra>",
         "legendgroup": "Jayce",
         "marker": {
          "color": "#B6E880",
          "symbol": "circle"
         },
         "mode": "markers",
         "name": "Jayce",
         "orientation": "v",
         "showlegend": true,
         "type": "scatter",
         "x": [
          18576
         ],
         "xaxis": "x",
         "y": [
          17660
         ],
         "yaxis": "y"
        },
        {
         "hovertemplate": "CHAMPIONNAME=Jhin<br>TOTALDAMAGEDEALTTOCHAMPIONS=%{x}<br>TOTALDAMAGETAKEN=%{y}<extra></extra>",
         "legendgroup": "Jhin",
         "marker": {
          "color": "#FF97FF",
          "symbol": "circle"
         },
         "mode": "markers",
         "name": "Jhin",
         "orientation": "v",
         "showlegend": true,
         "type": "scatter",
         "x": [
          18450
         ],
         "xaxis": "x",
         "y": [
          17231
         ],
         "yaxis": "y"
        },
        {
         "hovertemplate": "CHAMPIONNAME=Jinx<br>TOTALDAMAGEDEALTTOCHAMPIONS=%{x}<br>TOTALDAMAGETAKEN=%{y}<extra></extra>",
         "legendgroup": "Jinx",
         "marker": {
          "color": "#FECB52",
          "symbol": "circle"
         },
         "mode": "markers",
         "name": "Jinx",
         "orientation": "v",
         "showlegend": true,
         "type": "scatter",
         "x": [
          16932
         ],
         "xaxis": "x",
         "y": [
          17458
         ],
         "yaxis": "y"
        },
        {
         "hovertemplate": "CHAMPIONNAME=Kaisa<br>TOTALDAMAGEDEALTTOCHAMPIONS=%{x}<br>TOTALDAMAGETAKEN=%{y}<extra></extra>",
         "legendgroup": "Kaisa",
         "marker": {
          "color": "#636efa",
          "symbol": "circle"
         },
         "mode": "markers",
         "name": "Kaisa",
         "orientation": "v",
         "showlegend": true,
         "type": "scatter",
         "x": [
          16838
         ],
         "xaxis": "x",
         "y": [
          17158
         ],
         "yaxis": "y"
        },
        {
         "hovertemplate": "CHAMPIONNAME=Kalista<br>TOTALDAMAGEDEALTTOCHAMPIONS=%{x}<br>TOTALDAMAGETAKEN=%{y}<extra></extra>",
         "legendgroup": "Kalista",
         "marker": {
          "color": "#EF553B",
          "symbol": "circle"
         },
         "mode": "markers",
         "name": "Kalista",
         "orientation": "v",
         "showlegend": true,
         "type": "scatter",
         "x": [
          15618
         ],
         "xaxis": "x",
         "y": [
          18863
         ],
         "yaxis": "y"
        },
        {
         "hovertemplate": "CHAMPIONNAME=Karma<br>TOTALDAMAGEDEALTTOCHAMPIONS=%{x}<br>TOTALDAMAGETAKEN=%{y}<extra></extra>",
         "legendgroup": "Karma",
         "marker": {
          "color": "#00cc96",
          "symbol": "circle"
         },
         "mode": "markers",
         "name": "Karma",
         "orientation": "v",
         "showlegend": true,
         "type": "scatter",
         "x": [
          10781
         ],
         "xaxis": "x",
         "y": [
          15952
         ],
         "yaxis": "y"
        },
        {
         "hovertemplate": "CHAMPIONNAME=Karthus<br>TOTALDAMAGEDEALTTOCHAMPIONS=%{x}<br>TOTALDAMAGETAKEN=%{y}<extra></extra>",
         "legendgroup": "Karthus",
         "marker": {
          "color": "#ab63fa",
          "symbol": "circle"
         },
         "mode": "markers",
         "name": "Karthus",
         "orientation": "v",
         "showlegend": true,
         "type": "scatter",
         "x": [
          24276
         ],
         "xaxis": "x",
         "y": [
          23548
         ],
         "yaxis": "y"
        },
        {
         "hovertemplate": "CHAMPIONNAME=Kassadin<br>TOTALDAMAGEDEALTTOCHAMPIONS=%{x}<br>TOTALDAMAGETAKEN=%{y}<extra></extra>",
         "legendgroup": "Kassadin",
         "marker": {
          "color": "#FFA15A",
          "symbol": "circle"
         },
         "mode": "markers",
         "name": "Kassadin",
         "orientation": "v",
         "showlegend": true,
         "type": "scatter",
         "x": [
          18959
         ],
         "xaxis": "x",
         "y": [
          22100
         ],
         "yaxis": "y"
        },
        {
         "hovertemplate": "CHAMPIONNAME=Katarina<br>TOTALDAMAGEDEALTTOCHAMPIONS=%{x}<br>TOTALDAMAGETAKEN=%{y}<extra></extra>",
         "legendgroup": "Katarina",
         "marker": {
          "color": "#19d3f3",
          "symbol": "circle"
         },
         "mode": "markers",
         "name": "Katarina",
         "orientation": "v",
         "showlegend": true,
         "type": "scatter",
         "x": [
          19258
         ],
         "xaxis": "x",
         "y": [
          20635
         ],
         "yaxis": "y"
        },
        {
         "hovertemplate": "CHAMPIONNAME=Kayle<br>TOTALDAMAGEDEALTTOCHAMPIONS=%{x}<br>TOTALDAMAGETAKEN=%{y}<extra></extra>",
         "legendgroup": "Kayle",
         "marker": {
          "color": "#FF6692",
          "symbol": "circle"
         },
         "mode": "markers",
         "name": "Kayle",
         "orientation": "v",
         "showlegend": true,
         "type": "scatter",
         "x": [
          17554
         ],
         "xaxis": "x",
         "y": [
          19940
         ],
         "yaxis": "y"
        },
        {
         "hovertemplate": "CHAMPIONNAME=Kayn<br>TOTALDAMAGEDEALTTOCHAMPIONS=%{x}<br>TOTALDAMAGETAKEN=%{y}<extra></extra>",
         "legendgroup": "Kayn",
         "marker": {
          "color": "#B6E880",
          "symbol": "circle"
         },
         "mode": "markers",
         "name": "Kayn",
         "orientation": "v",
         "showlegend": true,
         "type": "scatter",
         "x": [
          18047
         ],
         "xaxis": "x",
         "y": [
          31218
         ],
         "yaxis": "y"
        },
        {
         "hovertemplate": "CHAMPIONNAME=Kennen<br>TOTALDAMAGEDEALTTOCHAMPIONS=%{x}<br>TOTALDAMAGETAKEN=%{y}<extra></extra>",
         "legendgroup": "Kennen",
         "marker": {
          "color": "#FF97FF",
          "symbol": "circle"
         },
         "mode": "markers",
         "name": "Kennen",
         "orientation": "v",
         "showlegend": true,
         "type": "scatter",
         "x": [
          17033
         ],
         "xaxis": "x",
         "y": [
          18223
         ],
         "yaxis": "y"
        },
        {
         "hovertemplate": "CHAMPIONNAME=Khazix<br>TOTALDAMAGEDEALTTOCHAMPIONS=%{x}<br>TOTALDAMAGETAKEN=%{y}<extra></extra>",
         "legendgroup": "Khazix",
         "marker": {
          "color": "#FECB52",
          "symbol": "circle"
         },
         "mode": "markers",
         "name": "Khazix",
         "orientation": "v",
         "showlegend": true,
         "type": "scatter",
         "x": [
          17608
         ],
         "xaxis": "x",
         "y": [
          27140
         ],
         "yaxis": "y"
        },
        {
         "hovertemplate": "CHAMPIONNAME=Kindred<br>TOTALDAMAGEDEALTTOCHAMPIONS=%{x}<br>TOTALDAMAGETAKEN=%{y}<extra></extra>",
         "legendgroup": "Kindred",
         "marker": {
          "color": "#636efa",
          "symbol": "circle"
         },
         "mode": "markers",
         "name": "Kindred",
         "orientation": "v",
         "showlegend": true,
         "type": "scatter",
         "x": [
          18082
         ],
         "xaxis": "x",
         "y": [
          23518
         ],
         "yaxis": "y"
        },
        {
         "hovertemplate": "CHAMPIONNAME=Kled<br>TOTALDAMAGEDEALTTOCHAMPIONS=%{x}<br>TOTALDAMAGETAKEN=%{y}<extra></extra>",
         "legendgroup": "Kled",
         "marker": {
          "color": "#EF553B",
          "symbol": "circle"
         },
         "mode": "markers",
         "name": "Kled",
         "orientation": "v",
         "showlegend": true,
         "type": "scatter",
         "x": [
          19383
         ],
         "xaxis": "x",
         "y": [
          34604
         ],
         "yaxis": "y"
        },
        {
         "hovertemplate": "CHAMPIONNAME=KogMaw<br>TOTALDAMAGEDEALTTOCHAMPIONS=%{x}<br>TOTALDAMAGETAKEN=%{y}<extra></extra>",
         "legendgroup": "KogMaw",
         "marker": {
          "color": "#00cc96",
          "symbol": "circle"
         },
         "mode": "markers",
         "name": "KogMaw",
         "orientation": "v",
         "showlegend": true,
         "type": "scatter",
         "x": [
          19193
         ],
         "xaxis": "x",
         "y": [
          16986
         ],
         "yaxis": "y"
        },
        {
         "hovertemplate": "CHAMPIONNAME=Leblanc<br>TOTALDAMAGEDEALTTOCHAMPIONS=%{x}<br>TOTALDAMAGETAKEN=%{y}<extra></extra>",
         "legendgroup": "Leblanc",
         "marker": {
          "color": "#ab63fa",
          "symbol": "circle"
         },
         "mode": "markers",
         "name": "Leblanc",
         "orientation": "v",
         "showlegend": true,
         "type": "scatter",
         "x": [
          17751
         ],
         "xaxis": "x",
         "y": [
          18759
         ],
         "yaxis": "y"
        },
        {
         "hovertemplate": "CHAMPIONNAME=LeeSin<br>TOTALDAMAGEDEALTTOCHAMPIONS=%{x}<br>TOTALDAMAGETAKEN=%{y}<extra></extra>",
         "legendgroup": "LeeSin",
         "marker": {
          "color": "#FFA15A",
          "symbol": "circle"
         },
         "mode": "markers",
         "name": "LeeSin",
         "orientation": "v",
         "showlegend": true,
         "type": "scatter",
         "x": [
          14408
         ],
         "xaxis": "x",
         "y": [
          29580
         ],
         "yaxis": "y"
        },
        {
         "hovertemplate": "CHAMPIONNAME=Leona<br>TOTALDAMAGEDEALTTOCHAMPIONS=%{x}<br>TOTALDAMAGETAKEN=%{y}<extra></extra>",
         "legendgroup": "Leona",
         "marker": {
          "color": "#19d3f3",
          "symbol": "circle"
         },
         "mode": "markers",
         "name": "Leona",
         "orientation": "v",
         "showlegend": true,
         "type": "scatter",
         "x": [
          6082
         ],
         "xaxis": "x",
         "y": [
          18185
         ],
         "yaxis": "y"
        },
        {
         "hovertemplate": "CHAMPIONNAME=Lillia<br>TOTALDAMAGEDEALTTOCHAMPIONS=%{x}<br>TOTALDAMAGETAKEN=%{y}<extra></extra>",
         "legendgroup": "Lillia",
         "marker": {
          "color": "#FF6692",
          "symbol": "circle"
         },
         "mode": "markers",
         "name": "Lillia",
         "orientation": "v",
         "showlegend": true,
         "type": "scatter",
         "x": [
          22390
         ],
         "xaxis": "x",
         "y": [
          26950
         ],
         "yaxis": "y"
        },
        {
         "hovertemplate": "CHAMPIONNAME=Lissandra<br>TOTALDAMAGEDEALTTOCHAMPIONS=%{x}<br>TOTALDAMAGETAKEN=%{y}<extra></extra>",
         "legendgroup": "Lissandra",
         "marker": {
          "color": "#B6E880",
          "symbol": "circle"
         },
         "mode": "markers",
         "name": "Lissandra",
         "orientation": "v",
         "showlegend": true,
         "type": "scatter",
         "x": [
          16867
         ],
         "xaxis": "x",
         "y": [
          19402
         ],
         "yaxis": "y"
        },
        {
         "hovertemplate": "CHAMPIONNAME=Lucian<br>TOTALDAMAGEDEALTTOCHAMPIONS=%{x}<br>TOTALDAMAGETAKEN=%{y}<extra></extra>",
         "legendgroup": "Lucian",
         "marker": {
          "color": "#FF97FF",
          "symbol": "circle"
         },
         "mode": "markers",
         "name": "Lucian",
         "orientation": "v",
         "showlegend": true,
         "type": "scatter",
         "x": [
          18538
         ],
         "xaxis": "x",
         "y": [
          18168
         ],
         "yaxis": "y"
        },
        {
         "hovertemplate": "CHAMPIONNAME=Lulu<br>TOTALDAMAGEDEALTTOCHAMPIONS=%{x}<br>TOTALDAMAGETAKEN=%{y}<extra></extra>",
         "legendgroup": "Lulu",
         "marker": {
          "color": "#FECB52",
          "symbol": "circle"
         },
         "mode": "markers",
         "name": "Lulu",
         "orientation": "v",
         "showlegend": true,
         "type": "scatter",
         "x": [
          5544
         ],
         "xaxis": "x",
         "y": [
          12455
         ],
         "yaxis": "y"
        },
        {
         "hovertemplate": "CHAMPIONNAME=Lux<br>TOTALDAMAGEDEALTTOCHAMPIONS=%{x}<br>TOTALDAMAGETAKEN=%{y}<extra></extra>",
         "legendgroup": "Lux",
         "marker": {
          "color": "#636efa",
          "symbol": "circle"
         },
         "mode": "markers",
         "name": "Lux",
         "orientation": "v",
         "showlegend": true,
         "type": "scatter",
         "x": [
          16817
         ],
         "xaxis": "x",
         "y": [
          12507
         ],
         "yaxis": "y"
        },
        {
         "hovertemplate": "CHAMPIONNAME=Malphite<br>TOTALDAMAGEDEALTTOCHAMPIONS=%{x}<br>TOTALDAMAGETAKEN=%{y}<extra></extra>",
         "legendgroup": "Malphite",
         "marker": {
          "color": "#EF553B",
          "symbol": "circle"
         },
         "mode": "markers",
         "name": "Malphite",
         "orientation": "v",
         "showlegend": true,
         "type": "scatter",
         "x": [
          15966
         ],
         "xaxis": "x",
         "y": [
          19262
         ],
         "yaxis": "y"
        },
        {
         "hovertemplate": "CHAMPIONNAME=Malzahar<br>TOTALDAMAGEDEALTTOCHAMPIONS=%{x}<br>TOTALDAMAGETAKEN=%{y}<extra></extra>",
         "legendgroup": "Malzahar",
         "marker": {
          "color": "#00cc96",
          "symbol": "circle"
         },
         "mode": "markers",
         "name": "Malzahar",
         "orientation": "v",
         "showlegend": true,
         "type": "scatter",
         "x": [
          19002
         ],
         "xaxis": "x",
         "y": [
          14876
         ],
         "yaxis": "y"
        },
        {
         "hovertemplate": "CHAMPIONNAME=Maokai<br>TOTALDAMAGEDEALTTOCHAMPIONS=%{x}<br>TOTALDAMAGETAKEN=%{y}<extra></extra>",
         "legendgroup": "Maokai",
         "marker": {
          "color": "#ab63fa",
          "symbol": "circle"
         },
         "mode": "markers",
         "name": "Maokai",
         "orientation": "v",
         "showlegend": true,
         "type": "scatter",
         "x": [
          12018
         ],
         "xaxis": "x",
         "y": [
          20361
         ],
         "yaxis": "y"
        },
        {
         "hovertemplate": "CHAMPIONNAME=MasterYi<br>TOTALDAMAGEDEALTTOCHAMPIONS=%{x}<br>TOTALDAMAGETAKEN=%{y}<extra></extra>",
         "legendgroup": "MasterYi",
         "marker": {
          "color": "#FFA15A",
          "symbol": "circle"
         },
         "mode": "markers",
         "name": "MasterYi",
         "orientation": "v",
         "showlegend": true,
         "type": "scatter",
         "x": [
          15989
         ],
         "xaxis": "x",
         "y": [
          23104
         ],
         "yaxis": "y"
        },
        {
         "hovertemplate": "CHAMPIONNAME=MissFortune<br>TOTALDAMAGEDEALTTOCHAMPIONS=%{x}<br>TOTALDAMAGETAKEN=%{y}<extra></extra>",
         "legendgroup": "MissFortune",
         "marker": {
          "color": "#19d3f3",
          "symbol": "circle"
         },
         "mode": "markers",
         "name": "MissFortune",
         "orientation": "v",
         "showlegend": true,
         "type": "scatter",
         "x": [
          17977
         ],
         "xaxis": "x",
         "y": [
          16466
         ],
         "yaxis": "y"
        },
        {
         "hovertemplate": "CHAMPIONNAME=MonkeyKing<br>TOTALDAMAGEDEALTTOCHAMPIONS=%{x}<br>TOTALDAMAGETAKEN=%{y}<extra></extra>",
         "legendgroup": "MonkeyKing",
         "marker": {
          "color": "#FF6692",
          "symbol": "circle"
         },
         "mode": "markers",
         "name": "MonkeyKing",
         "orientation": "v",
         "showlegend": true,
         "type": "scatter",
         "x": [
          16964
         ],
         "xaxis": "x",
         "y": [
          26548
         ],
         "yaxis": "y"
        },
        {
         "hovertemplate": "CHAMPIONNAME=Mordekaiser<br>TOTALDAMAGEDEALTTOCHAMPIONS=%{x}<br>TOTALDAMAGETAKEN=%{y}<extra></extra>",
         "legendgroup": "Mordekaiser",
         "marker": {
          "color": "#B6E880",
          "symbol": "circle"
         },
         "mode": "markers",
         "name": "Mordekaiser",
         "orientation": "v",
         "showlegend": true,
         "type": "scatter",
         "x": [
          17391
         ],
         "xaxis": "x",
         "y": [
          25211
         ],
         "yaxis": "y"
        },
        {
         "hovertemplate": "CHAMPIONNAME=Morgana<br>TOTALDAMAGEDEALTTOCHAMPIONS=%{x}<br>TOTALDAMAGETAKEN=%{y}<extra></extra>",
         "legendgroup": "Morgana",
         "marker": {
          "color": "#FF97FF",
          "symbol": "circle"
         },
         "mode": "markers",
         "name": "Morgana",
         "orientation": "v",
         "showlegend": true,
         "type": "scatter",
         "x": [
          12461
         ],
         "xaxis": "x",
         "y": [
          16742
         ],
         "yaxis": "y"
        },
        {
         "hovertemplate": "CHAMPIONNAME=Nami<br>TOTALDAMAGEDEALTTOCHAMPIONS=%{x}<br>TOTALDAMAGETAKEN=%{y}<extra></extra>",
         "legendgroup": "Nami",
         "marker": {
          "color": "#FECB52",
          "symbol": "circle"
         },
         "mode": "markers",
         "name": "Nami",
         "orientation": "v",
         "showlegend": true,
         "type": "scatter",
         "x": [
          7175
         ],
         "xaxis": "x",
         "y": [
          12748
         ],
         "yaxis": "y"
        },
        {
         "hovertemplate": "CHAMPIONNAME=Nasus<br>TOTALDAMAGEDEALTTOCHAMPIONS=%{x}<br>TOTALDAMAGETAKEN=%{y}<extra></extra>",
         "legendgroup": "Nasus",
         "marker": {
          "color": "#636efa",
          "symbol": "circle"
         },
         "mode": "markers",
         "name": "Nasus",
         "orientation": "v",
         "showlegend": true,
         "type": "scatter",
         "x": [
          15809
         ],
         "xaxis": "x",
         "y": [
          29243
         ],
         "yaxis": "y"
        },
        {
         "hovertemplate": "CHAMPIONNAME=Nautilus<br>TOTALDAMAGEDEALTTOCHAMPIONS=%{x}<br>TOTALDAMAGETAKEN=%{y}<extra></extra>",
         "legendgroup": "Nautilus",
         "marker": {
          "color": "#EF553B",
          "symbol": "circle"
         },
         "mode": "markers",
         "name": "Nautilus",
         "orientation": "v",
         "showlegend": true,
         "type": "scatter",
         "x": [
          7824
         ],
         "xaxis": "x",
         "y": [
          17180
         ],
         "yaxis": "y"
        },
        {
         "hovertemplate": "CHAMPIONNAME=Neeko<br>TOTALDAMAGEDEALTTOCHAMPIONS=%{x}<br>TOTALDAMAGETAKEN=%{y}<extra></extra>",
         "legendgroup": "Neeko",
         "marker": {
          "color": "#00cc96",
          "symbol": "circle"
         },
         "mode": "markers",
         "name": "Neeko",
         "orientation": "v",
         "showlegend": true,
         "type": "scatter",
         "x": [
          15424
         ],
         "xaxis": "x",
         "y": [
          17560
         ],
         "yaxis": "y"
        },
        {
         "hovertemplate": "CHAMPIONNAME=Nidalee<br>TOTALDAMAGEDEALTTOCHAMPIONS=%{x}<br>TOTALDAMAGETAKEN=%{y}<extra></extra>",
         "legendgroup": "Nidalee",
         "marker": {
          "color": "#ab63fa",
          "symbol": "circle"
         },
         "mode": "markers",
         "name": "Nidalee",
         "orientation": "v",
         "showlegend": true,
         "type": "scatter",
         "x": [
          16002
         ],
         "xaxis": "x",
         "y": [
          26809
         ],
         "yaxis": "y"
        },
        {
         "hovertemplate": "CHAMPIONNAME=Nocturne<br>TOTALDAMAGEDEALTTOCHAMPIONS=%{x}<br>TOTALDAMAGETAKEN=%{y}<extra></extra>",
         "legendgroup": "Nocturne",
         "marker": {
          "color": "#FFA15A",
          "symbol": "circle"
         },
         "mode": "markers",
         "name": "Nocturne",
         "orientation": "v",
         "showlegend": true,
         "type": "scatter",
         "x": [
          14454
         ],
         "xaxis": "x",
         "y": [
          26476
         ],
         "yaxis": "y"
        },
        {
         "hovertemplate": "CHAMPIONNAME=Nunu<br>TOTALDAMAGEDEALTTOCHAMPIONS=%{x}<br>TOTALDAMAGETAKEN=%{y}<extra></extra>",
         "legendgroup": "Nunu",
         "marker": {
          "color": "#19d3f3",
          "symbol": "circle"
         },
         "mode": "markers",
         "name": "Nunu",
         "orientation": "v",
         "showlegend": true,
         "type": "scatter",
         "x": [
          14108
         ],
         "xaxis": "x",
         "y": [
          28605
         ],
         "yaxis": "y"
        },
        {
         "hovertemplate": "CHAMPIONNAME=Olaf<br>TOTALDAMAGEDEALTTOCHAMPIONS=%{x}<br>TOTALDAMAGETAKEN=%{y}<extra></extra>",
         "legendgroup": "Olaf",
         "marker": {
          "color": "#FF6692",
          "symbol": "circle"
         },
         "mode": "markers",
         "name": "Olaf",
         "orientation": "v",
         "showlegend": true,
         "type": "scatter",
         "x": [
          14694
         ],
         "xaxis": "x",
         "y": [
          29095
         ],
         "yaxis": "y"
        },
        {
         "hovertemplate": "CHAMPIONNAME=Orianna<br>TOTALDAMAGEDEALTTOCHAMPIONS=%{x}<br>TOTALDAMAGETAKEN=%{y}<extra></extra>",
         "legendgroup": "Orianna",
         "marker": {
          "color": "#B6E880",
          "symbol": "circle"
         },
         "mode": "markers",
         "name": "Orianna",
         "orientation": "v",
         "showlegend": true,
         "type": "scatter",
         "x": [
          14815
         ],
         "xaxis": "x",
         "y": [
          14353
         ],
         "yaxis": "y"
        },
        {
         "hovertemplate": "CHAMPIONNAME=Ornn<br>TOTALDAMAGEDEALTTOCHAMPIONS=%{x}<br>TOTALDAMAGETAKEN=%{y}<extra></extra>",
         "legendgroup": "Ornn",
         "marker": {
          "color": "#FF97FF",
          "symbol": "circle"
         },
         "mode": "markers",
         "name": "Ornn",
         "orientation": "v",
         "showlegend": true,
         "type": "scatter",
         "x": [
          13205
         ],
         "xaxis": "x",
         "y": [
          22254
         ],
         "yaxis": "y"
        },
        {
         "hovertemplate": "CHAMPIONNAME=Pantheon<br>TOTALDAMAGEDEALTTOCHAMPIONS=%{x}<br>TOTALDAMAGETAKEN=%{y}<extra></extra>",
         "legendgroup": "Pantheon",
         "marker": {
          "color": "#FECB52",
          "symbol": "circle"
         },
         "mode": "markers",
         "name": "Pantheon",
         "orientation": "v",
         "showlegend": true,
         "type": "scatter",
         "x": [
          16251
         ],
         "xaxis": "x",
         "y": [
          21010
         ],
         "yaxis": "y"
        },
        {
         "hovertemplate": "CHAMPIONNAME=Poppy<br>TOTALDAMAGEDEALTTOCHAMPIONS=%{x}<br>TOTALDAMAGETAKEN=%{y}<extra></extra>",
         "legendgroup": "Poppy",
         "marker": {
          "color": "#636efa",
          "symbol": "circle"
         },
         "mode": "markers",
         "name": "Poppy",
         "orientation": "v",
         "showlegend": true,
         "type": "scatter",
         "x": [
          15098
         ],
         "xaxis": "x",
         "y": [
          23756
         ],
         "yaxis": "y"
        },
        {
         "hovertemplate": "CHAMPIONNAME=Pyke<br>TOTALDAMAGEDEALTTOCHAMPIONS=%{x}<br>TOTALDAMAGETAKEN=%{y}<extra></extra>",
         "legendgroup": "Pyke",
         "marker": {
          "color": "#EF553B",
          "symbol": "circle"
         },
         "mode": "markers",
         "name": "Pyke",
         "orientation": "v",
         "showlegend": true,
         "type": "scatter",
         "x": [
          9958
         ],
         "xaxis": "x",
         "y": [
          17964
         ],
         "yaxis": "y"
        },
        {
         "hovertemplate": "CHAMPIONNAME=Qiyana<br>TOTALDAMAGEDEALTTOCHAMPIONS=%{x}<br>TOTALDAMAGETAKEN=%{y}<extra></extra>",
         "legendgroup": "Qiyana",
         "marker": {
          "color": "#00cc96",
          "symbol": "circle"
         },
         "mode": "markers",
         "name": "Qiyana",
         "orientation": "v",
         "showlegend": true,
         "type": "scatter",
         "x": [
          17234
         ],
         "xaxis": "x",
         "y": [
          22116
         ],
         "yaxis": "y"
        },
        {
         "hovertemplate": "CHAMPIONNAME=Quinn<br>TOTALDAMAGEDEALTTOCHAMPIONS=%{x}<br>TOTALDAMAGETAKEN=%{y}<extra></extra>",
         "legendgroup": "Quinn",
         "marker": {
          "color": "#ab63fa",
          "symbol": "circle"
         },
         "mode": "markers",
         "name": "Quinn",
         "orientation": "v",
         "showlegend": true,
         "type": "scatter",
         "x": [
          20686
         ],
         "xaxis": "x",
         "y": [
          20788
         ],
         "yaxis": "y"
        },
        {
         "hovertemplate": "CHAMPIONNAME=Rakan<br>TOTALDAMAGEDEALTTOCHAMPIONS=%{x}<br>TOTALDAMAGETAKEN=%{y}<extra></extra>",
         "legendgroup": "Rakan",
         "marker": {
          "color": "#FFA15A",
          "symbol": "circle"
         },
         "mode": "markers",
         "name": "Rakan",
         "orientation": "v",
         "showlegend": true,
         "type": "scatter",
         "x": [
          6085
         ],
         "xaxis": "x",
         "y": [
          15058
         ],
         "yaxis": "y"
        },
        {
         "hovertemplate": "CHAMPIONNAME=Rammus<br>TOTALDAMAGEDEALTTOCHAMPIONS=%{x}<br>TOTALDAMAGETAKEN=%{y}<extra></extra>",
         "legendgroup": "Rammus",
         "marker": {
          "color": "#19d3f3",
          "symbol": "circle"
         },
         "mode": "markers",
         "name": "Rammus",
         "orientation": "v",
         "showlegend": true,
         "type": "scatter",
         "x": [
          10872
         ],
         "xaxis": "x",
         "y": [
          22935
         ],
         "yaxis": "y"
        },
        {
         "hovertemplate": "CHAMPIONNAME=RekSai<br>TOTALDAMAGEDEALTTOCHAMPIONS=%{x}<br>TOTALDAMAGETAKEN=%{y}<extra></extra>",
         "legendgroup": "RekSai",
         "marker": {
          "color": "#FF6692",
          "symbol": "circle"
         },
         "mode": "markers",
         "name": "RekSai",
         "orientation": "v",
         "showlegend": true,
         "type": "scatter",
         "x": [
          16294
         ],
         "xaxis": "x",
         "y": [
          25187
         ],
         "yaxis": "y"
        },
        {
         "hovertemplate": "CHAMPIONNAME=Rell<br>TOTALDAMAGEDEALTTOCHAMPIONS=%{x}<br>TOTALDAMAGETAKEN=%{y}<extra></extra>",
         "legendgroup": "Rell",
         "marker": {
          "color": "#B6E880",
          "symbol": "circle"
         },
         "mode": "markers",
         "name": "Rell",
         "orientation": "v",
         "showlegend": true,
         "type": "scatter",
         "x": [
          6830
         ],
         "xaxis": "x",
         "y": [
          16930
         ],
         "yaxis": "y"
        },
        {
         "hovertemplate": "CHAMPIONNAME=Renekton<br>TOTALDAMAGEDEALTTOCHAMPIONS=%{x}<br>TOTALDAMAGETAKEN=%{y}<extra></extra>",
         "legendgroup": "Renekton",
         "marker": {
          "color": "#FF97FF",
          "symbol": "circle"
         },
         "mode": "markers",
         "name": "Renekton",
         "orientation": "v",
         "showlegend": true,
         "type": "scatter",
         "x": [
          16181
         ],
         "xaxis": "x",
         "y": [
          30848
         ],
         "yaxis": "y"
        },
        {
         "hovertemplate": "CHAMPIONNAME=Rengar<br>TOTALDAMAGEDEALTTOCHAMPIONS=%{x}<br>TOTALDAMAGETAKEN=%{y}<extra></extra>",
         "legendgroup": "Rengar",
         "marker": {
          "color": "#FECB52",
          "symbol": "circle"
         },
         "mode": "markers",
         "name": "Rengar",
         "orientation": "v",
         "showlegend": true,
         "type": "scatter",
         "x": [
          16817
         ],
         "xaxis": "x",
         "y": [
          25827
         ],
         "yaxis": "y"
        },
        {
         "hovertemplate": "CHAMPIONNAME=Riven<br>TOTALDAMAGEDEALTTOCHAMPIONS=%{x}<br>TOTALDAMAGETAKEN=%{y}<extra></extra>",
         "legendgroup": "Riven",
         "marker": {
          "color": "#636efa",
          "symbol": "circle"
         },
         "mode": "markers",
         "name": "Riven",
         "orientation": "v",
         "showlegend": true,
         "type": "scatter",
         "x": [
          17016
         ],
         "xaxis": "x",
         "y": [
          26031
         ],
         "yaxis": "y"
        },
        {
         "hovertemplate": "CHAMPIONNAME=Rumble<br>TOTALDAMAGEDEALTTOCHAMPIONS=%{x}<br>TOTALDAMAGETAKEN=%{y}<extra></extra>",
         "legendgroup": "Rumble",
         "marker": {
          "color": "#EF553B",
          "symbol": "circle"
         },
         "mode": "markers",
         "name": "Rumble",
         "orientation": "v",
         "showlegend": true,
         "type": "scatter",
         "x": [
          20026
         ],
         "xaxis": "x",
         "y": [
          21048
         ],
         "yaxis": "y"
        },
        {
         "hovertemplate": "CHAMPIONNAME=Ryze<br>TOTALDAMAGEDEALTTOCHAMPIONS=%{x}<br>TOTALDAMAGETAKEN=%{y}<extra></extra>",
         "legendgroup": "Ryze",
         "marker": {
          "color": "#00cc96",
          "symbol": "circle"
         },
         "mode": "markers",
         "name": "Ryze",
         "orientation": "v",
         "showlegend": true,
         "type": "scatter",
         "x": [
          16142
         ],
         "xaxis": "x",
         "y": [
          19575
         ],
         "yaxis": "y"
        },
        {
         "hovertemplate": "CHAMPIONNAME=Samira<br>TOTALDAMAGEDEALTTOCHAMPIONS=%{x}<br>TOTALDAMAGETAKEN=%{y}<extra></extra>",
         "legendgroup": "Samira",
         "marker": {
          "color": "#ab63fa",
          "symbol": "circle"
         },
         "mode": "markers",
         "name": "Samira",
         "orientation": "v",
         "showlegend": true,
         "type": "scatter",
         "x": [
          19422
         ],
         "xaxis": "x",
         "y": [
          21021
         ],
         "yaxis": "y"
        },
        {
         "hovertemplate": "CHAMPIONNAME=Sejuani<br>TOTALDAMAGEDEALTTOCHAMPIONS=%{x}<br>TOTALDAMAGETAKEN=%{y}<extra></extra>",
         "legendgroup": "Sejuani",
         "marker": {
          "color": "#FFA15A",
          "symbol": "circle"
         },
         "mode": "markers",
         "name": "Sejuani",
         "orientation": "v",
         "showlegend": true,
         "type": "scatter",
         "x": [
          12351
         ],
         "xaxis": "x",
         "y": [
          25321
         ],
         "yaxis": "y"
        },
        {
         "hovertemplate": "CHAMPIONNAME=Senna<br>TOTALDAMAGEDEALTTOCHAMPIONS=%{x}<br>TOTALDAMAGETAKEN=%{y}<extra></extra>",
         "legendgroup": "Senna",
         "marker": {
          "color": "#19d3f3",
          "symbol": "circle"
         },
         "mode": "markers",
         "name": "Senna",
         "orientation": "v",
         "showlegend": true,
         "type": "scatter",
         "x": [
          14565
         ],
         "xaxis": "x",
         "y": [
          15940
         ],
         "yaxis": "y"
        },
        {
         "hovertemplate": "CHAMPIONNAME=Seraphine<br>TOTALDAMAGEDEALTTOCHAMPIONS=%{x}<br>TOTALDAMAGETAKEN=%{y}<extra></extra>",
         "legendgroup": "Seraphine",
         "marker": {
          "color": "#FF6692",
          "symbol": "circle"
         },
         "mode": "markers",
         "name": "Seraphine",
         "orientation": "v",
         "showlegend": true,
         "type": "scatter",
         "x": [
          10149
         ],
         "xaxis": "x",
         "y": [
          14822
         ],
         "yaxis": "y"
        },
        {
         "hovertemplate": "CHAMPIONNAME=Sett<br>TOTALDAMAGEDEALTTOCHAMPIONS=%{x}<br>TOTALDAMAGETAKEN=%{y}<extra></extra>",
         "legendgroup": "Sett",
         "marker": {
          "color": "#B6E880",
          "symbol": "circle"
         },
         "mode": "markers",
         "name": "Sett",
         "orientation": "v",
         "showlegend": true,
         "type": "scatter",
         "x": [
          16124
         ],
         "xaxis": "x",
         "y": [
          26949
         ],
         "yaxis": "y"
        },
        {
         "hovertemplate": "CHAMPIONNAME=Shaco<br>TOTALDAMAGEDEALTTOCHAMPIONS=%{x}<br>TOTALDAMAGETAKEN=%{y}<extra></extra>",
         "legendgroup": "Shaco",
         "marker": {
          "color": "#FF97FF",
          "symbol": "circle"
         },
         "mode": "markers",
         "name": "Shaco",
         "orientation": "v",
         "showlegend": true,
         "type": "scatter",
         "x": [
          15973
         ],
         "xaxis": "x",
         "y": [
          19973
         ],
         "yaxis": "y"
        },
        {
         "hovertemplate": "CHAMPIONNAME=Shen<br>TOTALDAMAGEDEALTTOCHAMPIONS=%{x}<br>TOTALDAMAGETAKEN=%{y}<extra></extra>",
         "legendgroup": "Shen",
         "marker": {
          "color": "#FECB52",
          "symbol": "circle"
         },
         "mode": "markers",
         "name": "Shen",
         "orientation": "v",
         "showlegend": true,
         "type": "scatter",
         "x": [
          11530
         ],
         "xaxis": "x",
         "y": [
          20047
         ],
         "yaxis": "y"
        },
        {
         "hovertemplate": "CHAMPIONNAME=Shyvana<br>TOTALDAMAGEDEALTTOCHAMPIONS=%{x}<br>TOTALDAMAGETAKEN=%{y}<extra></extra>",
         "legendgroup": "Shyvana",
         "marker": {
          "color": "#636efa",
          "symbol": "circle"
         },
         "mode": "markers",
         "name": "Shyvana",
         "orientation": "v",
         "showlegend": true,
         "type": "scatter",
         "x": [
          16773
         ],
         "xaxis": "x",
         "y": [
          28276
         ],
         "yaxis": "y"
        },
        {
         "hovertemplate": "CHAMPIONNAME=Singed<br>TOTALDAMAGEDEALTTOCHAMPIONS=%{x}<br>TOTALDAMAGETAKEN=%{y}<extra></extra>",
         "legendgroup": "Singed",
         "marker": {
          "color": "#EF553B",
          "symbol": "circle"
         },
         "mode": "markers",
         "name": "Singed",
         "orientation": "v",
         "showlegend": true,
         "type": "scatter",
         "x": [
          15786
         ],
         "xaxis": "x",
         "y": [
          23829
         ],
         "yaxis": "y"
        },
        {
         "hovertemplate": "CHAMPIONNAME=Sion<br>TOTALDAMAGEDEALTTOCHAMPIONS=%{x}<br>TOTALDAMAGETAKEN=%{y}<extra></extra>",
         "legendgroup": "Sion",
         "marker": {
          "color": "#00cc96",
          "symbol": "circle"
         },
         "mode": "markers",
         "name": "Sion",
         "orientation": "v",
         "showlegend": true,
         "type": "scatter",
         "x": [
          15455
         ],
         "xaxis": "x",
         "y": [
          29512
         ],
         "yaxis": "y"
        },
        {
         "hovertemplate": "CHAMPIONNAME=Sivir<br>TOTALDAMAGEDEALTTOCHAMPIONS=%{x}<br>TOTALDAMAGETAKEN=%{y}<extra></extra>",
         "legendgroup": "Sivir",
         "marker": {
          "color": "#ab63fa",
          "symbol": "circle"
         },
         "mode": "markers",
         "name": "Sivir",
         "orientation": "v",
         "showlegend": true,
         "type": "scatter",
         "x": [
          19220
         ],
         "xaxis": "x",
         "y": [
          16255
         ],
         "yaxis": "y"
        },
        {
         "hovertemplate": "CHAMPIONNAME=Skarner<br>TOTALDAMAGEDEALTTOCHAMPIONS=%{x}<br>TOTALDAMAGETAKEN=%{y}<extra></extra>",
         "legendgroup": "Skarner",
         "marker": {
          "color": "#FFA15A",
          "symbol": "circle"
         },
         "mode": "markers",
         "name": "Skarner",
         "orientation": "v",
         "showlegend": true,
         "type": "scatter",
         "x": [
          11356
         ],
         "xaxis": "x",
         "y": [
          20964
         ],
         "yaxis": "y"
        },
        {
         "hovertemplate": "CHAMPIONNAME=Sona<br>TOTALDAMAGEDEALTTOCHAMPIONS=%{x}<br>TOTALDAMAGETAKEN=%{y}<extra></extra>",
         "legendgroup": "Sona",
         "marker": {
          "color": "#19d3f3",
          "symbol": "circle"
         },
         "mode": "markers",
         "name": "Sona",
         "orientation": "v",
         "showlegend": true,
         "type": "scatter",
         "x": [
          10335
         ],
         "xaxis": "x",
         "y": [
          14459
         ],
         "yaxis": "y"
        },
        {
         "hovertemplate": "CHAMPIONNAME=Soraka<br>TOTALDAMAGEDEALTTOCHAMPIONS=%{x}<br>TOTALDAMAGETAKEN=%{y}<extra></extra>",
         "legendgroup": "Soraka",
         "marker": {
          "color": "#FF6692",
          "symbol": "circle"
         },
         "mode": "markers",
         "name": "Soraka",
         "orientation": "v",
         "showlegend": true,
         "type": "scatter",
         "x": [
          4988
         ],
         "xaxis": "x",
         "y": [
          12296
         ],
         "yaxis": "y"
        },
        {
         "hovertemplate": "CHAMPIONNAME=Swain<br>TOTALDAMAGEDEALTTOCHAMPIONS=%{x}<br>TOTALDAMAGETAKEN=%{y}<extra></extra>",
         "legendgroup": "Swain",
         "marker": {
          "color": "#B6E880",
          "symbol": "circle"
         },
         "mode": "markers",
         "name": "Swain",
         "orientation": "v",
         "showlegend": true,
         "type": "scatter",
         "x": [
          18555
         ],
         "xaxis": "x",
         "y": [
          22583
         ],
         "yaxis": "y"
        },
        {
         "hovertemplate": "CHAMPIONNAME=Sylas<br>TOTALDAMAGEDEALTTOCHAMPIONS=%{x}<br>TOTALDAMAGETAKEN=%{y}<extra></extra>",
         "legendgroup": "Sylas",
         "marker": {
          "color": "#FF97FF",
          "symbol": "circle"
         },
         "mode": "markers",
         "name": "Sylas",
         "orientation": "v",
         "showlegend": true,
         "type": "scatter",
         "x": [
          18121
         ],
         "xaxis": "x",
         "y": [
          26958
         ],
         "yaxis": "y"
        },
        {
         "hovertemplate": "CHAMPIONNAME=Syndra<br>TOTALDAMAGEDEALTTOCHAMPIONS=%{x}<br>TOTALDAMAGETAKEN=%{y}<extra></extra>",
         "legendgroup": "Syndra",
         "marker": {
          "color": "#FECB52",
          "symbol": "circle"
         },
         "mode": "markers",
         "name": "Syndra",
         "orientation": "v",
         "showlegend": true,
         "type": "scatter",
         "x": [
          18767
         ],
         "xaxis": "x",
         "y": [
          15488
         ],
         "yaxis": "y"
        },
        {
         "hovertemplate": "CHAMPIONNAME=TahmKench<br>TOTALDAMAGEDEALTTOCHAMPIONS=%{x}<br>TOTALDAMAGETAKEN=%{y}<extra></extra>",
         "legendgroup": "TahmKench",
         "marker": {
          "color": "#636efa",
          "symbol": "circle"
         },
         "mode": "markers",
         "name": "TahmKench",
         "orientation": "v",
         "showlegend": true,
         "type": "scatter",
         "x": [
          16183
         ],
         "xaxis": "x",
         "y": [
          30393
         ],
         "yaxis": "y"
        },
        {
         "hovertemplate": "CHAMPIONNAME=Taliyah<br>TOTALDAMAGEDEALTTOCHAMPIONS=%{x}<br>TOTALDAMAGETAKEN=%{y}<extra></extra>",
         "legendgroup": "Taliyah",
         "marker": {
          "color": "#EF553B",
          "symbol": "circle"
         },
         "mode": "markers",
         "name": "Taliyah",
         "orientation": "v",
         "showlegend": true,
         "type": "scatter",
         "x": [
          20132
         ],
         "xaxis": "x",
         "y": [
          22077
         ],
         "yaxis": "y"
        },
        {
         "hovertemplate": "CHAMPIONNAME=Talon<br>TOTALDAMAGEDEALTTOCHAMPIONS=%{x}<br>TOTALDAMAGETAKEN=%{y}<extra></extra>",
         "legendgroup": "Talon",
         "marker": {
          "color": "#00cc96",
          "symbol": "circle"
         },
         "mode": "markers",
         "name": "Talon",
         "orientation": "v",
         "showlegend": true,
         "type": "scatter",
         "x": [
          19747
         ],
         "xaxis": "x",
         "y": [
          27844
         ],
         "yaxis": "y"
        },
        {
         "hovertemplate": "CHAMPIONNAME=Taric<br>TOTALDAMAGEDEALTTOCHAMPIONS=%{x}<br>TOTALDAMAGETAKEN=%{y}<extra></extra>",
         "legendgroup": "Taric",
         "marker": {
          "color": "#ab63fa",
          "symbol": "circle"
         },
         "mode": "markers",
         "name": "Taric",
         "orientation": "v",
         "showlegend": true,
         "type": "scatter",
         "x": [
          4954
         ],
         "xaxis": "x",
         "y": [
          19246
         ],
         "yaxis": "y"
        },
        {
         "hovertemplate": "CHAMPIONNAME=Teemo<br>TOTALDAMAGEDEALTTOCHAMPIONS=%{x}<br>TOTALDAMAGETAKEN=%{y}<extra></extra>",
         "legendgroup": "Teemo",
         "marker": {
          "color": "#FFA15A",
          "symbol": "circle"
         },
         "mode": "markers",
         "name": "Teemo",
         "orientation": "v",
         "showlegend": true,
         "type": "scatter",
         "x": [
          21582
         ],
         "xaxis": "x",
         "y": [
          19311
         ],
         "yaxis": "y"
        },
        {
         "hovertemplate": "CHAMPIONNAME=Thresh<br>TOTALDAMAGEDEALTTOCHAMPIONS=%{x}<br>TOTALDAMAGETAKEN=%{y}<extra></extra>",
         "legendgroup": "Thresh",
         "marker": {
          "color": "#19d3f3",
          "symbol": "circle"
         },
         "mode": "markers",
         "name": "Thresh",
         "orientation": "v",
         "showlegend": true,
         "type": "scatter",
         "x": [
          6028
         ],
         "xaxis": "x",
         "y": [
          16584
         ],
         "yaxis": "y"
        },
        {
         "hovertemplate": "CHAMPIONNAME=Tristana<br>TOTALDAMAGEDEALTTOCHAMPIONS=%{x}<br>TOTALDAMAGETAKEN=%{y}<extra></extra>",
         "legendgroup": "Tristana",
         "marker": {
          "color": "#FF6692",
          "symbol": "circle"
         },
         "mode": "markers",
         "name": "Tristana",
         "orientation": "v",
         "showlegend": true,
         "type": "scatter",
         "x": [
          19888
         ],
         "xaxis": "x",
         "y": [
          18526
         ],
         "yaxis": "y"
        },
        {
         "hovertemplate": "CHAMPIONNAME=Trundle<br>TOTALDAMAGEDEALTTOCHAMPIONS=%{x}<br>TOTALDAMAGETAKEN=%{y}<extra></extra>",
         "legendgroup": "Trundle",
         "marker": {
          "color": "#B6E880",
          "symbol": "circle"
         },
         "mode": "markers",
         "name": "Trundle",
         "orientation": "v",
         "showlegend": true,
         "type": "scatter",
         "x": [
          13009
         ],
         "xaxis": "x",
         "y": [
          28142
         ],
         "yaxis": "y"
        },
        {
         "hovertemplate": "CHAMPIONNAME=Tryndamere<br>TOTALDAMAGEDEALTTOCHAMPIONS=%{x}<br>TOTALDAMAGETAKEN=%{y}<extra></extra>",
         "legendgroup": "Tryndamere",
         "marker": {
          "color": "#FF97FF",
          "symbol": "circle"
         },
         "mode": "markers",
         "name": "Tryndamere",
         "orientation": "v",
         "showlegend": true,
         "type": "scatter",
         "x": [
          14432
         ],
         "xaxis": "x",
         "y": [
          27760
         ],
         "yaxis": "y"
        },
        {
         "hovertemplate": "CHAMPIONNAME=TwistedFate<br>TOTALDAMAGEDEALTTOCHAMPIONS=%{x}<br>TOTALDAMAGETAKEN=%{y}<extra></extra>",
         "legendgroup": "TwistedFate",
         "marker": {
          "color": "#FECB52",
          "symbol": "circle"
         },
         "mode": "markers",
         "name": "TwistedFate",
         "orientation": "v",
         "showlegend": true,
         "type": "scatter",
         "x": [
          14392
         ],
         "xaxis": "x",
         "y": [
          19214
         ],
         "yaxis": "y"
        },
        {
         "hovertemplate": "CHAMPIONNAME=Twitch<br>TOTALDAMAGEDEALTTOCHAMPIONS=%{x}<br>TOTALDAMAGETAKEN=%{y}<extra></extra>",
         "legendgroup": "Twitch",
         "marker": {
          "color": "#636efa",
          "symbol": "circle"
         },
         "mode": "markers",
         "name": "Twitch",
         "orientation": "v",
         "showlegend": true,
         "type": "scatter",
         "x": [
          19353
         ],
         "xaxis": "x",
         "y": [
          18905
         ],
         "yaxis": "y"
        },
        {
         "hovertemplate": "CHAMPIONNAME=Udyr<br>TOTALDAMAGEDEALTTOCHAMPIONS=%{x}<br>TOTALDAMAGETAKEN=%{y}<extra></extra>",
         "legendgroup": "Udyr",
         "marker": {
          "color": "#EF553B",
          "symbol": "circle"
         },
         "mode": "markers",
         "name": "Udyr",
         "orientation": "v",
         "showlegend": true,
         "type": "scatter",
         "x": [
          11913
         ],
         "xaxis": "x",
         "y": [
          29387
         ],
         "yaxis": "y"
        },
        {
         "hovertemplate": "CHAMPIONNAME=Urgot<br>TOTALDAMAGEDEALTTOCHAMPIONS=%{x}<br>TOTALDAMAGETAKEN=%{y}<extra></extra>",
         "legendgroup": "Urgot",
         "marker": {
          "color": "#00cc96",
          "symbol": "circle"
         },
         "mode": "markers",
         "name": "Urgot",
         "orientation": "v",
         "showlegend": true,
         "type": "scatter",
         "x": [
          17497
         ],
         "xaxis": "x",
         "y": [
          23504
         ],
         "yaxis": "y"
        },
        {
         "hovertemplate": "CHAMPIONNAME=Varus<br>TOTALDAMAGEDEALTTOCHAMPIONS=%{x}<br>TOTALDAMAGETAKEN=%{y}<extra></extra>",
         "legendgroup": "Varus",
         "marker": {
          "color": "#ab63fa",
          "symbol": "circle"
         },
         "mode": "markers",
         "name": "Varus",
         "orientation": "v",
         "showlegend": true,
         "type": "scatter",
         "x": [
          19627
         ],
         "xaxis": "x",
         "y": [
          17740
         ],
         "yaxis": "y"
        },
        {
         "hovertemplate": "CHAMPIONNAME=Vayne<br>TOTALDAMAGEDEALTTOCHAMPIONS=%{x}<br>TOTALDAMAGETAKEN=%{y}<extra></extra>",
         "legendgroup": "Vayne",
         "marker": {
          "color": "#FFA15A",
          "symbol": "circle"
         },
         "mode": "markers",
         "name": "Vayne",
         "orientation": "v",
         "showlegend": true,
         "type": "scatter",
         "x": [
          17515
         ],
         "xaxis": "x",
         "y": [
          19246
         ],
         "yaxis": "y"
        },
        {
         "hovertemplate": "CHAMPIONNAME=Veigar<br>TOTALDAMAGEDEALTTOCHAMPIONS=%{x}<br>TOTALDAMAGETAKEN=%{y}<extra></extra>",
         "legendgroup": "Veigar",
         "marker": {
          "color": "#19d3f3",
          "symbol": "circle"
         },
         "mode": "markers",
         "name": "Veigar",
         "orientation": "v",
         "showlegend": true,
         "type": "scatter",
         "x": [
          17274
         ],
         "xaxis": "x",
         "y": [
          16131
         ],
         "yaxis": "y"
        },
        {
         "hovertemplate": "CHAMPIONNAME=Velkoz<br>TOTALDAMAGEDEALTTOCHAMPIONS=%{x}<br>TOTALDAMAGETAKEN=%{y}<extra></extra>",
         "legendgroup": "Velkoz",
         "marker": {
          "color": "#FF6692",
          "symbol": "circle"
         },
         "mode": "markers",
         "name": "Velkoz",
         "orientation": "v",
         "showlegend": true,
         "type": "scatter",
         "x": [
          21014
         ],
         "xaxis": "x",
         "y": [
          14794
         ],
         "yaxis": "y"
        },
        {
         "hovertemplate": "CHAMPIONNAME=Vex<br>TOTALDAMAGEDEALTTOCHAMPIONS=%{x}<br>TOTALDAMAGETAKEN=%{y}<extra></extra>",
         "legendgroup": "Vex",
         "marker": {
          "color": "#B6E880",
          "symbol": "circle"
         },
         "mode": "markers",
         "name": "Vex",
         "orientation": "v",
         "showlegend": true,
         "type": "scatter",
         "x": [
          20575
         ],
         "xaxis": "x",
         "y": [
          16052
         ],
         "yaxis": "y"
        },
        {
         "hovertemplate": "CHAMPIONNAME=Vi<br>TOTALDAMAGEDEALTTOCHAMPIONS=%{x}<br>TOTALDAMAGETAKEN=%{y}<extra></extra>",
         "legendgroup": "Vi",
         "marker": {
          "color": "#FF97FF",
          "symbol": "circle"
         },
         "mode": "markers",
         "name": "Vi",
         "orientation": "v",
         "showlegend": true,
         "type": "scatter",
         "x": [
          14204
         ],
         "xaxis": "x",
         "y": [
          22454
         ],
         "yaxis": "y"
        },
        {
         "hovertemplate": "CHAMPIONNAME=Viego<br>TOTALDAMAGEDEALTTOCHAMPIONS=%{x}<br>TOTALDAMAGETAKEN=%{y}<extra></extra>",
         "legendgroup": "Viego",
         "marker": {
          "color": "#FECB52",
          "symbol": "circle"
         },
         "mode": "markers",
         "name": "Viego",
         "orientation": "v",
         "showlegend": true,
         "type": "scatter",
         "x": [
          16600
         ],
         "xaxis": "x",
         "y": [
          29199
         ],
         "yaxis": "y"
        },
        {
         "hovertemplate": "CHAMPIONNAME=Viktor<br>TOTALDAMAGEDEALTTOCHAMPIONS=%{x}<br>TOTALDAMAGETAKEN=%{y}<extra></extra>",
         "legendgroup": "Viktor",
         "marker": {
          "color": "#636efa",
          "symbol": "circle"
         },
         "mode": "markers",
         "name": "Viktor",
         "orientation": "v",
         "showlegend": true,
         "type": "scatter",
         "x": [
          19859
         ],
         "xaxis": "x",
         "y": [
          13825
         ],
         "yaxis": "y"
        },
        {
         "hovertemplate": "CHAMPIONNAME=Vladimir<br>TOTALDAMAGEDEALTTOCHAMPIONS=%{x}<br>TOTALDAMAGETAKEN=%{y}<extra></extra>",
         "legendgroup": "Vladimir",
         "marker": {
          "color": "#EF553B",
          "symbol": "circle"
         },
         "mode": "markers",
         "name": "Vladimir",
         "orientation": "v",
         "showlegend": true,
         "type": "scatter",
         "x": [
          17399
         ],
         "xaxis": "x",
         "y": [
          21886
         ],
         "yaxis": "y"
        },
        {
         "hovertemplate": "CHAMPIONNAME=Volibear<br>TOTALDAMAGEDEALTTOCHAMPIONS=%{x}<br>TOTALDAMAGETAKEN=%{y}<extra></extra>",
         "legendgroup": "Volibear",
         "marker": {
          "color": "#00cc96",
          "symbol": "circle"
         },
         "mode": "markers",
         "name": "Volibear",
         "orientation": "v",
         "showlegend": true,
         "type": "scatter",
         "x": [
          16374
         ],
         "xaxis": "x",
         "y": [
          28207
         ],
         "yaxis": "y"
        },
        {
         "hovertemplate": "CHAMPIONNAME=Warwick<br>TOTALDAMAGEDEALTTOCHAMPIONS=%{x}<br>TOTALDAMAGETAKEN=%{y}<extra></extra>",
         "legendgroup": "Warwick",
         "marker": {
          "color": "#ab63fa",
          "symbol": "circle"
         },
         "mode": "markers",
         "name": "Warwick",
         "orientation": "v",
         "showlegend": true,
         "type": "scatter",
         "x": [
          14438
         ],
         "xaxis": "x",
         "y": [
          30337
         ],
         "yaxis": "y"
        },
        {
         "hovertemplate": "CHAMPIONNAME=Xayah<br>TOTALDAMAGEDEALTTOCHAMPIONS=%{x}<br>TOTALDAMAGETAKEN=%{y}<extra></extra>",
         "legendgroup": "Xayah",
         "marker": {
          "color": "#FFA15A",
          "symbol": "circle"
         },
         "mode": "markers",
         "name": "Xayah",
         "orientation": "v",
         "showlegend": true,
         "type": "scatter",
         "x": [
          19274
         ],
         "xaxis": "x",
         "y": [
          15933
         ],
         "yaxis": "y"
        },
        {
         "hovertemplate": "CHAMPIONNAME=Xerath<br>TOTALDAMAGEDEALTTOCHAMPIONS=%{x}<br>TOTALDAMAGETAKEN=%{y}<extra></extra>",
         "legendgroup": "Xerath",
         "marker": {
          "color": "#19d3f3",
          "symbol": "circle"
         },
         "mode": "markers",
         "name": "Xerath",
         "orientation": "v",
         "showlegend": true,
         "type": "scatter",
         "x": [
          20820
         ],
         "xaxis": "x",
         "y": [
          13014
         ],
         "yaxis": "y"
        },
        {
         "hovertemplate": "CHAMPIONNAME=XinZhao<br>TOTALDAMAGEDEALTTOCHAMPIONS=%{x}<br>TOTALDAMAGETAKEN=%{y}<extra></extra>",
         "legendgroup": "XinZhao",
         "marker": {
          "color": "#FF6692",
          "symbol": "circle"
         },
         "mode": "markers",
         "name": "XinZhao",
         "orientation": "v",
         "showlegend": true,
         "type": "scatter",
         "x": [
          15478
         ],
         "xaxis": "x",
         "y": [
          30307
         ],
         "yaxis": "y"
        },
        {
         "hovertemplate": "CHAMPIONNAME=Yasuo<br>TOTALDAMAGEDEALTTOCHAMPIONS=%{x}<br>TOTALDAMAGETAKEN=%{y}<extra></extra>",
         "legendgroup": "Yasuo",
         "marker": {
          "color": "#B6E880",
          "symbol": "circle"
         },
         "mode": "markers",
         "name": "Yasuo",
         "orientation": "v",
         "showlegend": true,
         "type": "scatter",
         "x": [
          15893
         ],
         "xaxis": "x",
         "y": [
          20638
         ],
         "yaxis": "y"
        },
        {
         "hovertemplate": "CHAMPIONNAME=Yone<br>TOTALDAMAGEDEALTTOCHAMPIONS=%{x}<br>TOTALDAMAGETAKEN=%{y}<extra></extra>",
         "legendgroup": "Yone",
         "marker": {
          "color": "#FF97FF",
          "symbol": "circle"
         },
         "mode": "markers",
         "name": "Yone",
         "orientation": "v",
         "showlegend": true,
         "type": "scatter",
         "x": [
          17648
         ],
         "xaxis": "x",
         "y": [
          21499
         ],
         "yaxis": "y"
        },
        {
         "hovertemplate": "CHAMPIONNAME=Yorick<br>TOTALDAMAGEDEALTTOCHAMPIONS=%{x}<br>TOTALDAMAGETAKEN=%{y}<extra></extra>",
         "legendgroup": "Yorick",
         "marker": {
          "color": "#FECB52",
          "symbol": "circle"
         },
         "mode": "markers",
         "name": "Yorick",
         "orientation": "v",
         "showlegend": true,
         "type": "scatter",
         "x": [
          16768
         ],
         "xaxis": "x",
         "y": [
          23647
         ],
         "yaxis": "y"
        },
        {
         "hovertemplate": "CHAMPIONNAME=Yuumi<br>TOTALDAMAGEDEALTTOCHAMPIONS=%{x}<br>TOTALDAMAGETAKEN=%{y}<extra></extra>",
         "legendgroup": "Yuumi",
         "marker": {
          "color": "#636efa",
          "symbol": "circle"
         },
         "mode": "markers",
         "name": "Yuumi",
         "orientation": "v",
         "showlegend": true,
         "type": "scatter",
         "x": [
          9237
         ],
         "xaxis": "x",
         "y": [
          8152
         ],
         "yaxis": "y"
        },
        {
         "hovertemplate": "CHAMPIONNAME=Zac<br>TOTALDAMAGEDEALTTOCHAMPIONS=%{x}<br>TOTALDAMAGETAKEN=%{y}<extra></extra>",
         "legendgroup": "Zac",
         "marker": {
          "color": "#EF553B",
          "symbol": "circle"
         },
         "mode": "markers",
         "name": "Zac",
         "orientation": "v",
         "showlegend": true,
         "type": "scatter",
         "x": [
          13751
         ],
         "xaxis": "x",
         "y": [
          30387
         ],
         "yaxis": "y"
        },
        {
         "hovertemplate": "CHAMPIONNAME=Zed<br>TOTALDAMAGEDEALTTOCHAMPIONS=%{x}<br>TOTALDAMAGETAKEN=%{y}<extra></extra>",
         "legendgroup": "Zed",
         "marker": {
          "color": "#00cc96",
          "symbol": "circle"
         },
         "mode": "markers",
         "name": "Zed",
         "orientation": "v",
         "showlegend": true,
         "type": "scatter",
         "x": [
          21409
         ],
         "xaxis": "x",
         "y": [
          20881
         ],
         "yaxis": "y"
        },
        {
         "hovertemplate": "CHAMPIONNAME=Ziggs<br>TOTALDAMAGEDEALTTOCHAMPIONS=%{x}<br>TOTALDAMAGETAKEN=%{y}<extra></extra>",
         "legendgroup": "Ziggs",
         "marker": {
          "color": "#ab63fa",
          "symbol": "circle"
         },
         "mode": "markers",
         "name": "Ziggs",
         "orientation": "v",
         "showlegend": true,
         "type": "scatter",
         "x": [
          23121
         ],
         "xaxis": "x",
         "y": [
          15025
         ],
         "yaxis": "y"
        },
        {
         "hovertemplate": "CHAMPIONNAME=Zilean<br>TOTALDAMAGEDEALTTOCHAMPIONS=%{x}<br>TOTALDAMAGETAKEN=%{y}<extra></extra>",
         "legendgroup": "Zilean",
         "marker": {
          "color": "#FFA15A",
          "symbol": "circle"
         },
         "mode": "markers",
         "name": "Zilean",
         "orientation": "v",
         "showlegend": true,
         "type": "scatter",
         "x": [
          8842
         ],
         "xaxis": "x",
         "y": [
          15039
         ],
         "yaxis": "y"
        },
        {
         "hovertemplate": "CHAMPIONNAME=Zoe<br>TOTALDAMAGEDEALTTOCHAMPIONS=%{x}<br>TOTALDAMAGETAKEN=%{y}<extra></extra>",
         "legendgroup": "Zoe",
         "marker": {
          "color": "#19d3f3",
          "symbol": "circle"
         },
         "mode": "markers",
         "name": "Zoe",
         "orientation": "v",
         "showlegend": true,
         "type": "scatter",
         "x": [
          19456
         ],
         "xaxis": "x",
         "y": [
          17125
         ],
         "yaxis": "y"
        },
        {
         "hovertemplate": "CHAMPIONNAME=Zyra<br>TOTALDAMAGEDEALTTOCHAMPIONS=%{x}<br>TOTALDAMAGETAKEN=%{y}<extra></extra>",
         "legendgroup": "Zyra",
         "marker": {
          "color": "#FF6692",
          "symbol": "circle"
         },
         "mode": "markers",
         "name": "Zyra",
         "orientation": "v",
         "showlegend": true,
         "type": "scatter",
         "x": [
          18294
         ],
         "xaxis": "x",
         "y": [
          13603
         ],
         "yaxis": "y"
        }
       ],
       "layout": {
        "legend": {
         "title": {
          "text": "CHAMPIONNAME"
         },
         "tracegroupgap": 0
        },
        "margin": {
         "t": 60
        },
        "template": {
         "data": {
          "bar": [
           {
            "error_x": {
             "color": "#2a3f5f"
            },
            "error_y": {
             "color": "#2a3f5f"
            },
            "marker": {
             "line": {
              "color": "#E5ECF6",
              "width": 0.5
             },
             "pattern": {
              "fillmode": "overlay",
              "size": 10,
              "solidity": 0.2
             }
            },
            "type": "bar"
           }
          ],
          "barpolar": [
           {
            "marker": {
             "line": {
              "color": "#E5ECF6",
              "width": 0.5
             },
             "pattern": {
              "fillmode": "overlay",
              "size": 10,
              "solidity": 0.2
             }
            },
            "type": "barpolar"
           }
          ],
          "carpet": [
           {
            "aaxis": {
             "endlinecolor": "#2a3f5f",
             "gridcolor": "white",
             "linecolor": "white",
             "minorgridcolor": "white",
             "startlinecolor": "#2a3f5f"
            },
            "baxis": {
             "endlinecolor": "#2a3f5f",
             "gridcolor": "white",
             "linecolor": "white",
             "minorgridcolor": "white",
             "startlinecolor": "#2a3f5f"
            },
            "type": "carpet"
           }
          ],
          "choropleth": [
           {
            "colorbar": {
             "outlinewidth": 0,
             "ticks": ""
            },
            "type": "choropleth"
           }
          ],
          "contour": [
           {
            "colorbar": {
             "outlinewidth": 0,
             "ticks": ""
            },
            "colorscale": [
             [
              0,
              "#0d0887"
             ],
             [
              0.1111111111111111,
              "#46039f"
             ],
             [
              0.2222222222222222,
              "#7201a8"
             ],
             [
              0.3333333333333333,
              "#9c179e"
             ],
             [
              0.4444444444444444,
              "#bd3786"
             ],
             [
              0.5555555555555556,
              "#d8576b"
             ],
             [
              0.6666666666666666,
              "#ed7953"
             ],
             [
              0.7777777777777778,
              "#fb9f3a"
             ],
             [
              0.8888888888888888,
              "#fdca26"
             ],
             [
              1,
              "#f0f921"
             ]
            ],
            "type": "contour"
           }
          ],
          "contourcarpet": [
           {
            "colorbar": {
             "outlinewidth": 0,
             "ticks": ""
            },
            "type": "contourcarpet"
           }
          ],
          "heatmap": [
           {
            "colorbar": {
             "outlinewidth": 0,
             "ticks": ""
            },
            "colorscale": [
             [
              0,
              "#0d0887"
             ],
             [
              0.1111111111111111,
              "#46039f"
             ],
             [
              0.2222222222222222,
              "#7201a8"
             ],
             [
              0.3333333333333333,
              "#9c179e"
             ],
             [
              0.4444444444444444,
              "#bd3786"
             ],
             [
              0.5555555555555556,
              "#d8576b"
             ],
             [
              0.6666666666666666,
              "#ed7953"
             ],
             [
              0.7777777777777778,
              "#fb9f3a"
             ],
             [
              0.8888888888888888,
              "#fdca26"
             ],
             [
              1,
              "#f0f921"
             ]
            ],
            "type": "heatmap"
           }
          ],
          "heatmapgl": [
           {
            "colorbar": {
             "outlinewidth": 0,
             "ticks": ""
            },
            "colorscale": [
             [
              0,
              "#0d0887"
             ],
             [
              0.1111111111111111,
              "#46039f"
             ],
             [
              0.2222222222222222,
              "#7201a8"
             ],
             [
              0.3333333333333333,
              "#9c179e"
             ],
             [
              0.4444444444444444,
              "#bd3786"
             ],
             [
              0.5555555555555556,
              "#d8576b"
             ],
             [
              0.6666666666666666,
              "#ed7953"
             ],
             [
              0.7777777777777778,
              "#fb9f3a"
             ],
             [
              0.8888888888888888,
              "#fdca26"
             ],
             [
              1,
              "#f0f921"
             ]
            ],
            "type": "heatmapgl"
           }
          ],
          "histogram": [
           {
            "marker": {
             "pattern": {
              "fillmode": "overlay",
              "size": 10,
              "solidity": 0.2
             }
            },
            "type": "histogram"
           }
          ],
          "histogram2d": [
           {
            "colorbar": {
             "outlinewidth": 0,
             "ticks": ""
            },
            "colorscale": [
             [
              0,
              "#0d0887"
             ],
             [
              0.1111111111111111,
              "#46039f"
             ],
             [
              0.2222222222222222,
              "#7201a8"
             ],
             [
              0.3333333333333333,
              "#9c179e"
             ],
             [
              0.4444444444444444,
              "#bd3786"
             ],
             [
              0.5555555555555556,
              "#d8576b"
             ],
             [
              0.6666666666666666,
              "#ed7953"
             ],
             [
              0.7777777777777778,
              "#fb9f3a"
             ],
             [
              0.8888888888888888,
              "#fdca26"
             ],
             [
              1,
              "#f0f921"
             ]
            ],
            "type": "histogram2d"
           }
          ],
          "histogram2dcontour": [
           {
            "colorbar": {
             "outlinewidth": 0,
             "ticks": ""
            },
            "colorscale": [
             [
              0,
              "#0d0887"
             ],
             [
              0.1111111111111111,
              "#46039f"
             ],
             [
              0.2222222222222222,
              "#7201a8"
             ],
             [
              0.3333333333333333,
              "#9c179e"
             ],
             [
              0.4444444444444444,
              "#bd3786"
             ],
             [
              0.5555555555555556,
              "#d8576b"
             ],
             [
              0.6666666666666666,
              "#ed7953"
             ],
             [
              0.7777777777777778,
              "#fb9f3a"
             ],
             [
              0.8888888888888888,
              "#fdca26"
             ],
             [
              1,
              "#f0f921"
             ]
            ],
            "type": "histogram2dcontour"
           }
          ],
          "mesh3d": [
           {
            "colorbar": {
             "outlinewidth": 0,
             "ticks": ""
            },
            "type": "mesh3d"
           }
          ],
          "parcoords": [
           {
            "line": {
             "colorbar": {
              "outlinewidth": 0,
              "ticks": ""
             }
            },
            "type": "parcoords"
           }
          ],
          "pie": [
           {
            "automargin": true,
            "type": "pie"
           }
          ],
          "scatter": [
           {
            "marker": {
             "colorbar": {
              "outlinewidth": 0,
              "ticks": ""
             }
            },
            "type": "scatter"
           }
          ],
          "scatter3d": [
           {
            "line": {
             "colorbar": {
              "outlinewidth": 0,
              "ticks": ""
             }
            },
            "marker": {
             "colorbar": {
              "outlinewidth": 0,
              "ticks": ""
             }
            },
            "type": "scatter3d"
           }
          ],
          "scattercarpet": [
           {
            "marker": {
             "colorbar": {
              "outlinewidth": 0,
              "ticks": ""
             }
            },
            "type": "scattercarpet"
           }
          ],
          "scattergeo": [
           {
            "marker": {
             "colorbar": {
              "outlinewidth": 0,
              "ticks": ""
             }
            },
            "type": "scattergeo"
           }
          ],
          "scattergl": [
           {
            "marker": {
             "colorbar": {
              "outlinewidth": 0,
              "ticks": ""
             }
            },
            "type": "scattergl"
           }
          ],
          "scattermapbox": [
           {
            "marker": {
             "colorbar": {
              "outlinewidth": 0,
              "ticks": ""
             }
            },
            "type": "scattermapbox"
           }
          ],
          "scatterpolar": [
           {
            "marker": {
             "colorbar": {
              "outlinewidth": 0,
              "ticks": ""
             }
            },
            "type": "scatterpolar"
           }
          ],
          "scatterpolargl": [
           {
            "marker": {
             "colorbar": {
              "outlinewidth": 0,
              "ticks": ""
             }
            },
            "type": "scatterpolargl"
           }
          ],
          "scatterternary": [
           {
            "marker": {
             "colorbar": {
              "outlinewidth": 0,
              "ticks": ""
             }
            },
            "type": "scatterternary"
           }
          ],
          "surface": [
           {
            "colorbar": {
             "outlinewidth": 0,
             "ticks": ""
            },
            "colorscale": [
             [
              0,
              "#0d0887"
             ],
             [
              0.1111111111111111,
              "#46039f"
             ],
             [
              0.2222222222222222,
              "#7201a8"
             ],
             [
              0.3333333333333333,
              "#9c179e"
             ],
             [
              0.4444444444444444,
              "#bd3786"
             ],
             [
              0.5555555555555556,
              "#d8576b"
             ],
             [
              0.6666666666666666,
              "#ed7953"
             ],
             [
              0.7777777777777778,
              "#fb9f3a"
             ],
             [
              0.8888888888888888,
              "#fdca26"
             ],
             [
              1,
              "#f0f921"
             ]
            ],
            "type": "surface"
           }
          ],
          "table": [
           {
            "cells": {
             "fill": {
              "color": "#EBF0F8"
             },
             "line": {
              "color": "white"
             }
            },
            "header": {
             "fill": {
              "color": "#C8D4E3"
             },
             "line": {
              "color": "white"
             }
            },
            "type": "table"
           }
          ]
         },
         "layout": {
          "annotationdefaults": {
           "arrowcolor": "#2a3f5f",
           "arrowhead": 0,
           "arrowwidth": 1
          },
          "autotypenumbers": "strict",
          "coloraxis": {
           "colorbar": {
            "outlinewidth": 0,
            "ticks": ""
           }
          },
          "colorscale": {
           "diverging": [
            [
             0,
             "#8e0152"
            ],
            [
             0.1,
             "#c51b7d"
            ],
            [
             0.2,
             "#de77ae"
            ],
            [
             0.3,
             "#f1b6da"
            ],
            [
             0.4,
             "#fde0ef"
            ],
            [
             0.5,
             "#f7f7f7"
            ],
            [
             0.6,
             "#e6f5d0"
            ],
            [
             0.7,
             "#b8e186"
            ],
            [
             0.8,
             "#7fbc41"
            ],
            [
             0.9,
             "#4d9221"
            ],
            [
             1,
             "#276419"
            ]
           ],
           "sequential": [
            [
             0,
             "#0d0887"
            ],
            [
             0.1111111111111111,
             "#46039f"
            ],
            [
             0.2222222222222222,
             "#7201a8"
            ],
            [
             0.3333333333333333,
             "#9c179e"
            ],
            [
             0.4444444444444444,
             "#bd3786"
            ],
            [
             0.5555555555555556,
             "#d8576b"
            ],
            [
             0.6666666666666666,
             "#ed7953"
            ],
            [
             0.7777777777777778,
             "#fb9f3a"
            ],
            [
             0.8888888888888888,
             "#fdca26"
            ],
            [
             1,
             "#f0f921"
            ]
           ],
           "sequentialminus": [
            [
             0,
             "#0d0887"
            ],
            [
             0.1111111111111111,
             "#46039f"
            ],
            [
             0.2222222222222222,
             "#7201a8"
            ],
            [
             0.3333333333333333,
             "#9c179e"
            ],
            [
             0.4444444444444444,
             "#bd3786"
            ],
            [
             0.5555555555555556,
             "#d8576b"
            ],
            [
             0.6666666666666666,
             "#ed7953"
            ],
            [
             0.7777777777777778,
             "#fb9f3a"
            ],
            [
             0.8888888888888888,
             "#fdca26"
            ],
            [
             1,
             "#f0f921"
            ]
           ]
          },
          "colorway": [
           "#636efa",
           "#EF553B",
           "#00cc96",
           "#ab63fa",
           "#FFA15A",
           "#19d3f3",
           "#FF6692",
           "#B6E880",
           "#FF97FF",
           "#FECB52"
          ],
          "font": {
           "color": "#2a3f5f"
          },
          "geo": {
           "bgcolor": "white",
           "lakecolor": "white",
           "landcolor": "#E5ECF6",
           "showlakes": true,
           "showland": true,
           "subunitcolor": "white"
          },
          "hoverlabel": {
           "align": "left"
          },
          "hovermode": "closest",
          "mapbox": {
           "style": "light"
          },
          "paper_bgcolor": "white",
          "plot_bgcolor": "#E5ECF6",
          "polar": {
           "angularaxis": {
            "gridcolor": "white",
            "linecolor": "white",
            "ticks": ""
           },
           "bgcolor": "#E5ECF6",
           "radialaxis": {
            "gridcolor": "white",
            "linecolor": "white",
            "ticks": ""
           }
          },
          "scene": {
           "xaxis": {
            "backgroundcolor": "#E5ECF6",
            "gridcolor": "white",
            "gridwidth": 2,
            "linecolor": "white",
            "showbackground": true,
            "ticks": "",
            "zerolinecolor": "white"
           },
           "yaxis": {
            "backgroundcolor": "#E5ECF6",
            "gridcolor": "white",
            "gridwidth": 2,
            "linecolor": "white",
            "showbackground": true,
            "ticks": "",
            "zerolinecolor": "white"
           },
           "zaxis": {
            "backgroundcolor": "#E5ECF6",
            "gridcolor": "white",
            "gridwidth": 2,
            "linecolor": "white",
            "showbackground": true,
            "ticks": "",
            "zerolinecolor": "white"
           }
          },
          "shapedefaults": {
           "line": {
            "color": "#2a3f5f"
           }
          },
          "ternary": {
           "aaxis": {
            "gridcolor": "white",
            "linecolor": "white",
            "ticks": ""
           },
           "baxis": {
            "gridcolor": "white",
            "linecolor": "white",
            "ticks": ""
           },
           "bgcolor": "#E5ECF6",
           "caxis": {
            "gridcolor": "white",
            "linecolor": "white",
            "ticks": ""
           }
          },
          "title": {
           "x": 0.05
          },
          "xaxis": {
           "automargin": true,
           "gridcolor": "white",
           "linecolor": "white",
           "ticks": "",
           "title": {
            "standoff": 15
           },
           "zerolinecolor": "white",
           "zerolinewidth": 2
          },
          "yaxis": {
           "automargin": true,
           "gridcolor": "white",
           "linecolor": "white",
           "ticks": "",
           "title": {
            "standoff": 15
           },
           "zerolinecolor": "white",
           "zerolinewidth": 2
          }
         }
        },
        "xaxis": {
         "anchor": "y",
         "domain": [
          0,
          1
         ],
         "title": {
          "text": "TOTALDAMAGEDEALTTOCHAMPIONS"
         }
        },
        "yaxis": {
         "anchor": "x",
         "domain": [
          0,
          1
         ],
         "title": {
          "text": "TOTALDAMAGETAKEN"
         }
        }
       }
      },
      "text/html": [
       "<div>                            <div id=\"e85bdb35-051d-4143-8874-f0f5bfb7eb8e\" class=\"plotly-graph-div\" style=\"height:525px; width:100%;\"></div>            <script type=\"text/javascript\">                require([\"plotly\"], function(Plotly) {                    window.PLOTLYENV=window.PLOTLYENV || {};                                    if (document.getElementById(\"e85bdb35-051d-4143-8874-f0f5bfb7eb8e\")) {                    Plotly.newPlot(                        \"e85bdb35-051d-4143-8874-f0f5bfb7eb8e\",                        [{\"hovertemplate\":\"CHAMPIONNAME=Aatrox<br>TOTALDAMAGEDEALTTOCHAMPIONS=%{x}<br>TOTALDAMAGETAKEN=%{y}<extra></extra>\",\"legendgroup\":\"Aatrox\",\"marker\":{\"color\":\"#636efa\",\"symbol\":\"circle\"},\"mode\":\"markers\",\"name\":\"Aatrox\",\"orientation\":\"v\",\"showlegend\":true,\"type\":\"scatter\",\"x\":[17889.0],\"xaxis\":\"x\",\"y\":[31844.0],\"yaxis\":\"y\"},{\"hovertemplate\":\"CHAMPIONNAME=Ahri<br>TOTALDAMAGEDEALTTOCHAMPIONS=%{x}<br>TOTALDAMAGETAKEN=%{y}<extra></extra>\",\"legendgroup\":\"Ahri\",\"marker\":{\"color\":\"#EF553B\",\"symbol\":\"circle\"},\"mode\":\"markers\",\"name\":\"Ahri\",\"orientation\":\"v\",\"showlegend\":true,\"type\":\"scatter\",\"x\":[17087.0],\"xaxis\":\"x\",\"y\":[16611.0],\"yaxis\":\"y\"},{\"hovertemplate\":\"CHAMPIONNAME=Akali<br>TOTALDAMAGEDEALTTOCHAMPIONS=%{x}<br>TOTALDAMAGETAKEN=%{y}<extra></extra>\",\"legendgroup\":\"Akali\",\"marker\":{\"color\":\"#00cc96\",\"symbol\":\"circle\"},\"mode\":\"markers\",\"name\":\"Akali\",\"orientation\":\"v\",\"showlegend\":true,\"type\":\"scatter\",\"x\":[19609.0],\"xaxis\":\"x\",\"y\":[24782.0],\"yaxis\":\"y\"},{\"hovertemplate\":\"CHAMPIONNAME=Akshan<br>TOTALDAMAGEDEALTTOCHAMPIONS=%{x}<br>TOTALDAMAGETAKEN=%{y}<extra></extra>\",\"legendgroup\":\"Akshan\",\"marker\":{\"color\":\"#ab63fa\",\"symbol\":\"circle\"},\"mode\":\"markers\",\"name\":\"Akshan\",\"orientation\":\"v\",\"showlegend\":true,\"type\":\"scatter\",\"x\":[21069.0],\"xaxis\":\"x\",\"y\":[18944.0],\"yaxis\":\"y\"},{\"hovertemplate\":\"CHAMPIONNAME=Alistar<br>TOTALDAMAGEDEALTTOCHAMPIONS=%{x}<br>TOTALDAMAGETAKEN=%{y}<extra></extra>\",\"legendgroup\":\"Alistar\",\"marker\":{\"color\":\"#FFA15A\",\"symbol\":\"circle\"},\"mode\":\"markers\",\"name\":\"Alistar\",\"orientation\":\"v\",\"showlegend\":true,\"type\":\"scatter\",\"x\":[6836.0],\"xaxis\":\"x\",\"y\":[21181.0],\"yaxis\":\"y\"},{\"hovertemplate\":\"CHAMPIONNAME=Amumu<br>TOTALDAMAGEDEALTTOCHAMPIONS=%{x}<br>TOTALDAMAGETAKEN=%{y}<extra></extra>\",\"legendgroup\":\"Amumu\",\"marker\":{\"color\":\"#19d3f3\",\"symbol\":\"circle\"},\"mode\":\"markers\",\"name\":\"Amumu\",\"orientation\":\"v\",\"showlegend\":true,\"type\":\"scatter\",\"x\":[10463.0],\"xaxis\":\"x\",\"y\":[19882.0],\"yaxis\":\"y\"},{\"hovertemplate\":\"CHAMPIONNAME=Anivia<br>TOTALDAMAGEDEALTTOCHAMPIONS=%{x}<br>TOTALDAMAGETAKEN=%{y}<extra></extra>\",\"legendgroup\":\"Anivia\",\"marker\":{\"color\":\"#FF6692\",\"symbol\":\"circle\"},\"mode\":\"markers\",\"name\":\"Anivia\",\"orientation\":\"v\",\"showlegend\":true,\"type\":\"scatter\",\"x\":[18081.0],\"xaxis\":\"x\",\"y\":[19486.0],\"yaxis\":\"y\"},{\"hovertemplate\":\"CHAMPIONNAME=Annie<br>TOTALDAMAGEDEALTTOCHAMPIONS=%{x}<br>TOTALDAMAGETAKEN=%{y}<extra></extra>\",\"legendgroup\":\"Annie\",\"marker\":{\"color\":\"#B6E880\",\"symbol\":\"circle\"},\"mode\":\"markers\",\"name\":\"Annie\",\"orientation\":\"v\",\"showlegend\":true,\"type\":\"scatter\",\"x\":[15934.0],\"xaxis\":\"x\",\"y\":[14338.0],\"yaxis\":\"y\"},{\"hovertemplate\":\"CHAMPIONNAME=Aphelios<br>TOTALDAMAGEDEALTTOCHAMPIONS=%{x}<br>TOTALDAMAGETAKEN=%{y}<extra></extra>\",\"legendgroup\":\"Aphelios\",\"marker\":{\"color\":\"#FF97FF\",\"symbol\":\"circle\"},\"mode\":\"markers\",\"name\":\"Aphelios\",\"orientation\":\"v\",\"showlegend\":true,\"type\":\"scatter\",\"x\":[18832.0],\"xaxis\":\"x\",\"y\":[18282.0],\"yaxis\":\"y\"},{\"hovertemplate\":\"CHAMPIONNAME=Ashe<br>TOTALDAMAGEDEALTTOCHAMPIONS=%{x}<br>TOTALDAMAGETAKEN=%{y}<extra></extra>\",\"legendgroup\":\"Ashe\",\"marker\":{\"color\":\"#FECB52\",\"symbol\":\"circle\"},\"mode\":\"markers\",\"name\":\"Ashe\",\"orientation\":\"v\",\"showlegend\":true,\"type\":\"scatter\",\"x\":[16182.0],\"xaxis\":\"x\",\"y\":[16134.0],\"yaxis\":\"y\"},{\"hovertemplate\":\"CHAMPIONNAME=AurelionSol<br>TOTALDAMAGEDEALTTOCHAMPIONS=%{x}<br>TOTALDAMAGETAKEN=%{y}<extra></extra>\",\"legendgroup\":\"AurelionSol\",\"marker\":{\"color\":\"#636efa\",\"symbol\":\"circle\"},\"mode\":\"markers\",\"name\":\"AurelionSol\",\"orientation\":\"v\",\"showlegend\":true,\"type\":\"scatter\",\"x\":[18519.0],\"xaxis\":\"x\",\"y\":[19994.0],\"yaxis\":\"y\"},{\"hovertemplate\":\"CHAMPIONNAME=Azir<br>TOTALDAMAGEDEALTTOCHAMPIONS=%{x}<br>TOTALDAMAGETAKEN=%{y}<extra></extra>\",\"legendgroup\":\"Azir\",\"marker\":{\"color\":\"#EF553B\",\"symbol\":\"circle\"},\"mode\":\"markers\",\"name\":\"Azir\",\"orientation\":\"v\",\"showlegend\":true,\"type\":\"scatter\",\"x\":[17419.0],\"xaxis\":\"x\",\"y\":[16553.0],\"yaxis\":\"y\"},{\"hovertemplate\":\"CHAMPIONNAME=Bard<br>TOTALDAMAGEDEALTTOCHAMPIONS=%{x}<br>TOTALDAMAGETAKEN=%{y}<extra></extra>\",\"legendgroup\":\"Bard\",\"marker\":{\"color\":\"#00cc96\",\"symbol\":\"circle\"},\"mode\":\"markers\",\"name\":\"Bard\",\"orientation\":\"v\",\"showlegend\":true,\"type\":\"scatter\",\"x\":[10297.0],\"xaxis\":\"x\",\"y\":[16582.0],\"yaxis\":\"y\"},{\"hovertemplate\":\"CHAMPIONNAME=Blitzcrank<br>TOTALDAMAGEDEALTTOCHAMPIONS=%{x}<br>TOTALDAMAGETAKEN=%{y}<extra></extra>\",\"legendgroup\":\"Blitzcrank\",\"marker\":{\"color\":\"#ab63fa\",\"symbol\":\"circle\"},\"mode\":\"markers\",\"name\":\"Blitzcrank\",\"orientation\":\"v\",\"showlegend\":true,\"type\":\"scatter\",\"x\":[8054.0],\"xaxis\":\"x\",\"y\":[18649.0],\"yaxis\":\"y\"},{\"hovertemplate\":\"CHAMPIONNAME=Brand<br>TOTALDAMAGEDEALTTOCHAMPIONS=%{x}<br>TOTALDAMAGETAKEN=%{y}<extra></extra>\",\"legendgroup\":\"Brand\",\"marker\":{\"color\":\"#FFA15A\",\"symbol\":\"circle\"},\"mode\":\"markers\",\"name\":\"Brand\",\"orientation\":\"v\",\"showlegend\":true,\"type\":\"scatter\",\"x\":[19502.0],\"xaxis\":\"x\",\"y\":[15869.0],\"yaxis\":\"y\"},{\"hovertemplate\":\"CHAMPIONNAME=Braum<br>TOTALDAMAGEDEALTTOCHAMPIONS=%{x}<br>TOTALDAMAGETAKEN=%{y}<extra></extra>\",\"legendgroup\":\"Braum\",\"marker\":{\"color\":\"#19d3f3\",\"symbol\":\"circle\"},\"mode\":\"markers\",\"name\":\"Braum\",\"orientation\":\"v\",\"showlegend\":true,\"type\":\"scatter\",\"x\":[7171.0],\"xaxis\":\"x\",\"y\":[18237.0],\"yaxis\":\"y\"},{\"hovertemplate\":\"CHAMPIONNAME=Caitlyn<br>TOTALDAMAGEDEALTTOCHAMPIONS=%{x}<br>TOTALDAMAGETAKEN=%{y}<extra></extra>\",\"legendgroup\":\"Caitlyn\",\"marker\":{\"color\":\"#FF6692\",\"symbol\":\"circle\"},\"mode\":\"markers\",\"name\":\"Caitlyn\",\"orientation\":\"v\",\"showlegend\":true,\"type\":\"scatter\",\"x\":[18112.0],\"xaxis\":\"x\",\"y\":[17098.0],\"yaxis\":\"y\"},{\"hovertemplate\":\"CHAMPIONNAME=Camille<br>TOTALDAMAGEDEALTTOCHAMPIONS=%{x}<br>TOTALDAMAGETAKEN=%{y}<extra></extra>\",\"legendgroup\":\"Camille\",\"marker\":{\"color\":\"#B6E880\",\"symbol\":\"circle\"},\"mode\":\"markers\",\"name\":\"Camille\",\"orientation\":\"v\",\"showlegend\":true,\"type\":\"scatter\",\"x\":[17299.0],\"xaxis\":\"x\",\"y\":[26459.0],\"yaxis\":\"y\"},{\"hovertemplate\":\"CHAMPIONNAME=Cassiopeia<br>TOTALDAMAGEDEALTTOCHAMPIONS=%{x}<br>TOTALDAMAGETAKEN=%{y}<extra></extra>\",\"legendgroup\":\"Cassiopeia\",\"marker\":{\"color\":\"#FF97FF\",\"symbol\":\"circle\"},\"mode\":\"markers\",\"name\":\"Cassiopeia\",\"orientation\":\"v\",\"showlegend\":true,\"type\":\"scatter\",\"x\":[20052.0],\"xaxis\":\"x\",\"y\":[19730.0],\"yaxis\":\"y\"},{\"hovertemplate\":\"CHAMPIONNAME=Chogath<br>TOTALDAMAGEDEALTTOCHAMPIONS=%{x}<br>TOTALDAMAGETAKEN=%{y}<extra></extra>\",\"legendgroup\":\"Chogath\",\"marker\":{\"color\":\"#FECB52\",\"symbol\":\"circle\"},\"mode\":\"markers\",\"name\":\"Chogath\",\"orientation\":\"v\",\"showlegend\":true,\"type\":\"scatter\",\"x\":[13875.0],\"xaxis\":\"x\",\"y\":[23458.0],\"yaxis\":\"y\"},{\"hovertemplate\":\"CHAMPIONNAME=Corki<br>TOTALDAMAGEDEALTTOCHAMPIONS=%{x}<br>TOTALDAMAGETAKEN=%{y}<extra></extra>\",\"legendgroup\":\"Corki\",\"marker\":{\"color\":\"#636efa\",\"symbol\":\"circle\"},\"mode\":\"markers\",\"name\":\"Corki\",\"orientation\":\"v\",\"showlegend\":true,\"type\":\"scatter\",\"x\":[25127.0],\"xaxis\":\"x\",\"y\":[17692.0],\"yaxis\":\"y\"},{\"hovertemplate\":\"CHAMPIONNAME=Darius<br>TOTALDAMAGEDEALTTOCHAMPIONS=%{x}<br>TOTALDAMAGETAKEN=%{y}<extra></extra>\",\"legendgroup\":\"Darius\",\"marker\":{\"color\":\"#EF553B\",\"symbol\":\"circle\"},\"mode\":\"markers\",\"name\":\"Darius\",\"orientation\":\"v\",\"showlegend\":true,\"type\":\"scatter\",\"x\":[17560.0],\"xaxis\":\"x\",\"y\":[26718.0],\"yaxis\":\"y\"},{\"hovertemplate\":\"CHAMPIONNAME=Diana<br>TOTALDAMAGEDEALTTOCHAMPIONS=%{x}<br>TOTALDAMAGETAKEN=%{y}<extra></extra>\",\"legendgroup\":\"Diana\",\"marker\":{\"color\":\"#00cc96\",\"symbol\":\"circle\"},\"mode\":\"markers\",\"name\":\"Diana\",\"orientation\":\"v\",\"showlegend\":true,\"type\":\"scatter\",\"x\":[19236.0],\"xaxis\":\"x\",\"y\":[23403.0],\"yaxis\":\"y\"},{\"hovertemplate\":\"CHAMPIONNAME=DrMundo<br>TOTALDAMAGEDEALTTOCHAMPIONS=%{x}<br>TOTALDAMAGETAKEN=%{y}<extra></extra>\",\"legendgroup\":\"DrMundo\",\"marker\":{\"color\":\"#ab63fa\",\"symbol\":\"circle\"},\"mode\":\"markers\",\"name\":\"DrMundo\",\"orientation\":\"v\",\"showlegend\":true,\"type\":\"scatter\",\"x\":[18087.0],\"xaxis\":\"x\",\"y\":[31625.0],\"yaxis\":\"y\"},{\"hovertemplate\":\"CHAMPIONNAME=Draven<br>TOTALDAMAGEDEALTTOCHAMPIONS=%{x}<br>TOTALDAMAGETAKEN=%{y}<extra></extra>\",\"legendgroup\":\"Draven\",\"marker\":{\"color\":\"#FFA15A\",\"symbol\":\"circle\"},\"mode\":\"markers\",\"name\":\"Draven\",\"orientation\":\"v\",\"showlegend\":true,\"type\":\"scatter\",\"x\":[17710.0],\"xaxis\":\"x\",\"y\":[18832.0],\"yaxis\":\"y\"},{\"hovertemplate\":\"CHAMPIONNAME=Ekko<br>TOTALDAMAGEDEALTTOCHAMPIONS=%{x}<br>TOTALDAMAGETAKEN=%{y}<extra></extra>\",\"legendgroup\":\"Ekko\",\"marker\":{\"color\":\"#19d3f3\",\"symbol\":\"circle\"},\"mode\":\"markers\",\"name\":\"Ekko\",\"orientation\":\"v\",\"showlegend\":true,\"type\":\"scatter\",\"x\":[17894.0],\"xaxis\":\"x\",\"y\":[27840.0],\"yaxis\":\"y\"},{\"hovertemplate\":\"CHAMPIONNAME=Elise<br>TOTALDAMAGEDEALTTOCHAMPIONS=%{x}<br>TOTALDAMAGETAKEN=%{y}<extra></extra>\",\"legendgroup\":\"Elise\",\"marker\":{\"color\":\"#FF6692\",\"symbol\":\"circle\"},\"mode\":\"markers\",\"name\":\"Elise\",\"orientation\":\"v\",\"showlegend\":true,\"type\":\"scatter\",\"x\":[16211.0],\"xaxis\":\"x\",\"y\":[21599.0],\"yaxis\":\"y\"},{\"hovertemplate\":\"CHAMPIONNAME=Evelynn<br>TOTALDAMAGEDEALTTOCHAMPIONS=%{x}<br>TOTALDAMAGETAKEN=%{y}<extra></extra>\",\"legendgroup\":\"Evelynn\",\"marker\":{\"color\":\"#B6E880\",\"symbol\":\"circle\"},\"mode\":\"markers\",\"name\":\"Evelynn\",\"orientation\":\"v\",\"showlegend\":true,\"type\":\"scatter\",\"x\":[19671.0],\"xaxis\":\"x\",\"y\":[23636.0],\"yaxis\":\"y\"},{\"hovertemplate\":\"CHAMPIONNAME=Ezreal<br>TOTALDAMAGEDEALTTOCHAMPIONS=%{x}<br>TOTALDAMAGETAKEN=%{y}<extra></extra>\",\"legendgroup\":\"Ezreal\",\"marker\":{\"color\":\"#FF97FF\",\"symbol\":\"circle\"},\"mode\":\"markers\",\"name\":\"Ezreal\",\"orientation\":\"v\",\"showlegend\":true,\"type\":\"scatter\",\"x\":[21245.0],\"xaxis\":\"x\",\"y\":[18431.0],\"yaxis\":\"y\"},{\"hovertemplate\":\"CHAMPIONNAME=FiddleSticks<br>TOTALDAMAGEDEALTTOCHAMPIONS=%{x}<br>TOTALDAMAGETAKEN=%{y}<extra></extra>\",\"legendgroup\":\"FiddleSticks\",\"marker\":{\"color\":\"#FECB52\",\"symbol\":\"circle\"},\"mode\":\"markers\",\"name\":\"FiddleSticks\",\"orientation\":\"v\",\"showlegend\":true,\"type\":\"scatter\",\"x\":[16442.0],\"xaxis\":\"x\",\"y\":[26044.0],\"yaxis\":\"y\"},{\"hovertemplate\":\"CHAMPIONNAME=Fiora<br>TOTALDAMAGEDEALTTOCHAMPIONS=%{x}<br>TOTALDAMAGETAKEN=%{y}<extra></extra>\",\"legendgroup\":\"Fiora\",\"marker\":{\"color\":\"#636efa\",\"symbol\":\"circle\"},\"mode\":\"markers\",\"name\":\"Fiora\",\"orientation\":\"v\",\"showlegend\":true,\"type\":\"scatter\",\"x\":[17449.0],\"xaxis\":\"x\",\"y\":[28158.0],\"yaxis\":\"y\"},{\"hovertemplate\":\"CHAMPIONNAME=Fizz<br>TOTALDAMAGEDEALTTOCHAMPIONS=%{x}<br>TOTALDAMAGETAKEN=%{y}<extra></extra>\",\"legendgroup\":\"Fizz\",\"marker\":{\"color\":\"#EF553B\",\"symbol\":\"circle\"},\"mode\":\"markers\",\"name\":\"Fizz\",\"orientation\":\"v\",\"showlegend\":true,\"type\":\"scatter\",\"x\":[18895.0],\"xaxis\":\"x\",\"y\":[19773.0],\"yaxis\":\"y\"},{\"hovertemplate\":\"CHAMPIONNAME=Galio<br>TOTALDAMAGEDEALTTOCHAMPIONS=%{x}<br>TOTALDAMAGETAKEN=%{y}<extra></extra>\",\"legendgroup\":\"Galio\",\"marker\":{\"color\":\"#00cc96\",\"symbol\":\"circle\"},\"mode\":\"markers\",\"name\":\"Galio\",\"orientation\":\"v\",\"showlegend\":true,\"type\":\"scatter\",\"x\":[12280.0],\"xaxis\":\"x\",\"y\":[18401.0],\"yaxis\":\"y\"},{\"hovertemplate\":\"CHAMPIONNAME=Gangplank<br>TOTALDAMAGEDEALTTOCHAMPIONS=%{x}<br>TOTALDAMAGETAKEN=%{y}<extra></extra>\",\"legendgroup\":\"Gangplank\",\"marker\":{\"color\":\"#ab63fa\",\"symbol\":\"circle\"},\"mode\":\"markers\",\"name\":\"Gangplank\",\"orientation\":\"v\",\"showlegend\":true,\"type\":\"scatter\",\"x\":[18630.0],\"xaxis\":\"x\",\"y\":[21911.0],\"yaxis\":\"y\"},{\"hovertemplate\":\"CHAMPIONNAME=Garen<br>TOTALDAMAGEDEALTTOCHAMPIONS=%{x}<br>TOTALDAMAGETAKEN=%{y}<extra></extra>\",\"legendgroup\":\"Garen\",\"marker\":{\"color\":\"#FFA15A\",\"symbol\":\"circle\"},\"mode\":\"markers\",\"name\":\"Garen\",\"orientation\":\"v\",\"showlegend\":true,\"type\":\"scatter\",\"x\":[14807.0],\"xaxis\":\"x\",\"y\":[22583.0],\"yaxis\":\"y\"},{\"hovertemplate\":\"CHAMPIONNAME=Gnar<br>TOTALDAMAGEDEALTTOCHAMPIONS=%{x}<br>TOTALDAMAGETAKEN=%{y}<extra></extra>\",\"legendgroup\":\"Gnar\",\"marker\":{\"color\":\"#19d3f3\",\"symbol\":\"circle\"},\"mode\":\"markers\",\"name\":\"Gnar\",\"orientation\":\"v\",\"showlegend\":true,\"type\":\"scatter\",\"x\":[17923.0],\"xaxis\":\"x\",\"y\":[25365.0],\"yaxis\":\"y\"},{\"hovertemplate\":\"CHAMPIONNAME=Gragas<br>TOTALDAMAGEDEALTTOCHAMPIONS=%{x}<br>TOTALDAMAGETAKEN=%{y}<extra></extra>\",\"legendgroup\":\"Gragas\",\"marker\":{\"color\":\"#FF6692\",\"symbol\":\"circle\"},\"mode\":\"markers\",\"name\":\"Gragas\",\"orientation\":\"v\",\"showlegend\":true,\"type\":\"scatter\",\"x\":[15250.0],\"xaxis\":\"x\",\"y\":[25431.0],\"yaxis\":\"y\"},{\"hovertemplate\":\"CHAMPIONNAME=Graves<br>TOTALDAMAGEDEALTTOCHAMPIONS=%{x}<br>TOTALDAMAGETAKEN=%{y}<extra></extra>\",\"legendgroup\":\"Graves\",\"marker\":{\"color\":\"#B6E880\",\"symbol\":\"circle\"},\"mode\":\"markers\",\"name\":\"Graves\",\"orientation\":\"v\",\"showlegend\":true,\"type\":\"scatter\",\"x\":[19137.0],\"xaxis\":\"x\",\"y\":[22668.0],\"yaxis\":\"y\"},{\"hovertemplate\":\"CHAMPIONNAME=Gwen<br>TOTALDAMAGEDEALTTOCHAMPIONS=%{x}<br>TOTALDAMAGETAKEN=%{y}<extra></extra>\",\"legendgroup\":\"Gwen\",\"marker\":{\"color\":\"#FF97FF\",\"symbol\":\"circle\"},\"mode\":\"markers\",\"name\":\"Gwen\",\"orientation\":\"v\",\"showlegend\":true,\"type\":\"scatter\",\"x\":[17237.0],\"xaxis\":\"x\",\"y\":[26571.0],\"yaxis\":\"y\"},{\"hovertemplate\":\"CHAMPIONNAME=Hecarim<br>TOTALDAMAGEDEALTTOCHAMPIONS=%{x}<br>TOTALDAMAGETAKEN=%{y}<extra></extra>\",\"legendgroup\":\"Hecarim\",\"marker\":{\"color\":\"#FECB52\",\"symbol\":\"circle\"},\"mode\":\"markers\",\"name\":\"Hecarim\",\"orientation\":\"v\",\"showlegend\":true,\"type\":\"scatter\",\"x\":[13798.0],\"xaxis\":\"x\",\"y\":[31141.0],\"yaxis\":\"y\"},{\"hovertemplate\":\"CHAMPIONNAME=Heimerdinger<br>TOTALDAMAGEDEALTTOCHAMPIONS=%{x}<br>TOTALDAMAGETAKEN=%{y}<extra></extra>\",\"legendgroup\":\"Heimerdinger\",\"marker\":{\"color\":\"#636efa\",\"symbol\":\"circle\"},\"mode\":\"markers\",\"name\":\"Heimerdinger\",\"orientation\":\"v\",\"showlegend\":true,\"type\":\"scatter\",\"x\":[21491.0],\"xaxis\":\"x\",\"y\":[15160.0],\"yaxis\":\"y\"},{\"hovertemplate\":\"CHAMPIONNAME=Illaoi<br>TOTALDAMAGEDEALTTOCHAMPIONS=%{x}<br>TOTALDAMAGETAKEN=%{y}<extra></extra>\",\"legendgroup\":\"Illaoi\",\"marker\":{\"color\":\"#EF553B\",\"symbol\":\"circle\"},\"mode\":\"markers\",\"name\":\"Illaoi\",\"orientation\":\"v\",\"showlegend\":true,\"type\":\"scatter\",\"x\":[20176.0],\"xaxis\":\"x\",\"y\":[27503.0],\"yaxis\":\"y\"},{\"hovertemplate\":\"CHAMPIONNAME=Irelia<br>TOTALDAMAGEDEALTTOCHAMPIONS=%{x}<br>TOTALDAMAGETAKEN=%{y}<extra></extra>\",\"legendgroup\":\"Irelia\",\"marker\":{\"color\":\"#00cc96\",\"symbol\":\"circle\"},\"mode\":\"markers\",\"name\":\"Irelia\",\"orientation\":\"v\",\"showlegend\":true,\"type\":\"scatter\",\"x\":[18461.0],\"xaxis\":\"x\",\"y\":[26839.0],\"yaxis\":\"y\"},{\"hovertemplate\":\"CHAMPIONNAME=Ivern<br>TOTALDAMAGEDEALTTOCHAMPIONS=%{x}<br>TOTALDAMAGETAKEN=%{y}<extra></extra>\",\"legendgroup\":\"Ivern\",\"marker\":{\"color\":\"#ab63fa\",\"symbol\":\"circle\"},\"mode\":\"markers\",\"name\":\"Ivern\",\"orientation\":\"v\",\"showlegend\":true,\"type\":\"scatter\",\"x\":[8764.0],\"xaxis\":\"x\",\"y\":[13153.0],\"yaxis\":\"y\"},{\"hovertemplate\":\"CHAMPIONNAME=Janna<br>TOTALDAMAGEDEALTTOCHAMPIONS=%{x}<br>TOTALDAMAGETAKEN=%{y}<extra></extra>\",\"legendgroup\":\"Janna\",\"marker\":{\"color\":\"#FFA15A\",\"symbol\":\"circle\"},\"mode\":\"markers\",\"name\":\"Janna\",\"orientation\":\"v\",\"showlegend\":true,\"type\":\"scatter\",\"x\":[7580.0],\"xaxis\":\"x\",\"y\":[13243.0],\"yaxis\":\"y\"},{\"hovertemplate\":\"CHAMPIONNAME=JarvanIV<br>TOTALDAMAGEDEALTTOCHAMPIONS=%{x}<br>TOTALDAMAGETAKEN=%{y}<extra></extra>\",\"legendgroup\":\"JarvanIV\",\"marker\":{\"color\":\"#19d3f3\",\"symbol\":\"circle\"},\"mode\":\"markers\",\"name\":\"JarvanIV\",\"orientation\":\"v\",\"showlegend\":true,\"type\":\"scatter\",\"x\":[13293.0],\"xaxis\":\"x\",\"y\":[27953.0],\"yaxis\":\"y\"},{\"hovertemplate\":\"CHAMPIONNAME=Jax<br>TOTALDAMAGEDEALTTOCHAMPIONS=%{x}<br>TOTALDAMAGETAKEN=%{y}<extra></extra>\",\"legendgroup\":\"Jax\",\"marker\":{\"color\":\"#FF6692\",\"symbol\":\"circle\"},\"mode\":\"markers\",\"name\":\"Jax\",\"orientation\":\"v\",\"showlegend\":true,\"type\":\"scatter\",\"x\":[16899.0],\"xaxis\":\"x\",\"y\":[25736.0],\"yaxis\":\"y\"},{\"hovertemplate\":\"CHAMPIONNAME=Jayce<br>TOTALDAMAGEDEALTTOCHAMPIONS=%{x}<br>TOTALDAMAGETAKEN=%{y}<extra></extra>\",\"legendgroup\":\"Jayce\",\"marker\":{\"color\":\"#B6E880\",\"symbol\":\"circle\"},\"mode\":\"markers\",\"name\":\"Jayce\",\"orientation\":\"v\",\"showlegend\":true,\"type\":\"scatter\",\"x\":[18576.0],\"xaxis\":\"x\",\"y\":[17660.0],\"yaxis\":\"y\"},{\"hovertemplate\":\"CHAMPIONNAME=Jhin<br>TOTALDAMAGEDEALTTOCHAMPIONS=%{x}<br>TOTALDAMAGETAKEN=%{y}<extra></extra>\",\"legendgroup\":\"Jhin\",\"marker\":{\"color\":\"#FF97FF\",\"symbol\":\"circle\"},\"mode\":\"markers\",\"name\":\"Jhin\",\"orientation\":\"v\",\"showlegend\":true,\"type\":\"scatter\",\"x\":[18450.0],\"xaxis\":\"x\",\"y\":[17231.0],\"yaxis\":\"y\"},{\"hovertemplate\":\"CHAMPIONNAME=Jinx<br>TOTALDAMAGEDEALTTOCHAMPIONS=%{x}<br>TOTALDAMAGETAKEN=%{y}<extra></extra>\",\"legendgroup\":\"Jinx\",\"marker\":{\"color\":\"#FECB52\",\"symbol\":\"circle\"},\"mode\":\"markers\",\"name\":\"Jinx\",\"orientation\":\"v\",\"showlegend\":true,\"type\":\"scatter\",\"x\":[16932.0],\"xaxis\":\"x\",\"y\":[17458.0],\"yaxis\":\"y\"},{\"hovertemplate\":\"CHAMPIONNAME=Kaisa<br>TOTALDAMAGEDEALTTOCHAMPIONS=%{x}<br>TOTALDAMAGETAKEN=%{y}<extra></extra>\",\"legendgroup\":\"Kaisa\",\"marker\":{\"color\":\"#636efa\",\"symbol\":\"circle\"},\"mode\":\"markers\",\"name\":\"Kaisa\",\"orientation\":\"v\",\"showlegend\":true,\"type\":\"scatter\",\"x\":[16838.0],\"xaxis\":\"x\",\"y\":[17158.0],\"yaxis\":\"y\"},{\"hovertemplate\":\"CHAMPIONNAME=Kalista<br>TOTALDAMAGEDEALTTOCHAMPIONS=%{x}<br>TOTALDAMAGETAKEN=%{y}<extra></extra>\",\"legendgroup\":\"Kalista\",\"marker\":{\"color\":\"#EF553B\",\"symbol\":\"circle\"},\"mode\":\"markers\",\"name\":\"Kalista\",\"orientation\":\"v\",\"showlegend\":true,\"type\":\"scatter\",\"x\":[15618.0],\"xaxis\":\"x\",\"y\":[18863.0],\"yaxis\":\"y\"},{\"hovertemplate\":\"CHAMPIONNAME=Karma<br>TOTALDAMAGEDEALTTOCHAMPIONS=%{x}<br>TOTALDAMAGETAKEN=%{y}<extra></extra>\",\"legendgroup\":\"Karma\",\"marker\":{\"color\":\"#00cc96\",\"symbol\":\"circle\"},\"mode\":\"markers\",\"name\":\"Karma\",\"orientation\":\"v\",\"showlegend\":true,\"type\":\"scatter\",\"x\":[10781.0],\"xaxis\":\"x\",\"y\":[15952.0],\"yaxis\":\"y\"},{\"hovertemplate\":\"CHAMPIONNAME=Karthus<br>TOTALDAMAGEDEALTTOCHAMPIONS=%{x}<br>TOTALDAMAGETAKEN=%{y}<extra></extra>\",\"legendgroup\":\"Karthus\",\"marker\":{\"color\":\"#ab63fa\",\"symbol\":\"circle\"},\"mode\":\"markers\",\"name\":\"Karthus\",\"orientation\":\"v\",\"showlegend\":true,\"type\":\"scatter\",\"x\":[24276.0],\"xaxis\":\"x\",\"y\":[23548.0],\"yaxis\":\"y\"},{\"hovertemplate\":\"CHAMPIONNAME=Kassadin<br>TOTALDAMAGEDEALTTOCHAMPIONS=%{x}<br>TOTALDAMAGETAKEN=%{y}<extra></extra>\",\"legendgroup\":\"Kassadin\",\"marker\":{\"color\":\"#FFA15A\",\"symbol\":\"circle\"},\"mode\":\"markers\",\"name\":\"Kassadin\",\"orientation\":\"v\",\"showlegend\":true,\"type\":\"scatter\",\"x\":[18959.0],\"xaxis\":\"x\",\"y\":[22100.0],\"yaxis\":\"y\"},{\"hovertemplate\":\"CHAMPIONNAME=Katarina<br>TOTALDAMAGEDEALTTOCHAMPIONS=%{x}<br>TOTALDAMAGETAKEN=%{y}<extra></extra>\",\"legendgroup\":\"Katarina\",\"marker\":{\"color\":\"#19d3f3\",\"symbol\":\"circle\"},\"mode\":\"markers\",\"name\":\"Katarina\",\"orientation\":\"v\",\"showlegend\":true,\"type\":\"scatter\",\"x\":[19258.0],\"xaxis\":\"x\",\"y\":[20635.0],\"yaxis\":\"y\"},{\"hovertemplate\":\"CHAMPIONNAME=Kayle<br>TOTALDAMAGEDEALTTOCHAMPIONS=%{x}<br>TOTALDAMAGETAKEN=%{y}<extra></extra>\",\"legendgroup\":\"Kayle\",\"marker\":{\"color\":\"#FF6692\",\"symbol\":\"circle\"},\"mode\":\"markers\",\"name\":\"Kayle\",\"orientation\":\"v\",\"showlegend\":true,\"type\":\"scatter\",\"x\":[17554.0],\"xaxis\":\"x\",\"y\":[19940.0],\"yaxis\":\"y\"},{\"hovertemplate\":\"CHAMPIONNAME=Kayn<br>TOTALDAMAGEDEALTTOCHAMPIONS=%{x}<br>TOTALDAMAGETAKEN=%{y}<extra></extra>\",\"legendgroup\":\"Kayn\",\"marker\":{\"color\":\"#B6E880\",\"symbol\":\"circle\"},\"mode\":\"markers\",\"name\":\"Kayn\",\"orientation\":\"v\",\"showlegend\":true,\"type\":\"scatter\",\"x\":[18047.0],\"xaxis\":\"x\",\"y\":[31218.0],\"yaxis\":\"y\"},{\"hovertemplate\":\"CHAMPIONNAME=Kennen<br>TOTALDAMAGEDEALTTOCHAMPIONS=%{x}<br>TOTALDAMAGETAKEN=%{y}<extra></extra>\",\"legendgroup\":\"Kennen\",\"marker\":{\"color\":\"#FF97FF\",\"symbol\":\"circle\"},\"mode\":\"markers\",\"name\":\"Kennen\",\"orientation\":\"v\",\"showlegend\":true,\"type\":\"scatter\",\"x\":[17033.0],\"xaxis\":\"x\",\"y\":[18223.0],\"yaxis\":\"y\"},{\"hovertemplate\":\"CHAMPIONNAME=Khazix<br>TOTALDAMAGEDEALTTOCHAMPIONS=%{x}<br>TOTALDAMAGETAKEN=%{y}<extra></extra>\",\"legendgroup\":\"Khazix\",\"marker\":{\"color\":\"#FECB52\",\"symbol\":\"circle\"},\"mode\":\"markers\",\"name\":\"Khazix\",\"orientation\":\"v\",\"showlegend\":true,\"type\":\"scatter\",\"x\":[17608.0],\"xaxis\":\"x\",\"y\":[27140.0],\"yaxis\":\"y\"},{\"hovertemplate\":\"CHAMPIONNAME=Kindred<br>TOTALDAMAGEDEALTTOCHAMPIONS=%{x}<br>TOTALDAMAGETAKEN=%{y}<extra></extra>\",\"legendgroup\":\"Kindred\",\"marker\":{\"color\":\"#636efa\",\"symbol\":\"circle\"},\"mode\":\"markers\",\"name\":\"Kindred\",\"orientation\":\"v\",\"showlegend\":true,\"type\":\"scatter\",\"x\":[18082.0],\"xaxis\":\"x\",\"y\":[23518.0],\"yaxis\":\"y\"},{\"hovertemplate\":\"CHAMPIONNAME=Kled<br>TOTALDAMAGEDEALTTOCHAMPIONS=%{x}<br>TOTALDAMAGETAKEN=%{y}<extra></extra>\",\"legendgroup\":\"Kled\",\"marker\":{\"color\":\"#EF553B\",\"symbol\":\"circle\"},\"mode\":\"markers\",\"name\":\"Kled\",\"orientation\":\"v\",\"showlegend\":true,\"type\":\"scatter\",\"x\":[19383.0],\"xaxis\":\"x\",\"y\":[34604.0],\"yaxis\":\"y\"},{\"hovertemplate\":\"CHAMPIONNAME=KogMaw<br>TOTALDAMAGEDEALTTOCHAMPIONS=%{x}<br>TOTALDAMAGETAKEN=%{y}<extra></extra>\",\"legendgroup\":\"KogMaw\",\"marker\":{\"color\":\"#00cc96\",\"symbol\":\"circle\"},\"mode\":\"markers\",\"name\":\"KogMaw\",\"orientation\":\"v\",\"showlegend\":true,\"type\":\"scatter\",\"x\":[19193.0],\"xaxis\":\"x\",\"y\":[16986.0],\"yaxis\":\"y\"},{\"hovertemplate\":\"CHAMPIONNAME=Leblanc<br>TOTALDAMAGEDEALTTOCHAMPIONS=%{x}<br>TOTALDAMAGETAKEN=%{y}<extra></extra>\",\"legendgroup\":\"Leblanc\",\"marker\":{\"color\":\"#ab63fa\",\"symbol\":\"circle\"},\"mode\":\"markers\",\"name\":\"Leblanc\",\"orientation\":\"v\",\"showlegend\":true,\"type\":\"scatter\",\"x\":[17751.0],\"xaxis\":\"x\",\"y\":[18759.0],\"yaxis\":\"y\"},{\"hovertemplate\":\"CHAMPIONNAME=LeeSin<br>TOTALDAMAGEDEALTTOCHAMPIONS=%{x}<br>TOTALDAMAGETAKEN=%{y}<extra></extra>\",\"legendgroup\":\"LeeSin\",\"marker\":{\"color\":\"#FFA15A\",\"symbol\":\"circle\"},\"mode\":\"markers\",\"name\":\"LeeSin\",\"orientation\":\"v\",\"showlegend\":true,\"type\":\"scatter\",\"x\":[14408.0],\"xaxis\":\"x\",\"y\":[29580.0],\"yaxis\":\"y\"},{\"hovertemplate\":\"CHAMPIONNAME=Leona<br>TOTALDAMAGEDEALTTOCHAMPIONS=%{x}<br>TOTALDAMAGETAKEN=%{y}<extra></extra>\",\"legendgroup\":\"Leona\",\"marker\":{\"color\":\"#19d3f3\",\"symbol\":\"circle\"},\"mode\":\"markers\",\"name\":\"Leona\",\"orientation\":\"v\",\"showlegend\":true,\"type\":\"scatter\",\"x\":[6082.0],\"xaxis\":\"x\",\"y\":[18185.0],\"yaxis\":\"y\"},{\"hovertemplate\":\"CHAMPIONNAME=Lillia<br>TOTALDAMAGEDEALTTOCHAMPIONS=%{x}<br>TOTALDAMAGETAKEN=%{y}<extra></extra>\",\"legendgroup\":\"Lillia\",\"marker\":{\"color\":\"#FF6692\",\"symbol\":\"circle\"},\"mode\":\"markers\",\"name\":\"Lillia\",\"orientation\":\"v\",\"showlegend\":true,\"type\":\"scatter\",\"x\":[22390.0],\"xaxis\":\"x\",\"y\":[26950.0],\"yaxis\":\"y\"},{\"hovertemplate\":\"CHAMPIONNAME=Lissandra<br>TOTALDAMAGEDEALTTOCHAMPIONS=%{x}<br>TOTALDAMAGETAKEN=%{y}<extra></extra>\",\"legendgroup\":\"Lissandra\",\"marker\":{\"color\":\"#B6E880\",\"symbol\":\"circle\"},\"mode\":\"markers\",\"name\":\"Lissandra\",\"orientation\":\"v\",\"showlegend\":true,\"type\":\"scatter\",\"x\":[16867.0],\"xaxis\":\"x\",\"y\":[19402.0],\"yaxis\":\"y\"},{\"hovertemplate\":\"CHAMPIONNAME=Lucian<br>TOTALDAMAGEDEALTTOCHAMPIONS=%{x}<br>TOTALDAMAGETAKEN=%{y}<extra></extra>\",\"legendgroup\":\"Lucian\",\"marker\":{\"color\":\"#FF97FF\",\"symbol\":\"circle\"},\"mode\":\"markers\",\"name\":\"Lucian\",\"orientation\":\"v\",\"showlegend\":true,\"type\":\"scatter\",\"x\":[18538.0],\"xaxis\":\"x\",\"y\":[18168.0],\"yaxis\":\"y\"},{\"hovertemplate\":\"CHAMPIONNAME=Lulu<br>TOTALDAMAGEDEALTTOCHAMPIONS=%{x}<br>TOTALDAMAGETAKEN=%{y}<extra></extra>\",\"legendgroup\":\"Lulu\",\"marker\":{\"color\":\"#FECB52\",\"symbol\":\"circle\"},\"mode\":\"markers\",\"name\":\"Lulu\",\"orientation\":\"v\",\"showlegend\":true,\"type\":\"scatter\",\"x\":[5544.0],\"xaxis\":\"x\",\"y\":[12455.0],\"yaxis\":\"y\"},{\"hovertemplate\":\"CHAMPIONNAME=Lux<br>TOTALDAMAGEDEALTTOCHAMPIONS=%{x}<br>TOTALDAMAGETAKEN=%{y}<extra></extra>\",\"legendgroup\":\"Lux\",\"marker\":{\"color\":\"#636efa\",\"symbol\":\"circle\"},\"mode\":\"markers\",\"name\":\"Lux\",\"orientation\":\"v\",\"showlegend\":true,\"type\":\"scatter\",\"x\":[16817.0],\"xaxis\":\"x\",\"y\":[12507.0],\"yaxis\":\"y\"},{\"hovertemplate\":\"CHAMPIONNAME=Malphite<br>TOTALDAMAGEDEALTTOCHAMPIONS=%{x}<br>TOTALDAMAGETAKEN=%{y}<extra></extra>\",\"legendgroup\":\"Malphite\",\"marker\":{\"color\":\"#EF553B\",\"symbol\":\"circle\"},\"mode\":\"markers\",\"name\":\"Malphite\",\"orientation\":\"v\",\"showlegend\":true,\"type\":\"scatter\",\"x\":[15966.0],\"xaxis\":\"x\",\"y\":[19262.0],\"yaxis\":\"y\"},{\"hovertemplate\":\"CHAMPIONNAME=Malzahar<br>TOTALDAMAGEDEALTTOCHAMPIONS=%{x}<br>TOTALDAMAGETAKEN=%{y}<extra></extra>\",\"legendgroup\":\"Malzahar\",\"marker\":{\"color\":\"#00cc96\",\"symbol\":\"circle\"},\"mode\":\"markers\",\"name\":\"Malzahar\",\"orientation\":\"v\",\"showlegend\":true,\"type\":\"scatter\",\"x\":[19002.0],\"xaxis\":\"x\",\"y\":[14876.0],\"yaxis\":\"y\"},{\"hovertemplate\":\"CHAMPIONNAME=Maokai<br>TOTALDAMAGEDEALTTOCHAMPIONS=%{x}<br>TOTALDAMAGETAKEN=%{y}<extra></extra>\",\"legendgroup\":\"Maokai\",\"marker\":{\"color\":\"#ab63fa\",\"symbol\":\"circle\"},\"mode\":\"markers\",\"name\":\"Maokai\",\"orientation\":\"v\",\"showlegend\":true,\"type\":\"scatter\",\"x\":[12018.0],\"xaxis\":\"x\",\"y\":[20361.0],\"yaxis\":\"y\"},{\"hovertemplate\":\"CHAMPIONNAME=MasterYi<br>TOTALDAMAGEDEALTTOCHAMPIONS=%{x}<br>TOTALDAMAGETAKEN=%{y}<extra></extra>\",\"legendgroup\":\"MasterYi\",\"marker\":{\"color\":\"#FFA15A\",\"symbol\":\"circle\"},\"mode\":\"markers\",\"name\":\"MasterYi\",\"orientation\":\"v\",\"showlegend\":true,\"type\":\"scatter\",\"x\":[15989.0],\"xaxis\":\"x\",\"y\":[23104.0],\"yaxis\":\"y\"},{\"hovertemplate\":\"CHAMPIONNAME=MissFortune<br>TOTALDAMAGEDEALTTOCHAMPIONS=%{x}<br>TOTALDAMAGETAKEN=%{y}<extra></extra>\",\"legendgroup\":\"MissFortune\",\"marker\":{\"color\":\"#19d3f3\",\"symbol\":\"circle\"},\"mode\":\"markers\",\"name\":\"MissFortune\",\"orientation\":\"v\",\"showlegend\":true,\"type\":\"scatter\",\"x\":[17977.0],\"xaxis\":\"x\",\"y\":[16466.0],\"yaxis\":\"y\"},{\"hovertemplate\":\"CHAMPIONNAME=MonkeyKing<br>TOTALDAMAGEDEALTTOCHAMPIONS=%{x}<br>TOTALDAMAGETAKEN=%{y}<extra></extra>\",\"legendgroup\":\"MonkeyKing\",\"marker\":{\"color\":\"#FF6692\",\"symbol\":\"circle\"},\"mode\":\"markers\",\"name\":\"MonkeyKing\",\"orientation\":\"v\",\"showlegend\":true,\"type\":\"scatter\",\"x\":[16964.0],\"xaxis\":\"x\",\"y\":[26548.0],\"yaxis\":\"y\"},{\"hovertemplate\":\"CHAMPIONNAME=Mordekaiser<br>TOTALDAMAGEDEALTTOCHAMPIONS=%{x}<br>TOTALDAMAGETAKEN=%{y}<extra></extra>\",\"legendgroup\":\"Mordekaiser\",\"marker\":{\"color\":\"#B6E880\",\"symbol\":\"circle\"},\"mode\":\"markers\",\"name\":\"Mordekaiser\",\"orientation\":\"v\",\"showlegend\":true,\"type\":\"scatter\",\"x\":[17391.0],\"xaxis\":\"x\",\"y\":[25211.0],\"yaxis\":\"y\"},{\"hovertemplate\":\"CHAMPIONNAME=Morgana<br>TOTALDAMAGEDEALTTOCHAMPIONS=%{x}<br>TOTALDAMAGETAKEN=%{y}<extra></extra>\",\"legendgroup\":\"Morgana\",\"marker\":{\"color\":\"#FF97FF\",\"symbol\":\"circle\"},\"mode\":\"markers\",\"name\":\"Morgana\",\"orientation\":\"v\",\"showlegend\":true,\"type\":\"scatter\",\"x\":[12461.0],\"xaxis\":\"x\",\"y\":[16742.0],\"yaxis\":\"y\"},{\"hovertemplate\":\"CHAMPIONNAME=Nami<br>TOTALDAMAGEDEALTTOCHAMPIONS=%{x}<br>TOTALDAMAGETAKEN=%{y}<extra></extra>\",\"legendgroup\":\"Nami\",\"marker\":{\"color\":\"#FECB52\",\"symbol\":\"circle\"},\"mode\":\"markers\",\"name\":\"Nami\",\"orientation\":\"v\",\"showlegend\":true,\"type\":\"scatter\",\"x\":[7175.0],\"xaxis\":\"x\",\"y\":[12748.0],\"yaxis\":\"y\"},{\"hovertemplate\":\"CHAMPIONNAME=Nasus<br>TOTALDAMAGEDEALTTOCHAMPIONS=%{x}<br>TOTALDAMAGETAKEN=%{y}<extra></extra>\",\"legendgroup\":\"Nasus\",\"marker\":{\"color\":\"#636efa\",\"symbol\":\"circle\"},\"mode\":\"markers\",\"name\":\"Nasus\",\"orientation\":\"v\",\"showlegend\":true,\"type\":\"scatter\",\"x\":[15809.0],\"xaxis\":\"x\",\"y\":[29243.0],\"yaxis\":\"y\"},{\"hovertemplate\":\"CHAMPIONNAME=Nautilus<br>TOTALDAMAGEDEALTTOCHAMPIONS=%{x}<br>TOTALDAMAGETAKEN=%{y}<extra></extra>\",\"legendgroup\":\"Nautilus\",\"marker\":{\"color\":\"#EF553B\",\"symbol\":\"circle\"},\"mode\":\"markers\",\"name\":\"Nautilus\",\"orientation\":\"v\",\"showlegend\":true,\"type\":\"scatter\",\"x\":[7824.0],\"xaxis\":\"x\",\"y\":[17180.0],\"yaxis\":\"y\"},{\"hovertemplate\":\"CHAMPIONNAME=Neeko<br>TOTALDAMAGEDEALTTOCHAMPIONS=%{x}<br>TOTALDAMAGETAKEN=%{y}<extra></extra>\",\"legendgroup\":\"Neeko\",\"marker\":{\"color\":\"#00cc96\",\"symbol\":\"circle\"},\"mode\":\"markers\",\"name\":\"Neeko\",\"orientation\":\"v\",\"showlegend\":true,\"type\":\"scatter\",\"x\":[15424.0],\"xaxis\":\"x\",\"y\":[17560.0],\"yaxis\":\"y\"},{\"hovertemplate\":\"CHAMPIONNAME=Nidalee<br>TOTALDAMAGEDEALTTOCHAMPIONS=%{x}<br>TOTALDAMAGETAKEN=%{y}<extra></extra>\",\"legendgroup\":\"Nidalee\",\"marker\":{\"color\":\"#ab63fa\",\"symbol\":\"circle\"},\"mode\":\"markers\",\"name\":\"Nidalee\",\"orientation\":\"v\",\"showlegend\":true,\"type\":\"scatter\",\"x\":[16002.0],\"xaxis\":\"x\",\"y\":[26809.0],\"yaxis\":\"y\"},{\"hovertemplate\":\"CHAMPIONNAME=Nocturne<br>TOTALDAMAGEDEALTTOCHAMPIONS=%{x}<br>TOTALDAMAGETAKEN=%{y}<extra></extra>\",\"legendgroup\":\"Nocturne\",\"marker\":{\"color\":\"#FFA15A\",\"symbol\":\"circle\"},\"mode\":\"markers\",\"name\":\"Nocturne\",\"orientation\":\"v\",\"showlegend\":true,\"type\":\"scatter\",\"x\":[14454.0],\"xaxis\":\"x\",\"y\":[26476.0],\"yaxis\":\"y\"},{\"hovertemplate\":\"CHAMPIONNAME=Nunu<br>TOTALDAMAGEDEALTTOCHAMPIONS=%{x}<br>TOTALDAMAGETAKEN=%{y}<extra></extra>\",\"legendgroup\":\"Nunu\",\"marker\":{\"color\":\"#19d3f3\",\"symbol\":\"circle\"},\"mode\":\"markers\",\"name\":\"Nunu\",\"orientation\":\"v\",\"showlegend\":true,\"type\":\"scatter\",\"x\":[14108.0],\"xaxis\":\"x\",\"y\":[28605.0],\"yaxis\":\"y\"},{\"hovertemplate\":\"CHAMPIONNAME=Olaf<br>TOTALDAMAGEDEALTTOCHAMPIONS=%{x}<br>TOTALDAMAGETAKEN=%{y}<extra></extra>\",\"legendgroup\":\"Olaf\",\"marker\":{\"color\":\"#FF6692\",\"symbol\":\"circle\"},\"mode\":\"markers\",\"name\":\"Olaf\",\"orientation\":\"v\",\"showlegend\":true,\"type\":\"scatter\",\"x\":[14694.0],\"xaxis\":\"x\",\"y\":[29095.0],\"yaxis\":\"y\"},{\"hovertemplate\":\"CHAMPIONNAME=Orianna<br>TOTALDAMAGEDEALTTOCHAMPIONS=%{x}<br>TOTALDAMAGETAKEN=%{y}<extra></extra>\",\"legendgroup\":\"Orianna\",\"marker\":{\"color\":\"#B6E880\",\"symbol\":\"circle\"},\"mode\":\"markers\",\"name\":\"Orianna\",\"orientation\":\"v\",\"showlegend\":true,\"type\":\"scatter\",\"x\":[14815.0],\"xaxis\":\"x\",\"y\":[14353.0],\"yaxis\":\"y\"},{\"hovertemplate\":\"CHAMPIONNAME=Ornn<br>TOTALDAMAGEDEALTTOCHAMPIONS=%{x}<br>TOTALDAMAGETAKEN=%{y}<extra></extra>\",\"legendgroup\":\"Ornn\",\"marker\":{\"color\":\"#FF97FF\",\"symbol\":\"circle\"},\"mode\":\"markers\",\"name\":\"Ornn\",\"orientation\":\"v\",\"showlegend\":true,\"type\":\"scatter\",\"x\":[13205.0],\"xaxis\":\"x\",\"y\":[22254.0],\"yaxis\":\"y\"},{\"hovertemplate\":\"CHAMPIONNAME=Pantheon<br>TOTALDAMAGEDEALTTOCHAMPIONS=%{x}<br>TOTALDAMAGETAKEN=%{y}<extra></extra>\",\"legendgroup\":\"Pantheon\",\"marker\":{\"color\":\"#FECB52\",\"symbol\":\"circle\"},\"mode\":\"markers\",\"name\":\"Pantheon\",\"orientation\":\"v\",\"showlegend\":true,\"type\":\"scatter\",\"x\":[16251.0],\"xaxis\":\"x\",\"y\":[21010.0],\"yaxis\":\"y\"},{\"hovertemplate\":\"CHAMPIONNAME=Poppy<br>TOTALDAMAGEDEALTTOCHAMPIONS=%{x}<br>TOTALDAMAGETAKEN=%{y}<extra></extra>\",\"legendgroup\":\"Poppy\",\"marker\":{\"color\":\"#636efa\",\"symbol\":\"circle\"},\"mode\":\"markers\",\"name\":\"Poppy\",\"orientation\":\"v\",\"showlegend\":true,\"type\":\"scatter\",\"x\":[15098.0],\"xaxis\":\"x\",\"y\":[23756.0],\"yaxis\":\"y\"},{\"hovertemplate\":\"CHAMPIONNAME=Pyke<br>TOTALDAMAGEDEALTTOCHAMPIONS=%{x}<br>TOTALDAMAGETAKEN=%{y}<extra></extra>\",\"legendgroup\":\"Pyke\",\"marker\":{\"color\":\"#EF553B\",\"symbol\":\"circle\"},\"mode\":\"markers\",\"name\":\"Pyke\",\"orientation\":\"v\",\"showlegend\":true,\"type\":\"scatter\",\"x\":[9958.0],\"xaxis\":\"x\",\"y\":[17964.0],\"yaxis\":\"y\"},{\"hovertemplate\":\"CHAMPIONNAME=Qiyana<br>TOTALDAMAGEDEALTTOCHAMPIONS=%{x}<br>TOTALDAMAGETAKEN=%{y}<extra></extra>\",\"legendgroup\":\"Qiyana\",\"marker\":{\"color\":\"#00cc96\",\"symbol\":\"circle\"},\"mode\":\"markers\",\"name\":\"Qiyana\",\"orientation\":\"v\",\"showlegend\":true,\"type\":\"scatter\",\"x\":[17234.0],\"xaxis\":\"x\",\"y\":[22116.0],\"yaxis\":\"y\"},{\"hovertemplate\":\"CHAMPIONNAME=Quinn<br>TOTALDAMAGEDEALTTOCHAMPIONS=%{x}<br>TOTALDAMAGETAKEN=%{y}<extra></extra>\",\"legendgroup\":\"Quinn\",\"marker\":{\"color\":\"#ab63fa\",\"symbol\":\"circle\"},\"mode\":\"markers\",\"name\":\"Quinn\",\"orientation\":\"v\",\"showlegend\":true,\"type\":\"scatter\",\"x\":[20686.0],\"xaxis\":\"x\",\"y\":[20788.0],\"yaxis\":\"y\"},{\"hovertemplate\":\"CHAMPIONNAME=Rakan<br>TOTALDAMAGEDEALTTOCHAMPIONS=%{x}<br>TOTALDAMAGETAKEN=%{y}<extra></extra>\",\"legendgroup\":\"Rakan\",\"marker\":{\"color\":\"#FFA15A\",\"symbol\":\"circle\"},\"mode\":\"markers\",\"name\":\"Rakan\",\"orientation\":\"v\",\"showlegend\":true,\"type\":\"scatter\",\"x\":[6085.0],\"xaxis\":\"x\",\"y\":[15058.0],\"yaxis\":\"y\"},{\"hovertemplate\":\"CHAMPIONNAME=Rammus<br>TOTALDAMAGEDEALTTOCHAMPIONS=%{x}<br>TOTALDAMAGETAKEN=%{y}<extra></extra>\",\"legendgroup\":\"Rammus\",\"marker\":{\"color\":\"#19d3f3\",\"symbol\":\"circle\"},\"mode\":\"markers\",\"name\":\"Rammus\",\"orientation\":\"v\",\"showlegend\":true,\"type\":\"scatter\",\"x\":[10872.0],\"xaxis\":\"x\",\"y\":[22935.0],\"yaxis\":\"y\"},{\"hovertemplate\":\"CHAMPIONNAME=RekSai<br>TOTALDAMAGEDEALTTOCHAMPIONS=%{x}<br>TOTALDAMAGETAKEN=%{y}<extra></extra>\",\"legendgroup\":\"RekSai\",\"marker\":{\"color\":\"#FF6692\",\"symbol\":\"circle\"},\"mode\":\"markers\",\"name\":\"RekSai\",\"orientation\":\"v\",\"showlegend\":true,\"type\":\"scatter\",\"x\":[16294.0],\"xaxis\":\"x\",\"y\":[25187.0],\"yaxis\":\"y\"},{\"hovertemplate\":\"CHAMPIONNAME=Rell<br>TOTALDAMAGEDEALTTOCHAMPIONS=%{x}<br>TOTALDAMAGETAKEN=%{y}<extra></extra>\",\"legendgroup\":\"Rell\",\"marker\":{\"color\":\"#B6E880\",\"symbol\":\"circle\"},\"mode\":\"markers\",\"name\":\"Rell\",\"orientation\":\"v\",\"showlegend\":true,\"type\":\"scatter\",\"x\":[6830.0],\"xaxis\":\"x\",\"y\":[16930.0],\"yaxis\":\"y\"},{\"hovertemplate\":\"CHAMPIONNAME=Renekton<br>TOTALDAMAGEDEALTTOCHAMPIONS=%{x}<br>TOTALDAMAGETAKEN=%{y}<extra></extra>\",\"legendgroup\":\"Renekton\",\"marker\":{\"color\":\"#FF97FF\",\"symbol\":\"circle\"},\"mode\":\"markers\",\"name\":\"Renekton\",\"orientation\":\"v\",\"showlegend\":true,\"type\":\"scatter\",\"x\":[16181.0],\"xaxis\":\"x\",\"y\":[30848.0],\"yaxis\":\"y\"},{\"hovertemplate\":\"CHAMPIONNAME=Rengar<br>TOTALDAMAGEDEALTTOCHAMPIONS=%{x}<br>TOTALDAMAGETAKEN=%{y}<extra></extra>\",\"legendgroup\":\"Rengar\",\"marker\":{\"color\":\"#FECB52\",\"symbol\":\"circle\"},\"mode\":\"markers\",\"name\":\"Rengar\",\"orientation\":\"v\",\"showlegend\":true,\"type\":\"scatter\",\"x\":[16817.0],\"xaxis\":\"x\",\"y\":[25827.0],\"yaxis\":\"y\"},{\"hovertemplate\":\"CHAMPIONNAME=Riven<br>TOTALDAMAGEDEALTTOCHAMPIONS=%{x}<br>TOTALDAMAGETAKEN=%{y}<extra></extra>\",\"legendgroup\":\"Riven\",\"marker\":{\"color\":\"#636efa\",\"symbol\":\"circle\"},\"mode\":\"markers\",\"name\":\"Riven\",\"orientation\":\"v\",\"showlegend\":true,\"type\":\"scatter\",\"x\":[17016.0],\"xaxis\":\"x\",\"y\":[26031.0],\"yaxis\":\"y\"},{\"hovertemplate\":\"CHAMPIONNAME=Rumble<br>TOTALDAMAGEDEALTTOCHAMPIONS=%{x}<br>TOTALDAMAGETAKEN=%{y}<extra></extra>\",\"legendgroup\":\"Rumble\",\"marker\":{\"color\":\"#EF553B\",\"symbol\":\"circle\"},\"mode\":\"markers\",\"name\":\"Rumble\",\"orientation\":\"v\",\"showlegend\":true,\"type\":\"scatter\",\"x\":[20026.0],\"xaxis\":\"x\",\"y\":[21048.0],\"yaxis\":\"y\"},{\"hovertemplate\":\"CHAMPIONNAME=Ryze<br>TOTALDAMAGEDEALTTOCHAMPIONS=%{x}<br>TOTALDAMAGETAKEN=%{y}<extra></extra>\",\"legendgroup\":\"Ryze\",\"marker\":{\"color\":\"#00cc96\",\"symbol\":\"circle\"},\"mode\":\"markers\",\"name\":\"Ryze\",\"orientation\":\"v\",\"showlegend\":true,\"type\":\"scatter\",\"x\":[16142.0],\"xaxis\":\"x\",\"y\":[19575.0],\"yaxis\":\"y\"},{\"hovertemplate\":\"CHAMPIONNAME=Samira<br>TOTALDAMAGEDEALTTOCHAMPIONS=%{x}<br>TOTALDAMAGETAKEN=%{y}<extra></extra>\",\"legendgroup\":\"Samira\",\"marker\":{\"color\":\"#ab63fa\",\"symbol\":\"circle\"},\"mode\":\"markers\",\"name\":\"Samira\",\"orientation\":\"v\",\"showlegend\":true,\"type\":\"scatter\",\"x\":[19422.0],\"xaxis\":\"x\",\"y\":[21021.0],\"yaxis\":\"y\"},{\"hovertemplate\":\"CHAMPIONNAME=Sejuani<br>TOTALDAMAGEDEALTTOCHAMPIONS=%{x}<br>TOTALDAMAGETAKEN=%{y}<extra></extra>\",\"legendgroup\":\"Sejuani\",\"marker\":{\"color\":\"#FFA15A\",\"symbol\":\"circle\"},\"mode\":\"markers\",\"name\":\"Sejuani\",\"orientation\":\"v\",\"showlegend\":true,\"type\":\"scatter\",\"x\":[12351.0],\"xaxis\":\"x\",\"y\":[25321.0],\"yaxis\":\"y\"},{\"hovertemplate\":\"CHAMPIONNAME=Senna<br>TOTALDAMAGEDEALTTOCHAMPIONS=%{x}<br>TOTALDAMAGETAKEN=%{y}<extra></extra>\",\"legendgroup\":\"Senna\",\"marker\":{\"color\":\"#19d3f3\",\"symbol\":\"circle\"},\"mode\":\"markers\",\"name\":\"Senna\",\"orientation\":\"v\",\"showlegend\":true,\"type\":\"scatter\",\"x\":[14565.0],\"xaxis\":\"x\",\"y\":[15940.0],\"yaxis\":\"y\"},{\"hovertemplate\":\"CHAMPIONNAME=Seraphine<br>TOTALDAMAGEDEALTTOCHAMPIONS=%{x}<br>TOTALDAMAGETAKEN=%{y}<extra></extra>\",\"legendgroup\":\"Seraphine\",\"marker\":{\"color\":\"#FF6692\",\"symbol\":\"circle\"},\"mode\":\"markers\",\"name\":\"Seraphine\",\"orientation\":\"v\",\"showlegend\":true,\"type\":\"scatter\",\"x\":[10149.0],\"xaxis\":\"x\",\"y\":[14822.0],\"yaxis\":\"y\"},{\"hovertemplate\":\"CHAMPIONNAME=Sett<br>TOTALDAMAGEDEALTTOCHAMPIONS=%{x}<br>TOTALDAMAGETAKEN=%{y}<extra></extra>\",\"legendgroup\":\"Sett\",\"marker\":{\"color\":\"#B6E880\",\"symbol\":\"circle\"},\"mode\":\"markers\",\"name\":\"Sett\",\"orientation\":\"v\",\"showlegend\":true,\"type\":\"scatter\",\"x\":[16124.0],\"xaxis\":\"x\",\"y\":[26949.0],\"yaxis\":\"y\"},{\"hovertemplate\":\"CHAMPIONNAME=Shaco<br>TOTALDAMAGEDEALTTOCHAMPIONS=%{x}<br>TOTALDAMAGETAKEN=%{y}<extra></extra>\",\"legendgroup\":\"Shaco\",\"marker\":{\"color\":\"#FF97FF\",\"symbol\":\"circle\"},\"mode\":\"markers\",\"name\":\"Shaco\",\"orientation\":\"v\",\"showlegend\":true,\"type\":\"scatter\",\"x\":[15973.0],\"xaxis\":\"x\",\"y\":[19973.0],\"yaxis\":\"y\"},{\"hovertemplate\":\"CHAMPIONNAME=Shen<br>TOTALDAMAGEDEALTTOCHAMPIONS=%{x}<br>TOTALDAMAGETAKEN=%{y}<extra></extra>\",\"legendgroup\":\"Shen\",\"marker\":{\"color\":\"#FECB52\",\"symbol\":\"circle\"},\"mode\":\"markers\",\"name\":\"Shen\",\"orientation\":\"v\",\"showlegend\":true,\"type\":\"scatter\",\"x\":[11530.0],\"xaxis\":\"x\",\"y\":[20047.0],\"yaxis\":\"y\"},{\"hovertemplate\":\"CHAMPIONNAME=Shyvana<br>TOTALDAMAGEDEALTTOCHAMPIONS=%{x}<br>TOTALDAMAGETAKEN=%{y}<extra></extra>\",\"legendgroup\":\"Shyvana\",\"marker\":{\"color\":\"#636efa\",\"symbol\":\"circle\"},\"mode\":\"markers\",\"name\":\"Shyvana\",\"orientation\":\"v\",\"showlegend\":true,\"type\":\"scatter\",\"x\":[16773.0],\"xaxis\":\"x\",\"y\":[28276.0],\"yaxis\":\"y\"},{\"hovertemplate\":\"CHAMPIONNAME=Singed<br>TOTALDAMAGEDEALTTOCHAMPIONS=%{x}<br>TOTALDAMAGETAKEN=%{y}<extra></extra>\",\"legendgroup\":\"Singed\",\"marker\":{\"color\":\"#EF553B\",\"symbol\":\"circle\"},\"mode\":\"markers\",\"name\":\"Singed\",\"orientation\":\"v\",\"showlegend\":true,\"type\":\"scatter\",\"x\":[15786.0],\"xaxis\":\"x\",\"y\":[23829.0],\"yaxis\":\"y\"},{\"hovertemplate\":\"CHAMPIONNAME=Sion<br>TOTALDAMAGEDEALTTOCHAMPIONS=%{x}<br>TOTALDAMAGETAKEN=%{y}<extra></extra>\",\"legendgroup\":\"Sion\",\"marker\":{\"color\":\"#00cc96\",\"symbol\":\"circle\"},\"mode\":\"markers\",\"name\":\"Sion\",\"orientation\":\"v\",\"showlegend\":true,\"type\":\"scatter\",\"x\":[15455.0],\"xaxis\":\"x\",\"y\":[29512.0],\"yaxis\":\"y\"},{\"hovertemplate\":\"CHAMPIONNAME=Sivir<br>TOTALDAMAGEDEALTTOCHAMPIONS=%{x}<br>TOTALDAMAGETAKEN=%{y}<extra></extra>\",\"legendgroup\":\"Sivir\",\"marker\":{\"color\":\"#ab63fa\",\"symbol\":\"circle\"},\"mode\":\"markers\",\"name\":\"Sivir\",\"orientation\":\"v\",\"showlegend\":true,\"type\":\"scatter\",\"x\":[19220.0],\"xaxis\":\"x\",\"y\":[16255.0],\"yaxis\":\"y\"},{\"hovertemplate\":\"CHAMPIONNAME=Skarner<br>TOTALDAMAGEDEALTTOCHAMPIONS=%{x}<br>TOTALDAMAGETAKEN=%{y}<extra></extra>\",\"legendgroup\":\"Skarner\",\"marker\":{\"color\":\"#FFA15A\",\"symbol\":\"circle\"},\"mode\":\"markers\",\"name\":\"Skarner\",\"orientation\":\"v\",\"showlegend\":true,\"type\":\"scatter\",\"x\":[11356.0],\"xaxis\":\"x\",\"y\":[20964.0],\"yaxis\":\"y\"},{\"hovertemplate\":\"CHAMPIONNAME=Sona<br>TOTALDAMAGEDEALTTOCHAMPIONS=%{x}<br>TOTALDAMAGETAKEN=%{y}<extra></extra>\",\"legendgroup\":\"Sona\",\"marker\":{\"color\":\"#19d3f3\",\"symbol\":\"circle\"},\"mode\":\"markers\",\"name\":\"Sona\",\"orientation\":\"v\",\"showlegend\":true,\"type\":\"scatter\",\"x\":[10335.0],\"xaxis\":\"x\",\"y\":[14459.0],\"yaxis\":\"y\"},{\"hovertemplate\":\"CHAMPIONNAME=Soraka<br>TOTALDAMAGEDEALTTOCHAMPIONS=%{x}<br>TOTALDAMAGETAKEN=%{y}<extra></extra>\",\"legendgroup\":\"Soraka\",\"marker\":{\"color\":\"#FF6692\",\"symbol\":\"circle\"},\"mode\":\"markers\",\"name\":\"Soraka\",\"orientation\":\"v\",\"showlegend\":true,\"type\":\"scatter\",\"x\":[4988.0],\"xaxis\":\"x\",\"y\":[12296.0],\"yaxis\":\"y\"},{\"hovertemplate\":\"CHAMPIONNAME=Swain<br>TOTALDAMAGEDEALTTOCHAMPIONS=%{x}<br>TOTALDAMAGETAKEN=%{y}<extra></extra>\",\"legendgroup\":\"Swain\",\"marker\":{\"color\":\"#B6E880\",\"symbol\":\"circle\"},\"mode\":\"markers\",\"name\":\"Swain\",\"orientation\":\"v\",\"showlegend\":true,\"type\":\"scatter\",\"x\":[18555.0],\"xaxis\":\"x\",\"y\":[22583.0],\"yaxis\":\"y\"},{\"hovertemplate\":\"CHAMPIONNAME=Sylas<br>TOTALDAMAGEDEALTTOCHAMPIONS=%{x}<br>TOTALDAMAGETAKEN=%{y}<extra></extra>\",\"legendgroup\":\"Sylas\",\"marker\":{\"color\":\"#FF97FF\",\"symbol\":\"circle\"},\"mode\":\"markers\",\"name\":\"Sylas\",\"orientation\":\"v\",\"showlegend\":true,\"type\":\"scatter\",\"x\":[18121.0],\"xaxis\":\"x\",\"y\":[26958.0],\"yaxis\":\"y\"},{\"hovertemplate\":\"CHAMPIONNAME=Syndra<br>TOTALDAMAGEDEALTTOCHAMPIONS=%{x}<br>TOTALDAMAGETAKEN=%{y}<extra></extra>\",\"legendgroup\":\"Syndra\",\"marker\":{\"color\":\"#FECB52\",\"symbol\":\"circle\"},\"mode\":\"markers\",\"name\":\"Syndra\",\"orientation\":\"v\",\"showlegend\":true,\"type\":\"scatter\",\"x\":[18767.0],\"xaxis\":\"x\",\"y\":[15488.0],\"yaxis\":\"y\"},{\"hovertemplate\":\"CHAMPIONNAME=TahmKench<br>TOTALDAMAGEDEALTTOCHAMPIONS=%{x}<br>TOTALDAMAGETAKEN=%{y}<extra></extra>\",\"legendgroup\":\"TahmKench\",\"marker\":{\"color\":\"#636efa\",\"symbol\":\"circle\"},\"mode\":\"markers\",\"name\":\"TahmKench\",\"orientation\":\"v\",\"showlegend\":true,\"type\":\"scatter\",\"x\":[16183.0],\"xaxis\":\"x\",\"y\":[30393.0],\"yaxis\":\"y\"},{\"hovertemplate\":\"CHAMPIONNAME=Taliyah<br>TOTALDAMAGEDEALTTOCHAMPIONS=%{x}<br>TOTALDAMAGETAKEN=%{y}<extra></extra>\",\"legendgroup\":\"Taliyah\",\"marker\":{\"color\":\"#EF553B\",\"symbol\":\"circle\"},\"mode\":\"markers\",\"name\":\"Taliyah\",\"orientation\":\"v\",\"showlegend\":true,\"type\":\"scatter\",\"x\":[20132.0],\"xaxis\":\"x\",\"y\":[22077.0],\"yaxis\":\"y\"},{\"hovertemplate\":\"CHAMPIONNAME=Talon<br>TOTALDAMAGEDEALTTOCHAMPIONS=%{x}<br>TOTALDAMAGETAKEN=%{y}<extra></extra>\",\"legendgroup\":\"Talon\",\"marker\":{\"color\":\"#00cc96\",\"symbol\":\"circle\"},\"mode\":\"markers\",\"name\":\"Talon\",\"orientation\":\"v\",\"showlegend\":true,\"type\":\"scatter\",\"x\":[19747.0],\"xaxis\":\"x\",\"y\":[27844.0],\"yaxis\":\"y\"},{\"hovertemplate\":\"CHAMPIONNAME=Taric<br>TOTALDAMAGEDEALTTOCHAMPIONS=%{x}<br>TOTALDAMAGETAKEN=%{y}<extra></extra>\",\"legendgroup\":\"Taric\",\"marker\":{\"color\":\"#ab63fa\",\"symbol\":\"circle\"},\"mode\":\"markers\",\"name\":\"Taric\",\"orientation\":\"v\",\"showlegend\":true,\"type\":\"scatter\",\"x\":[4954.0],\"xaxis\":\"x\",\"y\":[19246.0],\"yaxis\":\"y\"},{\"hovertemplate\":\"CHAMPIONNAME=Teemo<br>TOTALDAMAGEDEALTTOCHAMPIONS=%{x}<br>TOTALDAMAGETAKEN=%{y}<extra></extra>\",\"legendgroup\":\"Teemo\",\"marker\":{\"color\":\"#FFA15A\",\"symbol\":\"circle\"},\"mode\":\"markers\",\"name\":\"Teemo\",\"orientation\":\"v\",\"showlegend\":true,\"type\":\"scatter\",\"x\":[21582.0],\"xaxis\":\"x\",\"y\":[19311.0],\"yaxis\":\"y\"},{\"hovertemplate\":\"CHAMPIONNAME=Thresh<br>TOTALDAMAGEDEALTTOCHAMPIONS=%{x}<br>TOTALDAMAGETAKEN=%{y}<extra></extra>\",\"legendgroup\":\"Thresh\",\"marker\":{\"color\":\"#19d3f3\",\"symbol\":\"circle\"},\"mode\":\"markers\",\"name\":\"Thresh\",\"orientation\":\"v\",\"showlegend\":true,\"type\":\"scatter\",\"x\":[6028.0],\"xaxis\":\"x\",\"y\":[16584.0],\"yaxis\":\"y\"},{\"hovertemplate\":\"CHAMPIONNAME=Tristana<br>TOTALDAMAGEDEALTTOCHAMPIONS=%{x}<br>TOTALDAMAGETAKEN=%{y}<extra></extra>\",\"legendgroup\":\"Tristana\",\"marker\":{\"color\":\"#FF6692\",\"symbol\":\"circle\"},\"mode\":\"markers\",\"name\":\"Tristana\",\"orientation\":\"v\",\"showlegend\":true,\"type\":\"scatter\",\"x\":[19888.0],\"xaxis\":\"x\",\"y\":[18526.0],\"yaxis\":\"y\"},{\"hovertemplate\":\"CHAMPIONNAME=Trundle<br>TOTALDAMAGEDEALTTOCHAMPIONS=%{x}<br>TOTALDAMAGETAKEN=%{y}<extra></extra>\",\"legendgroup\":\"Trundle\",\"marker\":{\"color\":\"#B6E880\",\"symbol\":\"circle\"},\"mode\":\"markers\",\"name\":\"Trundle\",\"orientation\":\"v\",\"showlegend\":true,\"type\":\"scatter\",\"x\":[13009.0],\"xaxis\":\"x\",\"y\":[28142.0],\"yaxis\":\"y\"},{\"hovertemplate\":\"CHAMPIONNAME=Tryndamere<br>TOTALDAMAGEDEALTTOCHAMPIONS=%{x}<br>TOTALDAMAGETAKEN=%{y}<extra></extra>\",\"legendgroup\":\"Tryndamere\",\"marker\":{\"color\":\"#FF97FF\",\"symbol\":\"circle\"},\"mode\":\"markers\",\"name\":\"Tryndamere\",\"orientation\":\"v\",\"showlegend\":true,\"type\":\"scatter\",\"x\":[14432.0],\"xaxis\":\"x\",\"y\":[27760.0],\"yaxis\":\"y\"},{\"hovertemplate\":\"CHAMPIONNAME=TwistedFate<br>TOTALDAMAGEDEALTTOCHAMPIONS=%{x}<br>TOTALDAMAGETAKEN=%{y}<extra></extra>\",\"legendgroup\":\"TwistedFate\",\"marker\":{\"color\":\"#FECB52\",\"symbol\":\"circle\"},\"mode\":\"markers\",\"name\":\"TwistedFate\",\"orientation\":\"v\",\"showlegend\":true,\"type\":\"scatter\",\"x\":[14392.0],\"xaxis\":\"x\",\"y\":[19214.0],\"yaxis\":\"y\"},{\"hovertemplate\":\"CHAMPIONNAME=Twitch<br>TOTALDAMAGEDEALTTOCHAMPIONS=%{x}<br>TOTALDAMAGETAKEN=%{y}<extra></extra>\",\"legendgroup\":\"Twitch\",\"marker\":{\"color\":\"#636efa\",\"symbol\":\"circle\"},\"mode\":\"markers\",\"name\":\"Twitch\",\"orientation\":\"v\",\"showlegend\":true,\"type\":\"scatter\",\"x\":[19353.0],\"xaxis\":\"x\",\"y\":[18905.0],\"yaxis\":\"y\"},{\"hovertemplate\":\"CHAMPIONNAME=Udyr<br>TOTALDAMAGEDEALTTOCHAMPIONS=%{x}<br>TOTALDAMAGETAKEN=%{y}<extra></extra>\",\"legendgroup\":\"Udyr\",\"marker\":{\"color\":\"#EF553B\",\"symbol\":\"circle\"},\"mode\":\"markers\",\"name\":\"Udyr\",\"orientation\":\"v\",\"showlegend\":true,\"type\":\"scatter\",\"x\":[11913.0],\"xaxis\":\"x\",\"y\":[29387.0],\"yaxis\":\"y\"},{\"hovertemplate\":\"CHAMPIONNAME=Urgot<br>TOTALDAMAGEDEALTTOCHAMPIONS=%{x}<br>TOTALDAMAGETAKEN=%{y}<extra></extra>\",\"legendgroup\":\"Urgot\",\"marker\":{\"color\":\"#00cc96\",\"symbol\":\"circle\"},\"mode\":\"markers\",\"name\":\"Urgot\",\"orientation\":\"v\",\"showlegend\":true,\"type\":\"scatter\",\"x\":[17497.0],\"xaxis\":\"x\",\"y\":[23504.0],\"yaxis\":\"y\"},{\"hovertemplate\":\"CHAMPIONNAME=Varus<br>TOTALDAMAGEDEALTTOCHAMPIONS=%{x}<br>TOTALDAMAGETAKEN=%{y}<extra></extra>\",\"legendgroup\":\"Varus\",\"marker\":{\"color\":\"#ab63fa\",\"symbol\":\"circle\"},\"mode\":\"markers\",\"name\":\"Varus\",\"orientation\":\"v\",\"showlegend\":true,\"type\":\"scatter\",\"x\":[19627.0],\"xaxis\":\"x\",\"y\":[17740.0],\"yaxis\":\"y\"},{\"hovertemplate\":\"CHAMPIONNAME=Vayne<br>TOTALDAMAGEDEALTTOCHAMPIONS=%{x}<br>TOTALDAMAGETAKEN=%{y}<extra></extra>\",\"legendgroup\":\"Vayne\",\"marker\":{\"color\":\"#FFA15A\",\"symbol\":\"circle\"},\"mode\":\"markers\",\"name\":\"Vayne\",\"orientation\":\"v\",\"showlegend\":true,\"type\":\"scatter\",\"x\":[17515.0],\"xaxis\":\"x\",\"y\":[19246.0],\"yaxis\":\"y\"},{\"hovertemplate\":\"CHAMPIONNAME=Veigar<br>TOTALDAMAGEDEALTTOCHAMPIONS=%{x}<br>TOTALDAMAGETAKEN=%{y}<extra></extra>\",\"legendgroup\":\"Veigar\",\"marker\":{\"color\":\"#19d3f3\",\"symbol\":\"circle\"},\"mode\":\"markers\",\"name\":\"Veigar\",\"orientation\":\"v\",\"showlegend\":true,\"type\":\"scatter\",\"x\":[17274.0],\"xaxis\":\"x\",\"y\":[16131.0],\"yaxis\":\"y\"},{\"hovertemplate\":\"CHAMPIONNAME=Velkoz<br>TOTALDAMAGEDEALTTOCHAMPIONS=%{x}<br>TOTALDAMAGETAKEN=%{y}<extra></extra>\",\"legendgroup\":\"Velkoz\",\"marker\":{\"color\":\"#FF6692\",\"symbol\":\"circle\"},\"mode\":\"markers\",\"name\":\"Velkoz\",\"orientation\":\"v\",\"showlegend\":true,\"type\":\"scatter\",\"x\":[21014.0],\"xaxis\":\"x\",\"y\":[14794.0],\"yaxis\":\"y\"},{\"hovertemplate\":\"CHAMPIONNAME=Vex<br>TOTALDAMAGEDEALTTOCHAMPIONS=%{x}<br>TOTALDAMAGETAKEN=%{y}<extra></extra>\",\"legendgroup\":\"Vex\",\"marker\":{\"color\":\"#B6E880\",\"symbol\":\"circle\"},\"mode\":\"markers\",\"name\":\"Vex\",\"orientation\":\"v\",\"showlegend\":true,\"type\":\"scatter\",\"x\":[20575.0],\"xaxis\":\"x\",\"y\":[16052.0],\"yaxis\":\"y\"},{\"hovertemplate\":\"CHAMPIONNAME=Vi<br>TOTALDAMAGEDEALTTOCHAMPIONS=%{x}<br>TOTALDAMAGETAKEN=%{y}<extra></extra>\",\"legendgroup\":\"Vi\",\"marker\":{\"color\":\"#FF97FF\",\"symbol\":\"circle\"},\"mode\":\"markers\",\"name\":\"Vi\",\"orientation\":\"v\",\"showlegend\":true,\"type\":\"scatter\",\"x\":[14204.0],\"xaxis\":\"x\",\"y\":[22454.0],\"yaxis\":\"y\"},{\"hovertemplate\":\"CHAMPIONNAME=Viego<br>TOTALDAMAGEDEALTTOCHAMPIONS=%{x}<br>TOTALDAMAGETAKEN=%{y}<extra></extra>\",\"legendgroup\":\"Viego\",\"marker\":{\"color\":\"#FECB52\",\"symbol\":\"circle\"},\"mode\":\"markers\",\"name\":\"Viego\",\"orientation\":\"v\",\"showlegend\":true,\"type\":\"scatter\",\"x\":[16600.0],\"xaxis\":\"x\",\"y\":[29199.0],\"yaxis\":\"y\"},{\"hovertemplate\":\"CHAMPIONNAME=Viktor<br>TOTALDAMAGEDEALTTOCHAMPIONS=%{x}<br>TOTALDAMAGETAKEN=%{y}<extra></extra>\",\"legendgroup\":\"Viktor\",\"marker\":{\"color\":\"#636efa\",\"symbol\":\"circle\"},\"mode\":\"markers\",\"name\":\"Viktor\",\"orientation\":\"v\",\"showlegend\":true,\"type\":\"scatter\",\"x\":[19859.0],\"xaxis\":\"x\",\"y\":[13825.0],\"yaxis\":\"y\"},{\"hovertemplate\":\"CHAMPIONNAME=Vladimir<br>TOTALDAMAGEDEALTTOCHAMPIONS=%{x}<br>TOTALDAMAGETAKEN=%{y}<extra></extra>\",\"legendgroup\":\"Vladimir\",\"marker\":{\"color\":\"#EF553B\",\"symbol\":\"circle\"},\"mode\":\"markers\",\"name\":\"Vladimir\",\"orientation\":\"v\",\"showlegend\":true,\"type\":\"scatter\",\"x\":[17399.0],\"xaxis\":\"x\",\"y\":[21886.0],\"yaxis\":\"y\"},{\"hovertemplate\":\"CHAMPIONNAME=Volibear<br>TOTALDAMAGEDEALTTOCHAMPIONS=%{x}<br>TOTALDAMAGETAKEN=%{y}<extra></extra>\",\"legendgroup\":\"Volibear\",\"marker\":{\"color\":\"#00cc96\",\"symbol\":\"circle\"},\"mode\":\"markers\",\"name\":\"Volibear\",\"orientation\":\"v\",\"showlegend\":true,\"type\":\"scatter\",\"x\":[16374.0],\"xaxis\":\"x\",\"y\":[28207.0],\"yaxis\":\"y\"},{\"hovertemplate\":\"CHAMPIONNAME=Warwick<br>TOTALDAMAGEDEALTTOCHAMPIONS=%{x}<br>TOTALDAMAGETAKEN=%{y}<extra></extra>\",\"legendgroup\":\"Warwick\",\"marker\":{\"color\":\"#ab63fa\",\"symbol\":\"circle\"},\"mode\":\"markers\",\"name\":\"Warwick\",\"orientation\":\"v\",\"showlegend\":true,\"type\":\"scatter\",\"x\":[14438.0],\"xaxis\":\"x\",\"y\":[30337.0],\"yaxis\":\"y\"},{\"hovertemplate\":\"CHAMPIONNAME=Xayah<br>TOTALDAMAGEDEALTTOCHAMPIONS=%{x}<br>TOTALDAMAGETAKEN=%{y}<extra></extra>\",\"legendgroup\":\"Xayah\",\"marker\":{\"color\":\"#FFA15A\",\"symbol\":\"circle\"},\"mode\":\"markers\",\"name\":\"Xayah\",\"orientation\":\"v\",\"showlegend\":true,\"type\":\"scatter\",\"x\":[19274.0],\"xaxis\":\"x\",\"y\":[15933.0],\"yaxis\":\"y\"},{\"hovertemplate\":\"CHAMPIONNAME=Xerath<br>TOTALDAMAGEDEALTTOCHAMPIONS=%{x}<br>TOTALDAMAGETAKEN=%{y}<extra></extra>\",\"legendgroup\":\"Xerath\",\"marker\":{\"color\":\"#19d3f3\",\"symbol\":\"circle\"},\"mode\":\"markers\",\"name\":\"Xerath\",\"orientation\":\"v\",\"showlegend\":true,\"type\":\"scatter\",\"x\":[20820.0],\"xaxis\":\"x\",\"y\":[13014.0],\"yaxis\":\"y\"},{\"hovertemplate\":\"CHAMPIONNAME=XinZhao<br>TOTALDAMAGEDEALTTOCHAMPIONS=%{x}<br>TOTALDAMAGETAKEN=%{y}<extra></extra>\",\"legendgroup\":\"XinZhao\",\"marker\":{\"color\":\"#FF6692\",\"symbol\":\"circle\"},\"mode\":\"markers\",\"name\":\"XinZhao\",\"orientation\":\"v\",\"showlegend\":true,\"type\":\"scatter\",\"x\":[15478.0],\"xaxis\":\"x\",\"y\":[30307.0],\"yaxis\":\"y\"},{\"hovertemplate\":\"CHAMPIONNAME=Yasuo<br>TOTALDAMAGEDEALTTOCHAMPIONS=%{x}<br>TOTALDAMAGETAKEN=%{y}<extra></extra>\",\"legendgroup\":\"Yasuo\",\"marker\":{\"color\":\"#B6E880\",\"symbol\":\"circle\"},\"mode\":\"markers\",\"name\":\"Yasuo\",\"orientation\":\"v\",\"showlegend\":true,\"type\":\"scatter\",\"x\":[15893.0],\"xaxis\":\"x\",\"y\":[20638.0],\"yaxis\":\"y\"},{\"hovertemplate\":\"CHAMPIONNAME=Yone<br>TOTALDAMAGEDEALTTOCHAMPIONS=%{x}<br>TOTALDAMAGETAKEN=%{y}<extra></extra>\",\"legendgroup\":\"Yone\",\"marker\":{\"color\":\"#FF97FF\",\"symbol\":\"circle\"},\"mode\":\"markers\",\"name\":\"Yone\",\"orientation\":\"v\",\"showlegend\":true,\"type\":\"scatter\",\"x\":[17648.0],\"xaxis\":\"x\",\"y\":[21499.0],\"yaxis\":\"y\"},{\"hovertemplate\":\"CHAMPIONNAME=Yorick<br>TOTALDAMAGEDEALTTOCHAMPIONS=%{x}<br>TOTALDAMAGETAKEN=%{y}<extra></extra>\",\"legendgroup\":\"Yorick\",\"marker\":{\"color\":\"#FECB52\",\"symbol\":\"circle\"},\"mode\":\"markers\",\"name\":\"Yorick\",\"orientation\":\"v\",\"showlegend\":true,\"type\":\"scatter\",\"x\":[16768.0],\"xaxis\":\"x\",\"y\":[23647.0],\"yaxis\":\"y\"},{\"hovertemplate\":\"CHAMPIONNAME=Yuumi<br>TOTALDAMAGEDEALTTOCHAMPIONS=%{x}<br>TOTALDAMAGETAKEN=%{y}<extra></extra>\",\"legendgroup\":\"Yuumi\",\"marker\":{\"color\":\"#636efa\",\"symbol\":\"circle\"},\"mode\":\"markers\",\"name\":\"Yuumi\",\"orientation\":\"v\",\"showlegend\":true,\"type\":\"scatter\",\"x\":[9237.0],\"xaxis\":\"x\",\"y\":[8152.0],\"yaxis\":\"y\"},{\"hovertemplate\":\"CHAMPIONNAME=Zac<br>TOTALDAMAGEDEALTTOCHAMPIONS=%{x}<br>TOTALDAMAGETAKEN=%{y}<extra></extra>\",\"legendgroup\":\"Zac\",\"marker\":{\"color\":\"#EF553B\",\"symbol\":\"circle\"},\"mode\":\"markers\",\"name\":\"Zac\",\"orientation\":\"v\",\"showlegend\":true,\"type\":\"scatter\",\"x\":[13751.0],\"xaxis\":\"x\",\"y\":[30387.0],\"yaxis\":\"y\"},{\"hovertemplate\":\"CHAMPIONNAME=Zed<br>TOTALDAMAGEDEALTTOCHAMPIONS=%{x}<br>TOTALDAMAGETAKEN=%{y}<extra></extra>\",\"legendgroup\":\"Zed\",\"marker\":{\"color\":\"#00cc96\",\"symbol\":\"circle\"},\"mode\":\"markers\",\"name\":\"Zed\",\"orientation\":\"v\",\"showlegend\":true,\"type\":\"scatter\",\"x\":[21409.0],\"xaxis\":\"x\",\"y\":[20881.0],\"yaxis\":\"y\"},{\"hovertemplate\":\"CHAMPIONNAME=Ziggs<br>TOTALDAMAGEDEALTTOCHAMPIONS=%{x}<br>TOTALDAMAGETAKEN=%{y}<extra></extra>\",\"legendgroup\":\"Ziggs\",\"marker\":{\"color\":\"#ab63fa\",\"symbol\":\"circle\"},\"mode\":\"markers\",\"name\":\"Ziggs\",\"orientation\":\"v\",\"showlegend\":true,\"type\":\"scatter\",\"x\":[23121.0],\"xaxis\":\"x\",\"y\":[15025.0],\"yaxis\":\"y\"},{\"hovertemplate\":\"CHAMPIONNAME=Zilean<br>TOTALDAMAGEDEALTTOCHAMPIONS=%{x}<br>TOTALDAMAGETAKEN=%{y}<extra></extra>\",\"legendgroup\":\"Zilean\",\"marker\":{\"color\":\"#FFA15A\",\"symbol\":\"circle\"},\"mode\":\"markers\",\"name\":\"Zilean\",\"orientation\":\"v\",\"showlegend\":true,\"type\":\"scatter\",\"x\":[8842.0],\"xaxis\":\"x\",\"y\":[15039.0],\"yaxis\":\"y\"},{\"hovertemplate\":\"CHAMPIONNAME=Zoe<br>TOTALDAMAGEDEALTTOCHAMPIONS=%{x}<br>TOTALDAMAGETAKEN=%{y}<extra></extra>\",\"legendgroup\":\"Zoe\",\"marker\":{\"color\":\"#19d3f3\",\"symbol\":\"circle\"},\"mode\":\"markers\",\"name\":\"Zoe\",\"orientation\":\"v\",\"showlegend\":true,\"type\":\"scatter\",\"x\":[19456.0],\"xaxis\":\"x\",\"y\":[17125.0],\"yaxis\":\"y\"},{\"hovertemplate\":\"CHAMPIONNAME=Zyra<br>TOTALDAMAGEDEALTTOCHAMPIONS=%{x}<br>TOTALDAMAGETAKEN=%{y}<extra></extra>\",\"legendgroup\":\"Zyra\",\"marker\":{\"color\":\"#FF6692\",\"symbol\":\"circle\"},\"mode\":\"markers\",\"name\":\"Zyra\",\"orientation\":\"v\",\"showlegend\":true,\"type\":\"scatter\",\"x\":[18294.0],\"xaxis\":\"x\",\"y\":[13603.0],\"yaxis\":\"y\"}],                        {\"legend\":{\"title\":{\"text\":\"CHAMPIONNAME\"},\"tracegroupgap\":0},\"margin\":{\"t\":60},\"template\":{\"data\":{\"bar\":[{\"error_x\":{\"color\":\"#2a3f5f\"},\"error_y\":{\"color\":\"#2a3f5f\"},\"marker\":{\"line\":{\"color\":\"#E5ECF6\",\"width\":0.5},\"pattern\":{\"fillmode\":\"overlay\",\"size\":10,\"solidity\":0.2}},\"type\":\"bar\"}],\"barpolar\":[{\"marker\":{\"line\":{\"color\":\"#E5ECF6\",\"width\":0.5},\"pattern\":{\"fillmode\":\"overlay\",\"size\":10,\"solidity\":0.2}},\"type\":\"barpolar\"}],\"carpet\":[{\"aaxis\":{\"endlinecolor\":\"#2a3f5f\",\"gridcolor\":\"white\",\"linecolor\":\"white\",\"minorgridcolor\":\"white\",\"startlinecolor\":\"#2a3f5f\"},\"baxis\":{\"endlinecolor\":\"#2a3f5f\",\"gridcolor\":\"white\",\"linecolor\":\"white\",\"minorgridcolor\":\"white\",\"startlinecolor\":\"#2a3f5f\"},\"type\":\"carpet\"}],\"choropleth\":[{\"colorbar\":{\"outlinewidth\":0,\"ticks\":\"\"},\"type\":\"choropleth\"}],\"contour\":[{\"colorbar\":{\"outlinewidth\":0,\"ticks\":\"\"},\"colorscale\":[[0.0,\"#0d0887\"],[0.1111111111111111,\"#46039f\"],[0.2222222222222222,\"#7201a8\"],[0.3333333333333333,\"#9c179e\"],[0.4444444444444444,\"#bd3786\"],[0.5555555555555556,\"#d8576b\"],[0.6666666666666666,\"#ed7953\"],[0.7777777777777778,\"#fb9f3a\"],[0.8888888888888888,\"#fdca26\"],[1.0,\"#f0f921\"]],\"type\":\"contour\"}],\"contourcarpet\":[{\"colorbar\":{\"outlinewidth\":0,\"ticks\":\"\"},\"type\":\"contourcarpet\"}],\"heatmap\":[{\"colorbar\":{\"outlinewidth\":0,\"ticks\":\"\"},\"colorscale\":[[0.0,\"#0d0887\"],[0.1111111111111111,\"#46039f\"],[0.2222222222222222,\"#7201a8\"],[0.3333333333333333,\"#9c179e\"],[0.4444444444444444,\"#bd3786\"],[0.5555555555555556,\"#d8576b\"],[0.6666666666666666,\"#ed7953\"],[0.7777777777777778,\"#fb9f3a\"],[0.8888888888888888,\"#fdca26\"],[1.0,\"#f0f921\"]],\"type\":\"heatmap\"}],\"heatmapgl\":[{\"colorbar\":{\"outlinewidth\":0,\"ticks\":\"\"},\"colorscale\":[[0.0,\"#0d0887\"],[0.1111111111111111,\"#46039f\"],[0.2222222222222222,\"#7201a8\"],[0.3333333333333333,\"#9c179e\"],[0.4444444444444444,\"#bd3786\"],[0.5555555555555556,\"#d8576b\"],[0.6666666666666666,\"#ed7953\"],[0.7777777777777778,\"#fb9f3a\"],[0.8888888888888888,\"#fdca26\"],[1.0,\"#f0f921\"]],\"type\":\"heatmapgl\"}],\"histogram\":[{\"marker\":{\"pattern\":{\"fillmode\":\"overlay\",\"size\":10,\"solidity\":0.2}},\"type\":\"histogram\"}],\"histogram2d\":[{\"colorbar\":{\"outlinewidth\":0,\"ticks\":\"\"},\"colorscale\":[[0.0,\"#0d0887\"],[0.1111111111111111,\"#46039f\"],[0.2222222222222222,\"#7201a8\"],[0.3333333333333333,\"#9c179e\"],[0.4444444444444444,\"#bd3786\"],[0.5555555555555556,\"#d8576b\"],[0.6666666666666666,\"#ed7953\"],[0.7777777777777778,\"#fb9f3a\"],[0.8888888888888888,\"#fdca26\"],[1.0,\"#f0f921\"]],\"type\":\"histogram2d\"}],\"histogram2dcontour\":[{\"colorbar\":{\"outlinewidth\":0,\"ticks\":\"\"},\"colorscale\":[[0.0,\"#0d0887\"],[0.1111111111111111,\"#46039f\"],[0.2222222222222222,\"#7201a8\"],[0.3333333333333333,\"#9c179e\"],[0.4444444444444444,\"#bd3786\"],[0.5555555555555556,\"#d8576b\"],[0.6666666666666666,\"#ed7953\"],[0.7777777777777778,\"#fb9f3a\"],[0.8888888888888888,\"#fdca26\"],[1.0,\"#f0f921\"]],\"type\":\"histogram2dcontour\"}],\"mesh3d\":[{\"colorbar\":{\"outlinewidth\":0,\"ticks\":\"\"},\"type\":\"mesh3d\"}],\"parcoords\":[{\"line\":{\"colorbar\":{\"outlinewidth\":0,\"ticks\":\"\"}},\"type\":\"parcoords\"}],\"pie\":[{\"automargin\":true,\"type\":\"pie\"}],\"scatter\":[{\"marker\":{\"colorbar\":{\"outlinewidth\":0,\"ticks\":\"\"}},\"type\":\"scatter\"}],\"scatter3d\":[{\"line\":{\"colorbar\":{\"outlinewidth\":0,\"ticks\":\"\"}},\"marker\":{\"colorbar\":{\"outlinewidth\":0,\"ticks\":\"\"}},\"type\":\"scatter3d\"}],\"scattercarpet\":[{\"marker\":{\"colorbar\":{\"outlinewidth\":0,\"ticks\":\"\"}},\"type\":\"scattercarpet\"}],\"scattergeo\":[{\"marker\":{\"colorbar\":{\"outlinewidth\":0,\"ticks\":\"\"}},\"type\":\"scattergeo\"}],\"scattergl\":[{\"marker\":{\"colorbar\":{\"outlinewidth\":0,\"ticks\":\"\"}},\"type\":\"scattergl\"}],\"scattermapbox\":[{\"marker\":{\"colorbar\":{\"outlinewidth\":0,\"ticks\":\"\"}},\"type\":\"scattermapbox\"}],\"scatterpolar\":[{\"marker\":{\"colorbar\":{\"outlinewidth\":0,\"ticks\":\"\"}},\"type\":\"scatterpolar\"}],\"scatterpolargl\":[{\"marker\":{\"colorbar\":{\"outlinewidth\":0,\"ticks\":\"\"}},\"type\":\"scatterpolargl\"}],\"scatterternary\":[{\"marker\":{\"colorbar\":{\"outlinewidth\":0,\"ticks\":\"\"}},\"type\":\"scatterternary\"}],\"surface\":[{\"colorbar\":{\"outlinewidth\":0,\"ticks\":\"\"},\"colorscale\":[[0.0,\"#0d0887\"],[0.1111111111111111,\"#46039f\"],[0.2222222222222222,\"#7201a8\"],[0.3333333333333333,\"#9c179e\"],[0.4444444444444444,\"#bd3786\"],[0.5555555555555556,\"#d8576b\"],[0.6666666666666666,\"#ed7953\"],[0.7777777777777778,\"#fb9f3a\"],[0.8888888888888888,\"#fdca26\"],[1.0,\"#f0f921\"]],\"type\":\"surface\"}],\"table\":[{\"cells\":{\"fill\":{\"color\":\"#EBF0F8\"},\"line\":{\"color\":\"white\"}},\"header\":{\"fill\":{\"color\":\"#C8D4E3\"},\"line\":{\"color\":\"white\"}},\"type\":\"table\"}]},\"layout\":{\"annotationdefaults\":{\"arrowcolor\":\"#2a3f5f\",\"arrowhead\":0,\"arrowwidth\":1},\"autotypenumbers\":\"strict\",\"coloraxis\":{\"colorbar\":{\"outlinewidth\":0,\"ticks\":\"\"}},\"colorscale\":{\"diverging\":[[0,\"#8e0152\"],[0.1,\"#c51b7d\"],[0.2,\"#de77ae\"],[0.3,\"#f1b6da\"],[0.4,\"#fde0ef\"],[0.5,\"#f7f7f7\"],[0.6,\"#e6f5d0\"],[0.7,\"#b8e186\"],[0.8,\"#7fbc41\"],[0.9,\"#4d9221\"],[1,\"#276419\"]],\"sequential\":[[0.0,\"#0d0887\"],[0.1111111111111111,\"#46039f\"],[0.2222222222222222,\"#7201a8\"],[0.3333333333333333,\"#9c179e\"],[0.4444444444444444,\"#bd3786\"],[0.5555555555555556,\"#d8576b\"],[0.6666666666666666,\"#ed7953\"],[0.7777777777777778,\"#fb9f3a\"],[0.8888888888888888,\"#fdca26\"],[1.0,\"#f0f921\"]],\"sequentialminus\":[[0.0,\"#0d0887\"],[0.1111111111111111,\"#46039f\"],[0.2222222222222222,\"#7201a8\"],[0.3333333333333333,\"#9c179e\"],[0.4444444444444444,\"#bd3786\"],[0.5555555555555556,\"#d8576b\"],[0.6666666666666666,\"#ed7953\"],[0.7777777777777778,\"#fb9f3a\"],[0.8888888888888888,\"#fdca26\"],[1.0,\"#f0f921\"]]},\"colorway\":[\"#636efa\",\"#EF553B\",\"#00cc96\",\"#ab63fa\",\"#FFA15A\",\"#19d3f3\",\"#FF6692\",\"#B6E880\",\"#FF97FF\",\"#FECB52\"],\"font\":{\"color\":\"#2a3f5f\"},\"geo\":{\"bgcolor\":\"white\",\"lakecolor\":\"white\",\"landcolor\":\"#E5ECF6\",\"showlakes\":true,\"showland\":true,\"subunitcolor\":\"white\"},\"hoverlabel\":{\"align\":\"left\"},\"hovermode\":\"closest\",\"mapbox\":{\"style\":\"light\"},\"paper_bgcolor\":\"white\",\"plot_bgcolor\":\"#E5ECF6\",\"polar\":{\"angularaxis\":{\"gridcolor\":\"white\",\"linecolor\":\"white\",\"ticks\":\"\"},\"bgcolor\":\"#E5ECF6\",\"radialaxis\":{\"gridcolor\":\"white\",\"linecolor\":\"white\",\"ticks\":\"\"}},\"scene\":{\"xaxis\":{\"backgroundcolor\":\"#E5ECF6\",\"gridcolor\":\"white\",\"gridwidth\":2,\"linecolor\":\"white\",\"showbackground\":true,\"ticks\":\"\",\"zerolinecolor\":\"white\"},\"yaxis\":{\"backgroundcolor\":\"#E5ECF6\",\"gridcolor\":\"white\",\"gridwidth\":2,\"linecolor\":\"white\",\"showbackground\":true,\"ticks\":\"\",\"zerolinecolor\":\"white\"},\"zaxis\":{\"backgroundcolor\":\"#E5ECF6\",\"gridcolor\":\"white\",\"gridwidth\":2,\"linecolor\":\"white\",\"showbackground\":true,\"ticks\":\"\",\"zerolinecolor\":\"white\"}},\"shapedefaults\":{\"line\":{\"color\":\"#2a3f5f\"}},\"ternary\":{\"aaxis\":{\"gridcolor\":\"white\",\"linecolor\":\"white\",\"ticks\":\"\"},\"baxis\":{\"gridcolor\":\"white\",\"linecolor\":\"white\",\"ticks\":\"\"},\"bgcolor\":\"#E5ECF6\",\"caxis\":{\"gridcolor\":\"white\",\"linecolor\":\"white\",\"ticks\":\"\"}},\"title\":{\"x\":0.05},\"xaxis\":{\"automargin\":true,\"gridcolor\":\"white\",\"linecolor\":\"white\",\"ticks\":\"\",\"title\":{\"standoff\":15},\"zerolinecolor\":\"white\",\"zerolinewidth\":2},\"yaxis\":{\"automargin\":true,\"gridcolor\":\"white\",\"linecolor\":\"white\",\"ticks\":\"\",\"title\":{\"standoff\":15},\"zerolinecolor\":\"white\",\"zerolinewidth\":2}}},\"xaxis\":{\"anchor\":\"y\",\"domain\":[0.0,1.0],\"title\":{\"text\":\"TOTALDAMAGEDEALTTOCHAMPIONS\"}},\"yaxis\":{\"anchor\":\"x\",\"domain\":[0.0,1.0],\"title\":{\"text\":\"TOTALDAMAGETAKEN\"}}},                        {\"responsive\": true}                    ).then(function(){\n",
       "                            \n",
       "var gd = document.getElementById('e85bdb35-051d-4143-8874-f0f5bfb7eb8e');\n",
       "var x = new MutationObserver(function (mutations, observer) {{\n",
       "        var display = window.getComputedStyle(gd).display;\n",
       "        if (!display || display === 'none') {{\n",
       "            console.log([gd, 'removed!']);\n",
       "            Plotly.purge(gd);\n",
       "            observer.disconnect();\n",
       "        }}\n",
       "}});\n",
       "\n",
       "// Listen for the removal of the full notebook cells\n",
       "var notebookContainer = gd.closest('#notebook-container');\n",
       "if (notebookContainer) {{\n",
       "    x.observe(notebookContainer, {childList: true});\n",
       "}}\n",
       "\n",
       "// Listen for the clearing of the current output cell\n",
       "var outputEl = gd.closest('.output');\n",
       "if (outputEl) {{\n",
       "    x.observe(outputEl, {childList: true});\n",
       "}}\n",
       "\n",
       "                        })                };                });            </script>        </div>"
      ]
     },
     "metadata": {},
     "output_type": "display_data"
    }
   ],
   "source": [
    "fig = px.scatter(my_df,\n",
    "                x='TOTALDAMAGEDEALTTOCHAMPIONS',\n",
    "                y='TOTALDAMAGETAKEN',\n",
    "                color='CHAMPIONNAME')\n",
    "plotly.offline.iplot(fig)"
   ]
  },
  {
   "cell_type": "code",
   "execution_count": null,
   "metadata": {},
   "outputs": [],
   "source": []
  },
  {
   "cell_type": "code",
   "execution_count": null,
   "metadata": {},
   "outputs": [],
   "source": []
  },
  {
   "cell_type": "code",
   "execution_count": null,
   "metadata": {},
   "outputs": [],
   "source": []
  }
 ],
 "metadata": {
  "kernelspec": {
   "display_name": "Python 3",
   "language": "python",
   "name": "python3"
  },
  "language_info": {
   "codemirror_mode": {
    "name": "ipython",
    "version": 3
   },
   "file_extension": ".py",
   "mimetype": "text/x-python",
   "name": "python",
   "nbconvert_exporter": "python",
   "pygments_lexer": "ipython3",
   "version": "3.7.6"
  }
 },
 "nbformat": 4,
 "nbformat_minor": 5
}
