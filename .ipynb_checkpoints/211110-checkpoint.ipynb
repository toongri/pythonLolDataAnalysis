{
 "cells": [
  {
   "cell_type": "code",
   "execution_count": 1,
   "metadata": {},
   "outputs": [],
   "source": [
    "from random import sample\n",
    "import random\n",
    "from tqdm import tqdm\n",
    "import my_utils as mu\n",
    "import pandas as pd\n",
    "import requests\n",
    "tqdm.pandas()"
   ]
  },
  {
   "cell_type": "markdown",
   "metadata": {},
   "source": [
    "- gold 구간\n",
    "- 첫 df gameId, match, timeline"
   ]
  },
  {
   "cell_type": "code",
   "execution_count": 6,
   "metadata": {},
   "outputs": [],
   "source": [
    "tier_lst = ['I','II','III','IV']"
   ]
  },
  {
   "cell_type": "code",
   "execution_count": 7,
   "metadata": {},
   "outputs": [
    {
     "name": "stderr",
     "output_type": "stream",
     "text": [
      "100%|████████████████████████████████████████████████████████████████████████████████████| 4/4 [00:01<00:00,  3.15it/s]\n"
     ]
    }
   ],
   "source": [
    "lst = []\n",
    "p = random.randrange(1,10)\n",
    "for t in tqdm(tier_lst):\n",
    "    url='https://kr.api.riotgames.com/lol/league/v4/entries/RANKED_SOLO_5x5/GOLD/'+t+'?page='+str(p)+'&api_key='+mu.riot_api_key\n",
    "    res=requests.get(url).json()\n",
    "    lst = lst+sample(res, 5)"
   ]
  },
  {
   "cell_type": "code",
   "execution_count": 10,
   "metadata": {},
   "outputs": [
    {
     "data": {
      "text/plain": [
       "20"
      ]
     },
     "execution_count": 10,
     "metadata": {},
     "output_type": "execute_result"
    }
   ],
   "source": [
    "len(lst)"
   ]
  },
  {
   "cell_type": "code",
   "execution_count": 11,
   "metadata": {
    "scrolled": true
   },
   "outputs": [
    {
     "data": {
      "text/plain": [
       "['망겜판독전문가',\n",
       " 'SeoByeol',\n",
       " '영제이콥',\n",
       " '카멜은 맛나',\n",
       " '롤잘하는정모',\n",
       " 'fio라',\n",
       " 'Unup',\n",
       " '사우디알았디야',\n",
       " '방사능사',\n",
       " '변태떡장수',\n",
       " '말파이트개똥챔',\n",
       " 'woodsgate',\n",
       " 'fast deal',\n",
       " '까까은',\n",
       " '와샌쥬',\n",
       " '빠방쓰',\n",
       " '자기가훨씬이쁘지',\n",
       " 'bccbcb',\n",
       " '롤 TIP 차단기능',\n",
       " '이렐5스택 조심해']"
      ]
     },
     "execution_count": 11,
     "metadata": {},
     "output_type": "execute_result"
    }
   ],
   "source": [
    "summonerName_lst = list(map(lambda x: x['summonerName'], lst))\n",
    "summonerName_lst"
   ]
  },
  {
   "cell_type": "code",
   "execution_count": 12,
   "metadata": {},
   "outputs": [
    {
     "name": "stderr",
     "output_type": "stream",
     "text": [
      "100%|██████████████████████████████████████████████████████████████████████████████████| 20/20 [00:05<00:00,  3.97it/s]\n"
     ]
    }
   ],
   "source": [
    "puuid_lst = []\n",
    "for n in tqdm(summonerName_lst):\n",
    "    try:\n",
    "        puuid_lst.append(mu.get_puuid(n))\n",
    "    except:\n",
    "        continue"
   ]
  },
  {
   "cell_type": "code",
   "execution_count": 13,
   "metadata": {},
   "outputs": [
    {
     "data": {
      "text/plain": [
       "20"
      ]
     },
     "execution_count": 13,
     "metadata": {},
     "output_type": "execute_result"
    }
   ],
   "source": [
    "len(puuid_lst)"
   ]
  },
  {
   "cell_type": "code",
   "execution_count": 22,
   "metadata": {},
   "outputs": [
    {
     "name": "stderr",
     "output_type": "stream",
     "text": [
      "100%|██████████████████████████████████████████████████████████████████████████████████| 20/20 [00:04<00:00,  4.13it/s]\n"
     ]
    }
   ],
   "source": [
    "matchId_lst = []\n",
    "for p in tqdm(puuid_lst):\n",
    "    matchId_lst = matchId_lst + mu.get_matchId(p, 2)"
   ]
  },
  {
   "cell_type": "code",
   "execution_count": 23,
   "metadata": {},
   "outputs": [
    {
     "data": {
      "text/plain": [
       "40"
      ]
     },
     "execution_count": 23,
     "metadata": {},
     "output_type": "execute_result"
    }
   ],
   "source": [
    "len(matchId_lst)"
   ]
  },
  {
   "cell_type": "code",
   "execution_count": 16,
   "metadata": {},
   "outputs": [],
   "source": [
    "import time"
   ]
  },
  {
   "cell_type": "code",
   "execution_count": 23,
   "metadata": {},
   "outputs": [
    {
     "name": "stdout",
     "output_type": "stream",
     "text": [
      "test\n"
     ]
    }
   ],
   "source": [
    "time.sleep(5)\n",
    "print('test')"
   ]
  },
  {
   "cell_type": "code",
   "execution_count": 24,
   "metadata": {},
   "outputs": [
    {
     "name": "stderr",
     "output_type": "stream",
     "text": [
      "100%|██████████████████████████████████████████████████████████████████████████████████| 40/40 [00:30<00:00,  1.32it/s]\n"
     ]
    }
   ],
   "source": [
    "tmp = []\n",
    "for m_id in tqdm(matchId_lst):\n",
    "    tmp_lst = []\n",
    "    tmp_lst.append(m_id)\n",
    "    matches, timelines = mu.get_matches_timelines(m_id)\n",
    "    tmp_lst.append(matches)\n",
    "    tmp_lst.append(timelines)\n",
    "    tmp.append(tmp_lst)"
   ]
  },
  {
   "cell_type": "code",
   "execution_count": 25,
   "metadata": {},
   "outputs": [
    {
     "data": {
      "text/plain": [
       "40"
      ]
     },
     "execution_count": 25,
     "metadata": {},
     "output_type": "execute_result"
    }
   ],
   "source": [
    "len(tmp)"
   ]
  },
  {
   "cell_type": "code",
   "execution_count": 26,
   "metadata": {},
   "outputs": [
    {
     "data": {
      "text/html": [
       "<div>\n",
       "<style scoped>\n",
       "    .dataframe tbody tr th:only-of-type {\n",
       "        vertical-align: middle;\n",
       "    }\n",
       "\n",
       "    .dataframe tbody tr th {\n",
       "        vertical-align: top;\n",
       "    }\n",
       "\n",
       "    .dataframe thead th {\n",
       "        text-align: right;\n",
       "    }\n",
       "</style>\n",
       "<table border=\"1\" class=\"dataframe\">\n",
       "  <thead>\n",
       "    <tr style=\"text-align: right;\">\n",
       "      <th></th>\n",
       "      <th>gameId</th>\n",
       "      <th>match</th>\n",
       "      <th>timeline</th>\n",
       "    </tr>\n",
       "  </thead>\n",
       "  <tbody>\n",
       "    <tr>\n",
       "      <th>0</th>\n",
       "      <td>KR_5423615051</td>\n",
       "      <td>{'metadata': {'dataVersion': '2', 'matchId': '...</td>\n",
       "      <td>{'metadata': {'dataVersion': '2', 'matchId': '...</td>\n",
       "    </tr>\n",
       "    <tr>\n",
       "      <th>1</th>\n",
       "      <td>KR_5423662270</td>\n",
       "      <td>{'metadata': {'dataVersion': '2', 'matchId': '...</td>\n",
       "      <td>{'metadata': {'dataVersion': '2', 'matchId': '...</td>\n",
       "    </tr>\n",
       "    <tr>\n",
       "      <th>2</th>\n",
       "      <td>KR_5556981373</td>\n",
       "      <td>{'metadata': {'dataVersion': '2', 'matchId': '...</td>\n",
       "      <td>{'metadata': {'dataVersion': '2', 'matchId': '...</td>\n",
       "    </tr>\n",
       "    <tr>\n",
       "      <th>3</th>\n",
       "      <td>KR_5556846693</td>\n",
       "      <td>{'metadata': {'dataVersion': '2', 'matchId': '...</td>\n",
       "      <td>{'metadata': {'dataVersion': '2', 'matchId': '...</td>\n",
       "    </tr>\n",
       "    <tr>\n",
       "      <th>4</th>\n",
       "      <td>KR_5552169197</td>\n",
       "      <td>{'metadata': {'dataVersion': '2', 'matchId': '...</td>\n",
       "      <td>{'metadata': {'dataVersion': '2', 'matchId': '...</td>\n",
       "    </tr>\n",
       "  </tbody>\n",
       "</table>\n",
       "</div>"
      ],
      "text/plain": [
       "          gameId                                              match  \\\n",
       "0  KR_5423615051  {'metadata': {'dataVersion': '2', 'matchId': '...   \n",
       "1  KR_5423662270  {'metadata': {'dataVersion': '2', 'matchId': '...   \n",
       "2  KR_5556981373  {'metadata': {'dataVersion': '2', 'matchId': '...   \n",
       "3  KR_5556846693  {'metadata': {'dataVersion': '2', 'matchId': '...   \n",
       "4  KR_5552169197  {'metadata': {'dataVersion': '2', 'matchId': '...   \n",
       "\n",
       "                                            timeline  \n",
       "0  {'metadata': {'dataVersion': '2', 'matchId': '...  \n",
       "1  {'metadata': {'dataVersion': '2', 'matchId': '...  \n",
       "2  {'metadata': {'dataVersion': '2', 'matchId': '...  \n",
       "3  {'metadata': {'dataVersion': '2', 'matchId': '...  \n",
       "4  {'metadata': {'dataVersion': '2', 'matchId': '...  "
      ]
     },
     "execution_count": 26,
     "metadata": {},
     "output_type": "execute_result"
    }
   ],
   "source": [
    "df = pd.DataFrame(tmp, columns = ['gameId','match','timeline'])\n",
    "df.head()"
   ]
  },
  {
   "cell_type": "markdown",
   "metadata": {},
   "source": [
    "## 데이터 수집 함수화\n",
    "- 1) gameId, match, timeline 으로 구성된 원시데이터 df 만드는 함수 (인자값으로 티어 ex.gold silver )\n",
    "- 2) 원시데이터 df를 input 넣어서 output으로 match_df, timeline_df (인자값이 원시데이터 df)\n",
    "- match_df ['gameId','gameDuration','gameVersion','summonerName','summonerLevel','participantId','championName',\n",
    "  'champExperience','teamPosition','teamId','win','kills','deaths','assists',\n",
    "  'totalDamageDealtToChampions','totalDamageTaken']\n",
    "- timeline_df ['gameId','participantId','g5','g6' ~ 'g25']\n",
    "- 3) db에 insert (인자값이 전처리를 진행한 match_df, timeline_df)\n",
    "- match_pk, timeline_pk = gameId, participantId\n",
    "- insert 하기전에 dataframe 중복제거\n",
    "- match_df, timeline_df 컬럼값 임의로 추천해드린것 - 추후 프로젝트에 개인적으로 필요한 데이터가 있을시 추가해서 수집 가능"
   ]
  },
  {
   "cell_type": "code",
   "execution_count": 2,
   "metadata": {},
   "outputs": [],
   "source": [
    "riot_api_key = 'RGAPI-3456a4da-0b9d-408f-a245-ab099eba3ab3'"
   ]
  },
  {
   "cell_type": "code",
   "execution_count": 3,
   "metadata": {},
   "outputs": [],
   "source": [
    "def get_rawData(tier):\n",
    "    tier_lst = ['I','II','III','IV']\n",
    "    lst = []\n",
    "    p = random.randrange(1,10)\n",
    "    \n",
    "    # riot api\n",
    "    for t in tqdm(tier_lst):\n",
    "        url='https://kr.api.riotgames.com/lol/league/v4/entries/RANKED_SOLO_5x5/'+tier+'/'+t+'?page='+str(p)+'&api_key='+riot_api_key\n",
    "        res = requests.get(url).json()\n",
    "        lst = lst+sample(res, 5)\n",
    "    \n",
    "    # summonerName\n",
    "    print('get summonerName...')\n",
    "    summonerName_lst = list(map(lambda x: x['summonerName'], lst))\n",
    "    \n",
    "    # puuid\n",
    "    print('get puuid...')\n",
    "    puuid_lst = []\n",
    "    for n in tqdm(summonerName_lst):\n",
    "        try:\n",
    "            puuid_lst.append(mu.get_puuid(n))\n",
    "        except:\n",
    "            continue\n",
    "            \n",
    "    # matchId\n",
    "    print('get matchId...')\n",
    "    matchId_lst = []\n",
    "    for p in tqdm(puuid_lst):\n",
    "        matchId_lst = matchId_lst+mu.get_matchId(p, 2)\n",
    "        \n",
    "    # match, timeline\n",
    "    print('get match & timeline...')\n",
    "    tmp = []\n",
    "    for m_id in tqdm(matchId_lst):\n",
    "        tmp_lst = []\n",
    "        tmp_lst.append(m_id)\n",
    "        matches, timelines = mu.get_matches_timelines(m_id)\n",
    "        tmp_lst.append(matches)\n",
    "        tmp_lst.append(timelines)\n",
    "        tmp.append(tmp_lst)\n",
    "    \n",
    "    df = pd.DataFrame(tmp, columns = ['gameId','match','timeline'])\n",
    "    print('complete!')\n",
    "    return df"
   ]
  },
  {
   "cell_type": "code",
   "execution_count": 4,
   "metadata": {},
   "outputs": [
    {
     "name": "stderr",
     "output_type": "stream",
     "text": [
      "100%|████████████████████████████████████████████████████████████████████████████████████| 4/4 [00:01<00:00,  2.67it/s]\n"
     ]
    },
    {
     "name": "stdout",
     "output_type": "stream",
     "text": [
      "get summonerName...\n",
      "get puuid...\n"
     ]
    },
    {
     "name": "stderr",
     "output_type": "stream",
     "text": [
      "100%|██████████████████████████████████████████████████████████████████████████████████| 20/20 [00:05<00:00,  3.95it/s]\n"
     ]
    },
    {
     "name": "stdout",
     "output_type": "stream",
     "text": [
      "get matchId...\n"
     ]
    },
    {
     "name": "stderr",
     "output_type": "stream",
     "text": [
      "100%|██████████████████████████████████████████████████████████████████████████████████| 20/20 [00:04<00:00,  4.29it/s]\n"
     ]
    },
    {
     "name": "stdout",
     "output_type": "stream",
     "text": [
      "get match & timeline...\n"
     ]
    },
    {
     "name": "stderr",
     "output_type": "stream",
     "text": [
      "100%|██████████████████████████████████████████████████████████████████████████████████| 40/40 [00:33<00:00,  1.19it/s]"
     ]
    },
    {
     "name": "stdout",
     "output_type": "stream",
     "text": [
      "complete!\n"
     ]
    },
    {
     "name": "stderr",
     "output_type": "stream",
     "text": [
      "\n"
     ]
    }
   ],
   "source": [
    "tier = 'GOLD'\n",
    "raw_data = get_rawData(tier)"
   ]
  },
  {
   "cell_type": "code",
   "execution_count": 7,
   "metadata": {},
   "outputs": [
    {
     "data": {
      "text/plain": [
       "'CLASSIC'"
      ]
     },
     "execution_count": 7,
     "metadata": {},
     "output_type": "execute_result"
    }
   ],
   "source": [
    "raw_data.iloc[0].match['info']['gameMode']"
   ]
  },
  {
   "cell_type": "code",
   "execution_count": null,
   "metadata": {},
   "outputs": [],
   "source": []
  },
  {
   "cell_type": "code",
   "execution_count": 10,
   "metadata": {},
   "outputs": [],
   "source": [
    "def get_match_timeline_df(df):\n",
    "    print('get matches & timelines...')\n",
    "    match_lst = []\n",
    "    timeline_lst = []\n",
    "    for i in tqdm(range(len(df))):\n",
    "        if df.iloc[i].match['info']['gameMode'] == 'CLASSIC':\n",
    "            # matches\n",
    "            for j in range(10):\n",
    "                tmp = []\n",
    "                tmp.append(df.iloc[i].gameId)\n",
    "                tmp.append(df.iloc[i].match['info']['gameDuration'])\n",
    "                tmp.append(df.iloc[i].match['info']['gameVersion'])\n",
    "                tmp.append(df.iloc[i].match['info']['participants'][j]['summonerName'])\n",
    "                tmp.append(df.iloc[i].match['info']['participants'][j]['summonerLevel'])\n",
    "                tmp.append(df.iloc[i].match['info']['participants'][j]['participantId'])\n",
    "                tmp.append(df.iloc[i].match['info']['participants'][j]['championName'])\n",
    "                tmp.append(df.iloc[i].match['info']['participants'][j]['champExperience'])\n",
    "                tmp.append(df.iloc[i].match['info']['participants'][j]['teamPosition'])\n",
    "                tmp.append(df.iloc[i].match['info']['participants'][j]['teamId'])\n",
    "                tmp.append(df.iloc[i].match['info']['participants'][j]['win'])\n",
    "                tmp.append(df.iloc[i].match['info']['participants'][j]['kills'])\n",
    "                tmp.append(df.iloc[i].match['info']['participants'][j]['deaths'])\n",
    "                tmp.append(df.iloc[i].match['info']['participants'][j]['assists'])\n",
    "                tmp.append(df.iloc[i].match['info']['participants'][j]['totalDamageDealtToChampions'])\n",
    "                tmp.append(df.iloc[i].match['info']['participants'][j]['totalDamageTaken'])\n",
    "                match_lst.append(tmp)\n",
    "                \n",
    "            # timelines\n",
    "            for j in range(1, 11):\n",
    "                tmp = []\n",
    "                tmp.append(df.iloc[i].gameId)\n",
    "                tmp.append(df.iloc[i].timeline['info']['frames'][0]['participantFrames'][str(j)]['participantId'])\n",
    "                for k in range(5, 26):\n",
    "                    try:\n",
    "                        tmp.append(df.iloc[i].timeline['info']['frames'][k]['participantFrames'][str(j)]['totalGold'])\n",
    "                    except:\n",
    "                        tmp.append(0)\n",
    "                timeline_lst.append(tmp)\n",
    "            \n",
    "    col = ['gameId','gameDuration','gameVersion','summonerName','summonerLevel','participantId','championName','champExperience',\n",
    "           'teamPosition','teamId','win','kills','deaths','assists','totalDamageDealtToChampions','totalDamageTaken']\n",
    "    m_df = pd.DataFrame(match_lst, columns=col).drop_duplicates()\n",
    "\n",
    "    col = ['gameId','participantId','g_5','g_6','g_7','g_8','g_9','g_10','g_11','g_12','g_13','g_14','g_15','g_16','g_17',\n",
    "           'g_18','g_19','g_20','g_21','g_22','g_23','g_24','g_25']\n",
    "    t_df = pd.DataFrame(timeline_lst, columns=col).drop_duplicates()\n",
    "    \n",
    "    print('match_df length: ',len(m_df))\n",
    "    print('timeline_df length: ',len(t_df))\n",
    "    print('complete!')\n",
    "    return m_df, t_df"
   ]
  },
  {
   "cell_type": "code",
   "execution_count": 11,
   "metadata": {},
   "outputs": [
    {
     "name": "stdout",
     "output_type": "stream",
     "text": [
      "get matches & timelines...\n"
     ]
    },
    {
     "name": "stderr",
     "output_type": "stream",
     "text": [
      "100%|██████████████████████████████████████████████████████████████████████████████████| 40/40 [00:00<00:00, 53.80it/s]"
     ]
    },
    {
     "name": "stdout",
     "output_type": "stream",
     "text": [
      "match_df length:  280\n",
      "timeline_df length:  280\n",
      "complete!\n"
     ]
    },
    {
     "name": "stderr",
     "output_type": "stream",
     "text": [
      "\n"
     ]
    }
   ],
   "source": [
    "match_df, timeline_df = get_match_timeline_df(raw_data)"
   ]
  },
  {
   "cell_type": "code",
   "execution_count": 23,
   "metadata": {},
   "outputs": [
    {
     "data": {
      "text/html": [
       "<div>\n",
       "<style scoped>\n",
       "    .dataframe tbody tr th:only-of-type {\n",
       "        vertical-align: middle;\n",
       "    }\n",
       "\n",
       "    .dataframe tbody tr th {\n",
       "        vertical-align: top;\n",
       "    }\n",
       "\n",
       "    .dataframe thead th {\n",
       "        text-align: right;\n",
       "    }\n",
       "</style>\n",
       "<table border=\"1\" class=\"dataframe\">\n",
       "  <thead>\n",
       "    <tr style=\"text-align: right;\">\n",
       "      <th></th>\n",
       "      <th>gameId</th>\n",
       "      <th>gameDuration</th>\n",
       "      <th>gameVersion</th>\n",
       "      <th>gameMode</th>\n",
       "      <th>gameType</th>\n",
       "      <th>summonerName</th>\n",
       "      <th>summonerLevel</th>\n",
       "      <th>participantId</th>\n",
       "      <th>championName</th>\n",
       "      <th>champExperience</th>\n",
       "      <th>teamPosition</th>\n",
       "      <th>teamId</th>\n",
       "      <th>win</th>\n",
       "      <th>kills</th>\n",
       "      <th>deaths</th>\n",
       "      <th>assists</th>\n",
       "      <th>totalDamageDealtToChampions</th>\n",
       "      <th>totalDamageTaken</th>\n",
       "    </tr>\n",
       "  </thead>\n",
       "  <tbody>\n",
       "    <tr>\n",
       "      <th>0</th>\n",
       "      <td>KR_5567648453</td>\n",
       "      <td>1071</td>\n",
       "      <td>11.22.406.3587</td>\n",
       "      <td>CLASSIC</td>\n",
       "      <td>MATCHED_GAME</td>\n",
       "      <td>숭2내따까리</td>\n",
       "      <td>199</td>\n",
       "      <td>1</td>\n",
       "      <td>Camille</td>\n",
       "      <td>8066</td>\n",
       "      <td>TOP</td>\n",
       "      <td>100</td>\n",
       "      <td>False</td>\n",
       "      <td>2</td>\n",
       "      <td>3</td>\n",
       "      <td>0</td>\n",
       "      <td>4084</td>\n",
       "      <td>7598</td>\n",
       "    </tr>\n",
       "    <tr>\n",
       "      <th>1</th>\n",
       "      <td>KR_5567648453</td>\n",
       "      <td>1071</td>\n",
       "      <td>11.22.406.3587</td>\n",
       "      <td>CLASSIC</td>\n",
       "      <td>MATCHED_GAME</td>\n",
       "      <td>regretz</td>\n",
       "      <td>175</td>\n",
       "      <td>2</td>\n",
       "      <td>Lillia</td>\n",
       "      <td>3380</td>\n",
       "      <td>JUNGLE</td>\n",
       "      <td>100</td>\n",
       "      <td>False</td>\n",
       "      <td>1</td>\n",
       "      <td>6</td>\n",
       "      <td>1</td>\n",
       "      <td>2773</td>\n",
       "      <td>11522</td>\n",
       "    </tr>\n",
       "    <tr>\n",
       "      <th>2</th>\n",
       "      <td>KR_5567648453</td>\n",
       "      <td>1071</td>\n",
       "      <td>11.22.406.3587</td>\n",
       "      <td>CLASSIC</td>\n",
       "      <td>MATCHED_GAME</td>\n",
       "      <td>JSTG</td>\n",
       "      <td>102</td>\n",
       "      <td>3</td>\n",
       "      <td>Illaoi</td>\n",
       "      <td>7754</td>\n",
       "      <td>MIDDLE</td>\n",
       "      <td>100</td>\n",
       "      <td>False</td>\n",
       "      <td>1</td>\n",
       "      <td>4</td>\n",
       "      <td>1</td>\n",
       "      <td>5795</td>\n",
       "      <td>12221</td>\n",
       "    </tr>\n",
       "    <tr>\n",
       "      <th>3</th>\n",
       "      <td>KR_5567648453</td>\n",
       "      <td>1071</td>\n",
       "      <td>11.22.406.3587</td>\n",
       "      <td>CLASSIC</td>\n",
       "      <td>MATCHED_GAME</td>\n",
       "      <td>kddddd</td>\n",
       "      <td>241</td>\n",
       "      <td>4</td>\n",
       "      <td>Aphelios</td>\n",
       "      <td>3938</td>\n",
       "      <td>BOTTOM</td>\n",
       "      <td>100</td>\n",
       "      <td>False</td>\n",
       "      <td>0</td>\n",
       "      <td>4</td>\n",
       "      <td>1</td>\n",
       "      <td>4720</td>\n",
       "      <td>5066</td>\n",
       "    </tr>\n",
       "    <tr>\n",
       "      <th>4</th>\n",
       "      <td>KR_5567648453</td>\n",
       "      <td>1071</td>\n",
       "      <td>11.22.406.3587</td>\n",
       "      <td>CLASSIC</td>\n",
       "      <td>MATCHED_GAME</td>\n",
       "      <td>개못하느사람</td>\n",
       "      <td>69</td>\n",
       "      <td>5</td>\n",
       "      <td>Morgana</td>\n",
       "      <td>4801</td>\n",
       "      <td>UTILITY</td>\n",
       "      <td>100</td>\n",
       "      <td>False</td>\n",
       "      <td>1</td>\n",
       "      <td>3</td>\n",
       "      <td>0</td>\n",
       "      <td>3307</td>\n",
       "      <td>4305</td>\n",
       "    </tr>\n",
       "    <tr>\n",
       "      <th>...</th>\n",
       "      <td>...</td>\n",
       "      <td>...</td>\n",
       "      <td>...</td>\n",
       "      <td>...</td>\n",
       "      <td>...</td>\n",
       "      <td>...</td>\n",
       "      <td>...</td>\n",
       "      <td>...</td>\n",
       "      <td>...</td>\n",
       "      <td>...</td>\n",
       "      <td>...</td>\n",
       "      <td>...</td>\n",
       "      <td>...</td>\n",
       "      <td>...</td>\n",
       "      <td>...</td>\n",
       "      <td>...</td>\n",
       "      <td>...</td>\n",
       "      <td>...</td>\n",
       "    </tr>\n",
       "    <tr>\n",
       "      <th>375</th>\n",
       "      <td>KR_5361768903</td>\n",
       "      <td>1546918</td>\n",
       "      <td>11.15.389.2308</td>\n",
       "      <td>CLASSIC</td>\n",
       "      <td>MATCHED_GAME</td>\n",
       "      <td>Xenonic01</td>\n",
       "      <td>39</td>\n",
       "      <td>6</td>\n",
       "      <td>Karma</td>\n",
       "      <td>13180</td>\n",
       "      <td>TOP</td>\n",
       "      <td>200</td>\n",
       "      <td>True</td>\n",
       "      <td>6</td>\n",
       "      <td>4</td>\n",
       "      <td>7</td>\n",
       "      <td>20026</td>\n",
       "      <td>25865</td>\n",
       "    </tr>\n",
       "    <tr>\n",
       "      <th>376</th>\n",
       "      <td>KR_5361768903</td>\n",
       "      <td>1546918</td>\n",
       "      <td>11.15.389.2308</td>\n",
       "      <td>CLASSIC</td>\n",
       "      <td>MATCHED_GAME</td>\n",
       "      <td>갱값분석가</td>\n",
       "      <td>31</td>\n",
       "      <td>7</td>\n",
       "      <td>XinZhao</td>\n",
       "      <td>12357</td>\n",
       "      <td>JUNGLE</td>\n",
       "      <td>200</td>\n",
       "      <td>True</td>\n",
       "      <td>8</td>\n",
       "      <td>0</td>\n",
       "      <td>3</td>\n",
       "      <td>9559</td>\n",
       "      <td>23652</td>\n",
       "    </tr>\n",
       "    <tr>\n",
       "      <th>377</th>\n",
       "      <td>KR_5361768903</td>\n",
       "      <td>1546918</td>\n",
       "      <td>11.15.389.2308</td>\n",
       "      <td>CLASSIC</td>\n",
       "      <td>MATCHED_GAME</td>\n",
       "      <td>무기력한 송준희</td>\n",
       "      <td>95</td>\n",
       "      <td>8</td>\n",
       "      <td>Fizz</td>\n",
       "      <td>12906</td>\n",
       "      <td>MIDDLE</td>\n",
       "      <td>200</td>\n",
       "      <td>True</td>\n",
       "      <td>5</td>\n",
       "      <td>6</td>\n",
       "      <td>5</td>\n",
       "      <td>23063</td>\n",
       "      <td>19064</td>\n",
       "    </tr>\n",
       "    <tr>\n",
       "      <th>378</th>\n",
       "      <td>KR_5361768903</td>\n",
       "      <td>1546918</td>\n",
       "      <td>11.15.389.2308</td>\n",
       "      <td>CLASSIC</td>\n",
       "      <td>MATCHED_GAME</td>\n",
       "      <td>Gen G Ruler fan7</td>\n",
       "      <td>33</td>\n",
       "      <td>9</td>\n",
       "      <td>Vayne</td>\n",
       "      <td>9665</td>\n",
       "      <td>BOTTOM</td>\n",
       "      <td>200</td>\n",
       "      <td>True</td>\n",
       "      <td>2</td>\n",
       "      <td>3</td>\n",
       "      <td>3</td>\n",
       "      <td>6353</td>\n",
       "      <td>13487</td>\n",
       "    </tr>\n",
       "    <tr>\n",
       "      <th>379</th>\n",
       "      <td>KR_5361768903</td>\n",
       "      <td>1546918</td>\n",
       "      <td>11.15.389.2308</td>\n",
       "      <td>CLASSIC</td>\n",
       "      <td>MATCHED_GAME</td>\n",
       "      <td>촉촉한돈까스</td>\n",
       "      <td>113</td>\n",
       "      <td>10</td>\n",
       "      <td>Blitzcrank</td>\n",
       "      <td>9299</td>\n",
       "      <td>UTILITY</td>\n",
       "      <td>200</td>\n",
       "      <td>True</td>\n",
       "      <td>1</td>\n",
       "      <td>2</td>\n",
       "      <td>9</td>\n",
       "      <td>6809</td>\n",
       "      <td>14219</td>\n",
       "    </tr>\n",
       "  </tbody>\n",
       "</table>\n",
       "<p>380 rows × 18 columns</p>\n",
       "</div>"
      ],
      "text/plain": [
       "            gameId  gameDuration     gameVersion gameMode      gameType  \\\n",
       "0    KR_5567648453          1071  11.22.406.3587  CLASSIC  MATCHED_GAME   \n",
       "1    KR_5567648453          1071  11.22.406.3587  CLASSIC  MATCHED_GAME   \n",
       "2    KR_5567648453          1071  11.22.406.3587  CLASSIC  MATCHED_GAME   \n",
       "3    KR_5567648453          1071  11.22.406.3587  CLASSIC  MATCHED_GAME   \n",
       "4    KR_5567648453          1071  11.22.406.3587  CLASSIC  MATCHED_GAME   \n",
       "..             ...           ...             ...      ...           ...   \n",
       "375  KR_5361768903       1546918  11.15.389.2308  CLASSIC  MATCHED_GAME   \n",
       "376  KR_5361768903       1546918  11.15.389.2308  CLASSIC  MATCHED_GAME   \n",
       "377  KR_5361768903       1546918  11.15.389.2308  CLASSIC  MATCHED_GAME   \n",
       "378  KR_5361768903       1546918  11.15.389.2308  CLASSIC  MATCHED_GAME   \n",
       "379  KR_5361768903       1546918  11.15.389.2308  CLASSIC  MATCHED_GAME   \n",
       "\n",
       "         summonerName  summonerLevel  participantId championName  \\\n",
       "0              숭2내따까리            199              1      Camille   \n",
       "1             regretz            175              2       Lillia   \n",
       "2                JSTG            102              3       Illaoi   \n",
       "3              kddddd            241              4     Aphelios   \n",
       "4              개못하느사람             69              5      Morgana   \n",
       "..                ...            ...            ...          ...   \n",
       "375         Xenonic01             39              6        Karma   \n",
       "376             갱값분석가             31              7      XinZhao   \n",
       "377          무기력한 송준희             95              8         Fizz   \n",
       "378  Gen G Ruler fan7             33              9        Vayne   \n",
       "379            촉촉한돈까스            113             10   Blitzcrank   \n",
       "\n",
       "     champExperience teamPosition  teamId    win  kills  deaths  assists  \\\n",
       "0               8066          TOP     100  False      2       3        0   \n",
       "1               3380       JUNGLE     100  False      1       6        1   \n",
       "2               7754       MIDDLE     100  False      1       4        1   \n",
       "3               3938       BOTTOM     100  False      0       4        1   \n",
       "4               4801      UTILITY     100  False      1       3        0   \n",
       "..               ...          ...     ...    ...    ...     ...      ...   \n",
       "375            13180          TOP     200   True      6       4        7   \n",
       "376            12357       JUNGLE     200   True      8       0        3   \n",
       "377            12906       MIDDLE     200   True      5       6        5   \n",
       "378             9665       BOTTOM     200   True      2       3        3   \n",
       "379             9299      UTILITY     200   True      1       2        9   \n",
       "\n",
       "     totalDamageDealtToChampions  totalDamageTaken  \n",
       "0                           4084              7598  \n",
       "1                           2773             11522  \n",
       "2                           5795             12221  \n",
       "3                           4720              5066  \n",
       "4                           3307              4305  \n",
       "..                           ...               ...  \n",
       "375                        20026             25865  \n",
       "376                         9559             23652  \n",
       "377                        23063             19064  \n",
       "378                         6353             13487  \n",
       "379                         6809             14219  \n",
       "\n",
       "[380 rows x 18 columns]"
      ]
     },
     "execution_count": 23,
     "metadata": {},
     "output_type": "execute_result"
    }
   ],
   "source": [
    "match_df"
   ]
  },
  {
   "cell_type": "code",
   "execution_count": 26,
   "metadata": {},
   "outputs": [
    {
     "data": {
      "text/plain": [
       "['CLASSIC', 'ARAM']"
      ]
     },
     "execution_count": 26,
     "metadata": {},
     "output_type": "execute_result"
    }
   ],
   "source": [
    "match_df['gameMode'].drop_duplicates().values.tolist()"
   ]
  },
  {
   "cell_type": "code",
   "execution_count": 27,
   "metadata": {},
   "outputs": [
    {
     "data": {
      "text/plain": [
       "['MATCHED_GAME']"
      ]
     },
     "execution_count": 27,
     "metadata": {},
     "output_type": "execute_result"
    }
   ],
   "source": [
    "match_df['gameType'].drop_duplicates().values.tolist()"
   ]
  },
  {
   "cell_type": "code",
   "execution_count": 31,
   "metadata": {
    "scrolled": true
   },
   "outputs": [
    {
     "data": {
      "text/html": [
       "<div>\n",
       "<style scoped>\n",
       "    .dataframe tbody tr th:only-of-type {\n",
       "        vertical-align: middle;\n",
       "    }\n",
       "\n",
       "    .dataframe tbody tr th {\n",
       "        vertical-align: top;\n",
       "    }\n",
       "\n",
       "    .dataframe thead th {\n",
       "        text-align: right;\n",
       "    }\n",
       "</style>\n",
       "<table border=\"1\" class=\"dataframe\">\n",
       "  <thead>\n",
       "    <tr style=\"text-align: right;\">\n",
       "      <th></th>\n",
       "      <th>gameId</th>\n",
       "      <th>gameDuration</th>\n",
       "      <th>gameVersion</th>\n",
       "      <th>gameMode</th>\n",
       "      <th>summonerName</th>\n",
       "      <th>summonerLevel</th>\n",
       "      <th>participantId</th>\n",
       "      <th>championName</th>\n",
       "      <th>champExperience</th>\n",
       "      <th>teamPosition</th>\n",
       "      <th>teamId</th>\n",
       "      <th>win</th>\n",
       "      <th>kills</th>\n",
       "      <th>deaths</th>\n",
       "      <th>assists</th>\n",
       "      <th>totalDamageDealtToChampions</th>\n",
       "      <th>totalDamageTaken</th>\n",
       "    </tr>\n",
       "  </thead>\n",
       "  <tbody>\n",
       "  </tbody>\n",
       "</table>\n",
       "</div>"
      ],
      "text/plain": [
       "Empty DataFrame\n",
       "Columns: [gameId, gameDuration, gameVersion, gameMode, summonerName, summonerLevel, participantId, championName, champExperience, teamPosition, teamId, win, kills, deaths, assists, totalDamageDealtToChampions, totalDamageTaken]\n",
       "Index: []"
      ]
     },
     "execution_count": 31,
     "metadata": {},
     "output_type": "execute_result"
    }
   ],
   "source": [
    "match_df[match_df.gameMode=='ARAM']"
   ]
  },
  {
   "cell_type": "code",
   "execution_count": null,
   "metadata": {},
   "outputs": [],
   "source": []
  },
  {
   "cell_type": "code",
   "execution_count": 20,
   "metadata": {},
   "outputs": [
    {
     "data": {
      "text/html": [
       "<div>\n",
       "<style scoped>\n",
       "    .dataframe tbody tr th:only-of-type {\n",
       "        vertical-align: middle;\n",
       "    }\n",
       "\n",
       "    .dataframe tbody tr th {\n",
       "        vertical-align: top;\n",
       "    }\n",
       "\n",
       "    .dataframe thead th {\n",
       "        text-align: right;\n",
       "    }\n",
       "</style>\n",
       "<table border=\"1\" class=\"dataframe\">\n",
       "  <thead>\n",
       "    <tr style=\"text-align: right;\">\n",
       "      <th></th>\n",
       "      <th>gameId</th>\n",
       "      <th>gameDuration</th>\n",
       "      <th>gameVersion</th>\n",
       "      <th>summonerName</th>\n",
       "      <th>summonerLevel</th>\n",
       "      <th>participantId</th>\n",
       "      <th>championName</th>\n",
       "      <th>champExperience</th>\n",
       "      <th>teamPosition</th>\n",
       "      <th>teamId</th>\n",
       "      <th>win</th>\n",
       "      <th>kills</th>\n",
       "      <th>deaths</th>\n",
       "      <th>assists</th>\n",
       "      <th>totalDamageDealtToChampions</th>\n",
       "      <th>totalDamageTaken</th>\n",
       "    </tr>\n",
       "  </thead>\n",
       "  <tbody>\n",
       "    <tr>\n",
       "      <th>0</th>\n",
       "      <td>KR_5559444980</td>\n",
       "      <td>2290</td>\n",
       "      <td>11.22.406.3587</td>\n",
       "      <td>번쩍 들기</td>\n",
       "      <td>176</td>\n",
       "      <td>1</td>\n",
       "      <td>Rumble</td>\n",
       "      <td>16453</td>\n",
       "      <td>TOP</td>\n",
       "      <td>100</td>\n",
       "      <td>False</td>\n",
       "      <td>1</td>\n",
       "      <td>7</td>\n",
       "      <td>6</td>\n",
       "      <td>21602</td>\n",
       "      <td>24498</td>\n",
       "    </tr>\n",
       "    <tr>\n",
       "      <th>1</th>\n",
       "      <td>KR_5559444980</td>\n",
       "      <td>2290</td>\n",
       "      <td>11.22.406.3587</td>\n",
       "      <td>100만 볼트</td>\n",
       "      <td>169</td>\n",
       "      <td>2</td>\n",
       "      <td>Elise</td>\n",
       "      <td>15624</td>\n",
       "      <td>JUNGLE</td>\n",
       "      <td>100</td>\n",
       "      <td>False</td>\n",
       "      <td>6</td>\n",
       "      <td>5</td>\n",
       "      <td>11</td>\n",
       "      <td>16281</td>\n",
       "      <td>34410</td>\n",
       "    </tr>\n",
       "    <tr>\n",
       "      <th>2</th>\n",
       "      <td>KR_5559444980</td>\n",
       "      <td>2290</td>\n",
       "      <td>11.22.406.3587</td>\n",
       "      <td>사쿠라 미코치</td>\n",
       "      <td>146</td>\n",
       "      <td>3</td>\n",
       "      <td>Jayce</td>\n",
       "      <td>20301</td>\n",
       "      <td>MIDDLE</td>\n",
       "      <td>100</td>\n",
       "      <td>False</td>\n",
       "      <td>10</td>\n",
       "      <td>7</td>\n",
       "      <td>7</td>\n",
       "      <td>33631</td>\n",
       "      <td>25433</td>\n",
       "    </tr>\n",
       "    <tr>\n",
       "      <th>3</th>\n",
       "      <td>KR_5559444980</td>\n",
       "      <td>2290</td>\n",
       "      <td>11.22.406.3587</td>\n",
       "      <td>Poax</td>\n",
       "      <td>120</td>\n",
       "      <td>4</td>\n",
       "      <td>Caitlyn</td>\n",
       "      <td>16712</td>\n",
       "      <td>BOTTOM</td>\n",
       "      <td>100</td>\n",
       "      <td>False</td>\n",
       "      <td>12</td>\n",
       "      <td>7</td>\n",
       "      <td>7</td>\n",
       "      <td>37406</td>\n",
       "      <td>31040</td>\n",
       "    </tr>\n",
       "    <tr>\n",
       "      <th>4</th>\n",
       "      <td>KR_5559444980</td>\n",
       "      <td>2290</td>\n",
       "      <td>11.22.406.3587</td>\n",
       "      <td>종윤선생</td>\n",
       "      <td>308</td>\n",
       "      <td>5</td>\n",
       "      <td>Leona</td>\n",
       "      <td>11669</td>\n",
       "      <td>UTILITY</td>\n",
       "      <td>100</td>\n",
       "      <td>False</td>\n",
       "      <td>0</td>\n",
       "      <td>9</td>\n",
       "      <td>9</td>\n",
       "      <td>3845</td>\n",
       "      <td>33615</td>\n",
       "    </tr>\n",
       "  </tbody>\n",
       "</table>\n",
       "</div>"
      ],
      "text/plain": [
       "          gameId  gameDuration     gameVersion summonerName  summonerLevel  \\\n",
       "0  KR_5559444980          2290  11.22.406.3587        번쩍 들기            176   \n",
       "1  KR_5559444980          2290  11.22.406.3587      100만 볼트            169   \n",
       "2  KR_5559444980          2290  11.22.406.3587      사쿠라 미코치            146   \n",
       "3  KR_5559444980          2290  11.22.406.3587         Poax            120   \n",
       "4  KR_5559444980          2290  11.22.406.3587         종윤선생            308   \n",
       "\n",
       "   participantId championName  champExperience teamPosition  teamId    win  \\\n",
       "0              1       Rumble            16453          TOP     100  False   \n",
       "1              2        Elise            15624       JUNGLE     100  False   \n",
       "2              3        Jayce            20301       MIDDLE     100  False   \n",
       "3              4      Caitlyn            16712       BOTTOM     100  False   \n",
       "4              5        Leona            11669      UTILITY     100  False   \n",
       "\n",
       "   kills  deaths  assists  totalDamageDealtToChampions  totalDamageTaken  \n",
       "0      1       7        6                        21602             24498  \n",
       "1      6       5       11                        16281             34410  \n",
       "2     10       7        7                        33631             25433  \n",
       "3     12       7        7                        37406             31040  \n",
       "4      0       9        9                         3845             33615  "
      ]
     },
     "execution_count": 20,
     "metadata": {},
     "output_type": "execute_result"
    }
   ],
   "source": [
    "match_df.head()"
   ]
  },
  {
   "cell_type": "code",
   "execution_count": 21,
   "metadata": {},
   "outputs": [
    {
     "data": {
      "text/html": [
       "<div>\n",
       "<style scoped>\n",
       "    .dataframe tbody tr th:only-of-type {\n",
       "        vertical-align: middle;\n",
       "    }\n",
       "\n",
       "    .dataframe tbody tr th {\n",
       "        vertical-align: top;\n",
       "    }\n",
       "\n",
       "    .dataframe thead th {\n",
       "        text-align: right;\n",
       "    }\n",
       "</style>\n",
       "<table border=\"1\" class=\"dataframe\">\n",
       "  <thead>\n",
       "    <tr style=\"text-align: right;\">\n",
       "      <th></th>\n",
       "      <th>gameId</th>\n",
       "      <th>participantId</th>\n",
       "      <th>g_5</th>\n",
       "      <th>g_6</th>\n",
       "      <th>g_7</th>\n",
       "      <th>g_8</th>\n",
       "      <th>g_9</th>\n",
       "      <th>g_10</th>\n",
       "      <th>g_11</th>\n",
       "      <th>g_12</th>\n",
       "      <th>...</th>\n",
       "      <th>g_16</th>\n",
       "      <th>g_17</th>\n",
       "      <th>g_18</th>\n",
       "      <th>g_19</th>\n",
       "      <th>g_20</th>\n",
       "      <th>g_21</th>\n",
       "      <th>g_22</th>\n",
       "      <th>g_23</th>\n",
       "      <th>g_24</th>\n",
       "      <th>g_25</th>\n",
       "    </tr>\n",
       "  </thead>\n",
       "  <tbody>\n",
       "    <tr>\n",
       "      <th>0</th>\n",
       "      <td>KR_5559444980</td>\n",
       "      <td>1</td>\n",
       "      <td>1347</td>\n",
       "      <td>1533</td>\n",
       "      <td>1802</td>\n",
       "      <td>2161</td>\n",
       "      <td>2431</td>\n",
       "      <td>2772</td>\n",
       "      <td>3096</td>\n",
       "      <td>3408</td>\n",
       "      <td>...</td>\n",
       "      <td>4605</td>\n",
       "      <td>4870</td>\n",
       "      <td>5397</td>\n",
       "      <td>5646</td>\n",
       "      <td>6034</td>\n",
       "      <td>6715</td>\n",
       "      <td>6962</td>\n",
       "      <td>7328</td>\n",
       "      <td>7661</td>\n",
       "      <td>7798</td>\n",
       "    </tr>\n",
       "    <tr>\n",
       "      <th>1</th>\n",
       "      <td>KR_5559444980</td>\n",
       "      <td>2</td>\n",
       "      <td>1350</td>\n",
       "      <td>1604</td>\n",
       "      <td>1906</td>\n",
       "      <td>2118</td>\n",
       "      <td>2441</td>\n",
       "      <td>2563</td>\n",
       "      <td>2871</td>\n",
       "      <td>3497</td>\n",
       "      <td>...</td>\n",
       "      <td>4937</td>\n",
       "      <td>5169</td>\n",
       "      <td>5517</td>\n",
       "      <td>5814</td>\n",
       "      <td>6160</td>\n",
       "      <td>6527</td>\n",
       "      <td>7129</td>\n",
       "      <td>7558</td>\n",
       "      <td>7680</td>\n",
       "      <td>7833</td>\n",
       "    </tr>\n",
       "    <tr>\n",
       "      <th>2</th>\n",
       "      <td>KR_5559444980</td>\n",
       "      <td>3</td>\n",
       "      <td>1957</td>\n",
       "      <td>2328</td>\n",
       "      <td>2555</td>\n",
       "      <td>2935</td>\n",
       "      <td>3326</td>\n",
       "      <td>3966</td>\n",
       "      <td>4290</td>\n",
       "      <td>5206</td>\n",
       "      <td>...</td>\n",
       "      <td>6925</td>\n",
       "      <td>7305</td>\n",
       "      <td>7812</td>\n",
       "      <td>8163</td>\n",
       "      <td>8357</td>\n",
       "      <td>8529</td>\n",
       "      <td>9686</td>\n",
       "      <td>9961</td>\n",
       "      <td>10485</td>\n",
       "      <td>10936</td>\n",
       "    </tr>\n",
       "    <tr>\n",
       "      <th>3</th>\n",
       "      <td>KR_5559444980</td>\n",
       "      <td>4</td>\n",
       "      <td>1641</td>\n",
       "      <td>1869</td>\n",
       "      <td>2239</td>\n",
       "      <td>2671</td>\n",
       "      <td>3362</td>\n",
       "      <td>3568</td>\n",
       "      <td>3747</td>\n",
       "      <td>4130</td>\n",
       "      <td>...</td>\n",
       "      <td>5834</td>\n",
       "      <td>6124</td>\n",
       "      <td>6690</td>\n",
       "      <td>7265</td>\n",
       "      <td>7575</td>\n",
       "      <td>8055</td>\n",
       "      <td>8827</td>\n",
       "      <td>9249</td>\n",
       "      <td>10002</td>\n",
       "      <td>10213</td>\n",
       "    </tr>\n",
       "    <tr>\n",
       "      <th>4</th>\n",
       "      <td>KR_5559444980</td>\n",
       "      <td>5</td>\n",
       "      <td>1154</td>\n",
       "      <td>1310</td>\n",
       "      <td>1486</td>\n",
       "      <td>1699</td>\n",
       "      <td>2087</td>\n",
       "      <td>2227</td>\n",
       "      <td>2379</td>\n",
       "      <td>2604</td>\n",
       "      <td>...</td>\n",
       "      <td>3473</td>\n",
       "      <td>3613</td>\n",
       "      <td>3904</td>\n",
       "      <td>4054</td>\n",
       "      <td>4274</td>\n",
       "      <td>4466</td>\n",
       "      <td>4731</td>\n",
       "      <td>4901</td>\n",
       "      <td>5063</td>\n",
       "      <td>5278</td>\n",
       "    </tr>\n",
       "  </tbody>\n",
       "</table>\n",
       "<p>5 rows × 23 columns</p>\n",
       "</div>"
      ],
      "text/plain": [
       "          gameId  participantId   g_5   g_6   g_7   g_8   g_9  g_10  g_11  \\\n",
       "0  KR_5559444980              1  1347  1533  1802  2161  2431  2772  3096   \n",
       "1  KR_5559444980              2  1350  1604  1906  2118  2441  2563  2871   \n",
       "2  KR_5559444980              3  1957  2328  2555  2935  3326  3966  4290   \n",
       "3  KR_5559444980              4  1641  1869  2239  2671  3362  3568  3747   \n",
       "4  KR_5559444980              5  1154  1310  1486  1699  2087  2227  2379   \n",
       "\n",
       "   g_12  ...  g_16  g_17  g_18  g_19  g_20  g_21  g_22  g_23   g_24   g_25  \n",
       "0  3408  ...  4605  4870  5397  5646  6034  6715  6962  7328   7661   7798  \n",
       "1  3497  ...  4937  5169  5517  5814  6160  6527  7129  7558   7680   7833  \n",
       "2  5206  ...  6925  7305  7812  8163  8357  8529  9686  9961  10485  10936  \n",
       "3  4130  ...  5834  6124  6690  7265  7575  8055  8827  9249  10002  10213  \n",
       "4  2604  ...  3473  3613  3904  4054  4274  4466  4731  4901   5063   5278  \n",
       "\n",
       "[5 rows x 23 columns]"
      ]
     },
     "execution_count": 21,
     "metadata": {},
     "output_type": "execute_result"
    }
   ],
   "source": [
    "timeline_df.head()"
   ]
  },
  {
   "cell_type": "code",
   "execution_count": 8,
   "metadata": {},
   "outputs": [
    {
     "name": "stdout",
     "output_type": "stream",
     "text": [
      "open!\n"
     ]
    }
   ],
   "source": [
    "mu.db_open()"
   ]
  },
  {
   "cell_type": "code",
   "execution_count": 5,
   "metadata": {},
   "outputs": [],
   "source": [
    "# match table\n",
    "query1 = \"\"\"\n",
    "create table match_data(gameId varchar(50), gameDuration number(20), gameVersion varchar(50), summonerName varchar(50),\n",
    "summonerLevel number(20), participantId number(20), championName varchar(50), champExperience number(20),\n",
    "teamPosition varchar(50), teamId number(20), win varchar(50), kills number(20), deaths number(20), assists number(20),\n",
    "totalDamageDealtToChampions number(20), totalDamageTaken number(20),\n",
    "constraint m_pk primary key (gameId, participantId))\n",
    "\"\"\""
   ]
  },
  {
   "cell_type": "code",
   "execution_count": 6,
   "metadata": {},
   "outputs": [],
   "source": [
    "# timeline table\n",
    "query2 = \"\"\"\n",
    "create table timeline_data(gameId varchar(50), participantId number(20), g_5 number(20), g_6 number(20), g_7 number(20), g_8 number(20),\n",
    "g_9 number(20), g_10 number(20), g_11 number(20), g_12 number(20), g_13 number(20), g_14 number(20), g_15 number(20), g_16 number(20),\n",
    "g_17 number(20), g_18 number(20), g_19 number(20), g_20 number(20), g_21 number(20), g_22 number(20), g_23 number(20), g_24 number(20),\n",
    "g_25 number(20),\n",
    "constraint t_pk primary key (gameId, participantId))\n",
    "\"\"\""
   ]
  },
  {
   "cell_type": "code",
   "execution_count": 9,
   "metadata": {},
   "outputs": [
    {
     "data": {
      "text/plain": [
       "'success!'"
      ]
     },
     "execution_count": 9,
     "metadata": {},
     "output_type": "execute_result"
    }
   ],
   "source": [
    "res = mu.sql_excute(query1)\n",
    "res"
   ]
  },
  {
   "cell_type": "code",
   "execution_count": 10,
   "metadata": {},
   "outputs": [
    {
     "data": {
      "text/plain": [
       "'success!'"
      ]
     },
     "execution_count": 10,
     "metadata": {},
     "output_type": "execute_result"
    }
   ],
   "source": [
    "res = mu.sql_excute(query2)\n",
    "res"
   ]
  },
  {
   "cell_type": "code",
   "execution_count": 28,
   "metadata": {},
   "outputs": [],
   "source": [
    "def match_insert(row):\n",
    "    query = (\n",
    "        f'insert into match_data(gameId, gameDuration, gameVersion, summonerName, summonerLevel, participantId, championName, champExperience, '\n",
    "        f'teamPosition, teamId, win, kills, deaths, assists, totalDamageDealtToChampions, totalDamageTaken) '\n",
    "        f'values(\\'{row.gameId}\\', {row.gameDuration}, '\n",
    "        f'\\'{row.gameVersion}\\', \\'{row.summonerName}\\', {row.summonerLevel}, {row.participantId}, '\n",
    "        f'\\'{row.championName}\\', {row.champExperience}, \\'{row.teamPosition}\\', {row.teamId}, '\n",
    "        f'\\'{row.win}\\', {row.kills}, {row.deaths}, {row.assists}, '\n",
    "        f'{row.totalDamageDealtToChampions}, {row.totalDamageTaken}) '        \n",
    "    )\n",
    "    mu.sql_excute(query)\n",
    "    return"
   ]
  },
  {
   "cell_type": "code",
   "execution_count": 39,
   "metadata": {},
   "outputs": [],
   "source": [
    "def match_insert(row):\n",
    "    query = (\n",
    "        f'merge into match_data using dual on(gameId=\\'{row.gameId}\\' and participantId={row.participantId}) '\n",
    "        f'when not matched then '\n",
    "        f'insert (gameId, gameDuration, gameVersion, summonerName, summonerLevel, participantId, championName, champExperience, '\n",
    "        f'teamPosition, teamId, win, kills, deaths, assists, totalDamageDealtToChampions, totalDamageTaken) '\n",
    "        f'values(\\'{row.gameId}\\', {row.gameDuration}, '\n",
    "        f'\\'{row.gameVersion}\\', \\'{row.summonerName}\\', {row.summonerLevel}, {row.participantId}, '\n",
    "        f'\\'{row.championName}\\', {row.champExperience}, \\'{row.teamPosition}\\', {row.teamId}, '\n",
    "        f'\\'{row.win}\\', {row.kills}, {row.deaths}, {row.assists}, '\n",
    "        f'{row.totalDamageDealtToChampions}, {row.totalDamageTaken}) '        \n",
    "    )\n",
    "    mu.sql_excute(query)\n",
    "    return"
   ]
  },
  {
   "cell_type": "code",
   "execution_count": 41,
   "metadata": {},
   "outputs": [
    {
     "name": "stderr",
     "output_type": "stream",
     "text": [
      "100%|███████████████████████████████████████████████████████████████████████████████| 380/380 [00:00<00:00, 559.25it/s]\n"
     ]
    },
    {
     "data": {
      "text/plain": [
       "0      None\n",
       "1      None\n",
       "2      None\n",
       "3      None\n",
       "4      None\n",
       "       ... \n",
       "375    None\n",
       "376    None\n",
       "377    None\n",
       "378    None\n",
       "379    None\n",
       "Length: 380, dtype: object"
      ]
     },
     "execution_count": 41,
     "metadata": {},
     "output_type": "execute_result"
    }
   ],
   "source": [
    "match_df.progress_apply(lambda x: match_insert(x), axis=1)"
   ]
  },
  {
   "cell_type": "code",
   "execution_count": null,
   "metadata": {},
   "outputs": [],
   "source": [
    "# mysql 경우 ignore\n",
    "# insert 할때 중복된 값이 있을경우 insert를 안함\n",
    "# oralce 경우 merge\n",
    "# insert 할때 중복된 값 체크"
   ]
  },
  {
   "cell_type": "code",
   "execution_count": 35,
   "metadata": {},
   "outputs": [],
   "source": [
    "def timeline_insert(row):\n",
    "    query = (\n",
    "        f'merge into timeline_data using dual on(gameId=\\'{row.gameId}\\' and participantId={row.participantId}) '\n",
    "        f'when not matched then '\n",
    "        f'insert (gameId, participantId, g_5, g_6, g_7, g_8, g_9, g_10, g_11, g_12, g_13, g_14, g_15, g_16, g_17, g_18, g_19, g_20, '\n",
    "        f'g_21, g_22, g_23, g_24, g_25) values(\\'{row.gameId}\\', {row.participantId}, '\n",
    "        f'{row.g_5}, {row.g_6}, {row.g_7}, {row.g_8}, {row.g_9}, {row.g_10}, {row.g_11}, {row.g_12}, {row.g_13}, {row.g_14}, {row.g_15}, '\n",
    "        f'{row.g_16}, {row.g_17}, {row.g_18}, {row.g_19}, {row.g_20}, {row.g_21}, {row.g_22}, {row.g_23}, {row.g_24}, {row.g_25})'\n",
    "    )\n",
    "    mu.sql_excute(query)\n",
    "    return"
   ]
  },
  {
   "cell_type": "code",
   "execution_count": 36,
   "metadata": {},
   "outputs": [
    {
     "name": "stderr",
     "output_type": "stream",
     "text": [
      "100%|███████████████████████████████████████████████████████████████████████████████| 380/380 [00:00<00:00, 479.12it/s]\n"
     ]
    },
    {
     "data": {
      "text/plain": [
       "0      None\n",
       "1      None\n",
       "2      None\n",
       "3      None\n",
       "4      None\n",
       "       ... \n",
       "375    None\n",
       "376    None\n",
       "377    None\n",
       "378    None\n",
       "379    None\n",
       "Length: 380, dtype: object"
      ]
     },
     "execution_count": 36,
     "metadata": {},
     "output_type": "execute_result"
    }
   ],
   "source": [
    "timeline_df.progress_apply(lambda x: timeline_insert(x), axis=1)"
   ]
  },
  {
   "cell_type": "code",
   "execution_count": 41,
   "metadata": {},
   "outputs": [
    {
     "data": {
      "text/html": [
       "<div>\n",
       "<style scoped>\n",
       "    .dataframe tbody tr th:only-of-type {\n",
       "        vertical-align: middle;\n",
       "    }\n",
       "\n",
       "    .dataframe tbody tr th {\n",
       "        vertical-align: top;\n",
       "    }\n",
       "\n",
       "    .dataframe thead th {\n",
       "        text-align: right;\n",
       "    }\n",
       "</style>\n",
       "<table border=\"1\" class=\"dataframe\">\n",
       "  <thead>\n",
       "    <tr style=\"text-align: right;\">\n",
       "      <th></th>\n",
       "      <th>GAMEID</th>\n",
       "      <th>PARTICIPANTID</th>\n",
       "      <th>G_5</th>\n",
       "      <th>G_6</th>\n",
       "      <th>G_7</th>\n",
       "      <th>G_8</th>\n",
       "      <th>G_9</th>\n",
       "      <th>G_10</th>\n",
       "      <th>G_11</th>\n",
       "      <th>G_12</th>\n",
       "      <th>...</th>\n",
       "      <th>G_16</th>\n",
       "      <th>G_17</th>\n",
       "      <th>G_18</th>\n",
       "      <th>G_19</th>\n",
       "      <th>G_20</th>\n",
       "      <th>G_21</th>\n",
       "      <th>G_22</th>\n",
       "      <th>G_23</th>\n",
       "      <th>G_24</th>\n",
       "      <th>G_25</th>\n",
       "    </tr>\n",
       "  </thead>\n",
       "  <tbody>\n",
       "  </tbody>\n",
       "</table>\n",
       "<p>0 rows × 23 columns</p>\n",
       "</div>"
      ],
      "text/plain": [
       "Empty DataFrame\n",
       "Columns: [GAMEID, PARTICIPANTID, G_5, G_6, G_7, G_8, G_9, G_10, G_11, G_12, G_13, G_14, G_15, G_16, G_17, G_18, G_19, G_20, G_21, G_22, G_23, G_24, G_25]\n",
       "Index: []\n",
       "\n",
       "[0 rows x 23 columns]"
      ]
     },
     "execution_count": 41,
     "metadata": {},
     "output_type": "execute_result"
    }
   ],
   "source": [
    "res = mu.sql_excute('select * from timeline_data')\n",
    "res"
   ]
  },
  {
   "cell_type": "code",
   "execution_count": 11,
   "metadata": {},
   "outputs": [
    {
     "name": "stdout",
     "output_type": "stream",
     "text": [
      "close!\n"
     ]
    }
   ],
   "source": [
    "mu.db_close()"
   ]
  },
  {
   "cell_type": "code",
   "execution_count": 1,
   "metadata": {},
   "outputs": [],
   "source": [
    "from random import sample\n",
    "import random\n",
    "from tqdm import tqdm\n",
    "import my_utils as mu\n",
    "import pandas as pd\n",
    "import requests\n",
    "tqdm.pandas()"
   ]
  },
  {
   "cell_type": "code",
   "execution_count": 3,
   "metadata": {},
   "outputs": [
    {
     "name": "stderr",
     "output_type": "stream",
     "text": [
      "100%|████████████████████████████████████████████████████████████████████████████████████| 4/4 [00:01<00:00,  2.76it/s]\n"
     ]
    },
    {
     "name": "stdout",
     "output_type": "stream",
     "text": [
      "get summonerName...\n",
      "get puuid...\n"
     ]
    },
    {
     "name": "stderr",
     "output_type": "stream",
     "text": [
      "100%|██████████████████████████████████████████████████████████████████████████████████| 20/20 [00:05<00:00,  3.96it/s]\n"
     ]
    },
    {
     "name": "stdout",
     "output_type": "stream",
     "text": [
      "get matchId...\n"
     ]
    },
    {
     "name": "stderr",
     "output_type": "stream",
     "text": [
      "100%|██████████████████████████████████████████████████████████████████████████████████| 20/20 [00:05<00:00,  3.90it/s]\n"
     ]
    },
    {
     "name": "stdout",
     "output_type": "stream",
     "text": [
      "get match & timeline...\n"
     ]
    },
    {
     "name": "stderr",
     "output_type": "stream",
     "text": [
      "100%|██████████████████████████████████████████████████████████████████████████████████| 40/40 [00:32<00:00,  1.25it/s]"
     ]
    },
    {
     "name": "stdout",
     "output_type": "stream",
     "text": [
      "complete!\n"
     ]
    },
    {
     "name": "stderr",
     "output_type": "stream",
     "text": [
      "\n"
     ]
    }
   ],
   "source": [
    "tier = 'GOLD'\n",
    "raw_data = mu.get_rawData(tier)"
   ]
  },
  {
   "cell_type": "code",
   "execution_count": 4,
   "metadata": {},
   "outputs": [
    {
     "name": "stdout",
     "output_type": "stream",
     "text": [
      "get matches...\n"
     ]
    },
    {
     "name": "stderr",
     "output_type": "stream",
     "text": [
      "100%|██████████████████████████████████████████████████████████████████████████████████| 40/40 [00:00<00:00, 92.61it/s]\n"
     ]
    },
    {
     "name": "stdout",
     "output_type": "stream",
     "text": [
      "get timelines\n"
     ]
    },
    {
     "name": "stderr",
     "output_type": "stream",
     "text": [
      "100%|██████████████████████████████████████████████████████████████████████████████████| 40/40 [00:00<00:00, 63.26it/s]"
     ]
    },
    {
     "name": "stdout",
     "output_type": "stream",
     "text": [
      "match_df length:  400\n",
      "timeline_df length:  400\n",
      "complete!\n"
     ]
    },
    {
     "name": "stderr",
     "output_type": "stream",
     "text": [
      "\n"
     ]
    }
   ],
   "source": [
    "match_df, timeline_df = mu.get_match_timeline_df(raw_data)"
   ]
  },
  {
   "cell_type": "code",
   "execution_count": 5,
   "metadata": {},
   "outputs": [
    {
     "name": "stdout",
     "output_type": "stream",
     "text": [
      "open!\n"
     ]
    }
   ],
   "source": [
    "mu.db_open()"
   ]
  },
  {
   "cell_type": "code",
   "execution_count": 2,
   "metadata": {},
   "outputs": [],
   "source": [
    "def match_insert(row):\n",
    "    query = (\n",
    "        f'merge into match_data using dual on(gameId=\\'{row.gameId}\\' and participantId={row.participantId}) '\n",
    "        f'when not matched then '\n",
    "        f'insert (gameId, gameDuration, gameVersion, summonerName, summonerLevel, participantId, championName, champExperience, '\n",
    "        f'teamPosition, teamId, win, kills, deaths, assists, totalDamageDealtToChampions, totalDamageTaken) '\n",
    "        f'values(\\'{row.gameId}\\', {row.gameDuration}, '\n",
    "        f'\\'{row.gameVersion}\\', \\'{row.summonerName}\\', {row.summonerLevel}, {row.participantId}, '\n",
    "        f'\\'{row.championName}\\', {row.champExperience}, \\'{row.teamPosition}\\', {row.teamId}, '\n",
    "        f'\\'{row.win}\\', {row.kills}, {row.deaths}, {row.assists}, '\n",
    "        f'{row.totalDamageDealtToChampions}, {row.totalDamageTaken}) '        \n",
    "    )\n",
    "    mu.sql_excute(query)\n",
    "    return"
   ]
  },
  {
   "cell_type": "code",
   "execution_count": 3,
   "metadata": {},
   "outputs": [],
   "source": [
    "def timeline_insert(row):\n",
    "    query = (\n",
    "        f'merge into timeline_data using dual on(gameId=\\'{row.gameId}\\' and participantId={row.participantId}) '\n",
    "        f'when not matched then '\n",
    "        f'insert (gameId, participantId, g_5, g_6, g_7, g_8, g_9, g_10, g_11, g_12, g_13, g_14, g_15, g_16, g_17, g_18, g_19, g_20, '\n",
    "        f'g_21, g_22, g_23, g_24, g_25) values(\\'{row.gameId}\\', {row.participantId}, '\n",
    "        f'{row.g_5}, {row.g_6}, {row.g_7}, {row.g_8}, {row.g_9}, {row.g_10}, {row.g_11}, {row.g_12}, {row.g_13}, {row.g_14}, {row.g_15}, '\n",
    "        f'{row.g_16}, {row.g_17}, {row.g_18}, {row.g_19}, {row.g_20}, {row.g_21}, {row.g_22}, {row.g_23}, {row.g_24}, {row.g_25})'\n",
    "    )\n",
    "    mu.sql_excute(query)\n",
    "    return"
   ]
  },
  {
   "cell_type": "code",
   "execution_count": 15,
   "metadata": {
    "scrolled": true
   },
   "outputs": [
    {
     "name": "stderr",
     "output_type": "stream",
     "text": [
      "100%|███████████████████████████████████████████████████████████████████████████████| 400/400 [00:00<00:00, 543.00it/s]\n"
     ]
    },
    {
     "data": {
      "text/plain": [
       "0      None\n",
       "1      None\n",
       "2      None\n",
       "3      None\n",
       "4      None\n",
       "       ... \n",
       "395    None\n",
       "396    None\n",
       "397    None\n",
       "398    None\n",
       "399    None\n",
       "Length: 400, dtype: object"
      ]
     },
     "execution_count": 15,
     "metadata": {},
     "output_type": "execute_result"
    }
   ],
   "source": [
    "match_df.progress_apply(lambda x: match_insert(x), axis=1)"
   ]
  },
  {
   "cell_type": "code",
   "execution_count": 16,
   "metadata": {},
   "outputs": [
    {
     "name": "stderr",
     "output_type": "stream",
     "text": [
      "100%|███████████████████████████████████████████████████████████████████████████████| 400/400 [00:00<00:00, 478.75it/s]\n"
     ]
    },
    {
     "data": {
      "text/plain": [
       "0      None\n",
       "1      None\n",
       "2      None\n",
       "3      None\n",
       "4      None\n",
       "       ... \n",
       "395    None\n",
       "396    None\n",
       "397    None\n",
       "398    None\n",
       "399    None\n",
       "Length: 400, dtype: object"
      ]
     },
     "execution_count": 16,
     "metadata": {},
     "output_type": "execute_result"
    }
   ],
   "source": [
    "timeline_df.progress_apply(lambda x: timeline_insert(x), axis=1)"
   ]
  },
  {
   "cell_type": "code",
   "execution_count": 17,
   "metadata": {},
   "outputs": [
    {
     "data": {
      "text/html": [
       "<div>\n",
       "<style scoped>\n",
       "    .dataframe tbody tr th:only-of-type {\n",
       "        vertical-align: middle;\n",
       "    }\n",
       "\n",
       "    .dataframe tbody tr th {\n",
       "        vertical-align: top;\n",
       "    }\n",
       "\n",
       "    .dataframe thead th {\n",
       "        text-align: right;\n",
       "    }\n",
       "</style>\n",
       "<table border=\"1\" class=\"dataframe\">\n",
       "  <thead>\n",
       "    <tr style=\"text-align: right;\">\n",
       "      <th></th>\n",
       "      <th>GAMEID</th>\n",
       "      <th>GAMEDURATION</th>\n",
       "      <th>GAMEVERSION</th>\n",
       "      <th>SUMMONERNAME</th>\n",
       "      <th>SUMMONERLEVEL</th>\n",
       "      <th>PARTICIPANTID</th>\n",
       "      <th>CHAMPIONNAME</th>\n",
       "      <th>CHAMPEXPERIENCE</th>\n",
       "      <th>TEAMPOSITION</th>\n",
       "      <th>TEAMID</th>\n",
       "      <th>WIN</th>\n",
       "      <th>KILLS</th>\n",
       "      <th>DEATHS</th>\n",
       "      <th>ASSISTS</th>\n",
       "      <th>TOTALDAMAGEDEALTTOCHAMPIONS</th>\n",
       "      <th>TOTALDAMAGETAKEN</th>\n",
       "    </tr>\n",
       "  </thead>\n",
       "  <tbody>\n",
       "    <tr>\n",
       "      <th>0</th>\n",
       "      <td>KR_5546419545</td>\n",
       "      <td>1454</td>\n",
       "      <td>11.22.406.3587</td>\n",
       "      <td>애신아씨</td>\n",
       "      <td>198</td>\n",
       "      <td>8</td>\n",
       "      <td>Vex</td>\n",
       "      <td>11832</td>\n",
       "      <td>MIDDLE</td>\n",
       "      <td>200</td>\n",
       "      <td>False</td>\n",
       "      <td>5</td>\n",
       "      <td>5</td>\n",
       "      <td>3</td>\n",
       "      <td>15259</td>\n",
       "      <td>14330</td>\n",
       "    </tr>\n",
       "    <tr>\n",
       "      <th>1</th>\n",
       "      <td>KR_5546419545</td>\n",
       "      <td>1454</td>\n",
       "      <td>11.22.406.3587</td>\n",
       "      <td>asdfas</td>\n",
       "      <td>189</td>\n",
       "      <td>9</td>\n",
       "      <td>Vayne</td>\n",
       "      <td>8289</td>\n",
       "      <td>BOTTOM</td>\n",
       "      <td>200</td>\n",
       "      <td>False</td>\n",
       "      <td>3</td>\n",
       "      <td>7</td>\n",
       "      <td>2</td>\n",
       "      <td>9519</td>\n",
       "      <td>17111</td>\n",
       "    </tr>\n",
       "    <tr>\n",
       "      <th>2</th>\n",
       "      <td>KR_5546419545</td>\n",
       "      <td>1454</td>\n",
       "      <td>11.22.406.3587</td>\n",
       "      <td>내가무슨죄를졌어</td>\n",
       "      <td>557</td>\n",
       "      <td>10</td>\n",
       "      <td>Yuumi</td>\n",
       "      <td>7151</td>\n",
       "      <td>UTILITY</td>\n",
       "      <td>200</td>\n",
       "      <td>False</td>\n",
       "      <td>2</td>\n",
       "      <td>6</td>\n",
       "      <td>7</td>\n",
       "      <td>9288</td>\n",
       "      <td>10394</td>\n",
       "    </tr>\n",
       "    <tr>\n",
       "      <th>3</th>\n",
       "      <td>KR_5369354045</td>\n",
       "      <td>1994882</td>\n",
       "      <td>11.15.389.2308</td>\n",
       "      <td>호이가계속되면그게둘린줄알아요</td>\n",
       "      <td>58</td>\n",
       "      <td>1</td>\n",
       "      <td>Irelia</td>\n",
       "      <td>21374</td>\n",
       "      <td>TOP</td>\n",
       "      <td>100</td>\n",
       "      <td>True</td>\n",
       "      <td>13</td>\n",
       "      <td>7</td>\n",
       "      <td>0</td>\n",
       "      <td>32716</td>\n",
       "      <td>43435</td>\n",
       "    </tr>\n",
       "    <tr>\n",
       "      <th>4</th>\n",
       "      <td>KR_5369354045</td>\n",
       "      <td>1994882</td>\n",
       "      <td>11.15.389.2308</td>\n",
       "      <td>하지마이쉑이야</td>\n",
       "      <td>151</td>\n",
       "      <td>2</td>\n",
       "      <td>XinZhao</td>\n",
       "      <td>15592</td>\n",
       "      <td>JUNGLE</td>\n",
       "      <td>100</td>\n",
       "      <td>True</td>\n",
       "      <td>2</td>\n",
       "      <td>7</td>\n",
       "      <td>6</td>\n",
       "      <td>8093</td>\n",
       "      <td>32736</td>\n",
       "    </tr>\n",
       "    <tr>\n",
       "      <th>...</th>\n",
       "      <td>...</td>\n",
       "      <td>...</td>\n",
       "      <td>...</td>\n",
       "      <td>...</td>\n",
       "      <td>...</td>\n",
       "      <td>...</td>\n",
       "      <td>...</td>\n",
       "      <td>...</td>\n",
       "      <td>...</td>\n",
       "      <td>...</td>\n",
       "      <td>...</td>\n",
       "      <td>...</td>\n",
       "      <td>...</td>\n",
       "      <td>...</td>\n",
       "      <td>...</td>\n",
       "      <td>...</td>\n",
       "    </tr>\n",
       "    <tr>\n",
       "      <th>775</th>\n",
       "      <td>KR_5387760958</td>\n",
       "      <td>1317659</td>\n",
       "      <td>11.16.390.1945</td>\n",
       "      <td>김 큰</td>\n",
       "      <td>191</td>\n",
       "      <td>6</td>\n",
       "      <td>Nasus</td>\n",
       "      <td>21290</td>\n",
       "      <td>None</td>\n",
       "      <td>200</td>\n",
       "      <td>True</td>\n",
       "      <td>17</td>\n",
       "      <td>10</td>\n",
       "      <td>12</td>\n",
       "      <td>28128</td>\n",
       "      <td>31542</td>\n",
       "    </tr>\n",
       "    <tr>\n",
       "      <th>776</th>\n",
       "      <td>KR_5387760958</td>\n",
       "      <td>1317659</td>\n",
       "      <td>11.16.390.1945</td>\n",
       "      <td>진짜가자</td>\n",
       "      <td>134</td>\n",
       "      <td>7</td>\n",
       "      <td>Jayce</td>\n",
       "      <td>21377</td>\n",
       "      <td>None</td>\n",
       "      <td>200</td>\n",
       "      <td>True</td>\n",
       "      <td>9</td>\n",
       "      <td>4</td>\n",
       "      <td>19</td>\n",
       "      <td>19607</td>\n",
       "      <td>12064</td>\n",
       "    </tr>\n",
       "    <tr>\n",
       "      <th>777</th>\n",
       "      <td>KR_5387760958</td>\n",
       "      <td>1317659</td>\n",
       "      <td>11.16.390.1945</td>\n",
       "      <td>P 파</td>\n",
       "      <td>266</td>\n",
       "      <td>8</td>\n",
       "      <td>Shaco</td>\n",
       "      <td>19419</td>\n",
       "      <td>None</td>\n",
       "      <td>200</td>\n",
       "      <td>True</td>\n",
       "      <td>2</td>\n",
       "      <td>12</td>\n",
       "      <td>23</td>\n",
       "      <td>17714</td>\n",
       "      <td>21570</td>\n",
       "    </tr>\n",
       "    <tr>\n",
       "      <th>778</th>\n",
       "      <td>KR_5387760958</td>\n",
       "      <td>1317659</td>\n",
       "      <td>11.16.390.1945</td>\n",
       "      <td>등고선</td>\n",
       "      <td>255</td>\n",
       "      <td>9</td>\n",
       "      <td>Ziggs</td>\n",
       "      <td>22289</td>\n",
       "      <td>None</td>\n",
       "      <td>200</td>\n",
       "      <td>True</td>\n",
       "      <td>13</td>\n",
       "      <td>4</td>\n",
       "      <td>18</td>\n",
       "      <td>24128</td>\n",
       "      <td>14231</td>\n",
       "    </tr>\n",
       "    <tr>\n",
       "      <th>779</th>\n",
       "      <td>KR_5387760958</td>\n",
       "      <td>1317659</td>\n",
       "      <td>11.16.390.1945</td>\n",
       "      <td>찬파게티</td>\n",
       "      <td>230</td>\n",
       "      <td>10</td>\n",
       "      <td>Heimerdinger</td>\n",
       "      <td>22884</td>\n",
       "      <td>None</td>\n",
       "      <td>200</td>\n",
       "      <td>True</td>\n",
       "      <td>6</td>\n",
       "      <td>7</td>\n",
       "      <td>25</td>\n",
       "      <td>28093</td>\n",
       "      <td>18570</td>\n",
       "    </tr>\n",
       "  </tbody>\n",
       "</table>\n",
       "<p>780 rows × 16 columns</p>\n",
       "</div>"
      ],
      "text/plain": [
       "            GAMEID  GAMEDURATION     GAMEVERSION     SUMMONERNAME  \\\n",
       "0    KR_5546419545          1454  11.22.406.3587             애신아씨   \n",
       "1    KR_5546419545          1454  11.22.406.3587           asdfas   \n",
       "2    KR_5546419545          1454  11.22.406.3587         내가무슨죄를졌어   \n",
       "3    KR_5369354045       1994882  11.15.389.2308  호이가계속되면그게둘린줄알아요   \n",
       "4    KR_5369354045       1994882  11.15.389.2308          하지마이쉑이야   \n",
       "..             ...           ...             ...              ...   \n",
       "775  KR_5387760958       1317659  11.16.390.1945              김 큰   \n",
       "776  KR_5387760958       1317659  11.16.390.1945             진짜가자   \n",
       "777  KR_5387760958       1317659  11.16.390.1945              P 파   \n",
       "778  KR_5387760958       1317659  11.16.390.1945              등고선   \n",
       "779  KR_5387760958       1317659  11.16.390.1945             찬파게티   \n",
       "\n",
       "     SUMMONERLEVEL  PARTICIPANTID  CHAMPIONNAME  CHAMPEXPERIENCE TEAMPOSITION  \\\n",
       "0              198              8           Vex            11832       MIDDLE   \n",
       "1              189              9         Vayne             8289       BOTTOM   \n",
       "2              557             10         Yuumi             7151      UTILITY   \n",
       "3               58              1        Irelia            21374          TOP   \n",
       "4              151              2       XinZhao            15592       JUNGLE   \n",
       "..             ...            ...           ...              ...          ...   \n",
       "775            191              6         Nasus            21290         None   \n",
       "776            134              7         Jayce            21377         None   \n",
       "777            266              8         Shaco            19419         None   \n",
       "778            255              9         Ziggs            22289         None   \n",
       "779            230             10  Heimerdinger            22884         None   \n",
       "\n",
       "     TEAMID    WIN  KILLS  DEATHS  ASSISTS  TOTALDAMAGEDEALTTOCHAMPIONS  \\\n",
       "0       200  False      5       5        3                        15259   \n",
       "1       200  False      3       7        2                         9519   \n",
       "2       200  False      2       6        7                         9288   \n",
       "3       100   True     13       7        0                        32716   \n",
       "4       100   True      2       7        6                         8093   \n",
       "..      ...    ...    ...     ...      ...                          ...   \n",
       "775     200   True     17      10       12                        28128   \n",
       "776     200   True      9       4       19                        19607   \n",
       "777     200   True      2      12       23                        17714   \n",
       "778     200   True     13       4       18                        24128   \n",
       "779     200   True      6       7       25                        28093   \n",
       "\n",
       "     TOTALDAMAGETAKEN  \n",
       "0               14330  \n",
       "1               17111  \n",
       "2               10394  \n",
       "3               43435  \n",
       "4               32736  \n",
       "..                ...  \n",
       "775             31542  \n",
       "776             12064  \n",
       "777             21570  \n",
       "778             14231  \n",
       "779             18570  \n",
       "\n",
       "[780 rows x 16 columns]"
      ]
     },
     "execution_count": 17,
     "metadata": {},
     "output_type": "execute_result"
    }
   ],
   "source": [
    "res = mu.sql_excute('select * from match_data')\n",
    "res"
   ]
  },
  {
   "cell_type": "code",
   "execution_count": 18,
   "metadata": {},
   "outputs": [
    {
     "data": {
      "text/html": [
       "<div>\n",
       "<style scoped>\n",
       "    .dataframe tbody tr th:only-of-type {\n",
       "        vertical-align: middle;\n",
       "    }\n",
       "\n",
       "    .dataframe tbody tr th {\n",
       "        vertical-align: top;\n",
       "    }\n",
       "\n",
       "    .dataframe thead th {\n",
       "        text-align: right;\n",
       "    }\n",
       "</style>\n",
       "<table border=\"1\" class=\"dataframe\">\n",
       "  <thead>\n",
       "    <tr style=\"text-align: right;\">\n",
       "      <th></th>\n",
       "      <th>GAMEID</th>\n",
       "      <th>PARTICIPANTID</th>\n",
       "      <th>G_5</th>\n",
       "      <th>G_6</th>\n",
       "      <th>G_7</th>\n",
       "      <th>G_8</th>\n",
       "      <th>G_9</th>\n",
       "      <th>G_10</th>\n",
       "      <th>G_11</th>\n",
       "      <th>G_12</th>\n",
       "      <th>...</th>\n",
       "      <th>G_16</th>\n",
       "      <th>G_17</th>\n",
       "      <th>G_18</th>\n",
       "      <th>G_19</th>\n",
       "      <th>G_20</th>\n",
       "      <th>G_21</th>\n",
       "      <th>G_22</th>\n",
       "      <th>G_23</th>\n",
       "      <th>G_24</th>\n",
       "      <th>G_25</th>\n",
       "    </tr>\n",
       "  </thead>\n",
       "  <tbody>\n",
       "    <tr>\n",
       "      <th>0</th>\n",
       "      <td>KR_5546419545</td>\n",
       "      <td>8</td>\n",
       "      <td>1901</td>\n",
       "      <td>2222</td>\n",
       "      <td>2473</td>\n",
       "      <td>2839</td>\n",
       "      <td>3181</td>\n",
       "      <td>3390</td>\n",
       "      <td>3798</td>\n",
       "      <td>5160</td>\n",
       "      <td>...</td>\n",
       "      <td>6878</td>\n",
       "      <td>7734</td>\n",
       "      <td>8052</td>\n",
       "      <td>8363</td>\n",
       "      <td>8836</td>\n",
       "      <td>9163</td>\n",
       "      <td>9380</td>\n",
       "      <td>9836</td>\n",
       "      <td>9959</td>\n",
       "      <td>9987</td>\n",
       "    </tr>\n",
       "    <tr>\n",
       "      <th>1</th>\n",
       "      <td>KR_5546419545</td>\n",
       "      <td>9</td>\n",
       "      <td>1455</td>\n",
       "      <td>1690</td>\n",
       "      <td>2004</td>\n",
       "      <td>2314</td>\n",
       "      <td>2647</td>\n",
       "      <td>2846</td>\n",
       "      <td>3053</td>\n",
       "      <td>3429</td>\n",
       "      <td>...</td>\n",
       "      <td>4514</td>\n",
       "      <td>5316</td>\n",
       "      <td>5544</td>\n",
       "      <td>6391</td>\n",
       "      <td>7218</td>\n",
       "      <td>7564</td>\n",
       "      <td>8002</td>\n",
       "      <td>8125</td>\n",
       "      <td>8292</td>\n",
       "      <td>8321</td>\n",
       "    </tr>\n",
       "    <tr>\n",
       "      <th>2</th>\n",
       "      <td>KR_5546419545</td>\n",
       "      <td>10</td>\n",
       "      <td>1528</td>\n",
       "      <td>1726</td>\n",
       "      <td>1960</td>\n",
       "      <td>2454</td>\n",
       "      <td>2652</td>\n",
       "      <td>2812</td>\n",
       "      <td>2993</td>\n",
       "      <td>3546</td>\n",
       "      <td>...</td>\n",
       "      <td>4291</td>\n",
       "      <td>4706</td>\n",
       "      <td>4847</td>\n",
       "      <td>5172</td>\n",
       "      <td>5462</td>\n",
       "      <td>5653</td>\n",
       "      <td>5907</td>\n",
       "      <td>6048</td>\n",
       "      <td>6188</td>\n",
       "      <td>6221</td>\n",
       "    </tr>\n",
       "    <tr>\n",
       "      <th>3</th>\n",
       "      <td>KR_5369354045</td>\n",
       "      <td>1</td>\n",
       "      <td>1627</td>\n",
       "      <td>2218</td>\n",
       "      <td>2929</td>\n",
       "      <td>3630</td>\n",
       "      <td>3837</td>\n",
       "      <td>4113</td>\n",
       "      <td>4681</td>\n",
       "      <td>5070</td>\n",
       "      <td>...</td>\n",
       "      <td>6438</td>\n",
       "      <td>7039</td>\n",
       "      <td>7671</td>\n",
       "      <td>7948</td>\n",
       "      <td>8553</td>\n",
       "      <td>9343</td>\n",
       "      <td>10108</td>\n",
       "      <td>10280</td>\n",
       "      <td>10805</td>\n",
       "      <td>12594</td>\n",
       "    </tr>\n",
       "    <tr>\n",
       "      <th>4</th>\n",
       "      <td>KR_5369354045</td>\n",
       "      <td>2</td>\n",
       "      <td>1365</td>\n",
       "      <td>1707</td>\n",
       "      <td>1924</td>\n",
       "      <td>2275</td>\n",
       "      <td>2498</td>\n",
       "      <td>2883</td>\n",
       "      <td>3154</td>\n",
       "      <td>3454</td>\n",
       "      <td>...</td>\n",
       "      <td>4560</td>\n",
       "      <td>4906</td>\n",
       "      <td>5304</td>\n",
       "      <td>5562</td>\n",
       "      <td>5960</td>\n",
       "      <td>6098</td>\n",
       "      <td>6875</td>\n",
       "      <td>7813</td>\n",
       "      <td>8036</td>\n",
       "      <td>8208</td>\n",
       "    </tr>\n",
       "    <tr>\n",
       "      <th>...</th>\n",
       "      <td>...</td>\n",
       "      <td>...</td>\n",
       "      <td>...</td>\n",
       "      <td>...</td>\n",
       "      <td>...</td>\n",
       "      <td>...</td>\n",
       "      <td>...</td>\n",
       "      <td>...</td>\n",
       "      <td>...</td>\n",
       "      <td>...</td>\n",
       "      <td>...</td>\n",
       "      <td>...</td>\n",
       "      <td>...</td>\n",
       "      <td>...</td>\n",
       "      <td>...</td>\n",
       "      <td>...</td>\n",
       "      <td>...</td>\n",
       "      <td>...</td>\n",
       "      <td>...</td>\n",
       "      <td>...</td>\n",
       "      <td>...</td>\n",
       "    </tr>\n",
       "    <tr>\n",
       "      <th>775</th>\n",
       "      <td>KR_5387760958</td>\n",
       "      <td>6</td>\n",
       "      <td>3865</td>\n",
       "      <td>4323</td>\n",
       "      <td>5402</td>\n",
       "      <td>6124</td>\n",
       "      <td>6578</td>\n",
       "      <td>7341</td>\n",
       "      <td>7838</td>\n",
       "      <td>8331</td>\n",
       "      <td>...</td>\n",
       "      <td>11575</td>\n",
       "      <td>11958</td>\n",
       "      <td>12490</td>\n",
       "      <td>13440</td>\n",
       "      <td>14477</td>\n",
       "      <td>14837</td>\n",
       "      <td>15927</td>\n",
       "      <td>0</td>\n",
       "      <td>0</td>\n",
       "      <td>0</td>\n",
       "    </tr>\n",
       "    <tr>\n",
       "      <th>776</th>\n",
       "      <td>KR_5387760958</td>\n",
       "      <td>7</td>\n",
       "      <td>3594</td>\n",
       "      <td>4092</td>\n",
       "      <td>4518</td>\n",
       "      <td>4896</td>\n",
       "      <td>5384</td>\n",
       "      <td>6641</td>\n",
       "      <td>7079</td>\n",
       "      <td>7495</td>\n",
       "      <td>...</td>\n",
       "      <td>10239</td>\n",
       "      <td>10872</td>\n",
       "      <td>11440</td>\n",
       "      <td>12330</td>\n",
       "      <td>12690</td>\n",
       "      <td>13080</td>\n",
       "      <td>13949</td>\n",
       "      <td>0</td>\n",
       "      <td>0</td>\n",
       "      <td>0</td>\n",
       "    </tr>\n",
       "    <tr>\n",
       "      <th>777</th>\n",
       "      <td>KR_5387760958</td>\n",
       "      <td>8</td>\n",
       "      <td>3418</td>\n",
       "      <td>3808</td>\n",
       "      <td>4297</td>\n",
       "      <td>4831</td>\n",
       "      <td>5242</td>\n",
       "      <td>5705</td>\n",
       "      <td>6215</td>\n",
       "      <td>6575</td>\n",
       "      <td>...</td>\n",
       "      <td>8847</td>\n",
       "      <td>9300</td>\n",
       "      <td>9798</td>\n",
       "      <td>10274</td>\n",
       "      <td>10703</td>\n",
       "      <td>11129</td>\n",
       "      <td>12081</td>\n",
       "      <td>0</td>\n",
       "      <td>0</td>\n",
       "      <td>0</td>\n",
       "    </tr>\n",
       "    <tr>\n",
       "      <th>778</th>\n",
       "      <td>KR_5387760958</td>\n",
       "      <td>9</td>\n",
       "      <td>3712</td>\n",
       "      <td>4304</td>\n",
       "      <td>4860</td>\n",
       "      <td>5557</td>\n",
       "      <td>6272</td>\n",
       "      <td>6758</td>\n",
       "      <td>7704</td>\n",
       "      <td>8091</td>\n",
       "      <td>...</td>\n",
       "      <td>11744</td>\n",
       "      <td>12251</td>\n",
       "      <td>13080</td>\n",
       "      <td>13625</td>\n",
       "      <td>13985</td>\n",
       "      <td>14881</td>\n",
       "      <td>16017</td>\n",
       "      <td>0</td>\n",
       "      <td>0</td>\n",
       "      <td>0</td>\n",
       "    </tr>\n",
       "    <tr>\n",
       "      <th>779</th>\n",
       "      <td>KR_5387760958</td>\n",
       "      <td>10</td>\n",
       "      <td>4073</td>\n",
       "      <td>4621</td>\n",
       "      <td>5320</td>\n",
       "      <td>5938</td>\n",
       "      <td>6328</td>\n",
       "      <td>6786</td>\n",
       "      <td>7517</td>\n",
       "      <td>7967</td>\n",
       "      <td>...</td>\n",
       "      <td>10910</td>\n",
       "      <td>11413</td>\n",
       "      <td>11846</td>\n",
       "      <td>12337</td>\n",
       "      <td>12940</td>\n",
       "      <td>13482</td>\n",
       "      <td>14220</td>\n",
       "      <td>0</td>\n",
       "      <td>0</td>\n",
       "      <td>0</td>\n",
       "    </tr>\n",
       "  </tbody>\n",
       "</table>\n",
       "<p>780 rows × 23 columns</p>\n",
       "</div>"
      ],
      "text/plain": [
       "            GAMEID  PARTICIPANTID   G_5   G_6   G_7   G_8   G_9  G_10  G_11  \\\n",
       "0    KR_5546419545              8  1901  2222  2473  2839  3181  3390  3798   \n",
       "1    KR_5546419545              9  1455  1690  2004  2314  2647  2846  3053   \n",
       "2    KR_5546419545             10  1528  1726  1960  2454  2652  2812  2993   \n",
       "3    KR_5369354045              1  1627  2218  2929  3630  3837  4113  4681   \n",
       "4    KR_5369354045              2  1365  1707  1924  2275  2498  2883  3154   \n",
       "..             ...            ...   ...   ...   ...   ...   ...   ...   ...   \n",
       "775  KR_5387760958              6  3865  4323  5402  6124  6578  7341  7838   \n",
       "776  KR_5387760958              7  3594  4092  4518  4896  5384  6641  7079   \n",
       "777  KR_5387760958              8  3418  3808  4297  4831  5242  5705  6215   \n",
       "778  KR_5387760958              9  3712  4304  4860  5557  6272  6758  7704   \n",
       "779  KR_5387760958             10  4073  4621  5320  5938  6328  6786  7517   \n",
       "\n",
       "     G_12  ...   G_16   G_17   G_18   G_19   G_20   G_21   G_22   G_23   G_24  \\\n",
       "0    5160  ...   6878   7734   8052   8363   8836   9163   9380   9836   9959   \n",
       "1    3429  ...   4514   5316   5544   6391   7218   7564   8002   8125   8292   \n",
       "2    3546  ...   4291   4706   4847   5172   5462   5653   5907   6048   6188   \n",
       "3    5070  ...   6438   7039   7671   7948   8553   9343  10108  10280  10805   \n",
       "4    3454  ...   4560   4906   5304   5562   5960   6098   6875   7813   8036   \n",
       "..    ...  ...    ...    ...    ...    ...    ...    ...    ...    ...    ...   \n",
       "775  8331  ...  11575  11958  12490  13440  14477  14837  15927      0      0   \n",
       "776  7495  ...  10239  10872  11440  12330  12690  13080  13949      0      0   \n",
       "777  6575  ...   8847   9300   9798  10274  10703  11129  12081      0      0   \n",
       "778  8091  ...  11744  12251  13080  13625  13985  14881  16017      0      0   \n",
       "779  7967  ...  10910  11413  11846  12337  12940  13482  14220      0      0   \n",
       "\n",
       "      G_25  \n",
       "0     9987  \n",
       "1     8321  \n",
       "2     6221  \n",
       "3    12594  \n",
       "4     8208  \n",
       "..     ...  \n",
       "775      0  \n",
       "776      0  \n",
       "777      0  \n",
       "778      0  \n",
       "779      0  \n",
       "\n",
       "[780 rows x 23 columns]"
      ]
     },
     "execution_count": 18,
     "metadata": {},
     "output_type": "execute_result"
    }
   ],
   "source": [
    "res = mu.sql_excute('select * from timeline_data')\n",
    "res"
   ]
  },
  {
   "cell_type": "code",
   "execution_count": 6,
   "metadata": {},
   "outputs": [
    {
     "name": "stdout",
     "output_type": "stream",
     "text": [
      "close!\n"
     ]
    }
   ],
   "source": [
    "mu.db_close()"
   ]
  },
  {
   "cell_type": "code",
   "execution_count": 2,
   "metadata": {},
   "outputs": [],
   "source": [
    "import time"
   ]
  },
  {
   "cell_type": "code",
   "execution_count": 12,
   "metadata": {},
   "outputs": [
    {
     "name": "stderr",
     "output_type": "stream",
     "text": [
      "100%|████████████████████████████████████████████████████████████████████████████████████| 4/4 [00:01<00:00,  3.25it/s]\n"
     ]
    },
    {
     "name": "stdout",
     "output_type": "stream",
     "text": [
      "get summonerName...\n",
      "get puuid...\n"
     ]
    },
    {
     "name": "stderr",
     "output_type": "stream",
     "text": [
      "100%|██████████████████████████████████████████████████████████████████████████████████| 20/20 [00:05<00:00,  3.99it/s]\n"
     ]
    },
    {
     "name": "stdout",
     "output_type": "stream",
     "text": [
      "get matchId...\n"
     ]
    },
    {
     "name": "stderr",
     "output_type": "stream",
     "text": [
      "100%|██████████████████████████████████████████████████████████████████████████████████| 20/20 [00:05<00:00,  4.00it/s]\n"
     ]
    },
    {
     "name": "stdout",
     "output_type": "stream",
     "text": [
      "get match & timeline...\n"
     ]
    },
    {
     "name": "stderr",
     "output_type": "stream",
     "text": [
      "100%|██████████████████████████████████████████████████████████████████████████████████| 40/40 [00:35<00:00,  1.14it/s]\n"
     ]
    },
    {
     "name": "stdout",
     "output_type": "stream",
     "text": [
      "complete!\n",
      "get matches & timelines...\n"
     ]
    },
    {
     "name": "stderr",
     "output_type": "stream",
     "text": [
      "100%|██████████████████████████████████████████████████████████████████████████████████| 40/40 [00:00<00:00, 42.12it/s]\n"
     ]
    },
    {
     "name": "stdout",
     "output_type": "stream",
     "text": [
      "match_df length:  360\n",
      "timeline_df length:  360\n",
      "complete!\n",
      "open!\n"
     ]
    },
    {
     "name": "stderr",
     "output_type": "stream",
     "text": [
      "100%|███████████████████████████████████████████████████████████████████████████████| 360/360 [00:00<00:00, 514.55it/s]\n",
      "100%|███████████████████████████████████████████████████████████████████████████████| 360/360 [00:00<00:00, 443.71it/s]"
     ]
    },
    {
     "name": "stdout",
     "output_type": "stream",
     "text": [
      "close!\n"
     ]
    },
    {
     "name": "stderr",
     "output_type": "stream",
     "text": [
      "\n"
     ]
    },
    {
     "ename": "NameError",
     "evalue": "name 'time' is not defined",
     "output_type": "error",
     "traceback": [
      "\u001b[1;31m---------------------------------------------------------------------------\u001b[0m",
      "\u001b[1;31mNameError\u001b[0m                                 Traceback (most recent call last)",
      "\u001b[1;32m<ipython-input-12-8b0d4ceb4929>\u001b[0m in \u001b[0;36m<module>\u001b[1;34m\u001b[0m\n\u001b[0;32m     12\u001b[0m     \u001b[0mtimeline_df\u001b[0m\u001b[1;33m.\u001b[0m\u001b[0mprogress_apply\u001b[0m\u001b[1;33m(\u001b[0m\u001b[1;32mlambda\u001b[0m \u001b[0mx\u001b[0m\u001b[1;33m:\u001b[0m \u001b[0mtimeline_insert\u001b[0m\u001b[1;33m(\u001b[0m\u001b[0mx\u001b[0m\u001b[1;33m)\u001b[0m\u001b[1;33m,\u001b[0m \u001b[0maxis\u001b[0m\u001b[1;33m=\u001b[0m\u001b[1;36m1\u001b[0m\u001b[1;33m)\u001b[0m\u001b[1;33m\u001b[0m\u001b[1;33m\u001b[0m\u001b[0m\n\u001b[0;32m     13\u001b[0m     \u001b[0mmu\u001b[0m\u001b[1;33m.\u001b[0m\u001b[0mdb_close\u001b[0m\u001b[1;33m(\u001b[0m\u001b[1;33m)\u001b[0m\u001b[1;33m\u001b[0m\u001b[1;33m\u001b[0m\u001b[0m\n\u001b[1;32m---> 14\u001b[1;33m     \u001b[0mtime\u001b[0m\u001b[1;33m.\u001b[0m\u001b[0msleep\u001b[0m\u001b[1;33m(\u001b[0m\u001b[1;36m100\u001b[0m\u001b[1;33m)\u001b[0m\u001b[1;33m\u001b[0m\u001b[1;33m\u001b[0m\u001b[0m\n\u001b[0m",
      "\u001b[1;31mNameError\u001b[0m: name 'time' is not defined"
     ]
    }
   ],
   "source": [
    "for i in range(5):\n",
    "    # api 사용하여 raw data 수집\n",
    "    tier = 'GOLD'\n",
    "    raw_data = mu.get_rawData(tier)\n",
    "\n",
    "    # raw data 사용하여 match, timeline dataframe 생성\n",
    "    match_df, timeline_df = mu.get_match_timeline_df(raw_data)\n",
    "\n",
    "    # match, timeline dataframe db insert\n",
    "    mu.db_open()\n",
    "    match_df.progress_apply(lambda x: match_insert(x), axis=1)\n",
    "    timeline_df.progress_apply(lambda x: timeline_insert(x), axis=1)\n",
    "    mu.db_close()\n",
    "    time.sleep(100)"
   ]
  },
  {
   "cell_type": "code",
   "execution_count": 14,
   "metadata": {},
   "outputs": [
    {
     "name": "stdout",
     "output_type": "stream",
     "text": [
      "open!\n",
      "Execution failed on sql 'select * from match_data': ORA-00942: 테이블 또는 뷰가 존재하지 않습니다\n",
      "close!\n"
     ]
    }
   ],
   "source": [
    "mu.db_open()\n",
    "df = mu.sql_excute('select * from match_data')\n",
    "mu.db_close()\n",
    "df"
   ]
  },
  {
   "cell_type": "code",
   "execution_count": null,
   "metadata": {},
   "outputs": [],
   "source": []
  },
  {
   "cell_type": "code",
   "execution_count": null,
   "metadata": {},
   "outputs": [],
   "source": []
  }
 ],
 "metadata": {
  "kernelspec": {
   "display_name": "Python 3",
   "language": "python",
   "name": "python3"
  },
  "language_info": {
   "codemirror_mode": {
    "name": "ipython",
    "version": 3
   },
   "file_extension": ".py",
   "mimetype": "text/x-python",
   "name": "python",
   "nbconvert_exporter": "python",
   "pygments_lexer": "ipython3",
   "version": "3.7.6"
  }
 },
 "nbformat": 4,
 "nbformat_minor": 5
}
