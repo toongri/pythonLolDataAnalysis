{
 "cells": [
  {
   "cell_type": "code",
   "execution_count": 5,
   "metadata": {},
   "outputs": [],
   "source": [
    "from random import sample\n",
    "import random\n",
    "from tqdm import tqdm\n",
    "import my_utils as mu\n",
    "import pandas as pd\n",
    "import requests\n",
    "tqdm.pandas()"
   ]
  },
  {
   "cell_type": "markdown",
   "metadata": {},
   "source": [
    "- gold 구간\n",
    "- 첫 df gameId, match, timeline"
   ]
  },
  {
   "cell_type": "code",
   "execution_count": 6,
   "metadata": {},
   "outputs": [],
   "source": [
    "tier_lst = ['I','II','III','IV']"
   ]
  },
  {
   "cell_type": "code",
   "execution_count": 7,
   "metadata": {},
   "outputs": [
    {
     "name": "stderr",
     "output_type": "stream",
     "text": [
      "100%|████████████████████████████████████████████████████████████████████████████████████| 4/4 [00:02<00:00,  1.78it/s]\n"
     ]
    }
   ],
   "source": [
    "lst = []\n",
    "p = random.randrange(1,10)\n",
    "for t in tqdm(tier_lst):\n",
    "    url='https://kr.api.riotgames.com/lol/league/v4/entries/RANKED_SOLO_5x5/GOLD/'+t+'?page='+str(p)+'&api_key='+mu.riot_api_key\n",
    "    res=requests.get(url).json()\n",
    "    lst = lst+sample(res, 5)"
   ]
  },
  {
   "cell_type": "code",
   "execution_count": 8,
   "metadata": {},
   "outputs": [
    {
     "data": {
      "text/plain": [
       "20"
      ]
     },
     "execution_count": 8,
     "metadata": {},
     "output_type": "execute_result"
    }
   ],
   "source": [
    "len(lst)"
   ]
  },
  {
   "cell_type": "code",
   "execution_count": 9,
   "metadata": {
    "scrolled": true
   },
   "outputs": [
    {
     "data": {
      "text/plain": [
       "['말년에오엘',\n",
       " '보그다노비치',\n",
       " '쾌 또 ',\n",
       " '빨리찾지마',\n",
       " '13억',\n",
       " '국밥오징어젓갈',\n",
       " '투 척',\n",
       " '아리 꼬리털 한가닥',\n",
       " 'lllIIlllIlI',\n",
       " '쉬 이 바',\n",
       " '앞구르기후뒷점멸',\n",
       " '방패용사의성공담',\n",
       " '세브란스 공주',\n",
       " '정치하면 CS통제',\n",
       " 'lilliililllilil',\n",
       " '비션갱 창모',\n",
       " '오른누나아칼리',\n",
       " 'bjhun1',\n",
       " '꼰대 할아버지',\n",
       " 'hibit']"
      ]
     },
     "execution_count": 9,
     "metadata": {},
     "output_type": "execute_result"
    }
   ],
   "source": [
    "summonerName_lst = list(map(lambda x: x['summonerName'], lst))\n",
    "summonerName_lst"
   ]
  },
  {
   "cell_type": "code",
   "execution_count": 10,
   "metadata": {},
   "outputs": [
    {
     "name": "stderr",
     "output_type": "stream",
     "text": [
      "100%|██████████████████████████████████████████████████████████████████████████████████| 20/20 [00:06<00:00,  3.31it/s]\n"
     ]
    }
   ],
   "source": [
    "puuid_lst = []\n",
    "for n in tqdm(summonerName_lst):\n",
    "    try:\n",
    "        puuid_lst.append(mu.get_puuid(n))\n",
    "    except:\n",
    "        continue"
   ]
  },
  {
   "cell_type": "code",
   "execution_count": 11,
   "metadata": {},
   "outputs": [
    {
     "data": {
      "text/plain": [
       "20"
      ]
     },
     "execution_count": 11,
     "metadata": {},
     "output_type": "execute_result"
    }
   ],
   "source": [
    "len(puuid_lst)"
   ]
  },
  {
   "cell_type": "code",
   "execution_count": 12,
   "metadata": {},
   "outputs": [
    {
     "name": "stderr",
     "output_type": "stream",
     "text": [
      "100%|██████████████████████████████████████████████████████████████████████████████████| 20/20 [00:05<00:00,  3.63it/s]\n"
     ]
    }
   ],
   "source": [
    "matchId_lst = []\n",
    "for p in tqdm(puuid_lst):\n",
    "    matchId_lst = matchId_lst + mu.get_matchId(p, 2)"
   ]
  },
  {
   "cell_type": "code",
   "execution_count": 13,
   "metadata": {},
   "outputs": [
    {
     "data": {
      "text/plain": [
       "40"
      ]
     },
     "execution_count": 13,
     "metadata": {},
     "output_type": "execute_result"
    }
   ],
   "source": [
    "len(matchId_lst)"
   ]
  },
  {
   "cell_type": "code",
   "execution_count": 14,
   "metadata": {},
   "outputs": [],
   "source": [
    "import time"
   ]
  },
  {
   "cell_type": "code",
   "execution_count": 15,
   "metadata": {},
   "outputs": [
    {
     "name": "stdout",
     "output_type": "stream",
     "text": [
      "test\n"
     ]
    }
   ],
   "source": [
    "time.sleep(5)\n",
    "print('test')"
   ]
  },
  {
   "cell_type": "code",
   "execution_count": 16,
   "metadata": {},
   "outputs": [
    {
     "name": "stderr",
     "output_type": "stream",
     "text": [
      "100%|██████████████████████████████████████████████████████████████████████████████████| 40/40 [00:38<00:00,  1.04it/s]\n"
     ]
    }
   ],
   "source": [
    "tmp = []\n",
    "for m_id in tqdm(matchId_lst):\n",
    "    tmp_lst = []\n",
    "    tmp_lst.append(m_id)\n",
    "    matches, timelines = mu.get_matches_timelines(m_id)\n",
    "    tmp_lst.append(matches)\n",
    "    tmp_lst.append(timelines)\n",
    "    tmp.append(tmp_lst)"
   ]
  },
  {
   "cell_type": "code",
   "execution_count": 17,
   "metadata": {},
   "outputs": [
    {
     "data": {
      "text/plain": [
       "40"
      ]
     },
     "execution_count": 17,
     "metadata": {},
     "output_type": "execute_result"
    }
   ],
   "source": [
    "len(tmp)"
   ]
  },
  {
   "cell_type": "code",
   "execution_count": 18,
   "metadata": {},
   "outputs": [
    {
     "data": {
      "text/html": [
       "<div>\n",
       "<style scoped>\n",
       "    .dataframe tbody tr th:only-of-type {\n",
       "        vertical-align: middle;\n",
       "    }\n",
       "\n",
       "    .dataframe tbody tr th {\n",
       "        vertical-align: top;\n",
       "    }\n",
       "\n",
       "    .dataframe thead th {\n",
       "        text-align: right;\n",
       "    }\n",
       "</style>\n",
       "<table border=\"1\" class=\"dataframe\">\n",
       "  <thead>\n",
       "    <tr style=\"text-align: right;\">\n",
       "      <th></th>\n",
       "      <th>gameId</th>\n",
       "      <th>match</th>\n",
       "      <th>timeline</th>\n",
       "    </tr>\n",
       "  </thead>\n",
       "  <tbody>\n",
       "    <tr>\n",
       "      <th>0</th>\n",
       "      <td>KR_5537052574</td>\n",
       "      <td>{'metadata': {'dataVersion': '2', 'matchId': '...</td>\n",
       "      <td>{'metadata': {'dataVersion': '2', 'matchId': '...</td>\n",
       "    </tr>\n",
       "    <tr>\n",
       "      <th>1</th>\n",
       "      <td>KR_5526042196</td>\n",
       "      <td>{'metadata': {'dataVersion': '2', 'matchId': '...</td>\n",
       "      <td>{'metadata': {'dataVersion': '2', 'matchId': '...</td>\n",
       "    </tr>\n",
       "    <tr>\n",
       "      <th>2</th>\n",
       "      <td>KR_5405682235</td>\n",
       "      <td>{'metadata': {'dataVersion': '2', 'matchId': '...</td>\n",
       "      <td>{'metadata': {'dataVersion': '2', 'matchId': '...</td>\n",
       "    </tr>\n",
       "    <tr>\n",
       "      <th>3</th>\n",
       "      <td>KR_5405598379</td>\n",
       "      <td>{'metadata': {'dataVersion': '2', 'matchId': '...</td>\n",
       "      <td>{'metadata': {'dataVersion': '2', 'matchId': '...</td>\n",
       "    </tr>\n",
       "    <tr>\n",
       "      <th>4</th>\n",
       "      <td>KR_5414479127</td>\n",
       "      <td>{'metadata': {'dataVersion': '2', 'matchId': '...</td>\n",
       "      <td>{'metadata': {'dataVersion': '2', 'matchId': '...</td>\n",
       "    </tr>\n",
       "  </tbody>\n",
       "</table>\n",
       "</div>"
      ],
      "text/plain": [
       "          gameId                                              match  \\\n",
       "0  KR_5537052574  {'metadata': {'dataVersion': '2', 'matchId': '...   \n",
       "1  KR_5526042196  {'metadata': {'dataVersion': '2', 'matchId': '...   \n",
       "2  KR_5405682235  {'metadata': {'dataVersion': '2', 'matchId': '...   \n",
       "3  KR_5405598379  {'metadata': {'dataVersion': '2', 'matchId': '...   \n",
       "4  KR_5414479127  {'metadata': {'dataVersion': '2', 'matchId': '...   \n",
       "\n",
       "                                            timeline  \n",
       "0  {'metadata': {'dataVersion': '2', 'matchId': '...  \n",
       "1  {'metadata': {'dataVersion': '2', 'matchId': '...  \n",
       "2  {'metadata': {'dataVersion': '2', 'matchId': '...  \n",
       "3  {'metadata': {'dataVersion': '2', 'matchId': '...  \n",
       "4  {'metadata': {'dataVersion': '2', 'matchId': '...  "
      ]
     },
     "execution_count": 18,
     "metadata": {},
     "output_type": "execute_result"
    }
   ],
   "source": [
    "df = pd.DataFrame(tmp, columns = ['gameId','match','timeline'])\n",
    "df.head()"
   ]
  },
  {
   "cell_type": "markdown",
   "metadata": {},
   "source": [
    "## 데이터 수집 함수화\n",
    "- 1) gameId, match, timeline 으로 구성된 원시데이터 df 만드는 함수 (인자값으로 티어 ex.gold silver )\n",
    "- 2) 원시데이터 df를 input 넣어서 output으로 match_df, timeline_df (인자값이 원시데이터 df)\n",
    "- match_df ['gameId','gameDuration','gameVersion','summonerName','summonerLevel','participantId','championName',\n",
    "  'champExperience','teamPosition','teamId','win','kills','deaths','assists',\n",
    "  'totalDamageDealtToChampions','totalDamageTaken']\n",
    "- timeline_df ['gameId','participantId','g5','g6' ~ 'g25']\n",
    "- 3) db에 insert (인자값이 전처리를 진행한 match_df, timeline_df)\n",
    "- match_pk, timeline_pk = gameId, participantId\n",
    "- insert 하기전에 dataframe 중복제거\n",
    "- match_df, timeline_df 컬럼값 임의로 추천해드린것 - 추후 프로젝트에 개인적으로 필요한 데이터가 있을시 추가해서 수집 가능"
   ]
  },
  {
   "cell_type": "code",
   "execution_count": 8,
   "metadata": {},
   "outputs": [],
   "source": [
    "riot_api_key = 'RGAPI-b7be75a2-cbe2-4837-9ec5-d66317ee9750'"
   ]
  },
  {
   "cell_type": "code",
   "execution_count": 9,
   "metadata": {},
   "outputs": [],
   "source": [
    "def get_rawData(tier):\n",
    "    tier_lst = ['I','II','III','IV']\n",
    "    lst = []\n",
    "    p = random.randrange(1,10)\n",
    "    \n",
    "    # riot api\n",
    "    for t in tqdm(tier_lst):\n",
    "        url='https://kr.api.riotgames.com/lol/league/v4/entries/RANKED_SOLO_5x5/'+tier+'/'+t+'?page='+str(p)+'&api_key='+riot_api_key\n",
    "        res = requests.get(url).json()\n",
    "        lst = lst+sample(res, 5)\n",
    "    \n",
    "    # summonerName\n",
    "    print('get summonerName...')\n",
    "    summonerName_lst = list(map(lambda x: x['summonerName'], lst))\n",
    "    \n",
    "    # puuid\n",
    "    print('get puuid...')\n",
    "    puuid_lst = []\n",
    "    for n in tqdm(summonerName_lst):\n",
    "        try:\n",
    "            puuid_lst.append(mu.get_puuid(n))\n",
    "        except:\n",
    "            continue\n",
    "            \n",
    "    # matchId\n",
    "    print('get matchId...')\n",
    "    matchId_lst = []\n",
    "    for p in tqdm(puuid_lst):\n",
    "        matchId_lst = matchId_lst+mu.get_matchId(p, 2)\n",
    "        \n",
    "    # match, timeline\n",
    "    print('get match & timeline...')\n",
    "    tmp = []\n",
    "    for m_id in tqdm(matchId_lst):\n",
    "        tmp_lst = []\n",
    "        tmp_lst.append(m_id)\n",
    "        matches, timelines = mu.get_matches_timelines(m_id)\n",
    "        tmp_lst.append(matches)\n",
    "        tmp_lst.append(timelines)\n",
    "        tmp.append(tmp_lst)\n",
    "    \n",
    "    df = pd.DataFrame(tmp, columns = ['gameId','match','timeline'])\n",
    "    print('complete!')\n",
    "    return df"
   ]
  },
  {
   "cell_type": "code",
   "execution_count": 10,
   "metadata": {},
   "outputs": [
    {
     "name": "stderr",
     "output_type": "stream",
     "text": [
      "100%|████████████████████████████████████████████████████████████████████████████████████| 4/4 [00:01<00:00,  2.86it/s]\n",
      "  0%|                                                                                           | 0/20 [00:00<?, ?it/s]"
     ]
    },
    {
     "name": "stdout",
     "output_type": "stream",
     "text": [
      "get summonerName...\n",
      "get puuid...\n"
     ]
    },
    {
     "name": "stderr",
     "output_type": "stream",
     "text": [
      "100%|██████████████████████████████████████████████████████████████████████████████████| 20/20 [00:05<00:00,  3.66it/s]\n",
      "  0%|                                                                                           | 0/19 [00:00<?, ?it/s]"
     ]
    },
    {
     "name": "stdout",
     "output_type": "stream",
     "text": [
      "get matchId...\n"
     ]
    },
    {
     "name": "stderr",
     "output_type": "stream",
     "text": [
      "100%|██████████████████████████████████████████████████████████████████████████████████| 19/19 [00:04<00:00,  3.95it/s]\n",
      "  0%|                                                                                           | 0/38 [00:00<?, ?it/s]"
     ]
    },
    {
     "name": "stdout",
     "output_type": "stream",
     "text": [
      "get match & timeline...\n"
     ]
    },
    {
     "name": "stderr",
     "output_type": "stream",
     "text": [
      "100%|██████████████████████████████████████████████████████████████████████████████████| 38/38 [00:38<00:00,  1.02s/it]"
     ]
    },
    {
     "name": "stdout",
     "output_type": "stream",
     "text": [
      "complete!\n"
     ]
    },
    {
     "name": "stderr",
     "output_type": "stream",
     "text": [
      "\n"
     ]
    }
   ],
   "source": [
    "tier = 'GOLD'\n",
    "raw_data = get_rawData(tier)"
   ]
  },
  {
   "cell_type": "code",
   "execution_count": 29,
   "metadata": {},
   "outputs": [
    {
     "data": {
      "text/plain": [
       "'CLASSIC'"
      ]
     },
     "execution_count": 29,
     "metadata": {},
     "output_type": "execute_result"
    }
   ],
   "source": [
    "raw_data.iloc[0].match['info']['gameMode']"
   ]
  },
  {
   "cell_type": "code",
   "execution_count": null,
   "metadata": {},
   "outputs": [],
   "source": []
  },
  {
   "cell_type": "code",
   "execution_count": 11,
   "metadata": {},
   "outputs": [],
   "source": [
    "def get_match_timeline_df(df):\n",
    "    print('get matches & timelines...')\n",
    "    match_lst = []\n",
    "    timeline_lst = []\n",
    "    for i in tqdm(range(len(df))):\n",
    "        if df.iloc[i].match['info']['gameMode'] == 'CLASSIC':\n",
    "            # matches\n",
    "            for j in range(10):\n",
    "                tmp = []\n",
    "                tmp.append(df.iloc[i].gameId)\n",
    "                tmp.append(df.iloc[i].match['info']['gameDuration'])\n",
    "                tmp.append(df.iloc[i].match['info']['gameVersion'])\n",
    "                tmp.append(df.iloc[i].match['info']['participants'][j]['summonerName'])\n",
    "                tmp.append(df.iloc[i].match['info']['participants'][j]['summonerLevel'])\n",
    "                tmp.append(df.iloc[i].match['info']['participants'][j]['participantId'])\n",
    "                tmp.append(df.iloc[i].match['info']['participants'][j]['championName'])\n",
    "                tmp.append(df.iloc[i].match['info']['participants'][j]['champExperience'])\n",
    "                tmp.append(df.iloc[i].match['info']['participants'][j]['teamPosition'])\n",
    "                tmp.append(df.iloc[i].match['info']['participants'][j]['teamId'])\n",
    "                tmp.append(df.iloc[i].match['info']['participants'][j]['win'])\n",
    "                tmp.append(df.iloc[i].match['info']['participants'][j]['kills'])\n",
    "                tmp.append(df.iloc[i].match['info']['participants'][j]['deaths'])\n",
    "                tmp.append(df.iloc[i].match['info']['participants'][j]['assists'])\n",
    "                tmp.append(df.iloc[i].match['info']['participants'][j]['totalDamageDealtToChampions'])\n",
    "                tmp.append(df.iloc[i].match['info']['participants'][j]['totalDamageTaken'])\n",
    "                match_lst.append(tmp)\n",
    "                \n",
    "            # timelines\n",
    "            for j in range(1, 11):\n",
    "                tmp = []\n",
    "                tmp.append(df.iloc[i].gameId)\n",
    "                tmp.append(df.iloc[i].timeline['info']['frames'][0]['participantFrames'][str(j)]['participantId'])\n",
    "                for k in range(5, 26):\n",
    "                    try:\n",
    "                        tmp.append(df.iloc[i].timeline['info']['frames'][k]['participantFrames'][str(j)]['totalGold'])\n",
    "                    except:\n",
    "                        tmp.append(0)\n",
    "                timeline_lst.append(tmp)\n",
    "            \n",
    "    col = ['gameId','gameDuration','gameVersion','summonerName','summonerLevel','participantId','championName','champExperience',\n",
    "           'teamPosition','teamId','win','kills','deaths','assists','totalDamageDealtToChampions','totalDamageTaken']\n",
    "    m_df = pd.DataFrame(match_lst, columns=col).drop_duplicates()\n",
    "\n",
    "    col = ['gameId','participantId','g_5','g_6','g_7','g_8','g_9','g_10','g_11','g_12','g_13','g_14','g_15','g_16','g_17',\n",
    "           'g_18','g_19','g_20','g_21','g_22','g_23','g_24','g_25']\n",
    "    t_df = pd.DataFrame(timeline_lst, columns=col).drop_duplicates()\n",
    "    \n",
    "    print('match_df length: ',len(m_df))\n",
    "    print('timeline_df length: ',len(t_df))\n",
    "    print('complete!')\n",
    "    return m_df, t_df"
   ]
  },
  {
   "cell_type": "code",
   "execution_count": 12,
   "metadata": {},
   "outputs": [
    {
     "name": "stderr",
     "output_type": "stream",
     "text": [
      " 13%|██████████▉                                                                        | 5/38 [00:00<00:00, 43.79it/s]"
     ]
    },
    {
     "name": "stdout",
     "output_type": "stream",
     "text": [
      "get matches & timelines...\n"
     ]
    },
    {
     "name": "stderr",
     "output_type": "stream",
     "text": [
      "100%|██████████████████████████████████████████████████████████████████████████████████| 38/38 [00:01<00:00, 34.43it/s]"
     ]
    },
    {
     "name": "stdout",
     "output_type": "stream",
     "text": [
      "match_df length:  320\n",
      "timeline_df length:  320\n",
      "complete!\n"
     ]
    },
    {
     "name": "stderr",
     "output_type": "stream",
     "text": [
      "\n"
     ]
    }
   ],
   "source": [
    "match_df, timeline_df = get_match_timeline_df(raw_data)"
   ]
  },
  {
   "cell_type": "code",
   "execution_count": 13,
   "metadata": {},
   "outputs": [
    {
     "data": {
      "text/html": [
       "<div>\n",
       "<style scoped>\n",
       "    .dataframe tbody tr th:only-of-type {\n",
       "        vertical-align: middle;\n",
       "    }\n",
       "\n",
       "    .dataframe tbody tr th {\n",
       "        vertical-align: top;\n",
       "    }\n",
       "\n",
       "    .dataframe thead th {\n",
       "        text-align: right;\n",
       "    }\n",
       "</style>\n",
       "<table border=\"1\" class=\"dataframe\">\n",
       "  <thead>\n",
       "    <tr style=\"text-align: right;\">\n",
       "      <th></th>\n",
       "      <th>gameId</th>\n",
       "      <th>gameDuration</th>\n",
       "      <th>gameVersion</th>\n",
       "      <th>summonerName</th>\n",
       "      <th>summonerLevel</th>\n",
       "      <th>participantId</th>\n",
       "      <th>championName</th>\n",
       "      <th>champExperience</th>\n",
       "      <th>teamPosition</th>\n",
       "      <th>teamId</th>\n",
       "      <th>win</th>\n",
       "      <th>kills</th>\n",
       "      <th>deaths</th>\n",
       "      <th>assists</th>\n",
       "      <th>totalDamageDealtToChampions</th>\n",
       "      <th>totalDamageTaken</th>\n",
       "    </tr>\n",
       "  </thead>\n",
       "  <tbody>\n",
       "    <tr>\n",
       "      <th>0</th>\n",
       "      <td>KR_5569285312</td>\n",
       "      <td>1311</td>\n",
       "      <td>11.22.406.3587</td>\n",
       "      <td>마 난다리</td>\n",
       "      <td>591</td>\n",
       "      <td>1</td>\n",
       "      <td>Leblanc</td>\n",
       "      <td>8708</td>\n",
       "      <td>MIDDLE</td>\n",
       "      <td>100</td>\n",
       "      <td>False</td>\n",
       "      <td>4</td>\n",
       "      <td>6</td>\n",
       "      <td>1</td>\n",
       "      <td>7005</td>\n",
       "      <td>12876</td>\n",
       "    </tr>\n",
       "    <tr>\n",
       "      <th>1</th>\n",
       "      <td>KR_5569285312</td>\n",
       "      <td>1311</td>\n",
       "      <td>11.22.406.3587</td>\n",
       "      <td>거세폭격기</td>\n",
       "      <td>248</td>\n",
       "      <td>2</td>\n",
       "      <td>Caitlyn</td>\n",
       "      <td>9168</td>\n",
       "      <td>BOTTOM</td>\n",
       "      <td>100</td>\n",
       "      <td>False</td>\n",
       "      <td>4</td>\n",
       "      <td>4</td>\n",
       "      <td>5</td>\n",
       "      <td>8835</td>\n",
       "      <td>10562</td>\n",
       "    </tr>\n",
       "    <tr>\n",
       "      <th>2</th>\n",
       "      <td>KR_5569285312</td>\n",
       "      <td>1311</td>\n",
       "      <td>11.22.406.3587</td>\n",
       "      <td>마썽마</td>\n",
       "      <td>250</td>\n",
       "      <td>3</td>\n",
       "      <td>Maokai</td>\n",
       "      <td>7546</td>\n",
       "      <td>UTILITY</td>\n",
       "      <td>100</td>\n",
       "      <td>False</td>\n",
       "      <td>0</td>\n",
       "      <td>5</td>\n",
       "      <td>7</td>\n",
       "      <td>7511</td>\n",
       "      <td>11287</td>\n",
       "    </tr>\n",
       "    <tr>\n",
       "      <th>3</th>\n",
       "      <td>KR_5569285312</td>\n",
       "      <td>1311</td>\n",
       "      <td>11.22.406.3587</td>\n",
       "      <td>상어피규어</td>\n",
       "      <td>61</td>\n",
       "      <td>4</td>\n",
       "      <td>Diana</td>\n",
       "      <td>9355</td>\n",
       "      <td>JUNGLE</td>\n",
       "      <td>100</td>\n",
       "      <td>False</td>\n",
       "      <td>6</td>\n",
       "      <td>5</td>\n",
       "      <td>5</td>\n",
       "      <td>10147</td>\n",
       "      <td>18223</td>\n",
       "    </tr>\n",
       "    <tr>\n",
       "      <th>4</th>\n",
       "      <td>KR_5569285312</td>\n",
       "      <td>1311</td>\n",
       "      <td>11.22.406.3587</td>\n",
       "      <td>할수있는게머야</td>\n",
       "      <td>259</td>\n",
       "      <td>5</td>\n",
       "      <td>Irelia</td>\n",
       "      <td>7534</td>\n",
       "      <td>TOP</td>\n",
       "      <td>100</td>\n",
       "      <td>False</td>\n",
       "      <td>1</td>\n",
       "      <td>12</td>\n",
       "      <td>0</td>\n",
       "      <td>5014</td>\n",
       "      <td>20875</td>\n",
       "    </tr>\n",
       "    <tr>\n",
       "      <th>...</th>\n",
       "      <td>...</td>\n",
       "      <td>...</td>\n",
       "      <td>...</td>\n",
       "      <td>...</td>\n",
       "      <td>...</td>\n",
       "      <td>...</td>\n",
       "      <td>...</td>\n",
       "      <td>...</td>\n",
       "      <td>...</td>\n",
       "      <td>...</td>\n",
       "      <td>...</td>\n",
       "      <td>...</td>\n",
       "      <td>...</td>\n",
       "      <td>...</td>\n",
       "      <td>...</td>\n",
       "      <td>...</td>\n",
       "    </tr>\n",
       "    <tr>\n",
       "      <th>315</th>\n",
       "      <td>KR_5324045449</td>\n",
       "      <td>1626513</td>\n",
       "      <td>11.14.385.9967</td>\n",
       "      <td>나린돼지</td>\n",
       "      <td>389</td>\n",
       "      <td>6</td>\n",
       "      <td>Ryze</td>\n",
       "      <td>12320</td>\n",
       "      <td>TOP</td>\n",
       "      <td>200</td>\n",
       "      <td>True</td>\n",
       "      <td>6</td>\n",
       "      <td>7</td>\n",
       "      <td>8</td>\n",
       "      <td>21319</td>\n",
       "      <td>22184</td>\n",
       "    </tr>\n",
       "    <tr>\n",
       "      <th>316</th>\n",
       "      <td>KR_5324045449</td>\n",
       "      <td>1626513</td>\n",
       "      <td>11.14.385.9967</td>\n",
       "      <td>AReflection</td>\n",
       "      <td>207</td>\n",
       "      <td>7</td>\n",
       "      <td>JarvanIV</td>\n",
       "      <td>11565</td>\n",
       "      <td>JUNGLE</td>\n",
       "      <td>200</td>\n",
       "      <td>True</td>\n",
       "      <td>6</td>\n",
       "      <td>6</td>\n",
       "      <td>10</td>\n",
       "      <td>10142</td>\n",
       "      <td>20465</td>\n",
       "    </tr>\n",
       "    <tr>\n",
       "      <th>317</th>\n",
       "      <td>KR_5324045449</td>\n",
       "      <td>1626513</td>\n",
       "      <td>11.14.385.9967</td>\n",
       "      <td>Uniq R Xiw</td>\n",
       "      <td>118</td>\n",
       "      <td>8</td>\n",
       "      <td>Irelia</td>\n",
       "      <td>15561</td>\n",
       "      <td>MIDDLE</td>\n",
       "      <td>200</td>\n",
       "      <td>True</td>\n",
       "      <td>13</td>\n",
       "      <td>8</td>\n",
       "      <td>6</td>\n",
       "      <td>28942</td>\n",
       "      <td>33482</td>\n",
       "    </tr>\n",
       "    <tr>\n",
       "      <th>318</th>\n",
       "      <td>KR_5324045449</td>\n",
       "      <td>1626513</td>\n",
       "      <td>11.14.385.9967</td>\n",
       "      <td>맨얼굴</td>\n",
       "      <td>420</td>\n",
       "      <td>9</td>\n",
       "      <td>Caitlyn</td>\n",
       "      <td>12532</td>\n",
       "      <td>BOTTOM</td>\n",
       "      <td>200</td>\n",
       "      <td>True</td>\n",
       "      <td>6</td>\n",
       "      <td>2</td>\n",
       "      <td>9</td>\n",
       "      <td>17818</td>\n",
       "      <td>11501</td>\n",
       "    </tr>\n",
       "    <tr>\n",
       "      <th>319</th>\n",
       "      <td>KR_5324045449</td>\n",
       "      <td>1626513</td>\n",
       "      <td>11.14.385.9967</td>\n",
       "      <td>허 참</td>\n",
       "      <td>236</td>\n",
       "      <td>10</td>\n",
       "      <td>Bard</td>\n",
       "      <td>12855</td>\n",
       "      <td>UTILITY</td>\n",
       "      <td>200</td>\n",
       "      <td>True</td>\n",
       "      <td>3</td>\n",
       "      <td>2</td>\n",
       "      <td>14</td>\n",
       "      <td>12912</td>\n",
       "      <td>8445</td>\n",
       "    </tr>\n",
       "  </tbody>\n",
       "</table>\n",
       "<p>320 rows × 16 columns</p>\n",
       "</div>"
      ],
      "text/plain": [
       "            gameId  gameDuration     gameVersion summonerName  summonerLevel  \\\n",
       "0    KR_5569285312          1311  11.22.406.3587        마 난다리            591   \n",
       "1    KR_5569285312          1311  11.22.406.3587        거세폭격기            248   \n",
       "2    KR_5569285312          1311  11.22.406.3587          마썽마            250   \n",
       "3    KR_5569285312          1311  11.22.406.3587        상어피규어             61   \n",
       "4    KR_5569285312          1311  11.22.406.3587      할수있는게머야            259   \n",
       "..             ...           ...             ...          ...            ...   \n",
       "315  KR_5324045449       1626513  11.14.385.9967         나린돼지            389   \n",
       "316  KR_5324045449       1626513  11.14.385.9967  AReflection            207   \n",
       "317  KR_5324045449       1626513  11.14.385.9967   Uniq R Xiw            118   \n",
       "318  KR_5324045449       1626513  11.14.385.9967          맨얼굴            420   \n",
       "319  KR_5324045449       1626513  11.14.385.9967          허 참            236   \n",
       "\n",
       "     participantId championName  champExperience teamPosition  teamId    win  \\\n",
       "0                1      Leblanc             8708       MIDDLE     100  False   \n",
       "1                2      Caitlyn             9168       BOTTOM     100  False   \n",
       "2                3       Maokai             7546      UTILITY     100  False   \n",
       "3                4        Diana             9355       JUNGLE     100  False   \n",
       "4                5       Irelia             7534          TOP     100  False   \n",
       "..             ...          ...              ...          ...     ...    ...   \n",
       "315              6         Ryze            12320          TOP     200   True   \n",
       "316              7     JarvanIV            11565       JUNGLE     200   True   \n",
       "317              8       Irelia            15561       MIDDLE     200   True   \n",
       "318              9      Caitlyn            12532       BOTTOM     200   True   \n",
       "319             10         Bard            12855      UTILITY     200   True   \n",
       "\n",
       "     kills  deaths  assists  totalDamageDealtToChampions  totalDamageTaken  \n",
       "0        4       6        1                         7005             12876  \n",
       "1        4       4        5                         8835             10562  \n",
       "2        0       5        7                         7511             11287  \n",
       "3        6       5        5                        10147             18223  \n",
       "4        1      12        0                         5014             20875  \n",
       "..     ...     ...      ...                          ...               ...  \n",
       "315      6       7        8                        21319             22184  \n",
       "316      6       6       10                        10142             20465  \n",
       "317     13       8        6                        28942             33482  \n",
       "318      6       2        9                        17818             11501  \n",
       "319      3       2       14                        12912              8445  \n",
       "\n",
       "[320 rows x 16 columns]"
      ]
     },
     "execution_count": 13,
     "metadata": {},
     "output_type": "execute_result"
    }
   ],
   "source": [
    "match_df"
   ]
  },
  {
   "cell_type": "code",
   "execution_count": 26,
   "metadata": {},
   "outputs": [
    {
     "data": {
      "text/plain": [
       "['CLASSIC', 'ARAM']"
      ]
     },
     "execution_count": 26,
     "metadata": {},
     "output_type": "execute_result"
    }
   ],
   "source": []
  },
  {
   "cell_type": "code",
   "execution_count": 27,
   "metadata": {},
   "outputs": [
    {
     "data": {
      "text/plain": [
       "['MATCHED_GAME']"
      ]
     },
     "execution_count": 27,
     "metadata": {},
     "output_type": "execute_result"
    }
   ],
   "source": []
  },
  {
   "cell_type": "code",
   "execution_count": 31,
   "metadata": {
    "scrolled": true
   },
   "outputs": [
    {
     "data": {
      "text/html": [
       "<div>\n",
       "<style scoped>\n",
       "    .dataframe tbody tr th:only-of-type {\n",
       "        vertical-align: middle;\n",
       "    }\n",
       "\n",
       "    .dataframe tbody tr th {\n",
       "        vertical-align: top;\n",
       "    }\n",
       "\n",
       "    .dataframe thead th {\n",
       "        text-align: right;\n",
       "    }\n",
       "</style>\n",
       "<table border=\"1\" class=\"dataframe\">\n",
       "  <thead>\n",
       "    <tr style=\"text-align: right;\">\n",
       "      <th></th>\n",
       "      <th>gameId</th>\n",
       "      <th>gameDuration</th>\n",
       "      <th>gameVersion</th>\n",
       "      <th>gameMode</th>\n",
       "      <th>summonerName</th>\n",
       "      <th>summonerLevel</th>\n",
       "      <th>participantId</th>\n",
       "      <th>championName</th>\n",
       "      <th>champExperience</th>\n",
       "      <th>teamPosition</th>\n",
       "      <th>teamId</th>\n",
       "      <th>win</th>\n",
       "      <th>kills</th>\n",
       "      <th>deaths</th>\n",
       "      <th>assists</th>\n",
       "      <th>totalDamageDealtToChampions</th>\n",
       "      <th>totalDamageTaken</th>\n",
       "    </tr>\n",
       "  </thead>\n",
       "  <tbody>\n",
       "  </tbody>\n",
       "</table>\n",
       "</div>"
      ],
      "text/plain": [
       "Empty DataFrame\n",
       "Columns: [gameId, gameDuration, gameVersion, gameMode, summonerName, summonerLevel, participantId, championName, champExperience, teamPosition, teamId, win, kills, deaths, assists, totalDamageDealtToChampions, totalDamageTaken]\n",
       "Index: []"
      ]
     },
     "execution_count": 31,
     "metadata": {},
     "output_type": "execute_result"
    }
   ],
   "source": []
  },
  {
   "cell_type": "code",
   "execution_count": null,
   "metadata": {},
   "outputs": [],
   "source": []
  },
  {
   "cell_type": "code",
   "execution_count": 36,
   "metadata": {},
   "outputs": [
    {
     "data": {
      "text/html": [
       "<div>\n",
       "<style scoped>\n",
       "    .dataframe tbody tr th:only-of-type {\n",
       "        vertical-align: middle;\n",
       "    }\n",
       "\n",
       "    .dataframe tbody tr th {\n",
       "        vertical-align: top;\n",
       "    }\n",
       "\n",
       "    .dataframe thead th {\n",
       "        text-align: right;\n",
       "    }\n",
       "</style>\n",
       "<table border=\"1\" class=\"dataframe\">\n",
       "  <thead>\n",
       "    <tr style=\"text-align: right;\">\n",
       "      <th></th>\n",
       "      <th>gameId</th>\n",
       "      <th>gameDuration</th>\n",
       "      <th>gameVersion</th>\n",
       "      <th>summonerName</th>\n",
       "      <th>summonerLevel</th>\n",
       "      <th>participantId</th>\n",
       "      <th>championName</th>\n",
       "      <th>champExperience</th>\n",
       "      <th>teamPosition</th>\n",
       "      <th>teamId</th>\n",
       "      <th>win</th>\n",
       "      <th>kills</th>\n",
       "      <th>deaths</th>\n",
       "      <th>assists</th>\n",
       "      <th>totalDamageDealtToChampions</th>\n",
       "      <th>totalDamageTaken</th>\n",
       "    </tr>\n",
       "  </thead>\n",
       "  <tbody>\n",
       "    <tr>\n",
       "      <th>0</th>\n",
       "      <td>KR_5349654495</td>\n",
       "      <td>860490</td>\n",
       "      <td>11.15.388.2387</td>\n",
       "      <td>대한민국남성인권</td>\n",
       "      <td>48</td>\n",
       "      <td>1</td>\n",
       "      <td>Ryze</td>\n",
       "      <td>6645</td>\n",
       "      <td>TOP</td>\n",
       "      <td>100</td>\n",
       "      <td>False</td>\n",
       "      <td>0</td>\n",
       "      <td>5</td>\n",
       "      <td>0</td>\n",
       "      <td>3372</td>\n",
       "      <td>8571</td>\n",
       "    </tr>\n",
       "    <tr>\n",
       "      <th>1</th>\n",
       "      <td>KR_5349654495</td>\n",
       "      <td>860490</td>\n",
       "      <td>11.15.388.2387</td>\n",
       "      <td>미드정글유저제로</td>\n",
       "      <td>35</td>\n",
       "      <td>2</td>\n",
       "      <td>LeeSin</td>\n",
       "      <td>4289</td>\n",
       "      <td>JUNGLE</td>\n",
       "      <td>100</td>\n",
       "      <td>False</td>\n",
       "      <td>2</td>\n",
       "      <td>3</td>\n",
       "      <td>1</td>\n",
       "      <td>5010</td>\n",
       "      <td>11006</td>\n",
       "    </tr>\n",
       "    <tr>\n",
       "      <th>2</th>\n",
       "      <td>KR_5349654495</td>\n",
       "      <td>860490</td>\n",
       "      <td>11.15.388.2387</td>\n",
       "      <td>Hwanginje</td>\n",
       "      <td>32</td>\n",
       "      <td>3</td>\n",
       "      <td>Yone</td>\n",
       "      <td>3683</td>\n",
       "      <td>MIDDLE</td>\n",
       "      <td>100</td>\n",
       "      <td>False</td>\n",
       "      <td>0</td>\n",
       "      <td>6</td>\n",
       "      <td>1</td>\n",
       "      <td>2229</td>\n",
       "      <td>7875</td>\n",
       "    </tr>\n",
       "    <tr>\n",
       "      <th>3</th>\n",
       "      <td>KR_5349654495</td>\n",
       "      <td>860490</td>\n",
       "      <td>11.15.388.2387</td>\n",
       "      <td>모가지 따줄게</td>\n",
       "      <td>33</td>\n",
       "      <td>4</td>\n",
       "      <td>Vayne</td>\n",
       "      <td>3924</td>\n",
       "      <td>BOTTOM</td>\n",
       "      <td>100</td>\n",
       "      <td>False</td>\n",
       "      <td>1</td>\n",
       "      <td>6</td>\n",
       "      <td>0</td>\n",
       "      <td>3805</td>\n",
       "      <td>8599</td>\n",
       "    </tr>\n",
       "    <tr>\n",
       "      <th>4</th>\n",
       "      <td>KR_5349654495</td>\n",
       "      <td>860490</td>\n",
       "      <td>11.15.388.2387</td>\n",
       "      <td>정신병자차단함</td>\n",
       "      <td>32</td>\n",
       "      <td>5</td>\n",
       "      <td>Nami</td>\n",
       "      <td>3763</td>\n",
       "      <td>UTILITY</td>\n",
       "      <td>100</td>\n",
       "      <td>False</td>\n",
       "      <td>2</td>\n",
       "      <td>5</td>\n",
       "      <td>1</td>\n",
       "      <td>4332</td>\n",
       "      <td>6738</td>\n",
       "    </tr>\n",
       "  </tbody>\n",
       "</table>\n",
       "</div>"
      ],
      "text/plain": [
       "          gameId  gameDuration     gameVersion summonerName  summonerLevel  \\\n",
       "0  KR_5349654495        860490  11.15.388.2387     대한민국남성인권             48   \n",
       "1  KR_5349654495        860490  11.15.388.2387     미드정글유저제로             35   \n",
       "2  KR_5349654495        860490  11.15.388.2387    Hwanginje             32   \n",
       "3  KR_5349654495        860490  11.15.388.2387      모가지 따줄게             33   \n",
       "4  KR_5349654495        860490  11.15.388.2387      정신병자차단함             32   \n",
       "\n",
       "   participantId championName  champExperience teamPosition  teamId    win  \\\n",
       "0              1         Ryze             6645          TOP     100  False   \n",
       "1              2       LeeSin             4289       JUNGLE     100  False   \n",
       "2              3         Yone             3683       MIDDLE     100  False   \n",
       "3              4        Vayne             3924       BOTTOM     100  False   \n",
       "4              5         Nami             3763      UTILITY     100  False   \n",
       "\n",
       "   kills  deaths  assists  totalDamageDealtToChampions  totalDamageTaken  \n",
       "0      0       5        0                         3372              8571  \n",
       "1      2       3        1                         5010             11006  \n",
       "2      0       6        1                         2229              7875  \n",
       "3      1       6        0                         3805              8599  \n",
       "4      2       5        1                         4332              6738  "
      ]
     },
     "execution_count": 36,
     "metadata": {},
     "output_type": "execute_result"
    }
   ],
   "source": [
    "match_df.head()"
   ]
  },
  {
   "cell_type": "code",
   "execution_count": 35,
   "metadata": {},
   "outputs": [
    {
     "data": {
      "text/html": [
       "<div>\n",
       "<style scoped>\n",
       "    .dataframe tbody tr th:only-of-type {\n",
       "        vertical-align: middle;\n",
       "    }\n",
       "\n",
       "    .dataframe tbody tr th {\n",
       "        vertical-align: top;\n",
       "    }\n",
       "\n",
       "    .dataframe thead th {\n",
       "        text-align: right;\n",
       "    }\n",
       "</style>\n",
       "<table border=\"1\" class=\"dataframe\">\n",
       "  <thead>\n",
       "    <tr style=\"text-align: right;\">\n",
       "      <th></th>\n",
       "      <th>gameId</th>\n",
       "      <th>participantId</th>\n",
       "      <th>g_5</th>\n",
       "      <th>g_6</th>\n",
       "      <th>g_7</th>\n",
       "      <th>g_8</th>\n",
       "      <th>g_9</th>\n",
       "      <th>g_10</th>\n",
       "      <th>g_11</th>\n",
       "      <th>g_12</th>\n",
       "      <th>...</th>\n",
       "      <th>g_16</th>\n",
       "      <th>g_17</th>\n",
       "      <th>g_18</th>\n",
       "      <th>g_19</th>\n",
       "      <th>g_20</th>\n",
       "      <th>g_21</th>\n",
       "      <th>g_22</th>\n",
       "      <th>g_23</th>\n",
       "      <th>g_24</th>\n",
       "      <th>g_25</th>\n",
       "    </tr>\n",
       "  </thead>\n",
       "  <tbody>\n",
       "    <tr>\n",
       "      <th>0</th>\n",
       "      <td>KR_5349654495</td>\n",
       "      <td>1</td>\n",
       "      <td>1287</td>\n",
       "      <td>1571</td>\n",
       "      <td>1962</td>\n",
       "      <td>2320</td>\n",
       "      <td>2527</td>\n",
       "      <td>2844</td>\n",
       "      <td>3030</td>\n",
       "      <td>3527</td>\n",
       "      <td>...</td>\n",
       "      <td>0</td>\n",
       "      <td>0</td>\n",
       "      <td>0</td>\n",
       "      <td>0</td>\n",
       "      <td>0</td>\n",
       "      <td>0</td>\n",
       "      <td>0</td>\n",
       "      <td>0</td>\n",
       "      <td>0</td>\n",
       "      <td>0</td>\n",
       "    </tr>\n",
       "    <tr>\n",
       "      <th>1</th>\n",
       "      <td>KR_5349654495</td>\n",
       "      <td>2</td>\n",
       "      <td>1333</td>\n",
       "      <td>1850</td>\n",
       "      <td>2266</td>\n",
       "      <td>2488</td>\n",
       "      <td>3508</td>\n",
       "      <td>3654</td>\n",
       "      <td>3838</td>\n",
       "      <td>4236</td>\n",
       "      <td>...</td>\n",
       "      <td>0</td>\n",
       "      <td>0</td>\n",
       "      <td>0</td>\n",
       "      <td>0</td>\n",
       "      <td>0</td>\n",
       "      <td>0</td>\n",
       "      <td>0</td>\n",
       "      <td>0</td>\n",
       "      <td>0</td>\n",
       "      <td>0</td>\n",
       "    </tr>\n",
       "    <tr>\n",
       "      <th>2</th>\n",
       "      <td>KR_5349654495</td>\n",
       "      <td>3</td>\n",
       "      <td>1228</td>\n",
       "      <td>1630</td>\n",
       "      <td>1808</td>\n",
       "      <td>1951</td>\n",
       "      <td>2314</td>\n",
       "      <td>2548</td>\n",
       "      <td>2720</td>\n",
       "      <td>2863</td>\n",
       "      <td>...</td>\n",
       "      <td>0</td>\n",
       "      <td>0</td>\n",
       "      <td>0</td>\n",
       "      <td>0</td>\n",
       "      <td>0</td>\n",
       "      <td>0</td>\n",
       "      <td>0</td>\n",
       "      <td>0</td>\n",
       "      <td>0</td>\n",
       "      <td>0</td>\n",
       "    </tr>\n",
       "    <tr>\n",
       "      <th>3</th>\n",
       "      <td>KR_5349654495</td>\n",
       "      <td>4</td>\n",
       "      <td>1410</td>\n",
       "      <td>1774</td>\n",
       "      <td>1938</td>\n",
       "      <td>2297</td>\n",
       "      <td>2525</td>\n",
       "      <td>2842</td>\n",
       "      <td>2965</td>\n",
       "      <td>3498</td>\n",
       "      <td>...</td>\n",
       "      <td>0</td>\n",
       "      <td>0</td>\n",
       "      <td>0</td>\n",
       "      <td>0</td>\n",
       "      <td>0</td>\n",
       "      <td>0</td>\n",
       "      <td>0</td>\n",
       "      <td>0</td>\n",
       "      <td>0</td>\n",
       "      <td>0</td>\n",
       "    </tr>\n",
       "    <tr>\n",
       "      <th>4</th>\n",
       "      <td>KR_5349654495</td>\n",
       "      <td>5</td>\n",
       "      <td>1226</td>\n",
       "      <td>1381</td>\n",
       "      <td>1575</td>\n",
       "      <td>1749</td>\n",
       "      <td>2057</td>\n",
       "      <td>2237</td>\n",
       "      <td>2457</td>\n",
       "      <td>3298</td>\n",
       "      <td>...</td>\n",
       "      <td>0</td>\n",
       "      <td>0</td>\n",
       "      <td>0</td>\n",
       "      <td>0</td>\n",
       "      <td>0</td>\n",
       "      <td>0</td>\n",
       "      <td>0</td>\n",
       "      <td>0</td>\n",
       "      <td>0</td>\n",
       "      <td>0</td>\n",
       "    </tr>\n",
       "  </tbody>\n",
       "</table>\n",
       "<p>5 rows × 23 columns</p>\n",
       "</div>"
      ],
      "text/plain": [
       "          gameId  participantId   g_5   g_6   g_7   g_8   g_9  g_10  g_11  \\\n",
       "0  KR_5349654495              1  1287  1571  1962  2320  2527  2844  3030   \n",
       "1  KR_5349654495              2  1333  1850  2266  2488  3508  3654  3838   \n",
       "2  KR_5349654495              3  1228  1630  1808  1951  2314  2548  2720   \n",
       "3  KR_5349654495              4  1410  1774  1938  2297  2525  2842  2965   \n",
       "4  KR_5349654495              5  1226  1381  1575  1749  2057  2237  2457   \n",
       "\n",
       "   g_12  ...  g_16  g_17  g_18  g_19  g_20  g_21  g_22  g_23  g_24  g_25  \n",
       "0  3527  ...     0     0     0     0     0     0     0     0     0     0  \n",
       "1  4236  ...     0     0     0     0     0     0     0     0     0     0  \n",
       "2  2863  ...     0     0     0     0     0     0     0     0     0     0  \n",
       "3  3498  ...     0     0     0     0     0     0     0     0     0     0  \n",
       "4  3298  ...     0     0     0     0     0     0     0     0     0     0  \n",
       "\n",
       "[5 rows x 23 columns]"
      ]
     },
     "execution_count": 35,
     "metadata": {},
     "output_type": "execute_result"
    }
   ],
   "source": [
    "timeline_df.head()"
   ]
  },
  {
   "cell_type": "code",
   "execution_count": 18,
   "metadata": {},
   "outputs": [
    {
     "name": "stdout",
     "output_type": "stream",
     "text": [
      "open!\n"
     ]
    }
   ],
   "source": [
    "mu.db_open()"
   ]
  },
  {
   "cell_type": "code",
   "execution_count": 19,
   "metadata": {},
   "outputs": [],
   "source": [
    "# match table\n",
    "query1 = \"\"\"\n",
    "create table match_data(gameId varchar(50), gameDuration number(20), gameVersion varchar(50), summonerName varchar(50),\n",
    "summonerLevel number(20), participantId number(20), championName varchar(50), champExperience number(20),\n",
    "teamPosition varchar(50), teamId number(20), win varchar(50), kills number(20), deaths number(20), assists number(20),\n",
    "totalDamageDealtToChampions number(20), totalDamageTaken number(20),\n",
    "constraint m_pk primary key (gameId, participantId))\n",
    "\"\"\""
   ]
  },
  {
   "cell_type": "code",
   "execution_count": 20,
   "metadata": {},
   "outputs": [],
   "source": [
    "# timeline table\n",
    "query2 = \"\"\"\n",
    "create table timeline_data(gameId varchar(50), participantId number(20), g_5 number(20), g_6 number(20), g_7 number(20), g_8 number(20),\n",
    "g_9 number(20), g_10 number(20), g_11 number(20), g_12 number(20), g_13 number(20), g_14 number(20), g_15 number(20), g_16 number(20),\n",
    "g_17 number(20), g_18 number(20), g_19 number(20), g_20 number(20), g_21 number(20), g_22 number(20), g_23 number(20), g_24 number(20),\n",
    "g_25 number(20),\n",
    "constraint t_pk primary key (gameId, participantId))\n",
    "\"\"\""
   ]
  },
  {
   "cell_type": "code",
   "execution_count": 21,
   "metadata": {},
   "outputs": [
    {
     "data": {
      "text/plain": [
       "'success!'"
      ]
     },
     "execution_count": 21,
     "metadata": {},
     "output_type": "execute_result"
    }
   ],
   "source": [
    "res = mu.sql_excute(query1)\n",
    "res"
   ]
  },
  {
   "cell_type": "code",
   "execution_count": 22,
   "metadata": {},
   "outputs": [
    {
     "data": {
      "text/plain": [
       "'success!'"
      ]
     },
     "execution_count": 22,
     "metadata": {},
     "output_type": "execute_result"
    }
   ],
   "source": [
    "res = mu.sql_excute(query2)\n",
    "res"
   ]
  },
  {
   "cell_type": "code",
   "execution_count": 23,
   "metadata": {},
   "outputs": [],
   "source": [
    "def match_insert(row):\n",
    "    query = (\n",
    "        f'insert into match_data(gameId, gameDuration, gameVersion, summonerName, summonerLevel, participantId, championName, champExperience, '\n",
    "        f'teamPosition, teamId, win, kills, deaths, assists, totalDamageDealtToChampions, totalDamageTaken) '\n",
    "        f'values(\\'{row.gameId}\\', {row.gameDuration}, '\n",
    "        f'\\'{row.gameVersion}\\', \\'{row.summonerName}\\', {row.summonerLevel}, {row.participantId}, '\n",
    "        f'\\'{row.championName}\\', {row.champExperience}, \\'{row.teamPosition}\\', {row.teamId}, '\n",
    "        f'\\'{row.win}\\', {row.kills}, {row.deaths}, {row.assists}, '\n",
    "        f'{row.totalDamageDealtToChampions}, {row.totalDamageTaken}) '        \n",
    "    )\n",
    "    mu.sql_excute(query)\n",
    "    return"
   ]
  },
  {
   "cell_type": "code",
   "execution_count": 24,
   "metadata": {},
   "outputs": [],
   "source": [
    "def match_insert(row):\n",
    "    query = (\n",
    "        f'merge into match_data using dual on(gameId=\\'{row.gameId}\\' and participantId={row.participantId}) '\n",
    "        f'when not matched then '\n",
    "        f'insert (gameId, gameDuration, gameVersion, summonerName, summonerLevel, participantId, championName, champExperience, '\n",
    "        f'teamPosition, teamId, win, kills, deaths, assists, totalDamageDealtToChampions, totalDamageTaken) '\n",
    "        f'values(\\'{row.gameId}\\', {row.gameDuration}, '\n",
    "        f'\\'{row.gameVersion}\\', \\'{row.summonerName}\\', {row.summonerLevel}, {row.participantId}, '\n",
    "        f'\\'{row.championName}\\', {row.champExperience}, \\'{row.teamPosition}\\', {row.teamId}, '\n",
    "        f'\\'{row.win}\\', {row.kills}, {row.deaths}, {row.assists}, '\n",
    "        f'{row.totalDamageDealtToChampions}, {row.totalDamageTaken}) '        \n",
    "    )\n",
    "    mu.sql_excute(query)\n",
    "    return"
   ]
  },
  {
   "cell_type": "code",
   "execution_count": 25,
   "metadata": {},
   "outputs": [
    {
     "name": "stderr",
     "output_type": "stream",
     "text": [
      "100%|███████████████████████████████████████████████████████████████████████████████| 320/320 [00:00<00:00, 517.31it/s]\n"
     ]
    },
    {
     "data": {
      "text/plain": [
       "0      None\n",
       "1      None\n",
       "2      None\n",
       "3      None\n",
       "4      None\n",
       "       ... \n",
       "315    None\n",
       "316    None\n",
       "317    None\n",
       "318    None\n",
       "319    None\n",
       "Length: 320, dtype: object"
      ]
     },
     "execution_count": 25,
     "metadata": {},
     "output_type": "execute_result"
    }
   ],
   "source": [
    "match_df.progress_apply(lambda x: match_insert(x), axis=1)"
   ]
  },
  {
   "cell_type": "code",
   "execution_count": 26,
   "metadata": {},
   "outputs": [],
   "source": [
    "# mysql 경우 ignore\n",
    "# insert 할때 중복된 값이 있을경우 insert를 안함\n",
    "# oralce 경우 merge\n",
    "# insert 할때 중복된 값 체크"
   ]
  },
  {
   "cell_type": "code",
   "execution_count": 27,
   "metadata": {},
   "outputs": [],
   "source": [
    "def timeline_insert(row):\n",
    "    query = (\n",
    "        f'merge into timeline_data using dual on(gameId=\\'{row.gameId}\\' and participantId={row.participantId}) '\n",
    "        f'when not matched then '\n",
    "        f'insert (gameId, participantId, g_5, g_6, g_7, g_8, g_9, g_10, g_11, g_12, g_13, g_14, g_15, g_16, g_17, g_18, g_19, g_20, '\n",
    "        f'g_21, g_22, g_23, g_24, g_25) values(\\'{row.gameId}\\', {row.participantId}, '\n",
    "        f'{row.g_5}, {row.g_6}, {row.g_7}, {row.g_8}, {row.g_9}, {row.g_10}, {row.g_11}, {row.g_12}, {row.g_13}, {row.g_14}, {row.g_15}, '\n",
    "        f'{row.g_16}, {row.g_17}, {row.g_18}, {row.g_19}, {row.g_20}, {row.g_21}, {row.g_22}, {row.g_23}, {row.g_24}, {row.g_25})'\n",
    "    )\n",
    "    mu.sql_excute(query)\n",
    "    return"
   ]
  },
  {
   "cell_type": "code",
   "execution_count": 28,
   "metadata": {},
   "outputs": [
    {
     "name": "stderr",
     "output_type": "stream",
     "text": [
      "100%|███████████████████████████████████████████████████████████████████████████████| 320/320 [00:00<00:00, 491.84it/s]\n"
     ]
    },
    {
     "data": {
      "text/plain": [
       "0      None\n",
       "1      None\n",
       "2      None\n",
       "3      None\n",
       "4      None\n",
       "       ... \n",
       "315    None\n",
       "316    None\n",
       "317    None\n",
       "318    None\n",
       "319    None\n",
       "Length: 320, dtype: object"
      ]
     },
     "execution_count": 28,
     "metadata": {},
     "output_type": "execute_result"
    }
   ],
   "source": [
    "timeline_df.progress_apply(lambda x: timeline_insert(x), axis=1)"
   ]
  },
  {
   "cell_type": "code",
   "execution_count": 29,
   "metadata": {},
   "outputs": [
    {
     "data": {
      "text/html": [
       "<div>\n",
       "<style scoped>\n",
       "    .dataframe tbody tr th:only-of-type {\n",
       "        vertical-align: middle;\n",
       "    }\n",
       "\n",
       "    .dataframe tbody tr th {\n",
       "        vertical-align: top;\n",
       "    }\n",
       "\n",
       "    .dataframe thead th {\n",
       "        text-align: right;\n",
       "    }\n",
       "</style>\n",
       "<table border=\"1\" class=\"dataframe\">\n",
       "  <thead>\n",
       "    <tr style=\"text-align: right;\">\n",
       "      <th></th>\n",
       "      <th>GAMEID</th>\n",
       "      <th>PARTICIPANTID</th>\n",
       "      <th>G_5</th>\n",
       "      <th>G_6</th>\n",
       "      <th>G_7</th>\n",
       "      <th>G_8</th>\n",
       "      <th>G_9</th>\n",
       "      <th>G_10</th>\n",
       "      <th>G_11</th>\n",
       "      <th>G_12</th>\n",
       "      <th>...</th>\n",
       "      <th>G_16</th>\n",
       "      <th>G_17</th>\n",
       "      <th>G_18</th>\n",
       "      <th>G_19</th>\n",
       "      <th>G_20</th>\n",
       "      <th>G_21</th>\n",
       "      <th>G_22</th>\n",
       "      <th>G_23</th>\n",
       "      <th>G_24</th>\n",
       "      <th>G_25</th>\n",
       "    </tr>\n",
       "  </thead>\n",
       "  <tbody>\n",
       "    <tr>\n",
       "      <th>0</th>\n",
       "      <td>KR_5569285312</td>\n",
       "      <td>1</td>\n",
       "      <td>1270</td>\n",
       "      <td>1857</td>\n",
       "      <td>2084</td>\n",
       "      <td>2297</td>\n",
       "      <td>2569</td>\n",
       "      <td>2817</td>\n",
       "      <td>3127</td>\n",
       "      <td>3249</td>\n",
       "      <td>...</td>\n",
       "      <td>4823</td>\n",
       "      <td>5049</td>\n",
       "      <td>5265</td>\n",
       "      <td>5430</td>\n",
       "      <td>5684</td>\n",
       "      <td>5970</td>\n",
       "      <td>6824</td>\n",
       "      <td>0</td>\n",
       "      <td>0</td>\n",
       "      <td>0</td>\n",
       "    </tr>\n",
       "    <tr>\n",
       "      <th>1</th>\n",
       "      <td>KR_5569285312</td>\n",
       "      <td>2</td>\n",
       "      <td>1467</td>\n",
       "      <td>1723</td>\n",
       "      <td>2035</td>\n",
       "      <td>2366</td>\n",
       "      <td>2864</td>\n",
       "      <td>4058</td>\n",
       "      <td>4863</td>\n",
       "      <td>4985</td>\n",
       "      <td>...</td>\n",
       "      <td>6722</td>\n",
       "      <td>7245</td>\n",
       "      <td>7583</td>\n",
       "      <td>7811</td>\n",
       "      <td>8327</td>\n",
       "      <td>8857</td>\n",
       "      <td>9036</td>\n",
       "      <td>0</td>\n",
       "      <td>0</td>\n",
       "      <td>0</td>\n",
       "    </tr>\n",
       "    <tr>\n",
       "      <th>2</th>\n",
       "      <td>KR_5569285312</td>\n",
       "      <td>3</td>\n",
       "      <td>1134</td>\n",
       "      <td>1283</td>\n",
       "      <td>1417</td>\n",
       "      <td>1609</td>\n",
       "      <td>1894</td>\n",
       "      <td>2213</td>\n",
       "      <td>2413</td>\n",
       "      <td>2550</td>\n",
       "      <td>...</td>\n",
       "      <td>3362</td>\n",
       "      <td>3513</td>\n",
       "      <td>3779</td>\n",
       "      <td>3922</td>\n",
       "      <td>4239</td>\n",
       "      <td>4518</td>\n",
       "      <td>4863</td>\n",
       "      <td>0</td>\n",
       "      <td>0</td>\n",
       "      <td>0</td>\n",
       "    </tr>\n",
       "    <tr>\n",
       "      <th>3</th>\n",
       "      <td>KR_5569285312</td>\n",
       "      <td>4</td>\n",
       "      <td>1489</td>\n",
       "      <td>2283</td>\n",
       "      <td>2590</td>\n",
       "      <td>2812</td>\n",
       "      <td>3392</td>\n",
       "      <td>3799</td>\n",
       "      <td>4210</td>\n",
       "      <td>4332</td>\n",
       "      <td>...</td>\n",
       "      <td>6306</td>\n",
       "      <td>6685</td>\n",
       "      <td>6876</td>\n",
       "      <td>7189</td>\n",
       "      <td>8232</td>\n",
       "      <td>8710</td>\n",
       "      <td>8814</td>\n",
       "      <td>0</td>\n",
       "      <td>0</td>\n",
       "      <td>0</td>\n",
       "    </tr>\n",
       "    <tr>\n",
       "      <th>4</th>\n",
       "      <td>KR_5569285312</td>\n",
       "      <td>5</td>\n",
       "      <td>1763</td>\n",
       "      <td>1991</td>\n",
       "      <td>2274</td>\n",
       "      <td>2480</td>\n",
       "      <td>2850</td>\n",
       "      <td>2993</td>\n",
       "      <td>3436</td>\n",
       "      <td>3649</td>\n",
       "      <td>...</td>\n",
       "      <td>4364</td>\n",
       "      <td>4681</td>\n",
       "      <td>4824</td>\n",
       "      <td>5184</td>\n",
       "      <td>5397</td>\n",
       "      <td>5555</td>\n",
       "      <td>6063</td>\n",
       "      <td>0</td>\n",
       "      <td>0</td>\n",
       "      <td>0</td>\n",
       "    </tr>\n",
       "    <tr>\n",
       "      <th>...</th>\n",
       "      <td>...</td>\n",
       "      <td>...</td>\n",
       "      <td>...</td>\n",
       "      <td>...</td>\n",
       "      <td>...</td>\n",
       "      <td>...</td>\n",
       "      <td>...</td>\n",
       "      <td>...</td>\n",
       "      <td>...</td>\n",
       "      <td>...</td>\n",
       "      <td>...</td>\n",
       "      <td>...</td>\n",
       "      <td>...</td>\n",
       "      <td>...</td>\n",
       "      <td>...</td>\n",
       "      <td>...</td>\n",
       "      <td>...</td>\n",
       "      <td>...</td>\n",
       "      <td>...</td>\n",
       "      <td>...</td>\n",
       "      <td>...</td>\n",
       "    </tr>\n",
       "    <tr>\n",
       "      <th>315</th>\n",
       "      <td>KR_5324045449</td>\n",
       "      <td>6</td>\n",
       "      <td>1580</td>\n",
       "      <td>2286</td>\n",
       "      <td>2499</td>\n",
       "      <td>2747</td>\n",
       "      <td>3368</td>\n",
       "      <td>3553</td>\n",
       "      <td>3795</td>\n",
       "      <td>3917</td>\n",
       "      <td>...</td>\n",
       "      <td>5767</td>\n",
       "      <td>5964</td>\n",
       "      <td>6250</td>\n",
       "      <td>6463</td>\n",
       "      <td>8002</td>\n",
       "      <td>8617</td>\n",
       "      <td>8968</td>\n",
       "      <td>9131</td>\n",
       "      <td>9589</td>\n",
       "      <td>10011</td>\n",
       "    </tr>\n",
       "    <tr>\n",
       "      <th>316</th>\n",
       "      <td>KR_5324045449</td>\n",
       "      <td>7</td>\n",
       "      <td>1471</td>\n",
       "      <td>1894</td>\n",
       "      <td>2196</td>\n",
       "      <td>2583</td>\n",
       "      <td>2806</td>\n",
       "      <td>3159</td>\n",
       "      <td>3432</td>\n",
       "      <td>4064</td>\n",
       "      <td>...</td>\n",
       "      <td>6447</td>\n",
       "      <td>7430</td>\n",
       "      <td>7653</td>\n",
       "      <td>7838</td>\n",
       "      <td>8106</td>\n",
       "      <td>8494</td>\n",
       "      <td>8957</td>\n",
       "      <td>9295</td>\n",
       "      <td>9833</td>\n",
       "      <td>10350</td>\n",
       "    </tr>\n",
       "    <tr>\n",
       "      <th>317</th>\n",
       "      <td>KR_5324045449</td>\n",
       "      <td>8</td>\n",
       "      <td>1980</td>\n",
       "      <td>2124</td>\n",
       "      <td>2743</td>\n",
       "      <td>2901</td>\n",
       "      <td>3598</td>\n",
       "      <td>3762</td>\n",
       "      <td>4489</td>\n",
       "      <td>5089</td>\n",
       "      <td>...</td>\n",
       "      <td>6984</td>\n",
       "      <td>7475</td>\n",
       "      <td>7883</td>\n",
       "      <td>8111</td>\n",
       "      <td>8923</td>\n",
       "      <td>9835</td>\n",
       "      <td>10404</td>\n",
       "      <td>10827</td>\n",
       "      <td>11842</td>\n",
       "      <td>12265</td>\n",
       "    </tr>\n",
       "    <tr>\n",
       "      <th>318</th>\n",
       "      <td>KR_5324045449</td>\n",
       "      <td>9</td>\n",
       "      <td>1588</td>\n",
       "      <td>2022</td>\n",
       "      <td>2214</td>\n",
       "      <td>2727</td>\n",
       "      <td>3035</td>\n",
       "      <td>3463</td>\n",
       "      <td>3773</td>\n",
       "      <td>4329</td>\n",
       "      <td>...</td>\n",
       "      <td>5966</td>\n",
       "      <td>6879</td>\n",
       "      <td>7240</td>\n",
       "      <td>7393</td>\n",
       "      <td>8381</td>\n",
       "      <td>8886</td>\n",
       "      <td>9621</td>\n",
       "      <td>9848</td>\n",
       "      <td>10058</td>\n",
       "      <td>10781</td>\n",
       "    </tr>\n",
       "    <tr>\n",
       "      <th>319</th>\n",
       "      <td>KR_5324045449</td>\n",
       "      <td>10</td>\n",
       "      <td>1213</td>\n",
       "      <td>1435</td>\n",
       "      <td>1659</td>\n",
       "      <td>1940</td>\n",
       "      <td>2168</td>\n",
       "      <td>2700</td>\n",
       "      <td>2855</td>\n",
       "      <td>3217</td>\n",
       "      <td>...</td>\n",
       "      <td>4280</td>\n",
       "      <td>4517</td>\n",
       "      <td>4699</td>\n",
       "      <td>4885</td>\n",
       "      <td>5325</td>\n",
       "      <td>5662</td>\n",
       "      <td>6059</td>\n",
       "      <td>6229</td>\n",
       "      <td>6532</td>\n",
       "      <td>7072</td>\n",
       "    </tr>\n",
       "  </tbody>\n",
       "</table>\n",
       "<p>320 rows × 23 columns</p>\n",
       "</div>"
      ],
      "text/plain": [
       "            GAMEID  PARTICIPANTID   G_5   G_6   G_7   G_8   G_9  G_10  G_11  \\\n",
       "0    KR_5569285312              1  1270  1857  2084  2297  2569  2817  3127   \n",
       "1    KR_5569285312              2  1467  1723  2035  2366  2864  4058  4863   \n",
       "2    KR_5569285312              3  1134  1283  1417  1609  1894  2213  2413   \n",
       "3    KR_5569285312              4  1489  2283  2590  2812  3392  3799  4210   \n",
       "4    KR_5569285312              5  1763  1991  2274  2480  2850  2993  3436   \n",
       "..             ...            ...   ...   ...   ...   ...   ...   ...   ...   \n",
       "315  KR_5324045449              6  1580  2286  2499  2747  3368  3553  3795   \n",
       "316  KR_5324045449              7  1471  1894  2196  2583  2806  3159  3432   \n",
       "317  KR_5324045449              8  1980  2124  2743  2901  3598  3762  4489   \n",
       "318  KR_5324045449              9  1588  2022  2214  2727  3035  3463  3773   \n",
       "319  KR_5324045449             10  1213  1435  1659  1940  2168  2700  2855   \n",
       "\n",
       "     G_12  ...  G_16  G_17  G_18  G_19  G_20  G_21   G_22   G_23   G_24   G_25  \n",
       "0    3249  ...  4823  5049  5265  5430  5684  5970   6824      0      0      0  \n",
       "1    4985  ...  6722  7245  7583  7811  8327  8857   9036      0      0      0  \n",
       "2    2550  ...  3362  3513  3779  3922  4239  4518   4863      0      0      0  \n",
       "3    4332  ...  6306  6685  6876  7189  8232  8710   8814      0      0      0  \n",
       "4    3649  ...  4364  4681  4824  5184  5397  5555   6063      0      0      0  \n",
       "..    ...  ...   ...   ...   ...   ...   ...   ...    ...    ...    ...    ...  \n",
       "315  3917  ...  5767  5964  6250  6463  8002  8617   8968   9131   9589  10011  \n",
       "316  4064  ...  6447  7430  7653  7838  8106  8494   8957   9295   9833  10350  \n",
       "317  5089  ...  6984  7475  7883  8111  8923  9835  10404  10827  11842  12265  \n",
       "318  4329  ...  5966  6879  7240  7393  8381  8886   9621   9848  10058  10781  \n",
       "319  3217  ...  4280  4517  4699  4885  5325  5662   6059   6229   6532   7072  \n",
       "\n",
       "[320 rows x 23 columns]"
      ]
     },
     "execution_count": 29,
     "metadata": {},
     "output_type": "execute_result"
    }
   ],
   "source": [
    "res = mu.sql_excute('select * from timeline_data')\n",
    "res"
   ]
  },
  {
   "cell_type": "code",
   "execution_count": 30,
   "metadata": {},
   "outputs": [
    {
     "name": "stdout",
     "output_type": "stream",
     "text": [
      "close!\n"
     ]
    }
   ],
   "source": [
    "mu.db_close()"
   ]
  },
  {
   "cell_type": "code",
   "execution_count": 31,
   "metadata": {},
   "outputs": [
    {
     "name": "stderr",
     "output_type": "stream",
     "text": [
      "C:\\Users\\jhkim\\anaconda3\\lib\\site-packages\\tqdm\\std.py:658: FutureWarning: The Panel class is removed from pandas. Accessing it from the top-level namespace will also be removed in the next version\n",
      "  from pandas import Panel\n"
     ]
    }
   ],
   "source": [
    "from random import sample\n",
    "import random\n",
    "from tqdm import tqdm\n",
    "import my_utils as mu\n",
    "import pandas as pd\n",
    "import requests\n",
    "tqdm.pandas()"
   ]
  },
  {
   "cell_type": "code",
   "execution_count": 32,
   "metadata": {},
   "outputs": [
    {
     "name": "stderr",
     "output_type": "stream",
     "text": [
      "100%|████████████████████████████████████████████████████████████████████████████████████| 4/4 [00:01<00:00,  2.87it/s]\n",
      "  0%|                                                                                           | 0/20 [00:00<?, ?it/s]"
     ]
    },
    {
     "name": "stdout",
     "output_type": "stream",
     "text": [
      "get summonerName...\n",
      "get puuid...\n"
     ]
    },
    {
     "name": "stderr",
     "output_type": "stream",
     "text": [
      "100%|██████████████████████████████████████████████████████████████████████████████████| 20/20 [00:05<00:00,  3.75it/s]\n",
      "  0%|                                                                                           | 0/20 [00:00<?, ?it/s]"
     ]
    },
    {
     "name": "stdout",
     "output_type": "stream",
     "text": [
      "get matchId...\n"
     ]
    },
    {
     "name": "stderr",
     "output_type": "stream",
     "text": [
      "100%|██████████████████████████████████████████████████████████████████████████████████| 20/20 [00:05<00:00,  3.57it/s]\n",
      "  0%|                                                                                           | 0/40 [00:00<?, ?it/s]"
     ]
    },
    {
     "name": "stdout",
     "output_type": "stream",
     "text": [
      "get match & timeline...\n"
     ]
    },
    {
     "name": "stderr",
     "output_type": "stream",
     "text": [
      "100%|██████████████████████████████████████████████████████████████████████████████████| 40/40 [00:38<00:00,  1.03it/s]"
     ]
    },
    {
     "name": "stdout",
     "output_type": "stream",
     "text": [
      "complete!\n"
     ]
    },
    {
     "name": "stderr",
     "output_type": "stream",
     "text": [
      "\n"
     ]
    }
   ],
   "source": [
    "tier = 'GOLD'\n",
    "raw_data = mu.get_rawData(tier)"
   ]
  },
  {
   "cell_type": "code",
   "execution_count": 33,
   "metadata": {},
   "outputs": [
    {
     "name": "stderr",
     "output_type": "stream",
     "text": [
      " 12%|██████████▍                                                                        | 5/40 [00:00<00:00, 40.11it/s]"
     ]
    },
    {
     "name": "stdout",
     "output_type": "stream",
     "text": [
      "get matches & timelines...\n"
     ]
    },
    {
     "name": "stderr",
     "output_type": "stream",
     "text": [
      "100%|██████████████████████████████████████████████████████████████████████████████████| 40/40 [00:00<00:00, 41.18it/s]"
     ]
    },
    {
     "name": "stdout",
     "output_type": "stream",
     "text": [
      "match_df length:  280\n",
      "timeline_df length:  280\n",
      "complete!\n"
     ]
    },
    {
     "name": "stderr",
     "output_type": "stream",
     "text": [
      "\n"
     ]
    }
   ],
   "source": [
    "match_df, timeline_df = mu.get_match_timeline_df(raw_data)"
   ]
  },
  {
   "cell_type": "code",
   "execution_count": 34,
   "metadata": {},
   "outputs": [
    {
     "name": "stdout",
     "output_type": "stream",
     "text": [
      "open!\n"
     ]
    }
   ],
   "source": [
    "mu.db_open()"
   ]
  },
  {
   "cell_type": "code",
   "execution_count": 35,
   "metadata": {},
   "outputs": [],
   "source": [
    "def match_insert(row):\n",
    "    query = (\n",
    "        f'merge into match_data using dual on(gameId=\\'{row.gameId}\\' and participantId={row.participantId}) '\n",
    "        f'when not matched then '\n",
    "        f'insert (gameId, gameDuration, gameVersion, summonerName, summonerLevel, participantId, championName, champExperience, '\n",
    "        f'teamPosition, teamId, win, kills, deaths, assists, totalDamageDealtToChampions, totalDamageTaken) '\n",
    "        f'values(\\'{row.gameId}\\', {row.gameDuration}, '\n",
    "        f'\\'{row.gameVersion}\\', \\'{row.summonerName}\\', {row.summonerLevel}, {row.participantId}, '\n",
    "        f'\\'{row.championName}\\', {row.champExperience}, \\'{row.teamPosition}\\', {row.teamId}, '\n",
    "        f'\\'{row.win}\\', {row.kills}, {row.deaths}, {row.assists}, '\n",
    "        f'{row.totalDamageDealtToChampions}, {row.totalDamageTaken}) '        \n",
    "    )\n",
    "    mu.sql_excute(query)\n",
    "    return"
   ]
  },
  {
   "cell_type": "code",
   "execution_count": 36,
   "metadata": {},
   "outputs": [],
   "source": [
    "def timeline_insert(row):\n",
    "    query = (\n",
    "        f'merge into timeline_data using dual on(gameId=\\'{row.gameId}\\' and participantId={row.participantId}) '\n",
    "        f'when not matched then '\n",
    "        f'insert (gameId, participantId, g_5, g_6, g_7, g_8, g_9, g_10, g_11, g_12, g_13, g_14, g_15, g_16, g_17, g_18, g_19, g_20, '\n",
    "        f'g_21, g_22, g_23, g_24, g_25) values(\\'{row.gameId}\\', {row.participantId}, '\n",
    "        f'{row.g_5}, {row.g_6}, {row.g_7}, {row.g_8}, {row.g_9}, {row.g_10}, {row.g_11}, {row.g_12}, {row.g_13}, {row.g_14}, {row.g_15}, '\n",
    "        f'{row.g_16}, {row.g_17}, {row.g_18}, {row.g_19}, {row.g_20}, {row.g_21}, {row.g_22}, {row.g_23}, {row.g_24}, {row.g_25})'\n",
    "    )\n",
    "    mu.sql_excute(query)\n",
    "    return"
   ]
  },
  {
   "cell_type": "code",
   "execution_count": 37,
   "metadata": {
    "scrolled": true
   },
   "outputs": [
    {
     "name": "stderr",
     "output_type": "stream",
     "text": [
      "100%|███████████████████████████████████████████████████████████████████████████████| 280/280 [00:00<00:00, 520.13it/s]\n"
     ]
    },
    {
     "data": {
      "text/plain": [
       "0      None\n",
       "1      None\n",
       "2      None\n",
       "3      None\n",
       "4      None\n",
       "       ... \n",
       "275    None\n",
       "276    None\n",
       "277    None\n",
       "278    None\n",
       "279    None\n",
       "Length: 280, dtype: object"
      ]
     },
     "execution_count": 37,
     "metadata": {},
     "output_type": "execute_result"
    }
   ],
   "source": [
    "match_df.progress_apply(lambda x: match_insert(x), axis=1)"
   ]
  },
  {
   "cell_type": "code",
   "execution_count": 38,
   "metadata": {},
   "outputs": [
    {
     "name": "stderr",
     "output_type": "stream",
     "text": [
      "100%|███████████████████████████████████████████████████████████████████████████████| 280/280 [00:00<00:00, 483.05it/s]\n"
     ]
    },
    {
     "data": {
      "text/plain": [
       "0      None\n",
       "1      None\n",
       "2      None\n",
       "3      None\n",
       "4      None\n",
       "       ... \n",
       "275    None\n",
       "276    None\n",
       "277    None\n",
       "278    None\n",
       "279    None\n",
       "Length: 280, dtype: object"
      ]
     },
     "execution_count": 38,
     "metadata": {},
     "output_type": "execute_result"
    }
   ],
   "source": [
    "timeline_df.progress_apply(lambda x: timeline_insert(x), axis=1)"
   ]
  },
  {
   "cell_type": "code",
   "execution_count": 39,
   "metadata": {},
   "outputs": [
    {
     "data": {
      "text/html": [
       "<div>\n",
       "<style scoped>\n",
       "    .dataframe tbody tr th:only-of-type {\n",
       "        vertical-align: middle;\n",
       "    }\n",
       "\n",
       "    .dataframe tbody tr th {\n",
       "        vertical-align: top;\n",
       "    }\n",
       "\n",
       "    .dataframe thead th {\n",
       "        text-align: right;\n",
       "    }\n",
       "</style>\n",
       "<table border=\"1\" class=\"dataframe\">\n",
       "  <thead>\n",
       "    <tr style=\"text-align: right;\">\n",
       "      <th></th>\n",
       "      <th>GAMEID</th>\n",
       "      <th>GAMEDURATION</th>\n",
       "      <th>GAMEVERSION</th>\n",
       "      <th>SUMMONERNAME</th>\n",
       "      <th>SUMMONERLEVEL</th>\n",
       "      <th>PARTICIPANTID</th>\n",
       "      <th>CHAMPIONNAME</th>\n",
       "      <th>CHAMPEXPERIENCE</th>\n",
       "      <th>TEAMPOSITION</th>\n",
       "      <th>TEAMID</th>\n",
       "      <th>WIN</th>\n",
       "      <th>KILLS</th>\n",
       "      <th>DEATHS</th>\n",
       "      <th>ASSISTS</th>\n",
       "      <th>TOTALDAMAGEDEALTTOCHAMPIONS</th>\n",
       "      <th>TOTALDAMAGETAKEN</th>\n",
       "    </tr>\n",
       "  </thead>\n",
       "  <tbody>\n",
       "    <tr>\n",
       "      <th>0</th>\n",
       "      <td>KR_5569285312</td>\n",
       "      <td>1311</td>\n",
       "      <td>11.22.406.3587</td>\n",
       "      <td>마 난다리</td>\n",
       "      <td>591</td>\n",
       "      <td>1</td>\n",
       "      <td>Leblanc</td>\n",
       "      <td>8708</td>\n",
       "      <td>MIDDLE</td>\n",
       "      <td>100</td>\n",
       "      <td>False</td>\n",
       "      <td>4</td>\n",
       "      <td>6</td>\n",
       "      <td>1</td>\n",
       "      <td>7005</td>\n",
       "      <td>12876</td>\n",
       "    </tr>\n",
       "    <tr>\n",
       "      <th>1</th>\n",
       "      <td>KR_5569285312</td>\n",
       "      <td>1311</td>\n",
       "      <td>11.22.406.3587</td>\n",
       "      <td>거세폭격기</td>\n",
       "      <td>248</td>\n",
       "      <td>2</td>\n",
       "      <td>Caitlyn</td>\n",
       "      <td>9168</td>\n",
       "      <td>BOTTOM</td>\n",
       "      <td>100</td>\n",
       "      <td>False</td>\n",
       "      <td>4</td>\n",
       "      <td>4</td>\n",
       "      <td>5</td>\n",
       "      <td>8835</td>\n",
       "      <td>10562</td>\n",
       "    </tr>\n",
       "    <tr>\n",
       "      <th>2</th>\n",
       "      <td>KR_5569285312</td>\n",
       "      <td>1311</td>\n",
       "      <td>11.22.406.3587</td>\n",
       "      <td>마썽마</td>\n",
       "      <td>250</td>\n",
       "      <td>3</td>\n",
       "      <td>Maokai</td>\n",
       "      <td>7546</td>\n",
       "      <td>UTILITY</td>\n",
       "      <td>100</td>\n",
       "      <td>False</td>\n",
       "      <td>0</td>\n",
       "      <td>5</td>\n",
       "      <td>7</td>\n",
       "      <td>7511</td>\n",
       "      <td>11287</td>\n",
       "    </tr>\n",
       "    <tr>\n",
       "      <th>3</th>\n",
       "      <td>KR_5569285312</td>\n",
       "      <td>1311</td>\n",
       "      <td>11.22.406.3587</td>\n",
       "      <td>상어피규어</td>\n",
       "      <td>61</td>\n",
       "      <td>4</td>\n",
       "      <td>Diana</td>\n",
       "      <td>9355</td>\n",
       "      <td>JUNGLE</td>\n",
       "      <td>100</td>\n",
       "      <td>False</td>\n",
       "      <td>6</td>\n",
       "      <td>5</td>\n",
       "      <td>5</td>\n",
       "      <td>10147</td>\n",
       "      <td>18223</td>\n",
       "    </tr>\n",
       "    <tr>\n",
       "      <th>4</th>\n",
       "      <td>KR_5569285312</td>\n",
       "      <td>1311</td>\n",
       "      <td>11.22.406.3587</td>\n",
       "      <td>할수있는게머야</td>\n",
       "      <td>259</td>\n",
       "      <td>5</td>\n",
       "      <td>Irelia</td>\n",
       "      <td>7534</td>\n",
       "      <td>TOP</td>\n",
       "      <td>100</td>\n",
       "      <td>False</td>\n",
       "      <td>1</td>\n",
       "      <td>12</td>\n",
       "      <td>0</td>\n",
       "      <td>5014</td>\n",
       "      <td>20875</td>\n",
       "    </tr>\n",
       "    <tr>\n",
       "      <th>...</th>\n",
       "      <td>...</td>\n",
       "      <td>...</td>\n",
       "      <td>...</td>\n",
       "      <td>...</td>\n",
       "      <td>...</td>\n",
       "      <td>...</td>\n",
       "      <td>...</td>\n",
       "      <td>...</td>\n",
       "      <td>...</td>\n",
       "      <td>...</td>\n",
       "      <td>...</td>\n",
       "      <td>...</td>\n",
       "      <td>...</td>\n",
       "      <td>...</td>\n",
       "      <td>...</td>\n",
       "      <td>...</td>\n",
       "    </tr>\n",
       "    <tr>\n",
       "      <th>595</th>\n",
       "      <td>KR_5495675076</td>\n",
       "      <td>2049</td>\n",
       "      <td>11.20.400.7328</td>\n",
       "      <td>칼부림의 고수</td>\n",
       "      <td>217</td>\n",
       "      <td>6</td>\n",
       "      <td>Sett</td>\n",
       "      <td>17919</td>\n",
       "      <td>TOP</td>\n",
       "      <td>200</td>\n",
       "      <td>False</td>\n",
       "      <td>10</td>\n",
       "      <td>5</td>\n",
       "      <td>6</td>\n",
       "      <td>42396</td>\n",
       "      <td>50408</td>\n",
       "    </tr>\n",
       "    <tr>\n",
       "      <th>596</th>\n",
       "      <td>KR_5495675076</td>\n",
       "      <td>2049</td>\n",
       "      <td>11.20.400.7328</td>\n",
       "      <td>다시한번제대로</td>\n",
       "      <td>195</td>\n",
       "      <td>7</td>\n",
       "      <td>Nunu</td>\n",
       "      <td>19653</td>\n",
       "      <td>JUNGLE</td>\n",
       "      <td>200</td>\n",
       "      <td>False</td>\n",
       "      <td>4</td>\n",
       "      <td>4</td>\n",
       "      <td>7</td>\n",
       "      <td>11472</td>\n",
       "      <td>32411</td>\n",
       "    </tr>\n",
       "    <tr>\n",
       "      <th>597</th>\n",
       "      <td>KR_5495675076</td>\n",
       "      <td>2049</td>\n",
       "      <td>11.20.400.7328</td>\n",
       "      <td>apokall2</td>\n",
       "      <td>73</td>\n",
       "      <td>8</td>\n",
       "      <td>Akshan</td>\n",
       "      <td>17412</td>\n",
       "      <td>MIDDLE</td>\n",
       "      <td>200</td>\n",
       "      <td>False</td>\n",
       "      <td>7</td>\n",
       "      <td>8</td>\n",
       "      <td>9</td>\n",
       "      <td>37765</td>\n",
       "      <td>29632</td>\n",
       "    </tr>\n",
       "    <tr>\n",
       "      <th>598</th>\n",
       "      <td>KR_5495675076</td>\n",
       "      <td>2049</td>\n",
       "      <td>11.20.400.7328</td>\n",
       "      <td>게임하루에1판</td>\n",
       "      <td>181</td>\n",
       "      <td>9</td>\n",
       "      <td>Vayne</td>\n",
       "      <td>13879</td>\n",
       "      <td>BOTTOM</td>\n",
       "      <td>200</td>\n",
       "      <td>False</td>\n",
       "      <td>8</td>\n",
       "      <td>7</td>\n",
       "      <td>3</td>\n",
       "      <td>16666</td>\n",
       "      <td>23770</td>\n",
       "    </tr>\n",
       "    <tr>\n",
       "      <th>599</th>\n",
       "      <td>KR_5495675076</td>\n",
       "      <td>2049</td>\n",
       "      <td>11.20.400.7328</td>\n",
       "      <td>Nac Safeway</td>\n",
       "      <td>485</td>\n",
       "      <td>10</td>\n",
       "      <td>Lulu</td>\n",
       "      <td>12406</td>\n",
       "      <td>UTILITY</td>\n",
       "      <td>200</td>\n",
       "      <td>False</td>\n",
       "      <td>1</td>\n",
       "      <td>8</td>\n",
       "      <td>14</td>\n",
       "      <td>8835</td>\n",
       "      <td>17661</td>\n",
       "    </tr>\n",
       "  </tbody>\n",
       "</table>\n",
       "<p>600 rows × 16 columns</p>\n",
       "</div>"
      ],
      "text/plain": [
       "            GAMEID  GAMEDURATION     GAMEVERSION SUMMONERNAME  SUMMONERLEVEL  \\\n",
       "0    KR_5569285312          1311  11.22.406.3587        마 난다리            591   \n",
       "1    KR_5569285312          1311  11.22.406.3587        거세폭격기            248   \n",
       "2    KR_5569285312          1311  11.22.406.3587          마썽마            250   \n",
       "3    KR_5569285312          1311  11.22.406.3587        상어피규어             61   \n",
       "4    KR_5569285312          1311  11.22.406.3587      할수있는게머야            259   \n",
       "..             ...           ...             ...          ...            ...   \n",
       "595  KR_5495675076          2049  11.20.400.7328      칼부림의 고수            217   \n",
       "596  KR_5495675076          2049  11.20.400.7328      다시한번제대로            195   \n",
       "597  KR_5495675076          2049  11.20.400.7328     apokall2             73   \n",
       "598  KR_5495675076          2049  11.20.400.7328      게임하루에1판            181   \n",
       "599  KR_5495675076          2049  11.20.400.7328  Nac Safeway            485   \n",
       "\n",
       "     PARTICIPANTID CHAMPIONNAME  CHAMPEXPERIENCE TEAMPOSITION  TEAMID    WIN  \\\n",
       "0                1      Leblanc             8708       MIDDLE     100  False   \n",
       "1                2      Caitlyn             9168       BOTTOM     100  False   \n",
       "2                3       Maokai             7546      UTILITY     100  False   \n",
       "3                4        Diana             9355       JUNGLE     100  False   \n",
       "4                5       Irelia             7534          TOP     100  False   \n",
       "..             ...          ...              ...          ...     ...    ...   \n",
       "595              6         Sett            17919          TOP     200  False   \n",
       "596              7         Nunu            19653       JUNGLE     200  False   \n",
       "597              8       Akshan            17412       MIDDLE     200  False   \n",
       "598              9        Vayne            13879       BOTTOM     200  False   \n",
       "599             10         Lulu            12406      UTILITY     200  False   \n",
       "\n",
       "     KILLS  DEATHS  ASSISTS  TOTALDAMAGEDEALTTOCHAMPIONS  TOTALDAMAGETAKEN  \n",
       "0        4       6        1                         7005             12876  \n",
       "1        4       4        5                         8835             10562  \n",
       "2        0       5        7                         7511             11287  \n",
       "3        6       5        5                        10147             18223  \n",
       "4        1      12        0                         5014             20875  \n",
       "..     ...     ...      ...                          ...               ...  \n",
       "595     10       5        6                        42396             50408  \n",
       "596      4       4        7                        11472             32411  \n",
       "597      7       8        9                        37765             29632  \n",
       "598      8       7        3                        16666             23770  \n",
       "599      1       8       14                         8835             17661  \n",
       "\n",
       "[600 rows x 16 columns]"
      ]
     },
     "execution_count": 39,
     "metadata": {},
     "output_type": "execute_result"
    }
   ],
   "source": [
    "res = mu.sql_excute('select * from match_data')\n",
    "res"
   ]
  },
  {
   "cell_type": "code",
   "execution_count": 40,
   "metadata": {},
   "outputs": [
    {
     "data": {
      "text/html": [
       "<div>\n",
       "<style scoped>\n",
       "    .dataframe tbody tr th:only-of-type {\n",
       "        vertical-align: middle;\n",
       "    }\n",
       "\n",
       "    .dataframe tbody tr th {\n",
       "        vertical-align: top;\n",
       "    }\n",
       "\n",
       "    .dataframe thead th {\n",
       "        text-align: right;\n",
       "    }\n",
       "</style>\n",
       "<table border=\"1\" class=\"dataframe\">\n",
       "  <thead>\n",
       "    <tr style=\"text-align: right;\">\n",
       "      <th></th>\n",
       "      <th>GAMEID</th>\n",
       "      <th>PARTICIPANTID</th>\n",
       "      <th>G_5</th>\n",
       "      <th>G_6</th>\n",
       "      <th>G_7</th>\n",
       "      <th>G_8</th>\n",
       "      <th>G_9</th>\n",
       "      <th>G_10</th>\n",
       "      <th>G_11</th>\n",
       "      <th>G_12</th>\n",
       "      <th>...</th>\n",
       "      <th>G_16</th>\n",
       "      <th>G_17</th>\n",
       "      <th>G_18</th>\n",
       "      <th>G_19</th>\n",
       "      <th>G_20</th>\n",
       "      <th>G_21</th>\n",
       "      <th>G_22</th>\n",
       "      <th>G_23</th>\n",
       "      <th>G_24</th>\n",
       "      <th>G_25</th>\n",
       "    </tr>\n",
       "  </thead>\n",
       "  <tbody>\n",
       "    <tr>\n",
       "      <th>0</th>\n",
       "      <td>KR_5569285312</td>\n",
       "      <td>1</td>\n",
       "      <td>1270</td>\n",
       "      <td>1857</td>\n",
       "      <td>2084</td>\n",
       "      <td>2297</td>\n",
       "      <td>2569</td>\n",
       "      <td>2817</td>\n",
       "      <td>3127</td>\n",
       "      <td>3249</td>\n",
       "      <td>...</td>\n",
       "      <td>4823</td>\n",
       "      <td>5049</td>\n",
       "      <td>5265</td>\n",
       "      <td>5430</td>\n",
       "      <td>5684</td>\n",
       "      <td>5970</td>\n",
       "      <td>6824</td>\n",
       "      <td>0</td>\n",
       "      <td>0</td>\n",
       "      <td>0</td>\n",
       "    </tr>\n",
       "    <tr>\n",
       "      <th>1</th>\n",
       "      <td>KR_5569285312</td>\n",
       "      <td>2</td>\n",
       "      <td>1467</td>\n",
       "      <td>1723</td>\n",
       "      <td>2035</td>\n",
       "      <td>2366</td>\n",
       "      <td>2864</td>\n",
       "      <td>4058</td>\n",
       "      <td>4863</td>\n",
       "      <td>4985</td>\n",
       "      <td>...</td>\n",
       "      <td>6722</td>\n",
       "      <td>7245</td>\n",
       "      <td>7583</td>\n",
       "      <td>7811</td>\n",
       "      <td>8327</td>\n",
       "      <td>8857</td>\n",
       "      <td>9036</td>\n",
       "      <td>0</td>\n",
       "      <td>0</td>\n",
       "      <td>0</td>\n",
       "    </tr>\n",
       "    <tr>\n",
       "      <th>2</th>\n",
       "      <td>KR_5569285312</td>\n",
       "      <td>3</td>\n",
       "      <td>1134</td>\n",
       "      <td>1283</td>\n",
       "      <td>1417</td>\n",
       "      <td>1609</td>\n",
       "      <td>1894</td>\n",
       "      <td>2213</td>\n",
       "      <td>2413</td>\n",
       "      <td>2550</td>\n",
       "      <td>...</td>\n",
       "      <td>3362</td>\n",
       "      <td>3513</td>\n",
       "      <td>3779</td>\n",
       "      <td>3922</td>\n",
       "      <td>4239</td>\n",
       "      <td>4518</td>\n",
       "      <td>4863</td>\n",
       "      <td>0</td>\n",
       "      <td>0</td>\n",
       "      <td>0</td>\n",
       "    </tr>\n",
       "    <tr>\n",
       "      <th>3</th>\n",
       "      <td>KR_5569285312</td>\n",
       "      <td>4</td>\n",
       "      <td>1489</td>\n",
       "      <td>2283</td>\n",
       "      <td>2590</td>\n",
       "      <td>2812</td>\n",
       "      <td>3392</td>\n",
       "      <td>3799</td>\n",
       "      <td>4210</td>\n",
       "      <td>4332</td>\n",
       "      <td>...</td>\n",
       "      <td>6306</td>\n",
       "      <td>6685</td>\n",
       "      <td>6876</td>\n",
       "      <td>7189</td>\n",
       "      <td>8232</td>\n",
       "      <td>8710</td>\n",
       "      <td>8814</td>\n",
       "      <td>0</td>\n",
       "      <td>0</td>\n",
       "      <td>0</td>\n",
       "    </tr>\n",
       "    <tr>\n",
       "      <th>4</th>\n",
       "      <td>KR_5569285312</td>\n",
       "      <td>5</td>\n",
       "      <td>1763</td>\n",
       "      <td>1991</td>\n",
       "      <td>2274</td>\n",
       "      <td>2480</td>\n",
       "      <td>2850</td>\n",
       "      <td>2993</td>\n",
       "      <td>3436</td>\n",
       "      <td>3649</td>\n",
       "      <td>...</td>\n",
       "      <td>4364</td>\n",
       "      <td>4681</td>\n",
       "      <td>4824</td>\n",
       "      <td>5184</td>\n",
       "      <td>5397</td>\n",
       "      <td>5555</td>\n",
       "      <td>6063</td>\n",
       "      <td>0</td>\n",
       "      <td>0</td>\n",
       "      <td>0</td>\n",
       "    </tr>\n",
       "    <tr>\n",
       "      <th>...</th>\n",
       "      <td>...</td>\n",
       "      <td>...</td>\n",
       "      <td>...</td>\n",
       "      <td>...</td>\n",
       "      <td>...</td>\n",
       "      <td>...</td>\n",
       "      <td>...</td>\n",
       "      <td>...</td>\n",
       "      <td>...</td>\n",
       "      <td>...</td>\n",
       "      <td>...</td>\n",
       "      <td>...</td>\n",
       "      <td>...</td>\n",
       "      <td>...</td>\n",
       "      <td>...</td>\n",
       "      <td>...</td>\n",
       "      <td>...</td>\n",
       "      <td>...</td>\n",
       "      <td>...</td>\n",
       "      <td>...</td>\n",
       "      <td>...</td>\n",
       "    </tr>\n",
       "    <tr>\n",
       "      <th>595</th>\n",
       "      <td>KR_5495675076</td>\n",
       "      <td>6</td>\n",
       "      <td>1413</td>\n",
       "      <td>1770</td>\n",
       "      <td>1987</td>\n",
       "      <td>2360</td>\n",
       "      <td>2742</td>\n",
       "      <td>3069</td>\n",
       "      <td>3400</td>\n",
       "      <td>3857</td>\n",
       "      <td>...</td>\n",
       "      <td>5457</td>\n",
       "      <td>5642</td>\n",
       "      <td>5980</td>\n",
       "      <td>6118</td>\n",
       "      <td>6310</td>\n",
       "      <td>6600</td>\n",
       "      <td>7181</td>\n",
       "      <td>7908</td>\n",
       "      <td>8031</td>\n",
       "      <td>8826</td>\n",
       "    </tr>\n",
       "    <tr>\n",
       "      <th>596</th>\n",
       "      <td>KR_5495675076</td>\n",
       "      <td>7</td>\n",
       "      <td>1549</td>\n",
       "      <td>1797</td>\n",
       "      <td>2121</td>\n",
       "      <td>2333</td>\n",
       "      <td>2671</td>\n",
       "      <td>3461</td>\n",
       "      <td>3784</td>\n",
       "      <td>4408</td>\n",
       "      <td>...</td>\n",
       "      <td>5572</td>\n",
       "      <td>6131</td>\n",
       "      <td>6253</td>\n",
       "      <td>6811</td>\n",
       "      <td>7025</td>\n",
       "      <td>7566</td>\n",
       "      <td>7948</td>\n",
       "      <td>8266</td>\n",
       "      <td>8723</td>\n",
       "      <td>9645</td>\n",
       "    </tr>\n",
       "    <tr>\n",
       "      <th>597</th>\n",
       "      <td>KR_5495675076</td>\n",
       "      <td>8</td>\n",
       "      <td>1452</td>\n",
       "      <td>1697</td>\n",
       "      <td>2423</td>\n",
       "      <td>2712</td>\n",
       "      <td>3105</td>\n",
       "      <td>3768</td>\n",
       "      <td>4155</td>\n",
       "      <td>4560</td>\n",
       "      <td>...</td>\n",
       "      <td>5557</td>\n",
       "      <td>5994</td>\n",
       "      <td>6339</td>\n",
       "      <td>6490</td>\n",
       "      <td>7767</td>\n",
       "      <td>8095</td>\n",
       "      <td>8416</td>\n",
       "      <td>8714</td>\n",
       "      <td>9075</td>\n",
       "      <td>9794</td>\n",
       "    </tr>\n",
       "    <tr>\n",
       "      <th>598</th>\n",
       "      <td>KR_5495675076</td>\n",
       "      <td>9</td>\n",
       "      <td>1494</td>\n",
       "      <td>1722</td>\n",
       "      <td>1977</td>\n",
       "      <td>2430</td>\n",
       "      <td>2686</td>\n",
       "      <td>2992</td>\n",
       "      <td>3351</td>\n",
       "      <td>3536</td>\n",
       "      <td>...</td>\n",
       "      <td>5523</td>\n",
       "      <td>5673</td>\n",
       "      <td>5816</td>\n",
       "      <td>6958</td>\n",
       "      <td>7080</td>\n",
       "      <td>7482</td>\n",
       "      <td>7924</td>\n",
       "      <td>8493</td>\n",
       "      <td>9020</td>\n",
       "      <td>9237</td>\n",
       "    </tr>\n",
       "    <tr>\n",
       "      <th>599</th>\n",
       "      <td>KR_5495675076</td>\n",
       "      <td>10</td>\n",
       "      <td>1153</td>\n",
       "      <td>1309</td>\n",
       "      <td>1464</td>\n",
       "      <td>1789</td>\n",
       "      <td>1966</td>\n",
       "      <td>2100</td>\n",
       "      <td>2329</td>\n",
       "      <td>2511</td>\n",
       "      <td>...</td>\n",
       "      <td>3302</td>\n",
       "      <td>3442</td>\n",
       "      <td>3593</td>\n",
       "      <td>3733</td>\n",
       "      <td>4073</td>\n",
       "      <td>4214</td>\n",
       "      <td>4504</td>\n",
       "      <td>4845</td>\n",
       "      <td>5020</td>\n",
       "      <td>5631</td>\n",
       "    </tr>\n",
       "  </tbody>\n",
       "</table>\n",
       "<p>600 rows × 23 columns</p>\n",
       "</div>"
      ],
      "text/plain": [
       "            GAMEID  PARTICIPANTID   G_5   G_6   G_7   G_8   G_9  G_10  G_11  \\\n",
       "0    KR_5569285312              1  1270  1857  2084  2297  2569  2817  3127   \n",
       "1    KR_5569285312              2  1467  1723  2035  2366  2864  4058  4863   \n",
       "2    KR_5569285312              3  1134  1283  1417  1609  1894  2213  2413   \n",
       "3    KR_5569285312              4  1489  2283  2590  2812  3392  3799  4210   \n",
       "4    KR_5569285312              5  1763  1991  2274  2480  2850  2993  3436   \n",
       "..             ...            ...   ...   ...   ...   ...   ...   ...   ...   \n",
       "595  KR_5495675076              6  1413  1770  1987  2360  2742  3069  3400   \n",
       "596  KR_5495675076              7  1549  1797  2121  2333  2671  3461  3784   \n",
       "597  KR_5495675076              8  1452  1697  2423  2712  3105  3768  4155   \n",
       "598  KR_5495675076              9  1494  1722  1977  2430  2686  2992  3351   \n",
       "599  KR_5495675076             10  1153  1309  1464  1789  1966  2100  2329   \n",
       "\n",
       "     G_12  ...  G_16  G_17  G_18  G_19  G_20  G_21  G_22  G_23  G_24  G_25  \n",
       "0    3249  ...  4823  5049  5265  5430  5684  5970  6824     0     0     0  \n",
       "1    4985  ...  6722  7245  7583  7811  8327  8857  9036     0     0     0  \n",
       "2    2550  ...  3362  3513  3779  3922  4239  4518  4863     0     0     0  \n",
       "3    4332  ...  6306  6685  6876  7189  8232  8710  8814     0     0     0  \n",
       "4    3649  ...  4364  4681  4824  5184  5397  5555  6063     0     0     0  \n",
       "..    ...  ...   ...   ...   ...   ...   ...   ...   ...   ...   ...   ...  \n",
       "595  3857  ...  5457  5642  5980  6118  6310  6600  7181  7908  8031  8826  \n",
       "596  4408  ...  5572  6131  6253  6811  7025  7566  7948  8266  8723  9645  \n",
       "597  4560  ...  5557  5994  6339  6490  7767  8095  8416  8714  9075  9794  \n",
       "598  3536  ...  5523  5673  5816  6958  7080  7482  7924  8493  9020  9237  \n",
       "599  2511  ...  3302  3442  3593  3733  4073  4214  4504  4845  5020  5631  \n",
       "\n",
       "[600 rows x 23 columns]"
      ]
     },
     "execution_count": 40,
     "metadata": {},
     "output_type": "execute_result"
    }
   ],
   "source": [
    "res = mu.sql_excute('select * from timeline_data')\n",
    "res"
   ]
  },
  {
   "cell_type": "code",
   "execution_count": 6,
   "metadata": {},
   "outputs": [
    {
     "name": "stdout",
     "output_type": "stream",
     "text": [
      "close!\n"
     ]
    }
   ],
   "source": [
    "mu.db_close()"
   ]
  },
  {
   "cell_type": "code",
   "execution_count": 41,
   "metadata": {},
   "outputs": [],
   "source": [
    "import time"
   ]
  },
  {
   "cell_type": "code",
   "execution_count": 42,
   "metadata": {},
   "outputs": [
    {
     "name": "stderr",
     "output_type": "stream",
     "text": [
      "100%|████████████████████████████████████████████████████████████████████████████████████| 4/4 [00:01<00:00,  2.37it/s]\n",
      "  0%|                                                                                           | 0/20 [00:00<?, ?it/s]"
     ]
    },
    {
     "name": "stdout",
     "output_type": "stream",
     "text": [
      "get summonerName...\n",
      "get puuid...\n"
     ]
    },
    {
     "name": "stderr",
     "output_type": "stream",
     "text": [
      "100%|██████████████████████████████████████████████████████████████████████████████████| 20/20 [00:05<00:00,  3.54it/s]\n",
      "  0%|                                                                                           | 0/20 [00:00<?, ?it/s]"
     ]
    },
    {
     "name": "stdout",
     "output_type": "stream",
     "text": [
      "get matchId...\n"
     ]
    },
    {
     "name": "stderr",
     "output_type": "stream",
     "text": [
      "100%|██████████████████████████████████████████████████████████████████████████████████| 20/20 [00:05<00:00,  3.40it/s]\n",
      "  0%|                                                                                           | 0/38 [00:00<?, ?it/s]"
     ]
    },
    {
     "name": "stdout",
     "output_type": "stream",
     "text": [
      "get match & timeline...\n"
     ]
    },
    {
     "name": "stderr",
     "output_type": "stream",
     "text": [
      "100%|██████████████████████████████████████████████████████████████████████████████████| 38/38 [00:38<00:00,  1.01s/it]\n",
      " 13%|██████████▉                                                                        | 5/38 [00:00<00:01, 31.97it/s]"
     ]
    },
    {
     "name": "stdout",
     "output_type": "stream",
     "text": [
      "complete!\n",
      "get matches & timelines...\n"
     ]
    },
    {
     "name": "stderr",
     "output_type": "stream",
     "text": [
      "100%|██████████████████████████████████████████████████████████████████████████████████| 38/38 [00:00<00:00, 39.94it/s]\n",
      " 25%|████████████████████                                                            | 55/220 [00:00<00:00, 535.41it/s]"
     ]
    },
    {
     "name": "stdout",
     "output_type": "stream",
     "text": [
      "match_df length:  220\n",
      "timeline_df length:  220\n",
      "complete!\n",
      "open!\n"
     ]
    },
    {
     "name": "stderr",
     "output_type": "stream",
     "text": [
      "100%|███████████████████████████████████████████████████████████████████████████████| 220/220 [00:00<00:00, 424.21it/s]\n",
      "100%|███████████████████████████████████████████████████████████████████████████████| 220/220 [00:00<00:00, 467.43it/s]\n"
     ]
    },
    {
     "name": "stdout",
     "output_type": "stream",
     "text": [
      "close!\n"
     ]
    },
    {
     "name": "stderr",
     "output_type": "stream",
     "text": [
      "100%|████████████████████████████████████████████████████████████████████████████████████| 4/4 [00:01<00:00,  2.54it/s]\n",
      "  0%|                                                                                           | 0/20 [00:00<?, ?it/s]"
     ]
    },
    {
     "name": "stdout",
     "output_type": "stream",
     "text": [
      "get summonerName...\n",
      "get puuid...\n"
     ]
    },
    {
     "name": "stderr",
     "output_type": "stream",
     "text": [
      "100%|██████████████████████████████████████████████████████████████████████████████████| 20/20 [00:05<00:00,  3.37it/s]\n",
      "  0%|                                                                                           | 0/19 [00:00<?, ?it/s]"
     ]
    },
    {
     "name": "stdout",
     "output_type": "stream",
     "text": [
      "get matchId...\n"
     ]
    },
    {
     "name": "stderr",
     "output_type": "stream",
     "text": [
      "100%|██████████████████████████████████████████████████████████████████████████████████| 19/19 [00:05<00:00,  3.32it/s]\n",
      "  0%|                                                                                           | 0/38 [00:00<?, ?it/s]"
     ]
    },
    {
     "name": "stdout",
     "output_type": "stream",
     "text": [
      "get match & timeline...\n"
     ]
    },
    {
     "name": "stderr",
     "output_type": "stream",
     "text": [
      "100%|██████████████████████████████████████████████████████████████████████████████████| 38/38 [00:37<00:00,  1.02it/s]\n",
      " 11%|████████▋                                                                          | 4/38 [00:00<00:01, 31.58it/s]"
     ]
    },
    {
     "name": "stdout",
     "output_type": "stream",
     "text": [
      "complete!\n",
      "get matches & timelines...\n"
     ]
    },
    {
     "name": "stderr",
     "output_type": "stream",
     "text": [
      "100%|██████████████████████████████████████████████████████████████████████████████████| 38/38 [00:01<00:00, 33.94it/s]\n",
      " 15%|████████████▏                                                                   | 52/340 [00:00<00:00, 516.08it/s]"
     ]
    },
    {
     "name": "stdout",
     "output_type": "stream",
     "text": [
      "match_df length:  340\n",
      "timeline_df length:  340\n",
      "complete!\n",
      "open!\n"
     ]
    },
    {
     "name": "stderr",
     "output_type": "stream",
     "text": [
      "100%|███████████████████████████████████████████████████████████████████████████████| 340/340 [00:00<00:00, 542.63it/s]\n",
      "100%|███████████████████████████████████████████████████████████████████████████████| 340/340 [00:00<00:00, 461.53it/s]\n"
     ]
    },
    {
     "name": "stdout",
     "output_type": "stream",
     "text": [
      "close!\n"
     ]
    },
    {
     "name": "stderr",
     "output_type": "stream",
     "text": [
      "100%|████████████████████████████████████████████████████████████████████████████████████| 4/4 [00:01<00:00,  2.83it/s]\n",
      "  0%|                                                                                           | 0/20 [00:00<?, ?it/s]"
     ]
    },
    {
     "name": "stdout",
     "output_type": "stream",
     "text": [
      "get summonerName...\n",
      "get puuid...\n"
     ]
    },
    {
     "name": "stderr",
     "output_type": "stream",
     "text": [
      "100%|██████████████████████████████████████████████████████████████████████████████████| 20/20 [00:05<00:00,  3.35it/s]\n",
      "  0%|                                                                                           | 0/20 [00:00<?, ?it/s]"
     ]
    },
    {
     "name": "stdout",
     "output_type": "stream",
     "text": [
      "get matchId...\n"
     ]
    },
    {
     "name": "stderr",
     "output_type": "stream",
     "text": [
      "100%|██████████████████████████████████████████████████████████████████████████████████| 20/20 [00:05<00:00,  3.47it/s]\n",
      "  0%|                                                                                           | 0/40 [00:00<?, ?it/s]"
     ]
    },
    {
     "name": "stdout",
     "output_type": "stream",
     "text": [
      "get match & timeline...\n"
     ]
    },
    {
     "name": "stderr",
     "output_type": "stream",
     "text": [
      "100%|██████████████████████████████████████████████████████████████████████████████████| 40/40 [00:39<00:00,  1.02it/s]\n",
      " 18%|██████████████▌                                                                    | 7/40 [00:00<00:01, 29.74it/s]"
     ]
    },
    {
     "name": "stdout",
     "output_type": "stream",
     "text": [
      "complete!\n",
      "get matches & timelines...\n"
     ]
    },
    {
     "name": "stderr",
     "output_type": "stream",
     "text": [
      "100%|██████████████████████████████████████████████████████████████████████████████████| 40/40 [00:01<00:00, 34.60it/s]\n",
      " 19%|███████████████                                                                 | 64/340 [00:00<00:00, 628.90it/s]"
     ]
    },
    {
     "name": "stdout",
     "output_type": "stream",
     "text": [
      "match_df length:  340\n",
      "timeline_df length:  340\n",
      "complete!\n",
      "open!\n"
     ]
    },
    {
     "name": "stderr",
     "output_type": "stream",
     "text": [
      "100%|███████████████████████████████████████████████████████████████████████████████| 340/340 [00:00<00:00, 503.22it/s]\n",
      "100%|███████████████████████████████████████████████████████████████████████████████| 340/340 [00:00<00:00, 527.93it/s]\n"
     ]
    },
    {
     "name": "stdout",
     "output_type": "stream",
     "text": [
      "close!\n"
     ]
    },
    {
     "name": "stderr",
     "output_type": "stream",
     "text": [
      "100%|████████████████████████████████████████████████████████████████████████████████████| 4/4 [00:01<00:00,  2.64it/s]\n",
      "  0%|                                                                                           | 0/20 [00:00<?, ?it/s]"
     ]
    },
    {
     "name": "stdout",
     "output_type": "stream",
     "text": [
      "get summonerName...\n",
      "get puuid...\n"
     ]
    },
    {
     "name": "stderr",
     "output_type": "stream",
     "text": [
      "100%|██████████████████████████████████████████████████████████████████████████████████| 20/20 [00:05<00:00,  3.50it/s]\n",
      "  0%|                                                                                           | 0/19 [00:00<?, ?it/s]"
     ]
    },
    {
     "name": "stdout",
     "output_type": "stream",
     "text": [
      "get matchId...\n"
     ]
    },
    {
     "name": "stderr",
     "output_type": "stream",
     "text": [
      "100%|██████████████████████████████████████████████████████████████████████████████████| 19/19 [00:05<00:00,  3.19it/s]\n",
      "  0%|                                                                                           | 0/38 [00:00<?, ?it/s]"
     ]
    },
    {
     "name": "stdout",
     "output_type": "stream",
     "text": [
      "get match & timeline...\n"
     ]
    },
    {
     "name": "stderr",
     "output_type": "stream",
     "text": [
      "100%|██████████████████████████████████████████████████████████████████████████████████| 38/38 [00:57<00:00,  1.51s/it]\n",
      " 13%|██████████▉                                                                        | 5/38 [00:00<00:00, 38.27it/s]"
     ]
    },
    {
     "name": "stdout",
     "output_type": "stream",
     "text": [
      "complete!\n",
      "get matches & timelines...\n"
     ]
    },
    {
     "name": "stderr",
     "output_type": "stream",
     "text": [
      "100%|██████████████████████████████████████████████████████████████████████████████████| 38/38 [00:01<00:00, 37.32it/s]\n",
      " 18%|██████████████▋                                                                 | 57/310 [00:00<00:00, 565.86it/s]"
     ]
    },
    {
     "name": "stdout",
     "output_type": "stream",
     "text": [
      "match_df length:  310\n",
      "timeline_df length:  310\n",
      "complete!\n",
      "open!\n"
     ]
    },
    {
     "name": "stderr",
     "output_type": "stream",
     "text": [
      "100%|███████████████████████████████████████████████████████████████████████████████| 310/310 [00:00<00:00, 514.43it/s]\n",
      "100%|███████████████████████████████████████████████████████████████████████████████| 310/310 [00:00<00:00, 499.42it/s]\n"
     ]
    },
    {
     "name": "stdout",
     "output_type": "stream",
     "text": [
      "close!\n"
     ]
    },
    {
     "name": "stderr",
     "output_type": "stream",
     "text": [
      "100%|████████████████████████████████████████████████████████████████████████████████████| 4/4 [00:01<00:00,  2.75it/s]\n",
      "  0%|                                                                                           | 0/20 [00:00<?, ?it/s]"
     ]
    },
    {
     "name": "stdout",
     "output_type": "stream",
     "text": [
      "get summonerName...\n",
      "get puuid...\n"
     ]
    },
    {
     "name": "stderr",
     "output_type": "stream",
     "text": [
      "100%|██████████████████████████████████████████████████████████████████████████████████| 20/20 [00:05<00:00,  3.61it/s]\n",
      "  0%|                                                                                           | 0/20 [00:00<?, ?it/s]"
     ]
    },
    {
     "name": "stdout",
     "output_type": "stream",
     "text": [
      "get matchId...\n"
     ]
    },
    {
     "name": "stderr",
     "output_type": "stream",
     "text": [
      "100%|██████████████████████████████████████████████████████████████████████████████████| 20/20 [00:05<00:00,  3.67it/s]\n",
      "  0%|                                                                                           | 0/40 [00:00<?, ?it/s]"
     ]
    },
    {
     "name": "stdout",
     "output_type": "stream",
     "text": [
      "get match & timeline...\n"
     ]
    },
    {
     "name": "stderr",
     "output_type": "stream",
     "text": [
      "100%|██████████████████████████████████████████████████████████████████████████████████| 40/40 [00:41<00:00,  1.04s/it]\n",
      " 12%|██████████▍                                                                        | 5/40 [00:00<00:00, 38.26it/s]"
     ]
    },
    {
     "name": "stdout",
     "output_type": "stream",
     "text": [
      "complete!\n",
      "get matches & timelines...\n"
     ]
    },
    {
     "name": "stderr",
     "output_type": "stream",
     "text": [
      "100%|██████████████████████████████████████████████████████████████████████████████████| 40/40 [00:01<00:00, 36.96it/s]\n",
      " 14%|███████████▌                                                                    | 46/320 [00:00<00:00, 451.24it/s]"
     ]
    },
    {
     "name": "stdout",
     "output_type": "stream",
     "text": [
      "match_df length:  320\n",
      "timeline_df length:  320\n",
      "complete!\n",
      "open!\n"
     ]
    },
    {
     "name": "stderr",
     "output_type": "stream",
     "text": [
      "100%|███████████████████████████████████████████████████████████████████████████████| 320/320 [00:00<00:00, 446.62it/s]\n",
      "100%|███████████████████████████████████████████████████████████████████████████████| 320/320 [00:00<00:00, 469.72it/s]\n"
     ]
    },
    {
     "name": "stdout",
     "output_type": "stream",
     "text": [
      "close!\n"
     ]
    }
   ],
   "source": [
    "for i in range(50):\n",
    "    # api 사용하여 raw data 수집\n",
    "    tier = 'GOLD'\n",
    "    raw_data = mu.get_rawData(tier)\n",
    "\n",
    "    # raw data 사용하여 match, timeline dataframe 생성\n",
    "    match_df, timeline_df = mu.get_match_timeline_df(raw_data)\n",
    "\n",
    "    # match, timeline dataframe db insert\n",
    "    mu.db_open()\n",
    "    match_df.progress_apply(lambda x: match_insert(x), axis=1)\n",
    "    timeline_df.progress_apply(lambda x: timeline_insert(x), axis=1)\n",
    "    mu.db_close()\n",
    "    time.sleep(100)"
   ]
  },
  {
   "cell_type": "code",
   "execution_count": 43,
   "metadata": {},
   "outputs": [
    {
     "name": "stdout",
     "output_type": "stream",
     "text": [
      "open!\n",
      "close!\n"
     ]
    },
    {
     "data": {
      "text/html": [
       "<div>\n",
       "<style scoped>\n",
       "    .dataframe tbody tr th:only-of-type {\n",
       "        vertical-align: middle;\n",
       "    }\n",
       "\n",
       "    .dataframe tbody tr th {\n",
       "        vertical-align: top;\n",
       "    }\n",
       "\n",
       "    .dataframe thead th {\n",
       "        text-align: right;\n",
       "    }\n",
       "</style>\n",
       "<table border=\"1\" class=\"dataframe\">\n",
       "  <thead>\n",
       "    <tr style=\"text-align: right;\">\n",
       "      <th></th>\n",
       "      <th>GAMEID</th>\n",
       "      <th>GAMEDURATION</th>\n",
       "      <th>GAMEVERSION</th>\n",
       "      <th>SUMMONERNAME</th>\n",
       "      <th>SUMMONERLEVEL</th>\n",
       "      <th>PARTICIPANTID</th>\n",
       "      <th>CHAMPIONNAME</th>\n",
       "      <th>CHAMPEXPERIENCE</th>\n",
       "      <th>TEAMPOSITION</th>\n",
       "      <th>TEAMID</th>\n",
       "      <th>WIN</th>\n",
       "      <th>KILLS</th>\n",
       "      <th>DEATHS</th>\n",
       "      <th>ASSISTS</th>\n",
       "      <th>TOTALDAMAGEDEALTTOCHAMPIONS</th>\n",
       "      <th>TOTALDAMAGETAKEN</th>\n",
       "    </tr>\n",
       "  </thead>\n",
       "  <tbody>\n",
       "    <tr>\n",
       "      <th>0</th>\n",
       "      <td>KR_5569285312</td>\n",
       "      <td>1311</td>\n",
       "      <td>11.22.406.3587</td>\n",
       "      <td>마 난다리</td>\n",
       "      <td>591</td>\n",
       "      <td>1</td>\n",
       "      <td>Leblanc</td>\n",
       "      <td>8708</td>\n",
       "      <td>MIDDLE</td>\n",
       "      <td>100</td>\n",
       "      <td>False</td>\n",
       "      <td>4</td>\n",
       "      <td>6</td>\n",
       "      <td>1</td>\n",
       "      <td>7005</td>\n",
       "      <td>12876</td>\n",
       "    </tr>\n",
       "    <tr>\n",
       "      <th>1</th>\n",
       "      <td>KR_5569285312</td>\n",
       "      <td>1311</td>\n",
       "      <td>11.22.406.3587</td>\n",
       "      <td>거세폭격기</td>\n",
       "      <td>248</td>\n",
       "      <td>2</td>\n",
       "      <td>Caitlyn</td>\n",
       "      <td>9168</td>\n",
       "      <td>BOTTOM</td>\n",
       "      <td>100</td>\n",
       "      <td>False</td>\n",
       "      <td>4</td>\n",
       "      <td>4</td>\n",
       "      <td>5</td>\n",
       "      <td>8835</td>\n",
       "      <td>10562</td>\n",
       "    </tr>\n",
       "    <tr>\n",
       "      <th>2</th>\n",
       "      <td>KR_5569285312</td>\n",
       "      <td>1311</td>\n",
       "      <td>11.22.406.3587</td>\n",
       "      <td>마썽마</td>\n",
       "      <td>250</td>\n",
       "      <td>3</td>\n",
       "      <td>Maokai</td>\n",
       "      <td>7546</td>\n",
       "      <td>UTILITY</td>\n",
       "      <td>100</td>\n",
       "      <td>False</td>\n",
       "      <td>0</td>\n",
       "      <td>5</td>\n",
       "      <td>7</td>\n",
       "      <td>7511</td>\n",
       "      <td>11287</td>\n",
       "    </tr>\n",
       "    <tr>\n",
       "      <th>3</th>\n",
       "      <td>KR_5569285312</td>\n",
       "      <td>1311</td>\n",
       "      <td>11.22.406.3587</td>\n",
       "      <td>상어피규어</td>\n",
       "      <td>61</td>\n",
       "      <td>4</td>\n",
       "      <td>Diana</td>\n",
       "      <td>9355</td>\n",
       "      <td>JUNGLE</td>\n",
       "      <td>100</td>\n",
       "      <td>False</td>\n",
       "      <td>6</td>\n",
       "      <td>5</td>\n",
       "      <td>5</td>\n",
       "      <td>10147</td>\n",
       "      <td>18223</td>\n",
       "    </tr>\n",
       "    <tr>\n",
       "      <th>4</th>\n",
       "      <td>KR_5569285312</td>\n",
       "      <td>1311</td>\n",
       "      <td>11.22.406.3587</td>\n",
       "      <td>할수있는게머야</td>\n",
       "      <td>259</td>\n",
       "      <td>5</td>\n",
       "      <td>Irelia</td>\n",
       "      <td>7534</td>\n",
       "      <td>TOP</td>\n",
       "      <td>100</td>\n",
       "      <td>False</td>\n",
       "      <td>1</td>\n",
       "      <td>12</td>\n",
       "      <td>0</td>\n",
       "      <td>5014</td>\n",
       "      <td>20875</td>\n",
       "    </tr>\n",
       "    <tr>\n",
       "      <th>...</th>\n",
       "      <td>...</td>\n",
       "      <td>...</td>\n",
       "      <td>...</td>\n",
       "      <td>...</td>\n",
       "      <td>...</td>\n",
       "      <td>...</td>\n",
       "      <td>...</td>\n",
       "      <td>...</td>\n",
       "      <td>...</td>\n",
       "      <td>...</td>\n",
       "      <td>...</td>\n",
       "      <td>...</td>\n",
       "      <td>...</td>\n",
       "      <td>...</td>\n",
       "      <td>...</td>\n",
       "      <td>...</td>\n",
       "    </tr>\n",
       "    <tr>\n",
       "      <th>1805</th>\n",
       "      <td>KR_5408631267</td>\n",
       "      <td>1304555</td>\n",
       "      <td>11.16.390.1945</td>\n",
       "      <td>쿠모리</td>\n",
       "      <td>273</td>\n",
       "      <td>6</td>\n",
       "      <td>Rengar</td>\n",
       "      <td>13001</td>\n",
       "      <td>TOP</td>\n",
       "      <td>200</td>\n",
       "      <td>True</td>\n",
       "      <td>9</td>\n",
       "      <td>2</td>\n",
       "      <td>5</td>\n",
       "      <td>17758</td>\n",
       "      <td>22058</td>\n",
       "    </tr>\n",
       "    <tr>\n",
       "      <th>1806</th>\n",
       "      <td>KR_5408631267</td>\n",
       "      <td>1304555</td>\n",
       "      <td>11.16.390.1945</td>\n",
       "      <td>노력파두목</td>\n",
       "      <td>458</td>\n",
       "      <td>7</td>\n",
       "      <td>Ekko</td>\n",
       "      <td>11221</td>\n",
       "      <td>JUNGLE</td>\n",
       "      <td>200</td>\n",
       "      <td>True</td>\n",
       "      <td>9</td>\n",
       "      <td>5</td>\n",
       "      <td>12</td>\n",
       "      <td>16881</td>\n",
       "      <td>21575</td>\n",
       "    </tr>\n",
       "    <tr>\n",
       "      <th>1807</th>\n",
       "      <td>KR_5408631267</td>\n",
       "      <td>1304555</td>\n",
       "      <td>11.16.390.1945</td>\n",
       "      <td>쌉똥쟁이</td>\n",
       "      <td>164</td>\n",
       "      <td>8</td>\n",
       "      <td>AurelionSol</td>\n",
       "      <td>10445</td>\n",
       "      <td>MIDDLE</td>\n",
       "      <td>200</td>\n",
       "      <td>True</td>\n",
       "      <td>4</td>\n",
       "      <td>4</td>\n",
       "      <td>9</td>\n",
       "      <td>10281</td>\n",
       "      <td>10943</td>\n",
       "    </tr>\n",
       "    <tr>\n",
       "      <th>1808</th>\n",
       "      <td>KR_5408631267</td>\n",
       "      <td>1304555</td>\n",
       "      <td>11.16.390.1945</td>\n",
       "      <td>핵똥쟁이</td>\n",
       "      <td>264</td>\n",
       "      <td>9</td>\n",
       "      <td>Caitlyn</td>\n",
       "      <td>9605</td>\n",
       "      <td>BOTTOM</td>\n",
       "      <td>200</td>\n",
       "      <td>True</td>\n",
       "      <td>10</td>\n",
       "      <td>1</td>\n",
       "      <td>10</td>\n",
       "      <td>16976</td>\n",
       "      <td>7847</td>\n",
       "    </tr>\n",
       "    <tr>\n",
       "      <th>1809</th>\n",
       "      <td>KR_5408631267</td>\n",
       "      <td>1304555</td>\n",
       "      <td>11.16.390.1945</td>\n",
       "      <td>Sentience</td>\n",
       "      <td>130</td>\n",
       "      <td>10</td>\n",
       "      <td>Morgana</td>\n",
       "      <td>8909</td>\n",
       "      <td>UTILITY</td>\n",
       "      <td>200</td>\n",
       "      <td>True</td>\n",
       "      <td>3</td>\n",
       "      <td>4</td>\n",
       "      <td>21</td>\n",
       "      <td>12974</td>\n",
       "      <td>12961</td>\n",
       "    </tr>\n",
       "  </tbody>\n",
       "</table>\n",
       "<p>1810 rows × 16 columns</p>\n",
       "</div>"
      ],
      "text/plain": [
       "             GAMEID  GAMEDURATION     GAMEVERSION SUMMONERNAME  SUMMONERLEVEL  \\\n",
       "0     KR_5569285312          1311  11.22.406.3587        마 난다리            591   \n",
       "1     KR_5569285312          1311  11.22.406.3587        거세폭격기            248   \n",
       "2     KR_5569285312          1311  11.22.406.3587          마썽마            250   \n",
       "3     KR_5569285312          1311  11.22.406.3587        상어피규어             61   \n",
       "4     KR_5569285312          1311  11.22.406.3587      할수있는게머야            259   \n",
       "...             ...           ...             ...          ...            ...   \n",
       "1805  KR_5408631267       1304555  11.16.390.1945          쿠모리            273   \n",
       "1806  KR_5408631267       1304555  11.16.390.1945        노력파두목            458   \n",
       "1807  KR_5408631267       1304555  11.16.390.1945         쌉똥쟁이            164   \n",
       "1808  KR_5408631267       1304555  11.16.390.1945         핵똥쟁이            264   \n",
       "1809  KR_5408631267       1304555  11.16.390.1945    Sentience            130   \n",
       "\n",
       "      PARTICIPANTID CHAMPIONNAME  CHAMPEXPERIENCE TEAMPOSITION  TEAMID    WIN  \\\n",
       "0                 1      Leblanc             8708       MIDDLE     100  False   \n",
       "1                 2      Caitlyn             9168       BOTTOM     100  False   \n",
       "2                 3       Maokai             7546      UTILITY     100  False   \n",
       "3                 4        Diana             9355       JUNGLE     100  False   \n",
       "4                 5       Irelia             7534          TOP     100  False   \n",
       "...             ...          ...              ...          ...     ...    ...   \n",
       "1805              6       Rengar            13001          TOP     200   True   \n",
       "1806              7         Ekko            11221       JUNGLE     200   True   \n",
       "1807              8  AurelionSol            10445       MIDDLE     200   True   \n",
       "1808              9      Caitlyn             9605       BOTTOM     200   True   \n",
       "1809             10      Morgana             8909      UTILITY     200   True   \n",
       "\n",
       "      KILLS  DEATHS  ASSISTS  TOTALDAMAGEDEALTTOCHAMPIONS  TOTALDAMAGETAKEN  \n",
       "0         4       6        1                         7005             12876  \n",
       "1         4       4        5                         8835             10562  \n",
       "2         0       5        7                         7511             11287  \n",
       "3         6       5        5                        10147             18223  \n",
       "4         1      12        0                         5014             20875  \n",
       "...     ...     ...      ...                          ...               ...  \n",
       "1805      9       2        5                        17758             22058  \n",
       "1806      9       5       12                        16881             21575  \n",
       "1807      4       4        9                        10281             10943  \n",
       "1808     10       1       10                        16976              7847  \n",
       "1809      3       4       21                        12974             12961  \n",
       "\n",
       "[1810 rows x 16 columns]"
      ]
     },
     "execution_count": 43,
     "metadata": {},
     "output_type": "execute_result"
    }
   ],
   "source": [
    "mu.db_open()\n",
    "df = mu.sql_excute('select * from match_data')\n",
    "mu.db_close()\n",
    "df"
   ]
  },
  {
   "cell_type": "code",
   "execution_count": null,
   "metadata": {},
   "outputs": [],
   "source": []
  },
  {
   "cell_type": "code",
   "execution_count": null,
   "metadata": {},
   "outputs": [],
   "source": []
  }
 ],
 "metadata": {
  "kernelspec": {
   "display_name": "Python 3",
   "language": "python",
   "name": "python3"
  },
  "language_info": {
   "codemirror_mode": {
    "name": "ipython",
    "version": 3
   },
   "file_extension": ".py",
   "mimetype": "text/x-python",
   "name": "python",
   "nbconvert_exporter": "python",
   "pygments_lexer": "ipython3",
   "version": "3.7.6"
  }
 },
 "nbformat": 4,
 "nbformat_minor": 5
}
